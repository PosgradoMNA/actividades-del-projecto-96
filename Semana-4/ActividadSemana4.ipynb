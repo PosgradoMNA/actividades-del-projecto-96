{
 "cells": [
  {
   "cell_type": "markdown",
   "metadata": {},
   "source": [
    "### Semana 4 - Actividad 1\n",
    "### Reducción de características de un conjunto de datos para encontrar sus componentes principales y mejorar su interpretabilidad con la menor pérdida de información posible.\n",
    "\n",
    "Lázaro Lara Martínez.\n",
    "Matricula A01793198\n",
    "\n",
    "José Mtanous Treviño.\n",
    "Matricula A00169781\n",
    "\n",
    "Ciencia y Analítica de datos.\n",
    "\n",
    "Profesor Titular.\n",
    "Jobish Vallikavungal Devassia\n",
    "\n",
    "Profesor Tutor.\n",
    "Mtro. Mario Alberto Solano Saldaña\n",
    "\n",
    "10/Octubre/2022"
   ]
  },
  {
   "cell_type": "code",
   "execution_count": null,
   "metadata": {},
   "outputs": [],
   "source": []
  }
 ],
 "metadata": {
  "language_info": {
   "name": "python"
  },
  "orig_nbformat": 4
 },
 "nbformat": 4,
 "nbformat_minor": 2
}
