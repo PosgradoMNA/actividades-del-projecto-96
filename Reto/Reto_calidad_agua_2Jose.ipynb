{
 "cells": [
  {
   "cell_type": "markdown",
   "metadata": {
    "collapsed": false
   },
   "source": [
    "Semana 9 - Reto Calidad del agua\n",
    "\n",
    "* Lázaro Lara Martínez. Matricula A01793198\n",
    "* José Mtanous Treviño. Matricula A00169781\n",
    "\n",
    "Ciencia y Analítica de datos.\n",
    "\n",
    "Profesor Titular.\n",
    "Profesor Tutor. Mtro. Mario Alberto Solano Saldaña\n",
    "\n",
    "14/Noviembre/2022\n"
   ]
  },
  {
   "cell_type": "markdown",
   "metadata": {},
   "source": [
    "### Selecciona tus variables independientes X y dependiente Y (semáforo)\n",
    "Este set de datos en particular no es el mejor para usarse en aprendisaje automático ya que el semáforo es un métrica que depende de las mediciones, es decir el valor del semáforo se establece unicamente con los valores de medición de los contaminantes, en otras palabras, si tenemos las mediciones tenemos el valor del semáforo.  \n",
    "Por otro lado, suponemos que las mediciones de contaminantes requieren equipo especializado de laboratorio y no es posible hacer estas mediciones insitu, aquí es donde creemos que podemos utilizar un modelo para predecir la calidad del agua con mediciones más simples y que no requieran enviar las muestras al laboratorio, al menos como primer instancia.  \n",
    "La meta de nuestro modelo es usar datos que sean fáciles de adquirir y de preferencia que se puedan obtener en el mismo lugar de la muestra y con esos datos predecir la calidad del agua. Este modelo tendría utilidad práctica y podría ser una primera herramienta para hacer un catastro más amplio de la calidad de agua en pozos.  \n",
    "Con nuestro modelo y un kit básico de medición podríamos predecir la calidad del agua de una manera rápida sin necesidad de enviar las muestras al laboratorio, con el riesgo de contaminarlas y el alto costé de usar equipo especializado.\n",
    "#### Mediciones insitu\n",
    "Para nuestro modelo solo usaremos mediciones que se puedan hacer directamente en el lugar, así que todas las mediciones que requieren enviarese al laboratorio serán descartadas.  \n",
    "Las mediciones e instrumentos para realizarlas serían:\n",
    "* Latitud/Longitud (GPS)\n",
    "* ORGANISMO_DE_CUENCA (Catálogo)\n",
    "* ESTADO (Mapa)\n",
    "* MUNICIPIO (Mapa)\n",
    "* ACUIFERO (Mapa y Catálog)\n",
    "* SUBTIPO (Manual)\n",
    "* CONTAMINANTES (Kit básico de química) \n",
    "\n",
    "Varias de estos atributos dependen de la ubicación y son redundantes con las coordenadas, así que esta lista se podría reducir a:\n",
    "* Latitud/Longitud (GPS)\n",
    "* SUBTIPO (Manual)\n",
    "* CONTAMINANTES (Kit básico de química)\n",
    "\n",
    "Nuestro análisis de basará poder construir un modelo usando estas 3 variables para predecir el semáforo.\n",
    "\n",
    "\n"
   ]
  },
  {
   "cell_type": "code",
   "execution_count": 36,
   "metadata": {
    "collapsed": false
   },
   "outputs": [],
   "source": [
    "import pandas as pd\n",
    "import numpy as np\n",
    "import matplotlib.pyplot as plt\n",
    "import seaborn as sns\n",
    "from sklearn.pipeline import Pipeline\n",
    "from sklearn.compose import ColumnTransformer\n",
    "from sklearn.impute import SimpleImputer\n",
    "from sklearn.preprocessing import MinMaxScaler\n",
    "from scipy.stats import zscore\n",
    "import geopandas\n",
    "import geopandas as gpd\n",
    "import matplotlib.pyplot as plt\n",
    "import pandas as pd\n",
    "from shapely.geometry import Point\n",
    "%matplotlib inline\n",
    "from sklearn.preprocessing import OneHotEncoder\n",
    "from sklearn.model_selection import train_test_split\n",
    "\n",
    "from sklearn.dummy import DummyClassifier\n",
    "from sklearn.model_selection import GridSearchCV\n",
    "from sklearn.compose import TransformedTargetRegressor\n",
    "\n",
    "from sklearn.metrics import f1_score, precision_score,confusion_matrix, plot_roc_curve,RocCurveDisplay,recall_score, make_scorer,accuracy_score\n",
    "from sklearn.preprocessing import LabelEncoder\n",
    "from scipy.stats import alpha\n",
    "from sklearn.model_selection import GridSearchCV\n",
    "from sklearn.tree import DecisionTreeClassifier\n",
    "from sklearn.ensemble import RandomForestClassifier\n",
    "from numpy.lib.shape_base import vsplit\n",
    "from sklearn import tree\n",
    "from sklearn.inspection import permutation_importance\n",
    "from sklearn.model_selection import RepeatedKFold\n",
    "\n",
    "from sklearn.metrics import average_precision_score, recall_score, precision_score, f1_score, precision_recall_curve\n",
    "from sklearn.inspection import permutation_importance\n",
    "from sklearn.metrics import confusion_matrix, plot_confusion_matrix\n",
    "\n"
   ]
  },
  {
   "cell_type": "code",
   "execution_count": 39,
   "metadata": {
    "collapsed": false
   },
   "outputs": [],
   "source": [
    "# cargamos nuestro dataset y creamos uno nuevo con una matriz de contaminantes\n",
    "path_calidad_subterranea = '../Reto/datos/Escalas_subterranea_clean.csv'\n",
    "dfCalidadSubterraneaAllColumns = pd.read_csv(path_calidad_subterranea)\n",
    "dfInSitu = dfCalidadSubterraneaAllColumns[['LATITUD', 'LONGITUD', 'SUBTIPO', 'CONTAMINANTES']]\n",
    "dfInSitu = dfInSitu.replace(['NINGUNO'],[None])\n",
    "tmpDf = dfInSitu[\"CONTAMINANTES\"].str.split(pat = \",\", expand=True).apply(lambda x : x.value_counts(), axis = 1).fillna(0).astype(int)\n",
    "dfInSitu = pd.concat([dfInSitu,tmpDf], axis=1)\n",
    "dfInSitu = dfInSitu.drop(['CONTAMINANTES'],axis=1)\n",
    "dfInSitu = dfInSitu.drop([''],axis=1)\n",
    "semaforoDf = pd.DataFrame(dfCalidadSubterraneaAllColumns[['SEMAFORO']], columns=['SEMAFORO'])"
   ]
  },
  {
   "cell_type": "code",
   "execution_count": 40,
   "metadata": {
    "collapsed": false
   },
   "outputs": [
    {
     "data": {
      "text/html": [
       "<div>\n",
       "<style scoped>\n",
       "    .dataframe tbody tr th:only-of-type {\n",
       "        vertical-align: middle;\n",
       "    }\n",
       "\n",
       "    .dataframe tbody tr th {\n",
       "        vertical-align: top;\n",
       "    }\n",
       "\n",
       "    .dataframe thead th {\n",
       "        text-align: right;\n",
       "    }\n",
       "</style>\n",
       "<table border=\"1\" class=\"dataframe\">\n",
       "  <thead>\n",
       "    <tr style=\"text-align: right;\">\n",
       "      <th></th>\n",
       "      <th>LATITUD</th>\n",
       "      <th>LONGITUD</th>\n",
       "      <th>SUBTIPO</th>\n",
       "      <th>ALC</th>\n",
       "      <th>AS</th>\n",
       "      <th>CD</th>\n",
       "      <th>CF</th>\n",
       "      <th>CONDUC</th>\n",
       "      <th>CR</th>\n",
       "      <th>DT</th>\n",
       "      <th>FE</th>\n",
       "      <th>FLUO</th>\n",
       "      <th>HG</th>\n",
       "      <th>MN</th>\n",
       "      <th>NI</th>\n",
       "      <th>NO3</th>\n",
       "      <th>PB</th>\n",
       "      <th>SDT_ra</th>\n",
       "      <th>SDT_salin</th>\n",
       "    </tr>\n",
       "  </thead>\n",
       "  <tbody>\n",
       "    <tr>\n",
       "      <th>0</th>\n",
       "      <td>22.20887</td>\n",
       "      <td>-102.02210</td>\n",
       "      <td>POZO</td>\n",
       "      <td>0</td>\n",
       "      <td>0</td>\n",
       "      <td>0</td>\n",
       "      <td>0</td>\n",
       "      <td>0</td>\n",
       "      <td>0</td>\n",
       "      <td>0</td>\n",
       "      <td>0</td>\n",
       "      <td>0</td>\n",
       "      <td>0</td>\n",
       "      <td>0</td>\n",
       "      <td>0</td>\n",
       "      <td>0</td>\n",
       "      <td>0</td>\n",
       "      <td>0</td>\n",
       "      <td>0</td>\n",
       "    </tr>\n",
       "    <tr>\n",
       "      <th>1</th>\n",
       "      <td>21.99958</td>\n",
       "      <td>-102.20075</td>\n",
       "      <td>POZO</td>\n",
       "      <td>0</td>\n",
       "      <td>0</td>\n",
       "      <td>0</td>\n",
       "      <td>0</td>\n",
       "      <td>0</td>\n",
       "      <td>0</td>\n",
       "      <td>0</td>\n",
       "      <td>0</td>\n",
       "      <td>0</td>\n",
       "      <td>0</td>\n",
       "      <td>0</td>\n",
       "      <td>0</td>\n",
       "      <td>0</td>\n",
       "      <td>0</td>\n",
       "      <td>0</td>\n",
       "      <td>0</td>\n",
       "    </tr>\n",
       "    <tr>\n",
       "      <th>2</th>\n",
       "      <td>22.36685</td>\n",
       "      <td>-102.28801</td>\n",
       "      <td>POZO</td>\n",
       "      <td>0</td>\n",
       "      <td>1</td>\n",
       "      <td>0</td>\n",
       "      <td>0</td>\n",
       "      <td>0</td>\n",
       "      <td>0</td>\n",
       "      <td>0</td>\n",
       "      <td>0</td>\n",
       "      <td>1</td>\n",
       "      <td>0</td>\n",
       "      <td>0</td>\n",
       "      <td>0</td>\n",
       "      <td>0</td>\n",
       "      <td>0</td>\n",
       "      <td>0</td>\n",
       "      <td>0</td>\n",
       "    </tr>\n",
       "    <tr>\n",
       "      <th>3</th>\n",
       "      <td>22.18435</td>\n",
       "      <td>-102.29449</td>\n",
       "      <td>POZO</td>\n",
       "      <td>0</td>\n",
       "      <td>0</td>\n",
       "      <td>0</td>\n",
       "      <td>0</td>\n",
       "      <td>0</td>\n",
       "      <td>0</td>\n",
       "      <td>0</td>\n",
       "      <td>0</td>\n",
       "      <td>0</td>\n",
       "      <td>0</td>\n",
       "      <td>0</td>\n",
       "      <td>0</td>\n",
       "      <td>0</td>\n",
       "      <td>0</td>\n",
       "      <td>0</td>\n",
       "      <td>0</td>\n",
       "    </tr>\n",
       "    <tr>\n",
       "      <th>4</th>\n",
       "      <td>23.45138</td>\n",
       "      <td>-110.24480</td>\n",
       "      <td>POZO</td>\n",
       "      <td>0</td>\n",
       "      <td>0</td>\n",
       "      <td>0</td>\n",
       "      <td>0</td>\n",
       "      <td>0</td>\n",
       "      <td>0</td>\n",
       "      <td>0</td>\n",
       "      <td>0</td>\n",
       "      <td>0</td>\n",
       "      <td>0</td>\n",
       "      <td>0</td>\n",
       "      <td>0</td>\n",
       "      <td>1</td>\n",
       "      <td>0</td>\n",
       "      <td>0</td>\n",
       "      <td>0</td>\n",
       "    </tr>\n",
       "  </tbody>\n",
       "</table>\n",
       "</div>"
      ],
      "text/plain": [
       "    LATITUD   LONGITUD SUBTIPO  ALC  AS  CD  CF  CONDUC  CR  DT  FE  FLUO  HG  \\\n",
       "0  22.20887 -102.02210    POZO    0   0   0   0       0   0   0   0     0   0   \n",
       "1  21.99958 -102.20075    POZO    0   0   0   0       0   0   0   0     0   0   \n",
       "2  22.36685 -102.28801    POZO    0   1   0   0       0   0   0   0     1   0   \n",
       "3  22.18435 -102.29449    POZO    0   0   0   0       0   0   0   0     0   0   \n",
       "4  23.45138 -110.24480    POZO    0   0   0   0       0   0   0   0     0   0   \n",
       "\n",
       "   MN  NI  NO3  PB  SDT_ra  SDT_salin  \n",
       "0   0   0    0   0       0          0  \n",
       "1   0   0    0   0       0          0  \n",
       "2   0   0    0   0       0          0  \n",
       "3   0   0    0   0       0          0  \n",
       "4   0   0    1   0       0          0  "
      ]
     },
     "execution_count": 40,
     "metadata": {},
     "output_type": "execute_result"
    }
   ],
   "source": [
    "dfInSitu.head()"
   ]
  },
  {
   "cell_type": "markdown",
   "metadata": {
    "collapsed": false
   },
   "source": [
    "Cambia a label encoding el semáforo, ej, de [\"clase 1\", \"clase 2\", \"clase 3\"] a [ 1,2,3]"
   ]
  },
  {
   "cell_type": "code",
   "execution_count": 8,
   "metadata": {
    "collapsed": false
   },
   "outputs": [
    {
     "name": "stdout",
     "output_type": "stream",
     "text": [
      "SEMAFORO\n",
      "Verde       434\n",
      "Rojo        387\n",
      "Amarillo    247\n",
      "dtype: int64\n"
     ]
    },
    {
     "data": {
      "text/plain": [
       "SEMAFORO\n",
       "1           434\n",
       "3           387\n",
       "2           247\n",
       "dtype: int64"
      ]
     },
     "execution_count": 8,
     "metadata": {},
     "output_type": "execute_result"
    }
   ],
   "source": [
    "print(semaforoDf.value_counts())\n",
    "semaforoDf.loc[semaforoDf['SEMAFORO'] == \"Verde\", \"SEMAFORO\"] = 1\n",
    "semaforoDf.loc[semaforoDf['SEMAFORO'] == \"Amarillo\", \"SEMAFORO\"] = 2\n",
    "semaforoDf.loc[semaforoDf['SEMAFORO'] == \"Rojo\", \"SEMAFORO\"] = 3\n",
    "semaforoDf.value_counts()"
   ]
  },
  {
   "cell_type": "code",
   "execution_count": 9,
   "metadata": {},
   "outputs": [
    {
     "name": "stdout",
     "output_type": "stream",
     "text": [
      "POZO             1039\n",
      "MANANTIAL          12\n",
      "CENOTE              7\n",
      "POZO NORIA          4\n",
      "NORIA               3\n",
      "DESCARGA            1\n",
      "Pozo                1\n",
      "BOMBEO CENOTE       1\n",
      "Name: SUBTIPO, dtype: int64\n"
     ]
    },
    {
     "data": {
      "text/plain": [
       "1    1040\n",
       "2      12\n",
       "3       7\n",
       "4       4\n",
       "5       3\n",
       "6       1\n",
       "7       1\n",
       "Name: SUBTIPO, dtype: int64"
      ]
     },
     "execution_count": 9,
     "metadata": {},
     "output_type": "execute_result"
    }
   ],
   "source": [
    "# También vamos a cambiar el valor de la otra columna categórica que tenemos SUBTIPO\n",
    "print(dfInSitu['SUBTIPO'].value_counts())\n",
    "dfInSitu.loc[dfInSitu['SUBTIPO'] == \"POZO\", \"SUBTIPO\"] = 1\n",
    "dfInSitu.loc[dfInSitu['SUBTIPO'] == \"MANANTIAL\", \"SUBTIPO\"] = 2\n",
    "dfInSitu.loc[dfInSitu['SUBTIPO'] == \"CENOTE\", \"SUBTIPO\"] = 3\n",
    "dfInSitu.loc[dfInSitu['SUBTIPO'] == \"POZO NORIA\", \"SUBTIPO\"] = 4\n",
    "dfInSitu.loc[dfInSitu['SUBTIPO'] == \"NORIA\", \"SUBTIPO\"] = 5\n",
    "dfInSitu.loc[dfInSitu['SUBTIPO'] == \"DESCARGA\", \"SUBTIPO\"] = 6\n",
    "dfInSitu.loc[dfInSitu['SUBTIPO'] == \"Pozo\", \"SUBTIPO\"] = 1\n",
    "dfInSitu.loc[dfInSitu['SUBTIPO'] == \"BOMBEO CENOTE\", \"SUBTIPO\"] = 7\n",
    "dfInSitu['SUBTIPO'].value_counts()\n"
   ]
  },
  {
   "cell_type": "code",
   "execution_count": 10,
   "metadata": {
    "collapsed": false
   },
   "outputs": [],
   "source": [
    "X = dfInSitu.apply(pd.to_numeric)\n",
    "Y = semaforoDf.apply(pd.to_numeric)\n",
    "\n",
    "#Particiòn de datos de entrenamiento y validación. 100 datos de prueba representa el 15%\n",
    "Xtrain, Xtest, Ytrain, Ytest = train_test_split(X, Y, train_size=0.80, random_state=0)"
   ]
  },
  {
   "cell_type": "markdown",
   "metadata": {},
   "source": [
    "#### Explora que clasificador es el más optimo"
   ]
  },
  {
   "cell_type": "markdown",
   "metadata": {},
   "source": [
    "#### TreeClassifier"
   ]
  },
  {
   "cell_type": "code",
   "execution_count": 11,
   "metadata": {
    "collapsed": false
   },
   "outputs": [
    {
     "name": "stdout",
     "output_type": "stream",
     "text": [
      "{'criterion': 'gini', 'max_depth': 5, 'min_samples_leaf': 2, 'min_samples_split': 7}\n"
     ]
    }
   ],
   "source": [
    "mi_kfoldCV = RepeatedKFold(n_splits=5, n_repeats=3)\n",
    "\n",
    "modelo = DecisionTreeClassifier()\n",
    "\n",
    "parameters = {\n",
    "'criterion' : ['gini', 'entropy'],\n",
    "'max_depth':range(1,6),\n",
    "'min_samples_split':range(2,10),\n",
    "'min_samples_leaf':range(1,10),\n",
    "}\n",
    "\n",
    "#Definimos el grid search.\n",
    "gridFinal=  GridSearchCV (estimator =  modelo,\n",
    "                        param_grid = parameters,\n",
    "                        cv = mi_kfoldCV,\n",
    "                        n_jobs=-1,\n",
    "                        )\n",
    "\n",
    "#El fit es como feed, para alimentar con los datos de entrada y de salida\n",
    "\n",
    "gridFinal.fit(X, Y['SEMAFORO'])\n",
    "# Enconrramos los mejores parámetros\n",
    "print(gridFinal.best_params_)"
   ]
  },
  {
   "cell_type": "markdown",
   "metadata": {},
   "source": [
    "#### Random Foresrt Classifier"
   ]
  },
  {
   "cell_type": "code",
   "execution_count": 12,
   "metadata": {},
   "outputs": [
    {
     "name": "stdout",
     "output_type": "stream",
     "text": [
      "{'criterion': 'entropy', 'max_depth': 5, 'min_samples_leaf': 1, 'min_samples_split': 7}\n"
     ]
    }
   ],
   "source": [
    "modelo = RandomForestClassifier()\n",
    "\n",
    "parameters = {\n",
    "'criterion' : ['gini', 'entropy'],\n",
    "'max_depth':range(1,6),\n",
    "'min_samples_split':range(2,10),\n",
    "'min_samples_leaf':range(1,10),\n",
    "}\n",
    "\n",
    "#Definimos el grid search.\n",
    "gridFinal=  GridSearchCV (estimator =  modelo,\n",
    "                        param_grid = parameters,\n",
    "                        cv = mi_kfoldCV,\n",
    "                        n_jobs=-1,\n",
    "                        )\n",
    "\n",
    "#El fit es como feed, para alimentar con los datos de entrada y de salida\n",
    "\n",
    "gridFinal.fit(X, Y['SEMAFORO'])\n",
    "# Enconrramos los mejores parámetros\n",
    "print(gridFinal.best_params_)"
   ]
  },
  {
   "cell_type": "code",
   "execution_count": 13,
   "metadata": {},
   "outputs": [
    {
     "name": "stdout",
     "output_type": "stream",
     "text": [
      "---------Recall Tree--------------\n",
      "0.8878504672897196\n",
      "---------Precision Tree--------------\n",
      "0.902401920509397\n",
      "---------F1 Score Tree--------------\n",
      "0.8873307629010939\n",
      "-------------------------------\n",
      "---------Recall Forest--------------\n",
      "0.9626168224299065\n",
      "---------Precision Forest--------------\n",
      "0.963797884358632\n",
      "---------F1 Score Forest--------------\n",
      "0.9624033193683533\n"
     ]
    }
   ],
   "source": [
    "# ya que encontramos los mejores parámetros, vamos a ver como se comportan al momento de entrenarlos y probarlos con los sets correndientes\n",
    "Tree = DecisionTreeClassifier(criterion='gini', max_depth=5, min_samples_leaf=2, min_samples_split=7)\n",
    "Tree.fit(Xtrain,Ytrain['SEMAFORO'])\n",
    "YhatTree = Tree.predict(Xtest)\n",
    "print('---------Recall Tree--------------')\n",
    "print(recall_score(Ytest,YhatTree, average='weighted'))\n",
    "print('---------Precision Tree--------------')\n",
    "print(precision_score(Ytest,YhatTree, average='weighted'))\n",
    "print('---------F1 Score Tree--------------')\n",
    "print(f1_score(Ytest,YhatTree, average='weighted'))\n",
    "print('-------------------------------')\n",
    "Forest = RandomForestClassifier(criterion='entropy', max_depth=5, min_samples_leaf=1, min_samples_split=5)\n",
    "Forest.fit(Xtrain,Ytrain['SEMAFORO'])\n",
    "YhatForest = Forest.predict(Xtest)\n",
    "print('---------Recall Forest--------------')\n",
    "print(recall_score(Ytest,YhatForest, average='weighted'))\n",
    "print('---------Precision Forest--------------')\n",
    "print(precision_score(Ytest,YhatForest, average='weighted'))\n",
    "print('---------F1 Score Forest--------------')\n",
    "print(f1_score(Ytest,YhatForest, average='weighted'))\n"
   ]
  },
  {
   "cell_type": "markdown",
   "metadata": {},
   "source": [
    "El clasificador Random Forest funciona considerablemente mejor y por lo tanto lo vamos a usar para seguir con nuestro análisis."
   ]
  },
  {
   "cell_type": "code",
   "execution_count": 34,
   "metadata": {
    "collapsed": false
   },
   "outputs": [
    {
     "data": {
      "image/png": "[encoded data removed]",
      "text/plain": [
       "<Figure size 2000x500 with 1 Axes>"
      ]
     },
     "metadata": {},
     "output_type": "display_data"
    }
   ],
   "source": [
    "importance = permutation_importance(Forest, Xtest, Ytest['SEMAFORO'], n_repeats=10)\n",
    "\n",
    "#for feature,v in zip(X.columns,importance['importances_mean']):\n",
    "#\tprint('Feature: %s, Score: %.5f' % (feature,v))\n",
    "\n",
    "#GRAFICAMOS\n",
    "plt.figure(figsize=(20,5))\n",
    "plt.bar(X.columns, importance['importances_mean'])\n",
    "plt.show()\n"
   ]
  },
  {
   "cell_type": "markdown",
   "metadata": {},
   "source": [
    "#### Visualiza los resultados del modelo o las predicciones a través de una matriz de confusión"
   ]
  },
  {
   "cell_type": "code",
   "execution_count": 38,
   "metadata": {
    "collapsed": false
   },
   "outputs": [
    {
     "name": "stderr",
     "output_type": "stream",
     "text": [
      "/home/jmtanous/.local/lib/python3.7/site-packages/sklearn/utils/deprecation.py:87: FutureWarning: Function plot_confusion_matrix is deprecated; Function `plot_confusion_matrix` is deprecated in 1.0 and will be removed in 1.2. Use one of the class methods: ConfusionMatrixDisplay.from_predictions or ConfusionMatrixDisplay.from_estimator.\n",
      "  warnings.warn(msg, category=FutureWarning)\n"
     ]
    },
    {
     "data": {
      "image/png": "[encoded data removed]",
      "text/plain": [
       "<Figure size 640x480 with 2 Axes>"
      ]
     },
     "metadata": {},
     "output_type": "display_data"
    }
   ],
   "source": [
    "Forest.fit(Xtrain,Ytrain['SEMAFORO'])\n",
    "plot_confusion_matrix(Forest,Xtest,Ytest['SEMAFORO'])\n",
    "plt.show()"
   ]
  },
  {
   "cell_type": "markdown",
   "metadata": {},
   "source": [
    "## Hallazgos y conclusiones\n",
    "#### La calidad del agua no tiene correlación con su ubicación geográfica\n",
    "Tanto en la primera parte como en esta, no encontramos correlación evidente entre la calidad del agua subterranea y su ubicación geográfica. Nuestra hipótesis es que como no se registró la profundidad de las muestras la relación entre pozos se pierde. En una misma ubicación en la superficie pueden correr varios rios subterraneas a diferentes profundidades.\n",
    "\n",
    "#### Fuerte correlación entre contaminantes y calidad del agua\n",
    "Quizá sea obvio, pero encontramos que la correlación entre la calidad del agua está fuertemente ligada a los contaminantes que se encuentran en esta, tomando principal relavancia el Flour. Si el agua contienen flour, independientemente de la cantidad podemos predecir con bastante confianza que la calidad del agua es mala.\n",
    "\n",
    "#### Alto desempeño de los clasificadores\n",
    "Los clasificadores que probamos funcionaron muy bien y diron predicciones de alta calidad. Creemos que esto se debe a la fuerte correlación entre las variables independientes y el semáforo.\n",
    "\n",
    "#### Reducción de costo de clasificación en campo\n",
    "Como la calidad del agua está correlacionada con los contaminantes y en menor medida con las cantidades, creemos que se pueden determinar con alta confianza la calidad del agua en el mismo lugar que se toman las muestras, simplemente usando reactivos de baja precisión que detecten las sustancias con más correlación a la calidad del agua. Esto podría ser una alternativa de bajo coste y mucho más rápida que tener que enviar las muestras a laboratorios para determinar con precisión los niveles de contaminantes."
   ]
  },
  {
   "cell_type": "code",
   "execution_count": null,
   "metadata": {},
   "outputs": [],
   "source": []
  }
 ],
 "metadata": {
  "kernelspec": {
   "display_name": "Python 3.7.3 64-bit",
   "language": "python",
   "name": "python3"
  },
  "language_info": {
   "codemirror_mode": {
    "name": "ipython",
    "version": 3
   },
   "file_extension": ".py",
   "mimetype": "text/x-python",
   "name": "python",
   "nbconvert_exporter": "python",
   "pygments_lexer": "ipython3",
   "version": "3.7.3"
  },
  "vscode": {
   "interpreter": {
    "hash": "31f2aee4e71d21fbe5cf8b01ff0e069b9275f58929596ceb00d14d90e3e16cd6"
   }
  }
 },
 "nbformat": 4,
 "nbformat_minor": 0
}
