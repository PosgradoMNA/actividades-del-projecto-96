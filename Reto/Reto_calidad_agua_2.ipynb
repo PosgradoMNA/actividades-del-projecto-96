{
 "cells": [
  {
   "cell_type": "markdown",
   "source": [
    "Semana 9 - Reto Calidad del agua\n",
    "\n",
    "Lázaro Lara Martínez. Matricula A01793198\n",
    "José Mtanous Treviño. Matricula A00169781\n",
    "\n",
    "Ciencia y Analítica de datos.\n",
    "\n",
    "Profesor Titular.\n",
    "Profesor Tutor. Mtro. Mario Alberto Solano Saldaña\n",
    "\n",
    "14/Noviembre/2022\n"
   ],
   "metadata": {
    "collapsed": false
   }
  },
  {
   "cell_type": "code",
   "execution_count": 36,
   "outputs": [],
   "source": [
    "import pandas as pd\n",
    "import numpy as np\n",
    "import matplotlib.pyplot as plt\n",
    "import seaborn as sns\n",
    "from sklearn.pipeline import Pipeline\n",
    "from sklearn.compose import ColumnTransformer\n",
    "from sklearn.impute import SimpleImputer\n",
    "from sklearn.preprocessing import MinMaxScaler\n",
    "from scipy.stats import zscore\n",
    "import geopandas\n",
    "import geopandas as gpd\n",
    "import matplotlib.pyplot as plt\n",
    "import pandas as pd\n",
    "from shapely.geometry import Point\n",
    "%matplotlib inline\n",
    "# activate plot theme\n",
    "import qeds\n",
    "qeds.themes.mpl_style();\n",
    "from sklearn.preprocessing import OneHotEncoder\n",
    "from sklearn.model_selection import train_test_split\n",
    "\n",
    "from sklearn.dummy import DummyClassifier\n",
    "from sklearn.model_selection import GridSearchCV\n",
    "from sklearn.compose import TransformedTargetRegressor\n",
    "\n",
    "from sklearn.metrics import f1_score, precision_score,confusion_matrix, plot_roc_curve,RocCurveDisplay,recall_score, make_scorer,accuracy_score\n",
    "\n"
   ],
   "metadata": {
    "collapsed": false
   }
  },
  {
   "cell_type": "code",
   "execution_count": 15,
   "outputs": [],
   "source": [
    "# cargamos nuestro dataset y lo inspeccionamos rapídamente\n",
    "path_calidad_subterranea = '../Reto/datos/Escalas_subterranea_clean.csv'\n",
    "dfCalidadSubterranea = pd.read_csv(path_calidad_subterranea)"
   ],
   "metadata": {
    "collapsed": false
   }
  },
  {
   "cell_type": "code",
   "execution_count": 16,
   "outputs": [
    {
     "data": {
      "text/plain": "   Unnamed: 0                   SITIO           ORGANISMO_DE_CUENCA  \\\n0           0            POZO SAN GIL       LERMA SANTIAGO PACIFICO   \n1           1  POZO R013 CAÑADA HONDA       LERMA SANTIAGO PACIFICO   \n2           2              POZO COSIO       LERMA SANTIAGO PACIFICO   \n3           3      POZO EL SALITRILLO       LERMA SANTIAGO PACIFICO   \n4           4      RANCHO EL TECOLOTE  PENINSULA DE BAJA CALIFORNIA   \n\n                ESTADO        MUNICIPIO                 ACUIFERO SUBTIPO  \\\n0       AGUASCALIENTES         ASIENTOS       VALLE DE CHICALOTE    POZO   \n1       AGUASCALIENTES   AGUASCALIENTES       VALLE DE CHICALOTE    POZO   \n2       AGUASCALIENTES            COSIO  VALLE DE AGUASCALIENTES    POZO   \n3       AGUASCALIENTES  RINCON DE ROMOS  VALLE DE AGUASCALIENTES    POZO   \n4  BAJA CALIFORNIA SUR           LA PAZ             TODOS SANTOS    POZO   \n\n    LONGITUD   LATITUD  ALC_mg/L  ... CUMPLE_CON_DUR  CUMPLE_CON_CF  \\\n0 -102.02210  22.20887   229.990  ...             SI             SI   \n1 -102.20075  21.99958   231.990  ...             SI             SI   \n2 -102.28801  22.36685   204.920  ...             SI             SI   \n3 -102.29449  22.18435   327.000  ...             SI             SI   \n4 -110.24480  23.45138   309.885  ...             SI             SI   \n\n  CUMPLE_CON_NO3  CUMPLE_CON_AS CUMPLE_CON_CD CUMPLE_CON_CR  CUMPLE_CON_HG  \\\n0             SI             SI            SI            SI             SI   \n1             SI             SI            SI            SI             SI   \n2             SI             NO            SI            SI             SI   \n3             SI             SI            SI            SI             SI   \n4             NO             SI            SI            SI             SI   \n\n  CUMPLE_CON_PB  CUMPLE_CON_MN CUMPLE_CON_FE  \n0            SI             SI            SI  \n1            SI             SI            SI  \n2            SI             SI            SI  \n3            SI             SI            SI  \n4            SI             SI            SI  \n\n[5 rows x 55 columns]",
      "text/html": "<div>\n<style scoped>\n    .dataframe tbody tr th:only-of-type {\n        vertical-align: middle;\n    }\n\n    .dataframe tbody tr th {\n        vertical-align: top;\n    }\n\n    .dataframe thead th {\n        text-align: right;\n    }\n</style>\n<table border=\"1\" class=\"dataframe\">\n  <thead>\n    <tr style=\"text-align: right;\">\n      <th></th>\n      <th>Unnamed: 0</th>\n      <th>SITIO</th>\n      <th>ORGANISMO_DE_CUENCA</th>\n      <th>ESTADO</th>\n      <th>MUNICIPIO</th>\n      <th>ACUIFERO</th>\n      <th>SUBTIPO</th>\n      <th>LONGITUD</th>\n      <th>LATITUD</th>\n      <th>ALC_mg/L</th>\n      <th>...</th>\n      <th>CUMPLE_CON_DUR</th>\n      <th>CUMPLE_CON_CF</th>\n      <th>CUMPLE_CON_NO3</th>\n      <th>CUMPLE_CON_AS</th>\n      <th>CUMPLE_CON_CD</th>\n      <th>CUMPLE_CON_CR</th>\n      <th>CUMPLE_CON_HG</th>\n      <th>CUMPLE_CON_PB</th>\n      <th>CUMPLE_CON_MN</th>\n      <th>CUMPLE_CON_FE</th>\n    </tr>\n  </thead>\n  <tbody>\n    <tr>\n      <th>0</th>\n      <td>0</td>\n      <td>POZO SAN GIL</td>\n      <td>LERMA SANTIAGO PACIFICO</td>\n      <td>AGUASCALIENTES</td>\n      <td>ASIENTOS</td>\n      <td>VALLE DE CHICALOTE</td>\n      <td>POZO</td>\n      <td>-102.02210</td>\n      <td>22.20887</td>\n      <td>229.990</td>\n      <td>...</td>\n      <td>SI</td>\n      <td>SI</td>\n      <td>SI</td>\n      <td>SI</td>\n      <td>SI</td>\n      <td>SI</td>\n      <td>SI</td>\n      <td>SI</td>\n      <td>SI</td>\n      <td>SI</td>\n    </tr>\n    <tr>\n      <th>1</th>\n      <td>1</td>\n      <td>POZO R013 CAÑADA HONDA</td>\n      <td>LERMA SANTIAGO PACIFICO</td>\n      <td>AGUASCALIENTES</td>\n      <td>AGUASCALIENTES</td>\n      <td>VALLE DE CHICALOTE</td>\n      <td>POZO</td>\n      <td>-102.20075</td>\n      <td>21.99958</td>\n      <td>231.990</td>\n      <td>...</td>\n      <td>SI</td>\n      <td>SI</td>\n      <td>SI</td>\n      <td>SI</td>\n      <td>SI</td>\n      <td>SI</td>\n      <td>SI</td>\n      <td>SI</td>\n      <td>SI</td>\n      <td>SI</td>\n    </tr>\n    <tr>\n      <th>2</th>\n      <td>2</td>\n      <td>POZO COSIO</td>\n      <td>LERMA SANTIAGO PACIFICO</td>\n      <td>AGUASCALIENTES</td>\n      <td>COSIO</td>\n      <td>VALLE DE AGUASCALIENTES</td>\n      <td>POZO</td>\n      <td>-102.28801</td>\n      <td>22.36685</td>\n      <td>204.920</td>\n      <td>...</td>\n      <td>SI</td>\n      <td>SI</td>\n      <td>SI</td>\n      <td>NO</td>\n      <td>SI</td>\n      <td>SI</td>\n      <td>SI</td>\n      <td>SI</td>\n      <td>SI</td>\n      <td>SI</td>\n    </tr>\n    <tr>\n      <th>3</th>\n      <td>3</td>\n      <td>POZO EL SALITRILLO</td>\n      <td>LERMA SANTIAGO PACIFICO</td>\n      <td>AGUASCALIENTES</td>\n      <td>RINCON DE ROMOS</td>\n      <td>VALLE DE AGUASCALIENTES</td>\n      <td>POZO</td>\n      <td>-102.29449</td>\n      <td>22.18435</td>\n      <td>327.000</td>\n      <td>...</td>\n      <td>SI</td>\n      <td>SI</td>\n      <td>SI</td>\n      <td>SI</td>\n      <td>SI</td>\n      <td>SI</td>\n      <td>SI</td>\n      <td>SI</td>\n      <td>SI</td>\n      <td>SI</td>\n    </tr>\n    <tr>\n      <th>4</th>\n      <td>4</td>\n      <td>RANCHO EL TECOLOTE</td>\n      <td>PENINSULA DE BAJA CALIFORNIA</td>\n      <td>BAJA CALIFORNIA SUR</td>\n      <td>LA PAZ</td>\n      <td>TODOS SANTOS</td>\n      <td>POZO</td>\n      <td>-110.24480</td>\n      <td>23.45138</td>\n      <td>309.885</td>\n      <td>...</td>\n      <td>SI</td>\n      <td>SI</td>\n      <td>NO</td>\n      <td>SI</td>\n      <td>SI</td>\n      <td>SI</td>\n      <td>SI</td>\n      <td>SI</td>\n      <td>SI</td>\n      <td>SI</td>\n    </tr>\n  </tbody>\n</table>\n<p>5 rows × 55 columns</p>\n</div>"
     },
     "execution_count": 16,
     "metadata": {},
     "output_type": "execute_result"
    }
   ],
   "source": [
    "dfCalidadSubterranea.head()"
   ],
   "metadata": {
    "collapsed": false
   }
  },
  {
   "cell_type": "markdown",
   "source": [
    "Selecciona tus variables independientes X y dependiente Y (semáforo)"
   ],
   "metadata": {
    "collapsed": false
   }
  },
  {
   "cell_type": "code",
   "execution_count": 17,
   "outputs": [
    {
     "data": {
      "text/plain": "(1068, 55)"
     },
     "execution_count": 17,
     "metadata": {},
     "output_type": "execute_result"
    }
   ],
   "source": [
    "#Asignación de variables de entrada y salida\n",
    "X=dfCalidadSubterranea.loc[:,['SITIO', 'ORGANISMO_DE_CUENCA', 'ESTADO', 'MUNICIPIO','ACUIFERO', 'SUBTIPO', 'LONGITUD', 'LATITUD', 'ALC_mg/L', 'CALIDAD_ALC',\n",
    "       'CONDUCT_mS/cm', 'CALIDAD_CONDUC', 'SDT_M_mg/L', 'CALIDAD_SDT_ra','CALIDAD_SDT_salin', 'FLUORUROS_mg/L', 'CALIDAD_FLUO', 'DUR_mg/L',\n",
    "       'CALIDAD_DUR', 'COLI_FEC_NMP/100_mL', 'CALIDAD_COLI_FEC', 'N_NO3_mg/L','CALIDAD_N_NO3', 'AS_TOT_mg/L', 'CALIDAD_AS', 'CD_TOT_mg/L',\n",
    "       'CALIDAD_CD', 'CR_TOT_mg/L', 'CALIDAD_CR', 'HG_TOT_mg/L', 'CALIDAD_HG','PB_TOT_mg/L', 'CALIDAD_PB', 'MN_TOT_mg/L', 'CALIDAD_MN', 'FE_TOT_mg/L',\n",
    "       'CALIDAD_FE', 'CONTAMINANTES', 'CUMPLE_CON_ALC','CUMPLE_CON_COND', 'CUMPLE_CON_SDT_ra', 'CUMPLE_CON_SDT_salin',\n",
    "       'CUMPLE_CON_FLUO', 'CUMPLE_CON_DUR', 'CUMPLE_CON_CF', 'CUMPLE_CON_NO3','CUMPLE_CON_AS', 'CUMPLE_CON_CD', 'CUMPLE_CON_CR', 'CUMPLE_CON_HG',\n",
    "       'CUMPLE_CON_PB', 'CUMPLE_CON_MN', 'CUMPLE_CON_FE']]\n",
    "Y= dfCalidadSubterranea.loc[:,['SEMAFORO']]\n",
    "dfCalidadSubterranea.shape"
   ],
   "metadata": {
    "collapsed": false
   }
  },
  {
   "cell_type": "markdown",
   "source": [
    "Cambia a label encoding el semáforo, ej, de [\"clase 1\", \"clase 2\", \"clase 3\"] a [ 1,2,3]"
   ],
   "metadata": {
    "collapsed": false
   }
  },
  {
   "cell_type": "code",
   "execution_count": 50,
   "outputs": [
    {
     "data": {
      "text/plain": "        0    1    2\n0     0.0  0.0  1.0\n1     0.0  0.0  1.0\n2     0.0  1.0  0.0\n3     0.0  0.0  1.0\n4     0.0  1.0  0.0\n...   ...  ...  ...\n1063  0.0  1.0  0.0\n1064  0.0  1.0  0.0\n1065  0.0  1.0  0.0\n1066  0.0  0.0  1.0\n1067  0.0  0.0  1.0\n\n[1068 rows x 3 columns]",
      "text/html": "<div>\n<style scoped>\n    .dataframe tbody tr th:only-of-type {\n        vertical-align: middle;\n    }\n\n    .dataframe tbody tr th {\n        vertical-align: top;\n    }\n\n    .dataframe thead th {\n        text-align: right;\n    }\n</style>\n<table border=\"1\" class=\"dataframe\">\n  <thead>\n    <tr style=\"text-align: right;\">\n      <th></th>\n      <th>0</th>\n      <th>1</th>\n      <th>2</th>\n    </tr>\n  </thead>\n  <tbody>\n    <tr>\n      <th>0</th>\n      <td>0.0</td>\n      <td>0.0</td>\n      <td>1.0</td>\n    </tr>\n    <tr>\n      <th>1</th>\n      <td>0.0</td>\n      <td>0.0</td>\n      <td>1.0</td>\n    </tr>\n    <tr>\n      <th>2</th>\n      <td>0.0</td>\n      <td>1.0</td>\n      <td>0.0</td>\n    </tr>\n    <tr>\n      <th>3</th>\n      <td>0.0</td>\n      <td>0.0</td>\n      <td>1.0</td>\n    </tr>\n    <tr>\n      <th>4</th>\n      <td>0.0</td>\n      <td>1.0</td>\n      <td>0.0</td>\n    </tr>\n    <tr>\n      <th>...</th>\n      <td>...</td>\n      <td>...</td>\n      <td>...</td>\n    </tr>\n    <tr>\n      <th>1063</th>\n      <td>0.0</td>\n      <td>1.0</td>\n      <td>0.0</td>\n    </tr>\n    <tr>\n      <th>1064</th>\n      <td>0.0</td>\n      <td>1.0</td>\n      <td>0.0</td>\n    </tr>\n    <tr>\n      <th>1065</th>\n      <td>0.0</td>\n      <td>1.0</td>\n      <td>0.0</td>\n    </tr>\n    <tr>\n      <th>1066</th>\n      <td>0.0</td>\n      <td>0.0</td>\n      <td>1.0</td>\n    </tr>\n    <tr>\n      <th>1067</th>\n      <td>0.0</td>\n      <td>0.0</td>\n      <td>1.0</td>\n    </tr>\n  </tbody>\n</table>\n<p>1068 rows × 3 columns</p>\n</div>"
     },
     "execution_count": 50,
     "metadata": {},
     "output_type": "execute_result"
    }
   ],
   "source": [
    "ohe = OneHotEncoder()\n",
    "\n",
    "ct = ColumnTransformer([('one-hot-encoder', OneHotEncoder(), ['SEMAFORO'])], remainder='passthrough')\n",
    "y = pd.DataFrame(ct.fit_transform(dfCalidadSubterranea)).loc[:,[0,1,2]]\n",
    "y\n",
    "###Que hacemos con el ?"
   ],
   "metadata": {
    "collapsed": false
   }
  },
  {
   "cell_type": "code",
   "execution_count": 51,
   "outputs": [],
   "source": [
    "#Particiòn de datos de entrenamiento y validación. 100 datos de prueba representa el 15%\n",
    "Xtrain, Xtest, Ytrain, Ytest = train_test_split(X, y, train_size=0.80, random_state=0)"
   ],
   "metadata": {
    "collapsed": false
   }
  },
  {
   "cell_type": "code",
   "execution_count": 52,
   "outputs": [
    {
     "name": "stdout",
     "output_type": "stream",
     "text": [
      "(214, 53)\n",
      "(854, 53)\n"
     ]
    }
   ],
   "source": [
    "#Verificación del tamaño de conjuntos de entrenamiento y prueba\n",
    "print(Xtest.shape)\n",
    "print(Xtrain.shape)"
   ],
   "metadata": {
    "collapsed": false
   }
  },
  {
   "cell_type": "code",
   "execution_count": 53,
   "outputs": [
    {
     "data": {
      "text/plain": "          LONGITUD      LATITUD     ALC_mg/L  CONDUCT_mS/cm    SDT_M_mg/L  \\\ncount  1068.000000  1068.000000  1068.000000    1068.000000   1068.000000   \nmean   -101.891007    23.163618   235.633759    1138.953013    896.101567   \nstd       6.703263     3.887670   116.655014    1242.056683   2748.950627   \nmin    -116.664250    14.561150    26.640000      50.400000     25.000000   \n25%    -105.388865    20.212055   164.048750     505.500000    337.700000   \n50%    -102.174180    22.617190   215.825000     822.500000    551.400000   \n75%     -98.974716    25.510285   292.423750    1321.250000    915.900000   \nmax     -86.864120    32.677713  1650.000000   18577.000000  82170.000000   \n\n       FLUORUROS_mg/L     DUR_mg/L  COLI_FEC_NMP/100_mL   N_NO3_mg/L  \\\ncount     1068.000000  1068.000000          1068.000000  1068.000000   \nmean         1.075600   347.938073           355.490356     4.319759   \nstd          1.924278   359.500870          2052.457014     8.341222   \nmin          0.200000    20.000000             1.100000     0.020000   \n25%          0.267175   121.274100             1.100000     0.650932   \n50%          0.503500   245.662350             1.100000     2.082916   \n75%          1.139850   453.930000            13.250000     5.200047   \nmax         34.803300  3810.692200         24196.000000   121.007813   \n\n       AS_TOT_mg/L  CD_TOT_mg/L  CR_TOT_mg/L  HG_TOT_mg/L  PB_TOT_mg/L  \\\ncount  1068.000000  1068.000000  1068.000000  1068.000000  1068.000000   \nmean      0.019618     0.003030     0.013276     0.000557     0.005282   \nstd       0.035209     0.000894     0.154391     0.000467     0.003254   \nmin       0.010000     0.003000     0.005000     0.000500     0.005000   \n25%       0.010000     0.003000     0.005000     0.000500     0.005000   \n50%       0.010000     0.003000     0.005000     0.000500     0.005000   \n75%       0.010000     0.003000     0.005000     0.000500     0.005000   \nmax       0.452200     0.032110     5.003200     0.014150     0.080900   \n\n       MN_TOT_mg/L  \ncount  1068.000000  \nmean      0.072478  \nstd       0.376512  \nmin       0.001500  \n25%       0.001500  \n50%       0.001500  \n75%       0.009947  \nmax       8.982000  ",
      "text/html": "<div>\n<style scoped>\n    .dataframe tbody tr th:only-of-type {\n        vertical-align: middle;\n    }\n\n    .dataframe tbody tr th {\n        vertical-align: top;\n    }\n\n    .dataframe thead th {\n        text-align: right;\n    }\n</style>\n<table border=\"1\" class=\"dataframe\">\n  <thead>\n    <tr style=\"text-align: right;\">\n      <th></th>\n      <th>LONGITUD</th>\n      <th>LATITUD</th>\n      <th>ALC_mg/L</th>\n      <th>CONDUCT_mS/cm</th>\n      <th>SDT_M_mg/L</th>\n      <th>FLUORUROS_mg/L</th>\n      <th>DUR_mg/L</th>\n      <th>COLI_FEC_NMP/100_mL</th>\n      <th>N_NO3_mg/L</th>\n      <th>AS_TOT_mg/L</th>\n      <th>CD_TOT_mg/L</th>\n      <th>CR_TOT_mg/L</th>\n      <th>HG_TOT_mg/L</th>\n      <th>PB_TOT_mg/L</th>\n      <th>MN_TOT_mg/L</th>\n    </tr>\n  </thead>\n  <tbody>\n    <tr>\n      <th>count</th>\n      <td>1068.000000</td>\n      <td>1068.000000</td>\n      <td>1068.000000</td>\n      <td>1068.000000</td>\n      <td>1068.000000</td>\n      <td>1068.000000</td>\n      <td>1068.000000</td>\n      <td>1068.000000</td>\n      <td>1068.000000</td>\n      <td>1068.000000</td>\n      <td>1068.000000</td>\n      <td>1068.000000</td>\n      <td>1068.000000</td>\n      <td>1068.000000</td>\n      <td>1068.000000</td>\n    </tr>\n    <tr>\n      <th>mean</th>\n      <td>-101.891007</td>\n      <td>23.163618</td>\n      <td>235.633759</td>\n      <td>1138.953013</td>\n      <td>896.101567</td>\n      <td>1.075600</td>\n      <td>347.938073</td>\n      <td>355.490356</td>\n      <td>4.319759</td>\n      <td>0.019618</td>\n      <td>0.003030</td>\n      <td>0.013276</td>\n      <td>0.000557</td>\n      <td>0.005282</td>\n      <td>0.072478</td>\n    </tr>\n    <tr>\n      <th>std</th>\n      <td>6.703263</td>\n      <td>3.887670</td>\n      <td>116.655014</td>\n      <td>1242.056683</td>\n      <td>2748.950627</td>\n      <td>1.924278</td>\n      <td>359.500870</td>\n      <td>2052.457014</td>\n      <td>8.341222</td>\n      <td>0.035209</td>\n      <td>0.000894</td>\n      <td>0.154391</td>\n      <td>0.000467</td>\n      <td>0.003254</td>\n      <td>0.376512</td>\n    </tr>\n    <tr>\n      <th>min</th>\n      <td>-116.664250</td>\n      <td>14.561150</td>\n      <td>26.640000</td>\n      <td>50.400000</td>\n      <td>25.000000</td>\n      <td>0.200000</td>\n      <td>20.000000</td>\n      <td>1.100000</td>\n      <td>0.020000</td>\n      <td>0.010000</td>\n      <td>0.003000</td>\n      <td>0.005000</td>\n      <td>0.000500</td>\n      <td>0.005000</td>\n      <td>0.001500</td>\n    </tr>\n    <tr>\n      <th>25%</th>\n      <td>-105.388865</td>\n      <td>20.212055</td>\n      <td>164.048750</td>\n      <td>505.500000</td>\n      <td>337.700000</td>\n      <td>0.267175</td>\n      <td>121.274100</td>\n      <td>1.100000</td>\n      <td>0.650932</td>\n      <td>0.010000</td>\n      <td>0.003000</td>\n      <td>0.005000</td>\n      <td>0.000500</td>\n      <td>0.005000</td>\n      <td>0.001500</td>\n    </tr>\n    <tr>\n      <th>50%</th>\n      <td>-102.174180</td>\n      <td>22.617190</td>\n      <td>215.825000</td>\n      <td>822.500000</td>\n      <td>551.400000</td>\n      <td>0.503500</td>\n      <td>245.662350</td>\n      <td>1.100000</td>\n      <td>2.082916</td>\n      <td>0.010000</td>\n      <td>0.003000</td>\n      <td>0.005000</td>\n      <td>0.000500</td>\n      <td>0.005000</td>\n      <td>0.001500</td>\n    </tr>\n    <tr>\n      <th>75%</th>\n      <td>-98.974716</td>\n      <td>25.510285</td>\n      <td>292.423750</td>\n      <td>1321.250000</td>\n      <td>915.900000</td>\n      <td>1.139850</td>\n      <td>453.930000</td>\n      <td>13.250000</td>\n      <td>5.200047</td>\n      <td>0.010000</td>\n      <td>0.003000</td>\n      <td>0.005000</td>\n      <td>0.000500</td>\n      <td>0.005000</td>\n      <td>0.009947</td>\n    </tr>\n    <tr>\n      <th>max</th>\n      <td>-86.864120</td>\n      <td>32.677713</td>\n      <td>1650.000000</td>\n      <td>18577.000000</td>\n      <td>82170.000000</td>\n      <td>34.803300</td>\n      <td>3810.692200</td>\n      <td>24196.000000</td>\n      <td>121.007813</td>\n      <td>0.452200</td>\n      <td>0.032110</td>\n      <td>5.003200</td>\n      <td>0.014150</td>\n      <td>0.080900</td>\n      <td>8.982000</td>\n    </tr>\n  </tbody>\n</table>\n</div>"
     },
     "execution_count": 53,
     "metadata": {},
     "output_type": "execute_result"
    }
   ],
   "source": [
    "X.describe()"
   ],
   "metadata": {
    "collapsed": false
   }
  },
  {
   "cell_type": "code",
   "execution_count": 54,
   "outputs": [
    {
     "data": {
      "text/plain": "       SEMAFORO\ncount      1068\nunique        3\ntop       Verde\nfreq        434",
      "text/html": "<div>\n<style scoped>\n    .dataframe tbody tr th:only-of-type {\n        vertical-align: middle;\n    }\n\n    .dataframe tbody tr th {\n        vertical-align: top;\n    }\n\n    .dataframe thead th {\n        text-align: right;\n    }\n</style>\n<table border=\"1\" class=\"dataframe\">\n  <thead>\n    <tr style=\"text-align: right;\">\n      <th></th>\n      <th>SEMAFORO</th>\n    </tr>\n  </thead>\n  <tbody>\n    <tr>\n      <th>count</th>\n      <td>1068</td>\n    </tr>\n    <tr>\n      <th>unique</th>\n      <td>3</td>\n    </tr>\n    <tr>\n      <th>top</th>\n      <td>Verde</td>\n    </tr>\n    <tr>\n      <th>freq</th>\n      <td>434</td>\n    </tr>\n  </tbody>\n</table>\n</div>"
     },
     "execution_count": 54,
     "metadata": {},
     "output_type": "execute_result"
    }
   ],
   "source": [
    "y.describe()"
   ],
   "metadata": {
    "collapsed": false
   }
  },
  {
   "cell_type": "code",
   "execution_count": 40,
   "outputs": [],
   "source": [
    "one_hot_transformer= Pipeline(steps=[('onehot', OneHotEncoder(handle_unknown='ignore'))])\n",
    "transformer = ColumnTransformer(\n",
    "    transformers=[\n",
    "       ('Semaforo', one_hot_transformer, 'SEMAFORO'),\n",
    "    ],\n",
    "    remainder = 'passthrough'\n",
    ")"
   ],
   "metadata": {
    "collapsed": false
   }
  },
  {
   "cell_type": "code",
   "execution_count": 45,
   "outputs": [],
   "source": [
    "#Modelo Dummy\n",
    "modelo_Dummy = DummyClassifier (strategy=\"stratified\")\n",
    "#Pipeline con modelo Dummy\n",
    "pipeline_salida = Pipeline(steps=[('ct',transformer),('modelo_D',modelo_Dummy)])\n",
    "#Preparación de salida con el pipeline de transformación considerando modelo Dummy\n",
    "salida_preparada = TransformedTargetRegressor ( regressor = pipeline_salida)"
   ],
   "metadata": {
    "collapsed": false
   }
  },
  {
   "cell_type": "code",
   "execution_count": 42,
   "outputs": [],
   "source": [
    "\n",
    "#Se obtienen los conjuntos Dummy\n",
    "XtrainDummy, XtestDummy, YtrainDummy, YtestDummy = train_test_split(Xtrain, Ytrain, train_size=0.80)"
   ],
   "metadata": {
    "collapsed": false
   }
  },
  {
   "cell_type": "code",
   "execution_count": 43,
   "outputs": [
    {
     "ename": "ValueError",
     "evalue": "could not convert string to float: 'Amarillo'",
     "output_type": "error",
     "traceback": [
      "\u001B[0;31m---------------------------------------------------------------------------\u001B[0m",
      "\u001B[0;31mValueError\u001B[0m                                Traceback (most recent call last)",
      "Input \u001B[0;32mIn [43]\u001B[0m, in \u001B[0;36m<cell line: 7>\u001B[0;34m()\u001B[0m\n\u001B[1;32m      4\u001B[0m pipeline_Out\u001B[38;5;241m=\u001B[39m TransformedTargetRegressor(regressor\u001B[38;5;241m=\u001B[39mpipeline_In)\n\u001B[1;32m      6\u001B[0m \u001B[38;5;66;03m#Predicción de datos con variables de entrenamiento y de prueba del conjunto Dummy\u001B[39;00m\n\u001B[0;32m----> 7\u001B[0m \u001B[43mpipeline_Out\u001B[49m\u001B[38;5;241;43m.\u001B[39;49m\u001B[43mfit\u001B[49m\u001B[43m(\u001B[49m\u001B[43mXtrainDummy\u001B[49m\u001B[43m,\u001B[49m\u001B[43m \u001B[49m\u001B[43mYtrainDummy\u001B[49m\u001B[43m)\u001B[49m\n\u001B[1;32m      8\u001B[0m Yhat_testDummy \u001B[38;5;241m=\u001B[39m pipeline_Out\u001B[38;5;241m.\u001B[39mpredict(XtestDummy)\n\u001B[1;32m      9\u001B[0m Yhat_trainDummy\u001B[38;5;241m=\u001B[39m pipeline_Out\u001B[38;5;241m.\u001B[39mpredict(XtrainDummy)\n",
      "File \u001B[0;32m~/.conda/envs/pythonProject2/lib/python3.10/site-packages/sklearn/compose/_target.py:215\u001B[0m, in \u001B[0;36mTransformedTargetRegressor.fit\u001B[0;34m(self, X, y, **fit_params)\u001B[0m\n\u001B[1;32m    210\u001B[0m \u001B[38;5;28;01mif\u001B[39;00m y \u001B[38;5;129;01mis\u001B[39;00m \u001B[38;5;28;01mNone\u001B[39;00m:\n\u001B[1;32m    211\u001B[0m     \u001B[38;5;28;01mraise\u001B[39;00m \u001B[38;5;167;01mValueError\u001B[39;00m(\n\u001B[1;32m    212\u001B[0m         \u001B[38;5;124mf\u001B[39m\u001B[38;5;124m\"\u001B[39m\u001B[38;5;124mThis \u001B[39m\u001B[38;5;132;01m{\u001B[39;00m\u001B[38;5;28mself\u001B[39m\u001B[38;5;241m.\u001B[39m\u001B[38;5;18m__class__\u001B[39m\u001B[38;5;241m.\u001B[39m\u001B[38;5;18m__name__\u001B[39m\u001B[38;5;132;01m}\u001B[39;00m\u001B[38;5;124m estimator \u001B[39m\u001B[38;5;124m\"\u001B[39m\n\u001B[1;32m    213\u001B[0m         \u001B[38;5;124m\"\u001B[39m\u001B[38;5;124mrequires y to be passed, but the target y is None.\u001B[39m\u001B[38;5;124m\"\u001B[39m\n\u001B[1;32m    214\u001B[0m     )\n\u001B[0;32m--> 215\u001B[0m y \u001B[38;5;241m=\u001B[39m \u001B[43mcheck_array\u001B[49m\u001B[43m(\u001B[49m\n\u001B[1;32m    216\u001B[0m \u001B[43m    \u001B[49m\u001B[43my\u001B[49m\u001B[43m,\u001B[49m\n\u001B[1;32m    217\u001B[0m \u001B[43m    \u001B[49m\u001B[43minput_name\u001B[49m\u001B[38;5;241;43m=\u001B[39;49m\u001B[38;5;124;43m\"\u001B[39;49m\u001B[38;5;124;43my\u001B[39;49m\u001B[38;5;124;43m\"\u001B[39;49m\u001B[43m,\u001B[49m\n\u001B[1;32m    218\u001B[0m \u001B[43m    \u001B[49m\u001B[43maccept_sparse\u001B[49m\u001B[38;5;241;43m=\u001B[39;49m\u001B[38;5;28;43;01mFalse\u001B[39;49;00m\u001B[43m,\u001B[49m\n\u001B[1;32m    219\u001B[0m \u001B[43m    \u001B[49m\u001B[43mforce_all_finite\u001B[49m\u001B[38;5;241;43m=\u001B[39;49m\u001B[38;5;28;43;01mTrue\u001B[39;49;00m\u001B[43m,\u001B[49m\n\u001B[1;32m    220\u001B[0m \u001B[43m    \u001B[49m\u001B[43mensure_2d\u001B[49m\u001B[38;5;241;43m=\u001B[39;49m\u001B[38;5;28;43;01mFalse\u001B[39;49;00m\u001B[43m,\u001B[49m\n\u001B[1;32m    221\u001B[0m \u001B[43m    \u001B[49m\u001B[43mdtype\u001B[49m\u001B[38;5;241;43m=\u001B[39;49m\u001B[38;5;124;43m\"\u001B[39;49m\u001B[38;5;124;43mnumeric\u001B[39;49m\u001B[38;5;124;43m\"\u001B[39;49m\u001B[43m,\u001B[49m\n\u001B[1;32m    222\u001B[0m \u001B[43m    \u001B[49m\u001B[43mallow_nd\u001B[49m\u001B[38;5;241;43m=\u001B[39;49m\u001B[38;5;28;43;01mTrue\u001B[39;49;00m\u001B[43m,\u001B[49m\n\u001B[1;32m    223\u001B[0m \u001B[43m\u001B[49m\u001B[43m)\u001B[49m\n\u001B[1;32m    225\u001B[0m \u001B[38;5;66;03m# store the number of dimension of the target to predict an array of\u001B[39;00m\n\u001B[1;32m    226\u001B[0m \u001B[38;5;66;03m# similar shape at predict\u001B[39;00m\n\u001B[1;32m    227\u001B[0m \u001B[38;5;28mself\u001B[39m\u001B[38;5;241m.\u001B[39m_training_dim \u001B[38;5;241m=\u001B[39m y\u001B[38;5;241m.\u001B[39mndim\n",
      "File \u001B[0;32m~/.conda/envs/pythonProject2/lib/python3.10/site-packages/sklearn/utils/validation.py:856\u001B[0m, in \u001B[0;36mcheck_array\u001B[0;34m(array, accept_sparse, accept_large_sparse, dtype, order, copy, force_all_finite, ensure_2d, allow_nd, ensure_min_samples, ensure_min_features, estimator, input_name)\u001B[0m\n\u001B[1;32m    854\u001B[0m         array \u001B[38;5;241m=\u001B[39m array\u001B[38;5;241m.\u001B[39mastype(dtype, casting\u001B[38;5;241m=\u001B[39m\u001B[38;5;124m\"\u001B[39m\u001B[38;5;124munsafe\u001B[39m\u001B[38;5;124m\"\u001B[39m, copy\u001B[38;5;241m=\u001B[39m\u001B[38;5;28;01mFalse\u001B[39;00m)\n\u001B[1;32m    855\u001B[0m     \u001B[38;5;28;01melse\u001B[39;00m:\n\u001B[0;32m--> 856\u001B[0m         array \u001B[38;5;241m=\u001B[39m \u001B[43mnp\u001B[49m\u001B[38;5;241;43m.\u001B[39;49m\u001B[43masarray\u001B[49m\u001B[43m(\u001B[49m\u001B[43marray\u001B[49m\u001B[43m,\u001B[49m\u001B[43m \u001B[49m\u001B[43morder\u001B[49m\u001B[38;5;241;43m=\u001B[39;49m\u001B[43morder\u001B[49m\u001B[43m,\u001B[49m\u001B[43m \u001B[49m\u001B[43mdtype\u001B[49m\u001B[38;5;241;43m=\u001B[39;49m\u001B[43mdtype\u001B[49m\u001B[43m)\u001B[49m\n\u001B[1;32m    857\u001B[0m \u001B[38;5;28;01mexcept\u001B[39;00m ComplexWarning \u001B[38;5;28;01mas\u001B[39;00m complex_warning:\n\u001B[1;32m    858\u001B[0m     \u001B[38;5;28;01mraise\u001B[39;00m \u001B[38;5;167;01mValueError\u001B[39;00m(\n\u001B[1;32m    859\u001B[0m         \u001B[38;5;124m\"\u001B[39m\u001B[38;5;124mComplex data not supported\u001B[39m\u001B[38;5;130;01m\\n\u001B[39;00m\u001B[38;5;132;01m{}\u001B[39;00m\u001B[38;5;130;01m\\n\u001B[39;00m\u001B[38;5;124m\"\u001B[39m\u001B[38;5;241m.\u001B[39mformat(array)\n\u001B[1;32m    860\u001B[0m     ) \u001B[38;5;28;01mfrom\u001B[39;00m \u001B[38;5;21;01mcomplex_warning\u001B[39;00m\n",
      "File \u001B[0;32m~/.conda/envs/pythonProject2/lib/python3.10/site-packages/pandas/core/generic.py:2070\u001B[0m, in \u001B[0;36mNDFrame.__array__\u001B[0;34m(self, dtype)\u001B[0m\n\u001B[1;32m   2069\u001B[0m \u001B[38;5;28;01mdef\u001B[39;00m \u001B[38;5;21m__array__\u001B[39m(\u001B[38;5;28mself\u001B[39m, dtype: npt\u001B[38;5;241m.\u001B[39mDTypeLike \u001B[38;5;241m|\u001B[39m \u001B[38;5;28;01mNone\u001B[39;00m \u001B[38;5;241m=\u001B[39m \u001B[38;5;28;01mNone\u001B[39;00m) \u001B[38;5;241m-\u001B[39m\u001B[38;5;241m>\u001B[39m np\u001B[38;5;241m.\u001B[39mndarray:\n\u001B[0;32m-> 2070\u001B[0m     \u001B[38;5;28;01mreturn\u001B[39;00m \u001B[43mnp\u001B[49m\u001B[38;5;241;43m.\u001B[39;49m\u001B[43masarray\u001B[49m\u001B[43m(\u001B[49m\u001B[38;5;28;43mself\u001B[39;49m\u001B[38;5;241;43m.\u001B[39;49m\u001B[43m_values\u001B[49m\u001B[43m,\u001B[49m\u001B[43m \u001B[49m\u001B[43mdtype\u001B[49m\u001B[38;5;241;43m=\u001B[39;49m\u001B[43mdtype\u001B[49m\u001B[43m)\u001B[49m\n",
      "\u001B[0;31mValueError\u001B[0m: could not convert string to float: 'Amarillo'"
     ]
    }
   ],
   "source": [
    "#Preparación variables de entrada con los imputadores\n",
    "pipeline_In = Pipeline(steps=[('modelo',modelo_Dummy)])\n",
    "#Preparación variables de salida con la transformación logarítimica.\n",
    "pipeline_Out= TransformedTargetRegressor(regressor=pipeline_In)\n",
    "\n",
    "#Predicción de datos con variables de entrenamiento y de prueba del conjunto Dummy\n",
    "pipeline_Out.fit(XtrainDummy, YtrainDummy)\n",
    "Yhat_testDummy = pipeline_Out.predict(XtestDummy)\n",
    "Yhat_trainDummy= pipeline_Out.predict(XtrainDummy)\n",
    "#Impresión de los resultados de Entrenamiento Dummy\n",
    "\n",
    "\n",
    "print('\\n-----------Resultados Dummy -- Datos de Entrenamiento---------')\n",
    "names = ['accuracy','f1-score', 'precision', 'recall']\n",
    "print(\"\\n\\t\\t  %s\\t\\t%s   \\t\\t%s  \\t\\t%s\" % (names[0],names[1],names[2],names[3]))\n",
    "print(\"\\t\\t %.1f  \\t\\t%.1f   \\t\\t%.1f  \\t\\t%.1f\" % (\n",
    "                                            accuracy_score(YtrainDummy, Yhat_trainDummy),\n",
    "                                            f1_score(YtrainDummy, Yhat_trainDummy),\n",
    "                                            precision_score(YtrainDummy, Yhat_trainDummy),\n",
    "                                            recall_score(YtrainDummy, Yhat_trainDummy)\n",
    "                                             ),\"%\")\n",
    "#Impresión de los resultados de Validación Dummy\n",
    "print('\\n-----------Resultados Dummy -- Datos de Prueba---------')\n",
    "print(\"\\n\\t\\t  %s\\t\\t%s   \\t\\t%s  \\t\\t%s\" % (names[0],names[1],names[2], names[3]))\n",
    "print(\" \\t\\t %.1f  \\t\\t%.1f   \\t\\t%.1f   \\t\\t%.1f\" % (\n",
    "                                             accuracy_score(YtestDummy, Yhat_testDummy),\n",
    "                                             f1_score(YtestDummy, Yhat_testDummy),\n",
    "                                             precision_score(YtestDummy, Yhat_testDummy),\n",
    "                                             recall_score(YtestDummy, Yhat_testDummy)\n",
    "                                             ),\"%\")"
   ],
   "metadata": {
    "collapsed": false
   }
  },
  {
   "cell_type": "code",
   "execution_count": null,
   "outputs": [],
   "source": [],
   "metadata": {
    "collapsed": false
   }
  }
 ],
 "metadata": {
  "kernelspec": {
   "display_name": "Python 3",
   "language": "python",
   "name": "python3"
  },
  "language_info": {
   "codemirror_mode": {
    "name": "ipython",
    "version": 2
   },
   "file_extension": ".py",
   "mimetype": "text/x-python",
   "name": "python",
   "nbconvert_exporter": "python",
   "pygments_lexer": "ipython2",
   "version": "2.7.6"
  }
 },
 "nbformat": 4,
 "nbformat_minor": 0
}
