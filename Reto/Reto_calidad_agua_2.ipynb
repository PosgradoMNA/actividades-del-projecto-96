{
 "cells": [
  {
   "cell_type": "markdown",
   "source": [
    "Semana 9 - Reto Calidad del agua\n",
    "\n",
    "Lázaro Lara Martínez. Matricula A01793198\n",
    "José Mtanous Treviño. Matricula A00169781\n",
    "\n",
    "Ciencia y Analítica de datos.\n",
    "\n",
    "Profesor Titular.\n",
    "Profesor Tutor. Mtro. Mario Alberto Solano Saldaña\n",
    "\n",
    "14/Noviembre/2022\n"
   ],
   "metadata": {
    "collapsed": false
   }
  },
  {
   "cell_type": "code",
   "execution_count": 123,
   "outputs": [],
   "source": [
    "import pandas as pd\n",
    "import numpy as np\n",
    "import matplotlib.pyplot as plt\n",
    "import seaborn as sns\n",
    "from sklearn.pipeline import Pipeline\n",
    "from sklearn.compose import ColumnTransformer\n",
    "from sklearn.impute import SimpleImputer\n",
    "from sklearn.preprocessing import MinMaxScaler\n",
    "from scipy.stats import zscore\n",
    "import geopandas\n",
    "import geopandas as gpd\n",
    "import matplotlib.pyplot as plt\n",
    "import pandas as pd\n",
    "from shapely.geometry import Point\n",
    "%matplotlib inline\n",
    "from sklearn.preprocessing import OneHotEncoder\n",
    "from sklearn.model_selection import train_test_split\n",
    "\n",
    "from sklearn.dummy import DummyClassifier\n",
    "from sklearn.model_selection import GridSearchCV\n",
    "from sklearn.compose import TransformedTargetRegressor\n",
    "\n",
    "from sklearn.metrics import f1_score, precision_score,confusion_matrix, plot_roc_curve,RocCurveDisplay,recall_score, make_scorer,accuracy_score\n",
    "from sklearn.preprocessing import LabelEncoder\n",
    "from scipy.stats import alpha\n",
    "from sklearn.model_selection import GridSearchCV\n",
    "from sklearn.tree import DecisionTreeClassifier\n",
    "from numpy.lib.shape_base import vsplit\n",
    "from sklearn import tree\n",
    "from sklearn.inspection import permutation_importance\n",
    "from sklearn.model_selection import RepeatedKFold\n"
   ],
   "metadata": {
    "collapsed": false
   }
  },
  {
   "cell_type": "code",
   "execution_count": 124,
   "outputs": [],
   "source": [
    "# cargamos nuestro dataset y lo inspeccionamos rapídamente\n",
    "path_calidad_subterranea = '../Reto/datos/Escalas_subterranea_clean_sin_numericas.csv'\n",
    "dfCalidadSubterranea = pd.read_csv(path_calidad_subterranea)"
   ],
   "metadata": {
    "collapsed": false
   }
  },
  {
   "cell_type": "code",
   "execution_count": 125,
   "outputs": [
    {
     "data": {
      "text/plain": "            ORGANISMO_DE_CUENCA               ESTADO        MUNICIPIO  \\\n0       LERMA SANTIAGO PACIFICO       AGUASCALIENTES         ASIENTOS   \n1       LERMA SANTIAGO PACIFICO       AGUASCALIENTES   AGUASCALIENTES   \n2       LERMA SANTIAGO PACIFICO       AGUASCALIENTES            COSIO   \n3       LERMA SANTIAGO PACIFICO       AGUASCALIENTES  RINCON DE ROMOS   \n4  PENINSULA DE BAJA CALIFORNIA  BAJA CALIFORNIA SUR           LA PAZ   \n\n                  ACUIFERO SUBTIPO   LONGITUD   LATITUD CALIDAD_ALC  \\\n0       VALLE DE CHICALOTE    POZO -102.02210  22.20887        Alta   \n1       VALLE DE CHICALOTE    POZO -102.20075  21.99958        Alta   \n2  VALLE DE AGUASCALIENTES    POZO -102.28801  22.36685        Alta   \n3  VALLE DE AGUASCALIENTES    POZO -102.29449  22.18435        Alta   \n4             TODOS SANTOS    POZO -110.24480  23.45138        Alta   \n\n          CALIDAD_CONDUC                CALIDAD_SDT_ra  ... CUMPLE_CON_DUR  \\\n0  Permisible para riego            Cultivos sensibles  ...             SI   \n1       Buena para riego          Excelente para riego  ...             SI   \n2       Buena para riego          Excelente para riego  ...             SI   \n3       Buena para riego          Excelente para riego  ...             SI   \n4  Permisible para riego  Cultivos con manejo especial  ...             SI   \n\n  CUMPLE_CON_CF CUMPLE_CON_NO3 CUMPLE_CON_AS CUMPLE_CON_CD CUMPLE_CON_CR  \\\n0            SI             SI            SI            SI            SI   \n1            SI             SI            SI            SI            SI   \n2            SI             SI            NO            SI            SI   \n3            SI             SI            SI            SI            SI   \n4            SI             NO            SI            SI            SI   \n\n  CUMPLE_CON_HG CUMPLE_CON_PB CUMPLE_CON_MN CUMPLE_CON_FE  \n0            SI            SI            SI            SI  \n1            SI            SI            SI            SI  \n2            SI            SI            SI            SI  \n3            SI            SI            SI            SI  \n4            SI            SI            SI            SI  \n\n[5 rows x 39 columns]",
      "text/html": "<div>\n<style scoped>\n    .dataframe tbody tr th:only-of-type {\n        vertical-align: middle;\n    }\n\n    .dataframe tbody tr th {\n        vertical-align: top;\n    }\n\n    .dataframe thead th {\n        text-align: right;\n    }\n</style>\n<table border=\"1\" class=\"dataframe\">\n  <thead>\n    <tr style=\"text-align: right;\">\n      <th></th>\n      <th>ORGANISMO_DE_CUENCA</th>\n      <th>ESTADO</th>\n      <th>MUNICIPIO</th>\n      <th>ACUIFERO</th>\n      <th>SUBTIPO</th>\n      <th>LONGITUD</th>\n      <th>LATITUD</th>\n      <th>CALIDAD_ALC</th>\n      <th>CALIDAD_CONDUC</th>\n      <th>CALIDAD_SDT_ra</th>\n      <th>...</th>\n      <th>CUMPLE_CON_DUR</th>\n      <th>CUMPLE_CON_CF</th>\n      <th>CUMPLE_CON_NO3</th>\n      <th>CUMPLE_CON_AS</th>\n      <th>CUMPLE_CON_CD</th>\n      <th>CUMPLE_CON_CR</th>\n      <th>CUMPLE_CON_HG</th>\n      <th>CUMPLE_CON_PB</th>\n      <th>CUMPLE_CON_MN</th>\n      <th>CUMPLE_CON_FE</th>\n    </tr>\n  </thead>\n  <tbody>\n    <tr>\n      <th>0</th>\n      <td>LERMA SANTIAGO PACIFICO</td>\n      <td>AGUASCALIENTES</td>\n      <td>ASIENTOS</td>\n      <td>VALLE DE CHICALOTE</td>\n      <td>POZO</td>\n      <td>-102.02210</td>\n      <td>22.20887</td>\n      <td>Alta</td>\n      <td>Permisible para riego</td>\n      <td>Cultivos sensibles</td>\n      <td>...</td>\n      <td>SI</td>\n      <td>SI</td>\n      <td>SI</td>\n      <td>SI</td>\n      <td>SI</td>\n      <td>SI</td>\n      <td>SI</td>\n      <td>SI</td>\n      <td>SI</td>\n      <td>SI</td>\n    </tr>\n    <tr>\n      <th>1</th>\n      <td>LERMA SANTIAGO PACIFICO</td>\n      <td>AGUASCALIENTES</td>\n      <td>AGUASCALIENTES</td>\n      <td>VALLE DE CHICALOTE</td>\n      <td>POZO</td>\n      <td>-102.20075</td>\n      <td>21.99958</td>\n      <td>Alta</td>\n      <td>Buena para riego</td>\n      <td>Excelente para riego</td>\n      <td>...</td>\n      <td>SI</td>\n      <td>SI</td>\n      <td>SI</td>\n      <td>SI</td>\n      <td>SI</td>\n      <td>SI</td>\n      <td>SI</td>\n      <td>SI</td>\n      <td>SI</td>\n      <td>SI</td>\n    </tr>\n    <tr>\n      <th>2</th>\n      <td>LERMA SANTIAGO PACIFICO</td>\n      <td>AGUASCALIENTES</td>\n      <td>COSIO</td>\n      <td>VALLE DE AGUASCALIENTES</td>\n      <td>POZO</td>\n      <td>-102.28801</td>\n      <td>22.36685</td>\n      <td>Alta</td>\n      <td>Buena para riego</td>\n      <td>Excelente para riego</td>\n      <td>...</td>\n      <td>SI</td>\n      <td>SI</td>\n      <td>SI</td>\n      <td>NO</td>\n      <td>SI</td>\n      <td>SI</td>\n      <td>SI</td>\n      <td>SI</td>\n      <td>SI</td>\n      <td>SI</td>\n    </tr>\n    <tr>\n      <th>3</th>\n      <td>LERMA SANTIAGO PACIFICO</td>\n      <td>AGUASCALIENTES</td>\n      <td>RINCON DE ROMOS</td>\n      <td>VALLE DE AGUASCALIENTES</td>\n      <td>POZO</td>\n      <td>-102.29449</td>\n      <td>22.18435</td>\n      <td>Alta</td>\n      <td>Buena para riego</td>\n      <td>Excelente para riego</td>\n      <td>...</td>\n      <td>SI</td>\n      <td>SI</td>\n      <td>SI</td>\n      <td>SI</td>\n      <td>SI</td>\n      <td>SI</td>\n      <td>SI</td>\n      <td>SI</td>\n      <td>SI</td>\n      <td>SI</td>\n    </tr>\n    <tr>\n      <th>4</th>\n      <td>PENINSULA DE BAJA CALIFORNIA</td>\n      <td>BAJA CALIFORNIA SUR</td>\n      <td>LA PAZ</td>\n      <td>TODOS SANTOS</td>\n      <td>POZO</td>\n      <td>-110.24480</td>\n      <td>23.45138</td>\n      <td>Alta</td>\n      <td>Permisible para riego</td>\n      <td>Cultivos con manejo especial</td>\n      <td>...</td>\n      <td>SI</td>\n      <td>SI</td>\n      <td>NO</td>\n      <td>SI</td>\n      <td>SI</td>\n      <td>SI</td>\n      <td>SI</td>\n      <td>SI</td>\n      <td>SI</td>\n      <td>SI</td>\n    </tr>\n  </tbody>\n</table>\n<p>5 rows × 39 columns</p>\n</div>"
     },
     "execution_count": 125,
     "metadata": {},
     "output_type": "execute_result"
    }
   ],
   "source": [
    "dfCalidadSubterranea.head()"
   ],
   "metadata": {
    "collapsed": false
   }
  },
  {
   "cell_type": "code",
   "execution_count": 126,
   "outputs": [
    {
     "data": {
      "text/plain": "Index(['ORGANISMO_DE_CUENCA', 'ESTADO', 'MUNICIPIO', 'ACUIFERO', 'SUBTIPO',\n       'LONGITUD', 'LATITUD', 'CALIDAD_ALC', 'CALIDAD_CONDUC',\n       'CALIDAD_SDT_ra', 'CALIDAD_SDT_salin', 'CALIDAD_FLUO', 'CALIDAD_DUR',\n       'CALIDAD_COLI_FEC', 'CALIDAD_N_NO3', 'CALIDAD_AS', 'CALIDAD_CD',\n       'CALIDAD_CR', 'CALIDAD_HG', 'CALIDAD_PB', 'CALIDAD_MN', 'CALIDAD_FE',\n       'SEMAFORO', 'CONTAMINANTES', 'CUMPLE_CON_ALC', 'CUMPLE_CON_COND',\n       'CUMPLE_CON_SDT_ra', 'CUMPLE_CON_SDT_salin', 'CUMPLE_CON_FLUO',\n       'CUMPLE_CON_DUR', 'CUMPLE_CON_CF', 'CUMPLE_CON_NO3', 'CUMPLE_CON_AS',\n       'CUMPLE_CON_CD', 'CUMPLE_CON_CR', 'CUMPLE_CON_HG', 'CUMPLE_CON_PB',\n       'CUMPLE_CON_MN', 'CUMPLE_CON_FE'],\n      dtype='object')"
     },
     "execution_count": 126,
     "metadata": {},
     "output_type": "execute_result"
    }
   ],
   "source": [
    "dfCalidadSubterranea.columns"
   ],
   "metadata": {
    "collapsed": false
   }
  },
  {
   "cell_type": "code",
   "execution_count": 127,
   "outputs": [
    {
     "data": {
      "text/plain": "      ORGANISMO_DE_CUENCA  ESTADO  MUNICIPIO  ACUIFERO  SUBTIPO  LONGITUD  \\\n0                       6       0         25       232        5       551   \n1                       6       0          9       232        5       526   \n2                       6       0         94       228        5       517   \n3                       6       0        284       228        5       516   \n4                      10       2        197       220        5       128   \n...                   ...     ...        ...       ...      ...       ...   \n1063                   12      18        204        42        5       739   \n1064                   12      18        204        42        5       729   \n1065                   12      18         45        41        5       721   \n1066                   12      18        134       137        5       696   \n1067                   12      18        134       137        5       671   \n\n      LATITUD  CALIDAD_ALC  CALIDAD_CONDUC  CALIDAD_SDT_ra  ...  \\\n0         506            1               5               2  ...   \n1         490            1               1               4  ...   \n2         512            1               1               4  ...   \n3         504            1               1               4  ...   \n4         583            1               5               1  ...   \n...       ...          ...             ...             ...  ...   \n1063      701            1               2               1  ...   \n1064      706            1               1               4  ...   \n1065      811            1               2               1  ...   \n1066      713            1               5               2  ...   \n1067      742            1               5               4  ...   \n\n      CUMPLE_CON_DUR  CUMPLE_CON_CF  CUMPLE_CON_NO3  CUMPLE_CON_AS  \\\n0                  2              1               2              1   \n1                  2              1               2              1   \n2                  2              1               2              0   \n3                  2              1               2              1   \n4                  2              1               1              1   \n...              ...            ...             ...            ...   \n1063               1              1               1              1   \n1064               2              1               1              1   \n1065               1              1               1              1   \n1066               2              1               2              1   \n1067               2              1               2              1   \n\n      CUMPLE_CON_CD  CUMPLE_CON_CR  CUMPLE_CON_HG  CUMPLE_CON_PB  \\\n0                 1              1              1              1   \n1                 1              1              1              1   \n2                 1              1              1              1   \n3                 1              1              1              1   \n4                 1              1              1              1   \n...             ...            ...            ...            ...   \n1063              1              1              1              1   \n1064              1              1              1              1   \n1065              1              1              1              1   \n1066              1              1              1              1   \n1067              1              1              1              1   \n\n      CUMPLE_CON_MN  CUMPLE_CON_FE  \n0                 1              1  \n1                 1              1  \n2                 1              1  \n3                 1              1  \n4                 1              1  \n...             ...            ...  \n1063              1              1  \n1064              1              1  \n1065              1              1  \n1066              1              1  \n1067              1              1  \n\n[1068 rows x 39 columns]",
      "text/html": "<div>\n<style scoped>\n    .dataframe tbody tr th:only-of-type {\n        vertical-align: middle;\n    }\n\n    .dataframe tbody tr th {\n        vertical-align: top;\n    }\n\n    .dataframe thead th {\n        text-align: right;\n    }\n</style>\n<table border=\"1\" class=\"dataframe\">\n  <thead>\n    <tr style=\"text-align: right;\">\n      <th></th>\n      <th>ORGANISMO_DE_CUENCA</th>\n      <th>ESTADO</th>\n      <th>MUNICIPIO</th>\n      <th>ACUIFERO</th>\n      <th>SUBTIPO</th>\n      <th>LONGITUD</th>\n      <th>LATITUD</th>\n      <th>CALIDAD_ALC</th>\n      <th>CALIDAD_CONDUC</th>\n      <th>CALIDAD_SDT_ra</th>\n      <th>...</th>\n      <th>CUMPLE_CON_DUR</th>\n      <th>CUMPLE_CON_CF</th>\n      <th>CUMPLE_CON_NO3</th>\n      <th>CUMPLE_CON_AS</th>\n      <th>CUMPLE_CON_CD</th>\n      <th>CUMPLE_CON_CR</th>\n      <th>CUMPLE_CON_HG</th>\n      <th>CUMPLE_CON_PB</th>\n      <th>CUMPLE_CON_MN</th>\n      <th>CUMPLE_CON_FE</th>\n    </tr>\n  </thead>\n  <tbody>\n    <tr>\n      <th>0</th>\n      <td>6</td>\n      <td>0</td>\n      <td>25</td>\n      <td>232</td>\n      <td>5</td>\n      <td>551</td>\n      <td>506</td>\n      <td>1</td>\n      <td>5</td>\n      <td>2</td>\n      <td>...</td>\n      <td>2</td>\n      <td>1</td>\n      <td>2</td>\n      <td>1</td>\n      <td>1</td>\n      <td>1</td>\n      <td>1</td>\n      <td>1</td>\n      <td>1</td>\n      <td>1</td>\n    </tr>\n    <tr>\n      <th>1</th>\n      <td>6</td>\n      <td>0</td>\n      <td>9</td>\n      <td>232</td>\n      <td>5</td>\n      <td>526</td>\n      <td>490</td>\n      <td>1</td>\n      <td>1</td>\n      <td>4</td>\n      <td>...</td>\n      <td>2</td>\n      <td>1</td>\n      <td>2</td>\n      <td>1</td>\n      <td>1</td>\n      <td>1</td>\n      <td>1</td>\n      <td>1</td>\n      <td>1</td>\n      <td>1</td>\n    </tr>\n    <tr>\n      <th>2</th>\n      <td>6</td>\n      <td>0</td>\n      <td>94</td>\n      <td>228</td>\n      <td>5</td>\n      <td>517</td>\n      <td>512</td>\n      <td>1</td>\n      <td>1</td>\n      <td>4</td>\n      <td>...</td>\n      <td>2</td>\n      <td>1</td>\n      <td>2</td>\n      <td>0</td>\n      <td>1</td>\n      <td>1</td>\n      <td>1</td>\n      <td>1</td>\n      <td>1</td>\n      <td>1</td>\n    </tr>\n    <tr>\n      <th>3</th>\n      <td>6</td>\n      <td>0</td>\n      <td>284</td>\n      <td>228</td>\n      <td>5</td>\n      <td>516</td>\n      <td>504</td>\n      <td>1</td>\n      <td>1</td>\n      <td>4</td>\n      <td>...</td>\n      <td>2</td>\n      <td>1</td>\n      <td>2</td>\n      <td>1</td>\n      <td>1</td>\n      <td>1</td>\n      <td>1</td>\n      <td>1</td>\n      <td>1</td>\n      <td>1</td>\n    </tr>\n    <tr>\n      <th>4</th>\n      <td>10</td>\n      <td>2</td>\n      <td>197</td>\n      <td>220</td>\n      <td>5</td>\n      <td>128</td>\n      <td>583</td>\n      <td>1</td>\n      <td>5</td>\n      <td>1</td>\n      <td>...</td>\n      <td>2</td>\n      <td>1</td>\n      <td>1</td>\n      <td>1</td>\n      <td>1</td>\n      <td>1</td>\n      <td>1</td>\n      <td>1</td>\n      <td>1</td>\n      <td>1</td>\n    </tr>\n    <tr>\n      <th>...</th>\n      <td>...</td>\n      <td>...</td>\n      <td>...</td>\n      <td>...</td>\n      <td>...</td>\n      <td>...</td>\n      <td>...</td>\n      <td>...</td>\n      <td>...</td>\n      <td>...</td>\n      <td>...</td>\n      <td>...</td>\n      <td>...</td>\n      <td>...</td>\n      <td>...</td>\n      <td>...</td>\n      <td>...</td>\n      <td>...</td>\n      <td>...</td>\n      <td>...</td>\n      <td>...</td>\n    </tr>\n    <tr>\n      <th>1063</th>\n      <td>12</td>\n      <td>18</td>\n      <td>204</td>\n      <td>42</td>\n      <td>5</td>\n      <td>739</td>\n      <td>701</td>\n      <td>1</td>\n      <td>2</td>\n      <td>1</td>\n      <td>...</td>\n      <td>1</td>\n      <td>1</td>\n      <td>1</td>\n      <td>1</td>\n      <td>1</td>\n      <td>1</td>\n      <td>1</td>\n      <td>1</td>\n      <td>1</td>\n      <td>1</td>\n    </tr>\n    <tr>\n      <th>1064</th>\n      <td>12</td>\n      <td>18</td>\n      <td>204</td>\n      <td>42</td>\n      <td>5</td>\n      <td>729</td>\n      <td>706</td>\n      <td>1</td>\n      <td>1</td>\n      <td>4</td>\n      <td>...</td>\n      <td>2</td>\n      <td>1</td>\n      <td>1</td>\n      <td>1</td>\n      <td>1</td>\n      <td>1</td>\n      <td>1</td>\n      <td>1</td>\n      <td>1</td>\n      <td>1</td>\n    </tr>\n    <tr>\n      <th>1065</th>\n      <td>12</td>\n      <td>18</td>\n      <td>45</td>\n      <td>41</td>\n      <td>5</td>\n      <td>721</td>\n      <td>811</td>\n      <td>1</td>\n      <td>2</td>\n      <td>1</td>\n      <td>...</td>\n      <td>1</td>\n      <td>1</td>\n      <td>1</td>\n      <td>1</td>\n      <td>1</td>\n      <td>1</td>\n      <td>1</td>\n      <td>1</td>\n      <td>1</td>\n      <td>1</td>\n    </tr>\n    <tr>\n      <th>1066</th>\n      <td>12</td>\n      <td>18</td>\n      <td>134</td>\n      <td>137</td>\n      <td>5</td>\n      <td>696</td>\n      <td>713</td>\n      <td>1</td>\n      <td>5</td>\n      <td>2</td>\n      <td>...</td>\n      <td>2</td>\n      <td>1</td>\n      <td>2</td>\n      <td>1</td>\n      <td>1</td>\n      <td>1</td>\n      <td>1</td>\n      <td>1</td>\n      <td>1</td>\n      <td>1</td>\n    </tr>\n    <tr>\n      <th>1067</th>\n      <td>12</td>\n      <td>18</td>\n      <td>134</td>\n      <td>137</td>\n      <td>5</td>\n      <td>671</td>\n      <td>742</td>\n      <td>1</td>\n      <td>5</td>\n      <td>4</td>\n      <td>...</td>\n      <td>2</td>\n      <td>1</td>\n      <td>2</td>\n      <td>1</td>\n      <td>1</td>\n      <td>1</td>\n      <td>1</td>\n      <td>1</td>\n      <td>1</td>\n      <td>1</td>\n    </tr>\n  </tbody>\n</table>\n<p>1068 rows × 39 columns</p>\n</div>"
     },
     "execution_count": 127,
     "metadata": {},
     "output_type": "execute_result"
    }
   ],
   "source": [
    "dfCalidadSubterranea = dfCalidadSubterranea.apply(LabelEncoder().fit_transform)\n",
    "dfCalidadSubterranea"
   ],
   "metadata": {
    "collapsed": false
   }
  },
  {
   "cell_type": "markdown",
   "source": [
    "Selecciona tus variables independientes X y dependiente Y (semáforo)"
   ],
   "metadata": {
    "collapsed": false
   }
  },
  {
   "cell_type": "code",
   "execution_count": 128,
   "outputs": [
    {
     "data": {
      "text/plain": "(1068, 39)"
     },
     "execution_count": 128,
     "metadata": {},
     "output_type": "execute_result"
    }
   ],
   "source": [
    "#Asignación de variables de entrada y salida\n",
    "features = ['ORGANISMO_DE_CUENCA', 'ESTADO', 'MUNICIPIO', 'ACUIFERO', 'SUBTIPO','LONGITUD', 'LATITUD', 'CALIDAD_ALC', 'CALIDAD_CONDUC',\n",
    "       'CALIDAD_SDT_ra', 'CALIDAD_SDT_salin', 'CALIDAD_FLUO', 'CALIDAD_DUR','CALIDAD_COLI_FEC', 'CALIDAD_N_NO3', 'CALIDAD_AS', 'CALIDAD_CD',\n",
    "       'CALIDAD_CR', 'CALIDAD_HG', 'CALIDAD_PB', 'CALIDAD_MN', 'CALIDAD_FE', 'CONTAMINANTES', 'CUMPLE_CON_ALC', 'CUMPLE_CON_COND',\n",
    "       'CUMPLE_CON_SDT_ra', 'CUMPLE_CON_SDT_salin', 'CUMPLE_CON_FLUO','CUMPLE_CON_DUR', 'CUMPLE_CON_CF', 'CUMPLE_CON_NO3', 'CUMPLE_CON_AS',\n",
    "       'CUMPLE_CON_CD', 'CUMPLE_CON_CR', 'CUMPLE_CON_HG', 'CUMPLE_CON_PB','CUMPLE_CON_MN', 'CUMPLE_CON_FE']\n",
    "X=dfCalidadSubterranea.loc[:,features]\n",
    "Y= dfCalidadSubterranea.loc[:,['SEMAFORO']]\n",
    "dfCalidadSubterranea.shape"
   ],
   "metadata": {
    "collapsed": false
   }
  },
  {
   "cell_type": "markdown",
   "source": [
    "Cambia a label encoding el semáforo, ej, de [\"clase 1\", \"clase 2\", \"clase 3\"] a [ 1,2,3]"
   ],
   "metadata": {
    "collapsed": false
   }
  },
  {
   "cell_type": "code",
   "execution_count": 129,
   "outputs": [
    {
     "data": {
      "text/plain": "      SEMAFORO\n0            2\n1            2\n2            1\n3            2\n4            1\n...        ...\n1063         1\n1064         1\n1065         1\n1066         2\n1067         2\n\n[1068 rows x 1 columns]",
      "text/html": "<div>\n<style scoped>\n    .dataframe tbody tr th:only-of-type {\n        vertical-align: middle;\n    }\n\n    .dataframe tbody tr th {\n        vertical-align: top;\n    }\n\n    .dataframe thead th {\n        text-align: right;\n    }\n</style>\n<table border=\"1\" class=\"dataframe\">\n  <thead>\n    <tr style=\"text-align: right;\">\n      <th></th>\n      <th>SEMAFORO</th>\n    </tr>\n  </thead>\n  <tbody>\n    <tr>\n      <th>0</th>\n      <td>2</td>\n    </tr>\n    <tr>\n      <th>1</th>\n      <td>2</td>\n    </tr>\n    <tr>\n      <th>2</th>\n      <td>1</td>\n    </tr>\n    <tr>\n      <th>3</th>\n      <td>2</td>\n    </tr>\n    <tr>\n      <th>4</th>\n      <td>1</td>\n    </tr>\n    <tr>\n      <th>...</th>\n      <td>...</td>\n    </tr>\n    <tr>\n      <th>1063</th>\n      <td>1</td>\n    </tr>\n    <tr>\n      <th>1064</th>\n      <td>1</td>\n    </tr>\n    <tr>\n      <th>1065</th>\n      <td>1</td>\n    </tr>\n    <tr>\n      <th>1066</th>\n      <td>2</td>\n    </tr>\n    <tr>\n      <th>1067</th>\n      <td>2</td>\n    </tr>\n  </tbody>\n</table>\n<p>1068 rows × 1 columns</p>\n</div>"
     },
     "execution_count": 129,
     "metadata": {},
     "output_type": "execute_result"
    }
   ],
   "source": [
    "Y"
   ],
   "metadata": {
    "collapsed": false
   }
  },
  {
   "cell_type": "code",
   "execution_count": 130,
   "outputs": [],
   "source": [
    "#Particiòn de datos de entrenamiento y validación. 100 datos de prueba representa el 15%\n",
    "Xtrain, Xtest, Ytrain, Ytest = train_test_split(X, Y, train_size=0.80, random_state=0)"
   ],
   "metadata": {
    "collapsed": false
   }
  },
  {
   "cell_type": "code",
   "execution_count": 131,
   "outputs": [
    {
     "name": "stdout",
     "output_type": "stream",
     "text": [
      "(214, 38)\n",
      "(854, 38)\n"
     ]
    }
   ],
   "source": [
    "#Verificación del tamaño de conjuntos de entrenamiento y prueba\n",
    "print(Xtest.shape)\n",
    "print(Xtrain.shape)"
   ],
   "metadata": {
    "collapsed": false
   }
  },
  {
   "cell_type": "code",
   "execution_count": 132,
   "outputs": [
    {
     "data": {
      "text/plain": "       ORGANISMO_DE_CUENCA       ESTADO    MUNICIPIO     ACUIFERO  \\\ncount          1068.000000  1068.000000  1068.000000  1068.000000   \nmean              5.942884    16.394195   218.425094   144.603933   \nstd               3.701556     9.975464   122.255709    74.606330   \nmin               0.000000     0.000000     0.000000     0.000000   \n25%               2.000000     9.000000   124.750000    88.750000   \n50%               6.000000    15.000000   211.500000   153.000000   \n75%              10.000000    25.000000   313.000000   206.000000   \nmax              12.000000    31.000000   451.000000   272.000000   \n\n           SUBTIPO     LONGITUD      LATITUD  CALIDAD_ALC  CALIDAD_CONDUC  \\\ncount  1068.000000  1068.000000  1068.000000  1068.000000     1068.000000   \nmean      4.946629   532.775281   532.640449     1.654494        3.012172   \nstd       0.435059   307.716206   308.240275     1.181515        1.875417   \nmin       0.000000     0.000000     0.000000     0.000000        0.000000   \n25%       5.000000   266.750000   265.750000     1.000000        1.000000   \n50%       5.000000   532.500000   532.500000     1.000000        3.000000   \n75%       5.000000   799.250000   799.250000     2.000000        5.000000   \nmax       7.000000  1065.000000  1066.000000     4.000000        5.000000   \n\n       CALIDAD_SDT_ra  ...  CUMPLE_CON_DUR  CUMPLE_CON_CF  CUMPLE_CON_NO3  \\\ncount     1068.000000  ...     1068.000000    1068.000000     1068.000000   \nmean         2.844569  ...        1.786517       0.942884        1.921348   \nstd          1.184957  ...        0.412238       0.232173        0.272778   \nmin          0.000000  ...        0.000000       0.000000        0.000000   \n25%          2.000000  ...        2.000000       1.000000        2.000000   \n50%          3.000000  ...        2.000000       1.000000        2.000000   \n75%          4.000000  ...        2.000000       1.000000        2.000000   \nmax          5.000000  ...        2.000000       1.000000        2.000000   \n\n       CUMPLE_CON_AS  CUMPLE_CON_CD  CUMPLE_CON_CR  CUMPLE_CON_HG  \\\ncount    1068.000000    1068.000000    1068.000000    1068.000000   \nmean        0.881086       0.998127       0.985955       0.999064   \nstd         0.323839       0.043254       0.117731       0.030600   \nmin         0.000000       0.000000       0.000000       0.000000   \n25%         1.000000       1.000000       1.000000       1.000000   \n50%         1.000000       1.000000       1.000000       1.000000   \n75%         1.000000       1.000000       1.000000       1.000000   \nmax         1.000000       1.000000       1.000000       1.000000   \n\n       CUMPLE_CON_PB  CUMPLE_CON_MN  CUMPLE_CON_FE  \ncount    1068.000000    1068.000000    1068.000000  \nmean        0.988764       0.919476       0.872659  \nstd         0.105452       0.272231       0.333511  \nmin         0.000000       0.000000       0.000000  \n25%         1.000000       1.000000       1.000000  \n50%         1.000000       1.000000       1.000000  \n75%         1.000000       1.000000       1.000000  \nmax         1.000000       1.000000       1.000000  \n\n[8 rows x 38 columns]",
      "text/html": "<div>\n<style scoped>\n    .dataframe tbody tr th:only-of-type {\n        vertical-align: middle;\n    }\n\n    .dataframe tbody tr th {\n        vertical-align: top;\n    }\n\n    .dataframe thead th {\n        text-align: right;\n    }\n</style>\n<table border=\"1\" class=\"dataframe\">\n  <thead>\n    <tr style=\"text-align: right;\">\n      <th></th>\n      <th>ORGANISMO_DE_CUENCA</th>\n      <th>ESTADO</th>\n      <th>MUNICIPIO</th>\n      <th>ACUIFERO</th>\n      <th>SUBTIPO</th>\n      <th>LONGITUD</th>\n      <th>LATITUD</th>\n      <th>CALIDAD_ALC</th>\n      <th>CALIDAD_CONDUC</th>\n      <th>CALIDAD_SDT_ra</th>\n      <th>...</th>\n      <th>CUMPLE_CON_DUR</th>\n      <th>CUMPLE_CON_CF</th>\n      <th>CUMPLE_CON_NO3</th>\n      <th>CUMPLE_CON_AS</th>\n      <th>CUMPLE_CON_CD</th>\n      <th>CUMPLE_CON_CR</th>\n      <th>CUMPLE_CON_HG</th>\n      <th>CUMPLE_CON_PB</th>\n      <th>CUMPLE_CON_MN</th>\n      <th>CUMPLE_CON_FE</th>\n    </tr>\n  </thead>\n  <tbody>\n    <tr>\n      <th>count</th>\n      <td>1068.000000</td>\n      <td>1068.000000</td>\n      <td>1068.000000</td>\n      <td>1068.000000</td>\n      <td>1068.000000</td>\n      <td>1068.000000</td>\n      <td>1068.000000</td>\n      <td>1068.000000</td>\n      <td>1068.000000</td>\n      <td>1068.000000</td>\n      <td>...</td>\n      <td>1068.000000</td>\n      <td>1068.000000</td>\n      <td>1068.000000</td>\n      <td>1068.000000</td>\n      <td>1068.000000</td>\n      <td>1068.000000</td>\n      <td>1068.000000</td>\n      <td>1068.000000</td>\n      <td>1068.000000</td>\n      <td>1068.000000</td>\n    </tr>\n    <tr>\n      <th>mean</th>\n      <td>5.942884</td>\n      <td>16.394195</td>\n      <td>218.425094</td>\n      <td>144.603933</td>\n      <td>4.946629</td>\n      <td>532.775281</td>\n      <td>532.640449</td>\n      <td>1.654494</td>\n      <td>3.012172</td>\n      <td>2.844569</td>\n      <td>...</td>\n      <td>1.786517</td>\n      <td>0.942884</td>\n      <td>1.921348</td>\n      <td>0.881086</td>\n      <td>0.998127</td>\n      <td>0.985955</td>\n      <td>0.999064</td>\n      <td>0.988764</td>\n      <td>0.919476</td>\n      <td>0.872659</td>\n    </tr>\n    <tr>\n      <th>std</th>\n      <td>3.701556</td>\n      <td>9.975464</td>\n      <td>122.255709</td>\n      <td>74.606330</td>\n      <td>0.435059</td>\n      <td>307.716206</td>\n      <td>308.240275</td>\n      <td>1.181515</td>\n      <td>1.875417</td>\n      <td>1.184957</td>\n      <td>...</td>\n      <td>0.412238</td>\n      <td>0.232173</td>\n      <td>0.272778</td>\n      <td>0.323839</td>\n      <td>0.043254</td>\n      <td>0.117731</td>\n      <td>0.030600</td>\n      <td>0.105452</td>\n      <td>0.272231</td>\n      <td>0.333511</td>\n    </tr>\n    <tr>\n      <th>min</th>\n      <td>0.000000</td>\n      <td>0.000000</td>\n      <td>0.000000</td>\n      <td>0.000000</td>\n      <td>0.000000</td>\n      <td>0.000000</td>\n      <td>0.000000</td>\n      <td>0.000000</td>\n      <td>0.000000</td>\n      <td>0.000000</td>\n      <td>...</td>\n      <td>0.000000</td>\n      <td>0.000000</td>\n      <td>0.000000</td>\n      <td>0.000000</td>\n      <td>0.000000</td>\n      <td>0.000000</td>\n      <td>0.000000</td>\n      <td>0.000000</td>\n      <td>0.000000</td>\n      <td>0.000000</td>\n    </tr>\n    <tr>\n      <th>25%</th>\n      <td>2.000000</td>\n      <td>9.000000</td>\n      <td>124.750000</td>\n      <td>88.750000</td>\n      <td>5.000000</td>\n      <td>266.750000</td>\n      <td>265.750000</td>\n      <td>1.000000</td>\n      <td>1.000000</td>\n      <td>2.000000</td>\n      <td>...</td>\n      <td>2.000000</td>\n      <td>1.000000</td>\n      <td>2.000000</td>\n      <td>1.000000</td>\n      <td>1.000000</td>\n      <td>1.000000</td>\n      <td>1.000000</td>\n      <td>1.000000</td>\n      <td>1.000000</td>\n      <td>1.000000</td>\n    </tr>\n    <tr>\n      <th>50%</th>\n      <td>6.000000</td>\n      <td>15.000000</td>\n      <td>211.500000</td>\n      <td>153.000000</td>\n      <td>5.000000</td>\n      <td>532.500000</td>\n      <td>532.500000</td>\n      <td>1.000000</td>\n      <td>3.000000</td>\n      <td>3.000000</td>\n      <td>...</td>\n      <td>2.000000</td>\n      <td>1.000000</td>\n      <td>2.000000</td>\n      <td>1.000000</td>\n      <td>1.000000</td>\n      <td>1.000000</td>\n      <td>1.000000</td>\n      <td>1.000000</td>\n      <td>1.000000</td>\n      <td>1.000000</td>\n    </tr>\n    <tr>\n      <th>75%</th>\n      <td>10.000000</td>\n      <td>25.000000</td>\n      <td>313.000000</td>\n      <td>206.000000</td>\n      <td>5.000000</td>\n      <td>799.250000</td>\n      <td>799.250000</td>\n      <td>2.000000</td>\n      <td>5.000000</td>\n      <td>4.000000</td>\n      <td>...</td>\n      <td>2.000000</td>\n      <td>1.000000</td>\n      <td>2.000000</td>\n      <td>1.000000</td>\n      <td>1.000000</td>\n      <td>1.000000</td>\n      <td>1.000000</td>\n      <td>1.000000</td>\n      <td>1.000000</td>\n      <td>1.000000</td>\n    </tr>\n    <tr>\n      <th>max</th>\n      <td>12.000000</td>\n      <td>31.000000</td>\n      <td>451.000000</td>\n      <td>272.000000</td>\n      <td>7.000000</td>\n      <td>1065.000000</td>\n      <td>1066.000000</td>\n      <td>4.000000</td>\n      <td>5.000000</td>\n      <td>5.000000</td>\n      <td>...</td>\n      <td>2.000000</td>\n      <td>1.000000</td>\n      <td>2.000000</td>\n      <td>1.000000</td>\n      <td>1.000000</td>\n      <td>1.000000</td>\n      <td>1.000000</td>\n      <td>1.000000</td>\n      <td>1.000000</td>\n      <td>1.000000</td>\n    </tr>\n  </tbody>\n</table>\n<p>8 rows × 38 columns</p>\n</div>"
     },
     "execution_count": 132,
     "metadata": {},
     "output_type": "execute_result"
    }
   ],
   "source": [
    "X.describe()"
   ],
   "metadata": {
    "collapsed": false
   }
  },
  {
   "cell_type": "code",
   "execution_count": 133,
   "outputs": [
    {
     "data": {
      "text/plain": "          SEMAFORO\ncount  1068.000000\nmean      1.175094\nstd       0.779456\nmin       0.000000\n25%       1.000000\n50%       1.000000\n75%       2.000000\nmax       2.000000",
      "text/html": "<div>\n<style scoped>\n    .dataframe tbody tr th:only-of-type {\n        vertical-align: middle;\n    }\n\n    .dataframe tbody tr th {\n        vertical-align: top;\n    }\n\n    .dataframe thead th {\n        text-align: right;\n    }\n</style>\n<table border=\"1\" class=\"dataframe\">\n  <thead>\n    <tr style=\"text-align: right;\">\n      <th></th>\n      <th>SEMAFORO</th>\n    </tr>\n  </thead>\n  <tbody>\n    <tr>\n      <th>count</th>\n      <td>1068.000000</td>\n    </tr>\n    <tr>\n      <th>mean</th>\n      <td>1.175094</td>\n    </tr>\n    <tr>\n      <th>std</th>\n      <td>0.779456</td>\n    </tr>\n    <tr>\n      <th>min</th>\n      <td>0.000000</td>\n    </tr>\n    <tr>\n      <th>25%</th>\n      <td>1.000000</td>\n    </tr>\n    <tr>\n      <th>50%</th>\n      <td>1.000000</td>\n    </tr>\n    <tr>\n      <th>75%</th>\n      <td>2.000000</td>\n    </tr>\n    <tr>\n      <th>max</th>\n      <td>2.000000</td>\n    </tr>\n  </tbody>\n</table>\n</div>"
     },
     "execution_count": 133,
     "metadata": {},
     "output_type": "execute_result"
    }
   ],
   "source": [
    "#Estan desbalanceadas las clases.\n",
    "\n",
    "Y.describe()"
   ],
   "metadata": {
    "collapsed": false
   }
  },
  {
   "cell_type": "code",
   "execution_count": 134,
   "outputs": [],
   "source": [
    "#Modelo Dummy\n",
    "modelo_Dummy = DummyClassifier (strategy=\"stratified\")\n",
    "#Pipeline con modelo Dummy\n",
    "pipeline_salida = Pipeline(steps=[('modelo_D',modelo_Dummy)])\n",
    "#Preparación de salida con el pipeline de transformación considerando modelo Dummy\n",
    "salida_preparada = TransformedTargetRegressor ( regressor = pipeline_salida)"
   ],
   "metadata": {
    "collapsed": false
   }
  },
  {
   "cell_type": "code",
   "execution_count": 135,
   "outputs": [],
   "source": [
    "\n",
    "#Se obtienen los conjuntos Dummy\n",
    "XtrainDummy, XtestDummy, YtrainDummy, YtestDummy = train_test_split(Xtrain, Ytrain, train_size=0.80)"
   ],
   "metadata": {
    "collapsed": false
   }
  },
  {
   "cell_type": "code",
   "execution_count": 136,
   "outputs": [
    {
     "name": "stdout",
     "output_type": "stream",
     "text": [
      "\n",
      "-----------Resultados Dummy -- Datos de Entrenamiento---------\n",
      "\n",
      "\t\t  accuracy\t\tf1-score   \t\tprecision  \t\trecall\n",
      "\t\t 0.3  \t\t0.3   \t\t0.3  \t\t0.3 %\n",
      "\n",
      "-----------Resultados Dummy -- Datos de Prueba---------\n",
      "\n",
      "\t\t  accuracy\t\tf1-score   \t\tprecision  \t\trecall\n",
      " \t\t 0.4  \t\t0.4   \t\t0.4   \t\t0.4 %\n"
     ]
    }
   ],
   "source": [
    "#Preparación variables de entrada con los imputadores\n",
    "pipeline_In = Pipeline(steps=[('modelo',modelo_Dummy)])\n",
    "#Preparación variables de salida con la transformación logarítimica.\n",
    "pipeline_Out= TransformedTargetRegressor(regressor=pipeline_In)\n",
    "\n",
    "#Predicción de datos con variables de entrenamiento y de prueba del conjunto Dummy\n",
    "pipeline_Out.fit(XtrainDummy, YtrainDummy)\n",
    "Yhat_testDummy = pipeline_Out.predict(XtestDummy)\n",
    "Yhat_trainDummy= pipeline_Out.predict(XtrainDummy)\n",
    "#Impresión de los resultados de Entrenamiento Dummy\n",
    "\n",
    "\n",
    "print('\\n-----------Resultados Dummy -- Datos de Entrenamiento---------')\n",
    "names = ['accuracy','f1-score', 'precision', 'recall']\n",
    "print(\"\\n\\t\\t  %s\\t\\t%s   \\t\\t%s  \\t\\t%s\" % (names[0],names[1],names[2],names[3]))\n",
    "print(\"\\t\\t %.1f  \\t\\t%.1f   \\t\\t%.1f  \\t\\t%.1f\" % (\n",
    "                                            accuracy_score(YtrainDummy, Yhat_trainDummy),\n",
    "                                            f1_score(YtrainDummy, Yhat_trainDummy, average='weighted'),\n",
    "                                            precision_score(YtrainDummy, Yhat_trainDummy, average='weighted'),\n",
    "                                            recall_score(YtrainDummy, Yhat_trainDummy, average='weighted')\n",
    "                                             ),\"%\")\n",
    "#Impresión de los resultados de Validación Dummy\n",
    "print('\\n-----------Resultados Dummy -- Datos de Prueba---------')\n",
    "print(\"\\n\\t\\t  %s\\t\\t%s   \\t\\t%s  \\t\\t%s\" % (names[0],names[1],names[2], names[3]))\n",
    "print(\" \\t\\t %.1f  \\t\\t%.1f   \\t\\t%.1f   \\t\\t%.1f\" % (\n",
    "                                             accuracy_score(YtestDummy, Yhat_testDummy),\n",
    "                                             f1_score(YtestDummy, Yhat_testDummy,average='weighted'),\n",
    "                                             precision_score(YtestDummy, Yhat_testDummy,average='weighted'),\n",
    "                                             recall_score(YtestDummy, Yhat_testDummy,average='weighted')\n",
    "                                             ),\"%\")"
   ],
   "metadata": {
    "collapsed": false
   }
  },
  {
   "cell_type": "code",
   "execution_count": 149,
   "outputs": [
    {
     "name": "stdout",
     "output_type": "stream",
     "text": [
      "0.9886824905400756\n",
      "{'criterion': 'entropy', 'max_depth': 9, 'min_samples_leaf': 6, 'min_samples_split': 8}\n"
     ]
    }
   ],
   "source": [
    "mi_kfoldCV = RepeatedKFold(n_splits=5, n_repeats=3)\n",
    "\n",
    "modelo = DecisionTreeClassifier()\n",
    "\n",
    "parameters = {\n",
    "'criterion' : ['gini', 'entropy'],\n",
    "'max_depth':range(1,10),\n",
    "'min_samples_split':range(2,10),\n",
    "'min_samples_leaf':range(1,10),\n",
    "}\n",
    "\n",
    "#Definimos el grid search.\n",
    "gridFinal=  GridSearchCV (estimator =  modelo,\n",
    "                        param_grid = parameters,\n",
    "                        cv = mi_kfoldCV)\n",
    "\n",
    "#El fit es como feed, para alimentar con los datos de entrada y de salida\n",
    "\n",
    "gridFinal.fit(Xtrain, Ytrain)\n",
    "#Tanto best score, como best params, son metodos especfificos predefinidos de las librerias\n",
    "print(gridFinal.best_score_)\n",
    "print(gridFinal.best_params_)"
   ],
   "metadata": {
    "collapsed": false
   }
  },
  {
   "cell_type": "code",
   "execution_count": 151,
   "outputs": [
    {
     "data": {
      "text/plain": "array([0.        , 0.        , 0.00385938, 0.        , 0.        ,\n       0.        , 0.0203273 , 0.        , 0.        , 0.0041455 ,\n       0.        , 0.11488982, 0.        , 0.        , 0.        ,\n       0.        , 0.        , 0.03506168, 0.        , 0.        ,\n       0.        , 0.        , 0.64095395, 0.        , 0.        ,\n       0.        , 0.        , 0.        , 0.        , 0.05575105,\n       0.05968328, 0.06532804, 0.        , 0.        , 0.        ,\n       0.        , 0.        , 0.        ])"
     },
     "execution_count": 151,
     "metadata": {},
     "output_type": "execute_result"
    }
   ],
   "source": [
    "arbolOptimo = gridFinal.best_estimator_\n",
    "arbolOptimo.feature_importances_"
   ],
   "metadata": {
    "collapsed": false
   }
  },
  {
   "cell_type": "code",
   "execution_count": 139,
   "outputs": [
    {
     "data": {
      "text/plain": "Pipeline(steps=[('model',\n                 DecisionTreeClassifier(criterion='entropy', max_depth=7,\n                                        min_samples_leaf=5,\n                                        min_samples_split=9))])",
      "text/html": "<style>#sk-container-id-6 {color: black;background-color: white;}#sk-container-id-6 pre{padding: 0;}#sk-container-id-6 div.sk-toggleable {background-color: white;}#sk-container-id-6 label.sk-toggleable__label {cursor: pointer;display: block;width: 100%;margin-bottom: 0;padding: 0.3em;box-sizing: border-box;text-align: center;}#sk-container-id-6 label.sk-toggleable__label-arrow:before {content: \"▸\";float: left;margin-right: 0.25em;color: #696969;}#sk-container-id-6 label.sk-toggleable__label-arrow:hover:before {color: black;}#sk-container-id-6 div.sk-estimator:hover label.sk-toggleable__label-arrow:before {color: black;}#sk-container-id-6 div.sk-toggleable__content {max-height: 0;max-width: 0;overflow: hidden;text-align: left;background-color: #f0f8ff;}#sk-container-id-6 div.sk-toggleable__content pre {margin: 0.2em;color: black;border-radius: 0.25em;background-color: #f0f8ff;}#sk-container-id-6 input.sk-toggleable__control:checked~div.sk-toggleable__content {max-height: 200px;max-width: 100%;overflow: auto;}#sk-container-id-6 input.sk-toggleable__control:checked~label.sk-toggleable__label-arrow:before {content: \"▾\";}#sk-container-id-6 div.sk-estimator input.sk-toggleable__control:checked~label.sk-toggleable__label {background-color: #d4ebff;}#sk-container-id-6 div.sk-label input.sk-toggleable__control:checked~label.sk-toggleable__label {background-color: #d4ebff;}#sk-container-id-6 input.sk-hidden--visually {border: 0;clip: rect(1px 1px 1px 1px);clip: rect(1px, 1px, 1px, 1px);height: 1px;margin: -1px;overflow: hidden;padding: 0;position: absolute;width: 1px;}#sk-container-id-6 div.sk-estimator {font-family: monospace;background-color: #f0f8ff;border: 1px dotted black;border-radius: 0.25em;box-sizing: border-box;margin-bottom: 0.5em;}#sk-container-id-6 div.sk-estimator:hover {background-color: #d4ebff;}#sk-container-id-6 div.sk-parallel-item::after {content: \"\";width: 100%;border-bottom: 1px solid gray;flex-grow: 1;}#sk-container-id-6 div.sk-label:hover label.sk-toggleable__label {background-color: #d4ebff;}#sk-container-id-6 div.sk-serial::before {content: \"\";position: absolute;border-left: 1px solid gray;box-sizing: border-box;top: 0;bottom: 0;left: 50%;z-index: 0;}#sk-container-id-6 div.sk-serial {display: flex;flex-direction: column;align-items: center;background-color: white;padding-right: 0.2em;padding-left: 0.2em;position: relative;}#sk-container-id-6 div.sk-item {position: relative;z-index: 1;}#sk-container-id-6 div.sk-parallel {display: flex;align-items: stretch;justify-content: center;background-color: white;position: relative;}#sk-container-id-6 div.sk-item::before, #sk-container-id-6 div.sk-parallel-item::before {content: \"\";position: absolute;border-left: 1px solid gray;box-sizing: border-box;top: 0;bottom: 0;left: 50%;z-index: -1;}#sk-container-id-6 div.sk-parallel-item {display: flex;flex-direction: column;z-index: 1;position: relative;background-color: white;}#sk-container-id-6 div.sk-parallel-item:first-child::after {align-self: flex-end;width: 50%;}#sk-container-id-6 div.sk-parallel-item:last-child::after {align-self: flex-start;width: 50%;}#sk-container-id-6 div.sk-parallel-item:only-child::after {width: 0;}#sk-container-id-6 div.sk-dashed-wrapped {border: 1px dashed gray;margin: 0 0.4em 0.5em 0.4em;box-sizing: border-box;padding-bottom: 0.4em;background-color: white;}#sk-container-id-6 div.sk-label label {font-family: monospace;font-weight: bold;display: inline-block;line-height: 1.2em;}#sk-container-id-6 div.sk-label-container {text-align: center;}#sk-container-id-6 div.sk-container {/* jupyter's `normalize.less` sets `[hidden] { display: none; }` but bootstrap.min.css set `[hidden] { display: none !important; }` so we also need the `!important` here to be able to override the default hidden behavior on the sphinx rendered scikit-learn.org. See: https://github.com/scikit-learn/scikit-learn/issues/21755 */display: inline-block !important;position: relative;}#sk-container-id-6 div.sk-text-repr-fallback {display: none;}</style><div id=\"sk-container-id-6\" class=\"sk-top-container\"><div class=\"sk-text-repr-fallback\"><pre>Pipeline(steps=[(&#x27;model&#x27;,\n                 DecisionTreeClassifier(criterion=&#x27;entropy&#x27;, max_depth=7,\n                                        min_samples_leaf=5,\n                                        min_samples_split=9))])</pre><b>In a Jupyter environment, please rerun this cell to show the HTML representation or trust the notebook. <br />On GitHub, the HTML representation is unable to render, please try loading this page with nbviewer.org.</b></div><div class=\"sk-container\" hidden><div class=\"sk-item sk-dashed-wrapped\"><div class=\"sk-label-container\"><div class=\"sk-label sk-toggleable\"><input class=\"sk-toggleable__control sk-hidden--visually\" id=\"sk-estimator-id-11\" type=\"checkbox\" ><label for=\"sk-estimator-id-11\" class=\"sk-toggleable__label sk-toggleable__label-arrow\">Pipeline</label><div class=\"sk-toggleable__content\"><pre>Pipeline(steps=[(&#x27;model&#x27;,\n                 DecisionTreeClassifier(criterion=&#x27;entropy&#x27;, max_depth=7,\n                                        min_samples_leaf=5,\n                                        min_samples_split=9))])</pre></div></div></div><div class=\"sk-serial\"><div class=\"sk-item\"><div class=\"sk-estimator sk-toggleable\"><input class=\"sk-toggleable__control sk-hidden--visually\" id=\"sk-estimator-id-12\" type=\"checkbox\" ><label for=\"sk-estimator-id-12\" class=\"sk-toggleable__label sk-toggleable__label-arrow\">DecisionTreeClassifier</label><div class=\"sk-toggleable__content\"><pre>DecisionTreeClassifier(criterion=&#x27;entropy&#x27;, max_depth=7, min_samples_leaf=5,\n                       min_samples_split=9)</pre></div></div></div></div></div></div></div>"
     },
     "execution_count": 139,
     "metadata": {},
     "output_type": "execute_result"
    }
   ],
   "source": [
    "resultados = arbolOptimo.fit(Xtest, Ytest)\n",
    "resultados"
   ],
   "metadata": {
    "collapsed": false
   }
  },
  {
   "cell_type": "code",
   "execution_count": 140,
   "outputs": [],
   "source": [
    "#Función RMSE\n",
    "def mi_RMSE (y_observada,y_prediccion):\n",
    "  sustract= (y_observada-y_prediccion)*(y_observada-y_prediccion)\n",
    "  RMS=np.sqrt(np.mean(sustract))\n",
    "  return RMS\n",
    "#Funcion MAE\n",
    "def mi_MAE (y_observada,y_prediccion):\n",
    " ABS=np.abs(y_observada-y_prediccion)\n",
    " MAE=np.mean(ABS)\n",
    " return np.mean(MAE)\n",
    "#Funcion MAPE\n",
    "def mi_MAPE (y_observada,y_prediccion):\n",
    " av_abs=np.abs((y_observada-y_prediccion)/(y_observada))\n",
    " MAPE=(np.mean(av_abs))*100\n",
    " return MAPE"
   ],
   "metadata": {
    "collapsed": false
   }
  },
  {
   "cell_type": "code",
   "execution_count": 146,
   "outputs": [
    {
     "name": "stdout",
     "output_type": "stream",
     "text": [
      "{'importances_mean': array([-2.83372365e-02,  0.00000000e+00,  0.00000000e+00, -3.39578454e-03,\n",
      "        0.00000000e+00, -2.82201405e-02,  0.00000000e+00,  0.00000000e+00,\n",
      "        0.00000000e+00,  0.00000000e+00,  0.00000000e+00, -1.50819672e-01,\n",
      "        3.51288056e-04,  0.00000000e+00,  0.00000000e+00,  0.00000000e+00,\n",
      "        0.00000000e+00,  0.00000000e+00,  0.00000000e+00,  0.00000000e+00,\n",
      "        0.00000000e+00,  0.00000000e+00, -4.99297424e-01,  0.00000000e+00,\n",
      "        0.00000000e+00,  0.00000000e+00,  0.00000000e+00,  0.00000000e+00,\n",
      "        0.00000000e+00,  0.00000000e+00,  0.00000000e+00,  0.00000000e+00,\n",
      "        0.00000000e+00,  0.00000000e+00,  0.00000000e+00,  0.00000000e+00,\n",
      "        0.00000000e+00,  0.00000000e+00]), 'importances_std': array([0.00601194, 0.        , 0.        , 0.00184774, 0.        ,\n",
      "       0.004697  , 0.        , 0.        , 0.        , 0.        ,\n",
      "       0.        , 0.00963893, 0.00216232, 0.        , 0.        ,\n",
      "       0.        , 0.        , 0.        , 0.        , 0.        ,\n",
      "       0.        , 0.        , 0.00986946, 0.        , 0.        ,\n",
      "       0.        , 0.        , 0.        , 0.        , 0.        ,\n",
      "       0.        , 0.        , 0.        , 0.        , 0.        ,\n",
      "       0.        , 0.        , 0.        ]), 'importances': array([[-0.029274  , -0.03044496, -0.01873536, -0.02810304, -0.02224824,\n",
      "        -0.02810304, -0.03161593, -0.03981265, -0.02107728, -0.03395785],\n",
      "       [ 0.        ,  0.        ,  0.        ,  0.        ,  0.        ,\n",
      "         0.        ,  0.        ,  0.        ,  0.        ,  0.        ],\n",
      "       [ 0.        ,  0.        ,  0.        ,  0.        ,  0.        ,\n",
      "         0.        ,  0.        ,  0.        ,  0.        ,  0.        ],\n",
      "       [-0.00468384, -0.0058548 , -0.00468384, -0.00234192, -0.00351288,\n",
      "        -0.0058548 , -0.00234192, -0.00351288, -0.00117096,  0.        ],\n",
      "       [ 0.        ,  0.        ,  0.        ,  0.        ,  0.        ,\n",
      "         0.        ,  0.        ,  0.        ,  0.        ,  0.        ],\n",
      "       [-0.03044496, -0.02810304, -0.029274  , -0.03981265, -0.0234192 ,\n",
      "        -0.0234192 , -0.03044496, -0.02576112, -0.0234192 , -0.02810304],\n",
      "       [ 0.        ,  0.        ,  0.        ,  0.        ,  0.        ,\n",
      "         0.        ,  0.        ,  0.        ,  0.        ,  0.        ],\n",
      "       [ 0.        ,  0.        ,  0.        ,  0.        ,  0.        ,\n",
      "         0.        ,  0.        ,  0.        ,  0.        ,  0.        ],\n",
      "       [ 0.        ,  0.        ,  0.        ,  0.        ,  0.        ,\n",
      "         0.        ,  0.        ,  0.        ,  0.        ,  0.        ],\n",
      "       [ 0.        ,  0.        ,  0.        ,  0.        ,  0.        ,\n",
      "         0.        ,  0.        ,  0.        ,  0.        ,  0.        ],\n",
      "       [ 0.        ,  0.        ,  0.        ,  0.        ,  0.        ,\n",
      "         0.        ,  0.        ,  0.        ,  0.        ,  0.        ],\n",
      "       [-0.13583138, -0.1323185 , -0.15456674, -0.14637002, -0.15222482,\n",
      "        -0.15456674, -0.15807963, -0.16627635, -0.15456674, -0.15339578],\n",
      "       [ 0.00117096,  0.00117096, -0.00117096,  0.        ,  0.00468384,\n",
      "        -0.00351288, -0.00117096, -0.00117096,  0.00117096,  0.00234192],\n",
      "       [ 0.        ,  0.        ,  0.        ,  0.        ,  0.        ,\n",
      "         0.        ,  0.        ,  0.        ,  0.        ,  0.        ],\n",
      "       [ 0.        ,  0.        ,  0.        ,  0.        ,  0.        ,\n",
      "         0.        ,  0.        ,  0.        ,  0.        ,  0.        ],\n",
      "       [ 0.        ,  0.        ,  0.        ,  0.        ,  0.        ,\n",
      "         0.        ,  0.        ,  0.        ,  0.        ,  0.        ],\n",
      "       [ 0.        ,  0.        ,  0.        ,  0.        ,  0.        ,\n",
      "         0.        ,  0.        ,  0.        ,  0.        ,  0.        ],\n",
      "       [ 0.        ,  0.        ,  0.        ,  0.        ,  0.        ,\n",
      "         0.        ,  0.        ,  0.        ,  0.        ,  0.        ],\n",
      "       [ 0.        ,  0.        ,  0.        ,  0.        ,  0.        ,\n",
      "         0.        ,  0.        ,  0.        ,  0.        ,  0.        ],\n",
      "       [ 0.        ,  0.        ,  0.        ,  0.        ,  0.        ,\n",
      "         0.        ,  0.        ,  0.        ,  0.        ,  0.        ],\n",
      "       [ 0.        ,  0.        ,  0.        ,  0.        ,  0.        ,\n",
      "         0.        ,  0.        ,  0.        ,  0.        ,  0.        ],\n",
      "       [ 0.        ,  0.        ,  0.        ,  0.        ,  0.        ,\n",
      "         0.        ,  0.        ,  0.        ,  0.        ,  0.        ],\n",
      "       [-0.51405152, -0.49648712, -0.5058548 , -0.50351288, -0.4882904 ,\n",
      "        -0.51053864, -0.48477752, -0.49063232, -0.50819672, -0.49063232],\n",
      "       [ 0.        ,  0.        ,  0.        ,  0.        ,  0.        ,\n",
      "         0.        ,  0.        ,  0.        ,  0.        ,  0.        ],\n",
      "       [ 0.        ,  0.        ,  0.        ,  0.        ,  0.        ,\n",
      "         0.        ,  0.        ,  0.        ,  0.        ,  0.        ],\n",
      "       [ 0.        ,  0.        ,  0.        ,  0.        ,  0.        ,\n",
      "         0.        ,  0.        ,  0.        ,  0.        ,  0.        ],\n",
      "       [ 0.        ,  0.        ,  0.        ,  0.        ,  0.        ,\n",
      "         0.        ,  0.        ,  0.        ,  0.        ,  0.        ],\n",
      "       [ 0.        ,  0.        ,  0.        ,  0.        ,  0.        ,\n",
      "         0.        ,  0.        ,  0.        ,  0.        ,  0.        ],\n",
      "       [ 0.        ,  0.        ,  0.        ,  0.        ,  0.        ,\n",
      "         0.        ,  0.        ,  0.        ,  0.        ,  0.        ],\n",
      "       [ 0.        ,  0.        ,  0.        ,  0.        ,  0.        ,\n",
      "         0.        ,  0.        ,  0.        ,  0.        ,  0.        ],\n",
      "       [ 0.        ,  0.        ,  0.        ,  0.        ,  0.        ,\n",
      "         0.        ,  0.        ,  0.        ,  0.        ,  0.        ],\n",
      "       [ 0.        ,  0.        ,  0.        ,  0.        ,  0.        ,\n",
      "         0.        ,  0.        ,  0.        ,  0.        ,  0.        ],\n",
      "       [ 0.        ,  0.        ,  0.        ,  0.        ,  0.        ,\n",
      "         0.        ,  0.        ,  0.        ,  0.        ,  0.        ],\n",
      "       [ 0.        ,  0.        ,  0.        ,  0.        ,  0.        ,\n",
      "         0.        ,  0.        ,  0.        ,  0.        ,  0.        ],\n",
      "       [ 0.        ,  0.        ,  0.        ,  0.        ,  0.        ,\n",
      "         0.        ,  0.        ,  0.        ,  0.        ,  0.        ],\n",
      "       [ 0.        ,  0.        ,  0.        ,  0.        ,  0.        ,\n",
      "         0.        ,  0.        ,  0.        ,  0.        ,  0.        ],\n",
      "       [ 0.        ,  0.        ,  0.        ,  0.        ,  0.        ,\n",
      "         0.        ,  0.        ,  0.        ,  0.        ,  0.        ],\n",
      "       [ 0.        ,  0.        ,  0.        ,  0.        ,  0.        ,\n",
      "         0.        ,  0.        ,  0.        ,  0.        ,  0.        ]])}\n",
      "Feature: 0, Score: -0.02834\n",
      "Feature: 1, Score: 0.00000\n",
      "Feature: 2, Score: 0.00000\n",
      "Feature: 3, Score: -0.00340\n",
      "Feature: 4, Score: 0.00000\n",
      "Feature: 5, Score: -0.02822\n",
      "Feature: 6, Score: 0.00000\n",
      "Feature: 7, Score: 0.00000\n",
      "Feature: 8, Score: 0.00000\n",
      "Feature: 9, Score: 0.00000\n",
      "Feature: 10, Score: 0.00000\n",
      "Feature: 11, Score: -0.15082\n",
      "Feature: 12, Score: 0.00035\n",
      "Feature: 13, Score: 0.00000\n",
      "Feature: 14, Score: 0.00000\n",
      "Feature: 15, Score: 0.00000\n",
      "Feature: 16, Score: 0.00000\n",
      "Feature: 17, Score: 0.00000\n",
      "Feature: 18, Score: 0.00000\n",
      "Feature: 19, Score: 0.00000\n",
      "Feature: 20, Score: 0.00000\n",
      "Feature: 21, Score: 0.00000\n",
      "Feature: 22, Score: -0.49930\n",
      "Feature: 23, Score: 0.00000\n",
      "Feature: 24, Score: 0.00000\n",
      "Feature: 25, Score: 0.00000\n",
      "Feature: 26, Score: 0.00000\n",
      "Feature: 27, Score: 0.00000\n",
      "Feature: 28, Score: 0.00000\n",
      "Feature: 29, Score: 0.00000\n",
      "Feature: 30, Score: 0.00000\n",
      "Feature: 31, Score: 0.00000\n",
      "Feature: 32, Score: 0.00000\n",
      "Feature: 33, Score: 0.00000\n",
      "Feature: 34, Score: 0.00000\n",
      "Feature: 35, Score: 0.00000\n",
      "Feature: 36, Score: 0.00000\n",
      "Feature: 37, Score: 0.00000\n"
     ]
    },
    {
     "data": {
      "text/plain": "<Figure size 640x480 with 1 Axes>",
      "image/png": "[encoded data removed]"
     },
     "metadata": {},
     "output_type": "display_data"
    }
   ],
   "source": [
    "importance = permutation_importance(arbolOptimo, Xtrain, Ytrain.values.ravel(), n_repeats=10,scoring=make_scorer(recall_score,greater_is_better=False,average='weighted'))\n",
    "print(importance)\n",
    "for i,v in enumerate(importance['importances_mean']):\n",
    "\tprint('Feature: %0d, Score: %.5f' % (i,v))\n",
    "\n",
    "# GRAFICAMOS\n",
    "plt.bar([x for x in range(len(importance['importances_mean']))], importance['importances_mean'])\n",
    "plt.show()"
   ],
   "metadata": {
    "collapsed": false
   }
  },
  {
   "cell_type": "code",
   "execution_count": 141,
   "outputs": [],
   "source": [],
   "metadata": {
    "collapsed": false
   }
  }
 ],
 "metadata": {
  "kernelspec": {
   "display_name": "Python 3",
   "language": "python",
   "name": "python3"
  },
  "language_info": {
   "codemirror_mode": {
    "name": "ipython",
    "version": 2
   },
   "file_extension": ".py",
   "mimetype": "text/x-python",
   "name": "python",
   "nbconvert_exporter": "python",
   "pygments_lexer": "ipython2",
   "version": "2.7.6"
  }
 },
 "nbformat": 4,
 "nbformat_minor": 0
}
