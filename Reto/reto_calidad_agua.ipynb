{
 "cells": [
  {
   "cell_type": "markdown",
   "source": [
    "Semana 9 - Reto Calidad del agua\n",
    "\n",
    "Lázaro Lara Martínez. Matricula A01793198\n",
    "José Mtanous Treviño. Matricula A00169781\n",
    "\n",
    "Ciencia y Analítica de datos.\n",
    "\n",
    "Profesor Titular. Jobish Vallikavungal Devassia\n",
    "Profesor Tutor. Mtro. Mario Alberto Solano Saldaña\n",
    "\n",
    "09/Noviembre\\/2022"
   ],
   "metadata": {
    "collapsed": false
   },
   "outputs": [
    {
     "ename": "SyntaxError",
     "evalue": "leading zeros in decimal integer literals are not permitted; use an 0o prefix for octal integers (3866041208.py, line 11)",
     "output_type": "error",
     "traceback": [
      "\u001B[1;36m  Cell \u001B[1;32mIn [1], line 11\u001B[1;36m\u001B[0m\n\u001B[1;33m    09/Noviembre\\/2022\u001B[0m\n\u001B[1;37m    ^\u001B[0m\n\u001B[1;31mSyntaxError\u001B[0m\u001B[1;31m:\u001B[0m leading zeros in decimal integer literals are not permitted; use an 0o prefix for octal integers\n"
     ]
    }
   ],
   "execution_count": 1
  },
  {
   "cell_type": "code",
   "execution_count": 76,
   "outputs": [],
   "source": [
    "import pandas as pd\n",
    "import numpy as np\n",
    "import matplotlib.pyplot as plt\n",
    "import seaborn as sns\n",
    "from sklearn.pipeline import Pipeline\n",
    "from sklearn.compose import ColumnTransformer\n",
    "from sklearn.impute import SimpleImputer\n",
    "from sklearn.preprocessing import MinMaxScaler"
   ],
   "metadata": {
    "collapsed": false
   }
  },
  {
   "cell_type": "code",
   "execution_count": 23,
   "outputs": [],
   "source": [
    "# cargamos nuestro dataset y lo inspeccionamos rapídamente\n",
    "path_escalas_subterranea = '../Reto/datos/Escalas_subterranea.csv'\n",
    "path_calidad_subterranea = '../Reto/datos/Datos_de_calidad_del_agua_de_sitios_de_monitoreo_de_aguas_subterraneas_2020.csv'\n",
    "\n",
    "dfEscalasSubterranea = pd.read_csv(path_escalas_subterranea)\n",
    "dfCalidadSubterranea = pd.read_csv(path_calidad_subterranea)"
   ],
   "metadata": {
    "collapsed": false
   }
  },
  {
   "cell_type": "code",
   "execution_count": 24,
   "outputs": [
    {
     "data": {
      "text/plain": "  CALIDAD DEL AGUA PARA COLIFORMES FECALES_subterraneas  \\\n0                                          Excelente      \n1                                      Buena calidad      \n2                                          Aceptable      \n3                                        Contaminada      \n4                            Fuertemente contaminada      \n\n                                            CRITERIO  \\\n0                               COLI_FEC menor a 1.1   \n1  COLI_FEC mayor o igual de 1.1 y menor o igual ...   \n2       COLI_FEC mayor de 200 y menor o igual a 1000   \n3     COLI_FEC mayor de 1000 y menor o igual a 10000   \n4                            COLI_FEC mayor de 10000   \n\n                                         DESCRIPCION  \n0  Agua potable. Agua no contaminada o condicion ...  \n1  Aguas para uso recreativo con contacto primari...  \n2  Aguas con calidad admisible como fuente de aba...  \n3  Aguas  con contaminacion bacteriologica. Indic...  \n4  Aguas con fuerte contaminacion bacteriologica....  ",
      "text/html": "<div>\n<style scoped>\n    .dataframe tbody tr th:only-of-type {\n        vertical-align: middle;\n    }\n\n    .dataframe tbody tr th {\n        vertical-align: top;\n    }\n\n    .dataframe thead th {\n        text-align: right;\n    }\n</style>\n<table border=\"1\" class=\"dataframe\">\n  <thead>\n    <tr style=\"text-align: right;\">\n      <th></th>\n      <th>CALIDAD DEL AGUA PARA COLIFORMES FECALES_subterraneas</th>\n      <th>CRITERIO</th>\n      <th>DESCRIPCION</th>\n    </tr>\n  </thead>\n  <tbody>\n    <tr>\n      <th>0</th>\n      <td>Excelente</td>\n      <td>COLI_FEC menor a 1.1</td>\n      <td>Agua potable. Agua no contaminada o condicion ...</td>\n    </tr>\n    <tr>\n      <th>1</th>\n      <td>Buena calidad</td>\n      <td>COLI_FEC mayor o igual de 1.1 y menor o igual ...</td>\n      <td>Aguas para uso recreativo con contacto primari...</td>\n    </tr>\n    <tr>\n      <th>2</th>\n      <td>Aceptable</td>\n      <td>COLI_FEC mayor de 200 y menor o igual a 1000</td>\n      <td>Aguas con calidad admisible como fuente de aba...</td>\n    </tr>\n    <tr>\n      <th>3</th>\n      <td>Contaminada</td>\n      <td>COLI_FEC mayor de 1000 y menor o igual a 10000</td>\n      <td>Aguas  con contaminacion bacteriologica. Indic...</td>\n    </tr>\n    <tr>\n      <th>4</th>\n      <td>Fuertemente contaminada</td>\n      <td>COLI_FEC mayor de 10000</td>\n      <td>Aguas con fuerte contaminacion bacteriologica....</td>\n    </tr>\n  </tbody>\n</table>\n</div>"
     },
     "execution_count": 24,
     "metadata": {},
     "output_type": "execute_result"
    }
   ],
   "source": [
    "dfEscalasSubterranea.head()"
   ],
   "metadata": {
    "collapsed": false
   }
  },
  {
   "cell_type": "code",
   "execution_count": 25,
   "outputs": [
    {
     "data": {
      "text/plain": "       CALIDAD DEL AGUA PARA COLIFORMES FECALES_subterraneas  CRITERIO  \\\ncount                                                  66           66   \nunique                                                 47           52   \ntop                                   Potable - Excelente     CRITERIO   \nfreq                                                    8           14   \n\n        DESCRIPCION  \ncount            66  \nunique           29  \ntop     DESCRIPCION  \nfreq             14  ",
      "text/html": "<div>\n<style scoped>\n    .dataframe tbody tr th:only-of-type {\n        vertical-align: middle;\n    }\n\n    .dataframe tbody tr th {\n        vertical-align: top;\n    }\n\n    .dataframe thead th {\n        text-align: right;\n    }\n</style>\n<table border=\"1\" class=\"dataframe\">\n  <thead>\n    <tr style=\"text-align: right;\">\n      <th></th>\n      <th>CALIDAD DEL AGUA PARA COLIFORMES FECALES_subterraneas</th>\n      <th>CRITERIO</th>\n      <th>DESCRIPCION</th>\n    </tr>\n  </thead>\n  <tbody>\n    <tr>\n      <th>count</th>\n      <td>66</td>\n      <td>66</td>\n      <td>66</td>\n    </tr>\n    <tr>\n      <th>unique</th>\n      <td>47</td>\n      <td>52</td>\n      <td>29</td>\n    </tr>\n    <tr>\n      <th>top</th>\n      <td>Potable - Excelente</td>\n      <td>CRITERIO</td>\n      <td>DESCRIPCION</td>\n    </tr>\n    <tr>\n      <th>freq</th>\n      <td>8</td>\n      <td>14</td>\n      <td>14</td>\n    </tr>\n  </tbody>\n</table>\n</div>"
     },
     "execution_count": 25,
     "metadata": {},
     "output_type": "execute_result"
    }
   ],
   "source": [
    "dfEscalasSubterranea.describe()"
   ],
   "metadata": {
    "collapsed": false
   }
  },
  {
   "cell_type": "code",
   "execution_count": 26,
   "outputs": [
    {
     "data": {
      "text/plain": "       CLAVE                   SITIO           ORGANISMO_DE_CUENCA  \\\n0     DLAGU6            POZO SAN GIL       LERMA SANTIAGO PACIFICO   \n1  DLAGU6516  POZO R013 CAÑADA HONDA       LERMA SANTIAGO PACIFICO   \n2     DLAGU7              POZO COSIO       LERMA SANTIAGO PACIFICO   \n3     DLAGU9      POZO EL SALITRILLO       LERMA SANTIAGO PACIFICO   \n4   DLBAJ107      RANCHO EL TECOLOTE  PENINSULA DE BAJA CALIFORNIA   \n\n                ESTADO        MUNICIPIO                 ACUIFERO SUBTIPO  \\\n0       AGUASCALIENTES         ASIENTOS       VALLE DE CHICALOTE    POZO   \n1       AGUASCALIENTES   AGUASCALIENTES       VALLE DE CHICALOTE    POZO   \n2       AGUASCALIENTES            COSIO  VALLE DE AGUASCALIENTES    POZO   \n3       AGUASCALIENTES  RINCON DE ROMOS  VALLE DE AGUASCALIENTES    POZO   \n4  BAJA CALIFORNIA SUR           LA PAZ             TODOS SANTOS    POZO   \n\n    LONGITUD   LATITUD  PERIODO  ...  CUMPLE_CON_DUR CUMPLE_CON_CF  \\\n0 -102.02210  22.20887     2020  ...              SI            SI   \n1 -102.20075  21.99958     2020  ...              SI            SI   \n2 -102.28801  22.36685     2020  ...              SI            SI   \n3 -102.29449  22.18435     2020  ...              SI            SI   \n4 -110.24480  23.45138     2020  ...              SI            SI   \n\n   CUMPLE_CON_NO3 CUMPLE_CON_AS  CUMPLE_CON_CD CUMPLE_CON_CR CUMPLE_CON_HG  \\\n0              SI            SI             SI            SI            SI   \n1              SI            SI             SI            SI            SI   \n2              SI            NO             SI            SI            SI   \n3              SI            SI             SI            SI            SI   \n4              NO            SI             SI            SI            SI   \n\n  CUMPLE_CON_PB CUMPLE_CON_MN CUMPLE_CON_FE  \n0            SI            SI            SI  \n1            SI            SI            SI  \n2            SI            SI            SI  \n3            SI            SI            SI  \n4            SI            SI            SI  \n\n[5 rows x 57 columns]",
      "text/html": "<div>\n<style scoped>\n    .dataframe tbody tr th:only-of-type {\n        vertical-align: middle;\n    }\n\n    .dataframe tbody tr th {\n        vertical-align: top;\n    }\n\n    .dataframe thead th {\n        text-align: right;\n    }\n</style>\n<table border=\"1\" class=\"dataframe\">\n  <thead>\n    <tr style=\"text-align: right;\">\n      <th></th>\n      <th>CLAVE</th>\n      <th>SITIO</th>\n      <th>ORGANISMO_DE_CUENCA</th>\n      <th>ESTADO</th>\n      <th>MUNICIPIO</th>\n      <th>ACUIFERO</th>\n      <th>SUBTIPO</th>\n      <th>LONGITUD</th>\n      <th>LATITUD</th>\n      <th>PERIODO</th>\n      <th>...</th>\n      <th>CUMPLE_CON_DUR</th>\n      <th>CUMPLE_CON_CF</th>\n      <th>CUMPLE_CON_NO3</th>\n      <th>CUMPLE_CON_AS</th>\n      <th>CUMPLE_CON_CD</th>\n      <th>CUMPLE_CON_CR</th>\n      <th>CUMPLE_CON_HG</th>\n      <th>CUMPLE_CON_PB</th>\n      <th>CUMPLE_CON_MN</th>\n      <th>CUMPLE_CON_FE</th>\n    </tr>\n  </thead>\n  <tbody>\n    <tr>\n      <th>0</th>\n      <td>DLAGU6</td>\n      <td>POZO SAN GIL</td>\n      <td>LERMA SANTIAGO PACIFICO</td>\n      <td>AGUASCALIENTES</td>\n      <td>ASIENTOS</td>\n      <td>VALLE DE CHICALOTE</td>\n      <td>POZO</td>\n      <td>-102.02210</td>\n      <td>22.20887</td>\n      <td>2020</td>\n      <td>...</td>\n      <td>SI</td>\n      <td>SI</td>\n      <td>SI</td>\n      <td>SI</td>\n      <td>SI</td>\n      <td>SI</td>\n      <td>SI</td>\n      <td>SI</td>\n      <td>SI</td>\n      <td>SI</td>\n    </tr>\n    <tr>\n      <th>1</th>\n      <td>DLAGU6516</td>\n      <td>POZO R013 CAÑADA HONDA</td>\n      <td>LERMA SANTIAGO PACIFICO</td>\n      <td>AGUASCALIENTES</td>\n      <td>AGUASCALIENTES</td>\n      <td>VALLE DE CHICALOTE</td>\n      <td>POZO</td>\n      <td>-102.20075</td>\n      <td>21.99958</td>\n      <td>2020</td>\n      <td>...</td>\n      <td>SI</td>\n      <td>SI</td>\n      <td>SI</td>\n      <td>SI</td>\n      <td>SI</td>\n      <td>SI</td>\n      <td>SI</td>\n      <td>SI</td>\n      <td>SI</td>\n      <td>SI</td>\n    </tr>\n    <tr>\n      <th>2</th>\n      <td>DLAGU7</td>\n      <td>POZO COSIO</td>\n      <td>LERMA SANTIAGO PACIFICO</td>\n      <td>AGUASCALIENTES</td>\n      <td>COSIO</td>\n      <td>VALLE DE AGUASCALIENTES</td>\n      <td>POZO</td>\n      <td>-102.28801</td>\n      <td>22.36685</td>\n      <td>2020</td>\n      <td>...</td>\n      <td>SI</td>\n      <td>SI</td>\n      <td>SI</td>\n      <td>NO</td>\n      <td>SI</td>\n      <td>SI</td>\n      <td>SI</td>\n      <td>SI</td>\n      <td>SI</td>\n      <td>SI</td>\n    </tr>\n    <tr>\n      <th>3</th>\n      <td>DLAGU9</td>\n      <td>POZO EL SALITRILLO</td>\n      <td>LERMA SANTIAGO PACIFICO</td>\n      <td>AGUASCALIENTES</td>\n      <td>RINCON DE ROMOS</td>\n      <td>VALLE DE AGUASCALIENTES</td>\n      <td>POZO</td>\n      <td>-102.29449</td>\n      <td>22.18435</td>\n      <td>2020</td>\n      <td>...</td>\n      <td>SI</td>\n      <td>SI</td>\n      <td>SI</td>\n      <td>SI</td>\n      <td>SI</td>\n      <td>SI</td>\n      <td>SI</td>\n      <td>SI</td>\n      <td>SI</td>\n      <td>SI</td>\n    </tr>\n    <tr>\n      <th>4</th>\n      <td>DLBAJ107</td>\n      <td>RANCHO EL TECOLOTE</td>\n      <td>PENINSULA DE BAJA CALIFORNIA</td>\n      <td>BAJA CALIFORNIA SUR</td>\n      <td>LA PAZ</td>\n      <td>TODOS SANTOS</td>\n      <td>POZO</td>\n      <td>-110.24480</td>\n      <td>23.45138</td>\n      <td>2020</td>\n      <td>...</td>\n      <td>SI</td>\n      <td>SI</td>\n      <td>NO</td>\n      <td>SI</td>\n      <td>SI</td>\n      <td>SI</td>\n      <td>SI</td>\n      <td>SI</td>\n      <td>SI</td>\n      <td>SI</td>\n    </tr>\n  </tbody>\n</table>\n<p>5 rows × 57 columns</p>\n</div>"
     },
     "execution_count": 26,
     "metadata": {},
     "output_type": "execute_result"
    }
   ],
   "source": [
    "dfCalidadSubterranea.head()"
   ],
   "metadata": {
    "collapsed": false
   }
  },
  {
   "cell_type": "code",
   "execution_count": 27,
   "outputs": [
    {
     "name": "stdout",
     "output_type": "stream",
     "text": [
      "<class 'pandas.core.frame.DataFrame'>\n",
      "RangeIndex: 1068 entries, 0 to 1067\n",
      "Data columns (total 57 columns):\n",
      " #   Column                Non-Null Count  Dtype  \n",
      "---  ------                --------------  -----  \n",
      " 0   CLAVE                 1068 non-null   object \n",
      " 1   SITIO                 1068 non-null   object \n",
      " 2   ORGANISMO_DE_CUENCA   1068 non-null   object \n",
      " 3   ESTADO                1068 non-null   object \n",
      " 4   MUNICIPIO             1068 non-null   object \n",
      " 5   ACUIFERO              1068 non-null   object \n",
      " 6   SUBTIPO               1068 non-null   object \n",
      " 7   LONGITUD              1068 non-null   float64\n",
      " 8   LATITUD               1068 non-null   float64\n",
      " 9   PERIODO               1068 non-null   int64  \n",
      " 10  ALC_mg/L              1064 non-null   float64\n",
      " 11  CALIDAD_ALC           1064 non-null   object \n",
      " 12  CONDUCT_mS/cm         1062 non-null   float64\n",
      " 13  CALIDAD_CONDUC        1062 non-null   object \n",
      " 14  SDT_mg/L              0 non-null      float64\n",
      " 15  SDT_M_mg/L            1066 non-null   object \n",
      " 16  CALIDAD_SDT_ra        1066 non-null   object \n",
      " 17  CALIDAD_SDT_salin     1066 non-null   object \n",
      " 18  FLUORUROS_mg/L        1068 non-null   object \n",
      " 19  CALIDAD_FLUO          1068 non-null   object \n",
      " 20  DUR_mg/L              1067 non-null   object \n",
      " 21  CALIDAD_DUR           1067 non-null   object \n",
      " 22  COLI_FEC_NMP/100_mL   1068 non-null   object \n",
      " 23  CALIDAD_COLI_FEC      1068 non-null   object \n",
      " 24  N_NO3_mg/L            1067 non-null   object \n",
      " 25  CALIDAD_N_NO3         1067 non-null   object \n",
      " 26  AS_TOT_mg/L           1068 non-null   object \n",
      " 27  CALIDAD_AS            1068 non-null   object \n",
      " 28  CD_TOT_mg/L           1068 non-null   object \n",
      " 29  CALIDAD_CD            1068 non-null   object \n",
      " 30  CR_TOT_mg/L           1068 non-null   object \n",
      " 31  CALIDAD_CR            1068 non-null   object \n",
      " 32  HG_TOT_mg/L           1068 non-null   object \n",
      " 33  CALIDAD_HG            1068 non-null   object \n",
      " 34  PB_TOT_mg/L           1068 non-null   object \n",
      " 35  CALIDAD_PB            1068 non-null   object \n",
      " 36  MN_TOT_mg/L           1068 non-null   object \n",
      " 37  CALIDAD_MN            1068 non-null   object \n",
      " 38  FE_TOT_mg/L           1068 non-null   object \n",
      " 39  CALIDAD_FE            1068 non-null   object \n",
      " 40  SEMAFORO              1068 non-null   object \n",
      " 41  CONTAMINANTES         634 non-null    object \n",
      " 42  CUMPLE_CON_ALC        1068 non-null   object \n",
      " 43  CUMPLE_CON_COND       1068 non-null   object \n",
      " 44  CUMPLE_CON_SDT_ra     1068 non-null   object \n",
      " 45  CUMPLE_CON_SDT_salin  1068 non-null   object \n",
      " 46  CUMPLE_CON_FLUO       1068 non-null   object \n",
      " 47  CUMPLE_CON_DUR        1068 non-null   object \n",
      " 48  CUMPLE_CON_CF         1068 non-null   object \n",
      " 49  CUMPLE_CON_NO3        1068 non-null   object \n",
      " 50  CUMPLE_CON_AS         1068 non-null   object \n",
      " 51  CUMPLE_CON_CD         1068 non-null   object \n",
      " 52  CUMPLE_CON_CR         1068 non-null   object \n",
      " 53  CUMPLE_CON_HG         1068 non-null   object \n",
      " 54  CUMPLE_CON_PB         1068 non-null   object \n",
      " 55  CUMPLE_CON_MN         1068 non-null   object \n",
      " 56  CUMPLE_CON_FE         1068 non-null   object \n",
      "dtypes: float64(5), int64(1), object(51)\n",
      "memory usage: 475.7+ KB\n"
     ]
    }
   ],
   "source": [
    "dfCalidadSubterranea.info()"
   ],
   "metadata": {
    "collapsed": false
   }
  },
  {
   "cell_type": "code",
   "execution_count": 28,
   "outputs": [
    {
     "data": {
      "text/plain": "CLAVE                      0\nSITIO                      0\nORGANISMO_DE_CUENCA        0\nESTADO                     0\nMUNICIPIO                  0\nACUIFERO                   0\nSUBTIPO                    0\nLONGITUD                   0\nLATITUD                    0\nPERIODO                    0\nALC_mg/L                   4\nCALIDAD_ALC                4\nCONDUCT_mS/cm              6\nCALIDAD_CONDUC             6\nSDT_mg/L                1068\nSDT_M_mg/L                 2\nCALIDAD_SDT_ra             2\nCALIDAD_SDT_salin          2\nFLUORUROS_mg/L             0\nCALIDAD_FLUO               0\nDUR_mg/L                   1\nCALIDAD_DUR                1\nCOLI_FEC_NMP/100_mL        0\nCALIDAD_COLI_FEC           0\nN_NO3_mg/L                 1\nCALIDAD_N_NO3              1\nAS_TOT_mg/L                0\nCALIDAD_AS                 0\nCD_TOT_mg/L                0\nCALIDAD_CD                 0\nCR_TOT_mg/L                0\nCALIDAD_CR                 0\nHG_TOT_mg/L                0\nCALIDAD_HG                 0\nPB_TOT_mg/L                0\nCALIDAD_PB                 0\nMN_TOT_mg/L                0\nCALIDAD_MN                 0\nFE_TOT_mg/L                0\nCALIDAD_FE                 0\nSEMAFORO                   0\nCONTAMINANTES            434\nCUMPLE_CON_ALC             0\nCUMPLE_CON_COND            0\nCUMPLE_CON_SDT_ra          0\nCUMPLE_CON_SDT_salin       0\nCUMPLE_CON_FLUO            0\nCUMPLE_CON_DUR             0\nCUMPLE_CON_CF              0\nCUMPLE_CON_NO3             0\nCUMPLE_CON_AS              0\nCUMPLE_CON_CD              0\nCUMPLE_CON_CR              0\nCUMPLE_CON_HG              0\nCUMPLE_CON_PB              0\nCUMPLE_CON_MN              0\nCUMPLE_CON_FE              0\ndtype: int64"
     },
     "execution_count": 28,
     "metadata": {},
     "output_type": "execute_result"
    }
   ],
   "source": [
    "dfCalidadSubterranea.isna().sum()"
   ],
   "metadata": {
    "collapsed": false
   }
  },
  {
   "cell_type": "markdown",
   "source": [
    "Borrar columna Clave por que no es necesaria, SDT_mg/L  todo esta vacío.\n"
   ],
   "metadata": {
    "collapsed": false
   }
  },
  {
   "cell_type": "code",
   "execution_count": 49,
   "outputs": [],
   "source": [
    "#del dfCalidadSubterranea['SDT_mg/L']\n",
    "#del dfCalidadSubterranea['CLAVE']"
   ],
   "metadata": {
    "collapsed": false
   }
  },
  {
   "cell_type": "code",
   "execution_count": 37,
   "outputs": [
    {
     "data": {
      "text/plain": "SITIO                     0\nORGANISMO_DE_CUENCA       0\nESTADO                    0\nMUNICIPIO                 0\nACUIFERO                  0\nSUBTIPO                   0\nLONGITUD                  0\nLATITUD                   0\nPERIODO                   0\nALC_mg/L                  4\nCALIDAD_ALC               4\nCONDUCT_mS/cm             6\nCALIDAD_CONDUC            6\nSDT_M_mg/L                2\nCALIDAD_SDT_ra            2\nCALIDAD_SDT_salin         2\nFLUORUROS_mg/L            0\nCALIDAD_FLUO              0\nDUR_mg/L                  1\nCALIDAD_DUR               1\nCOLI_FEC_NMP/100_mL       0\nCALIDAD_COLI_FEC          0\nN_NO3_mg/L                1\nCALIDAD_N_NO3             1\nAS_TOT_mg/L               0\nCALIDAD_AS                0\nCD_TOT_mg/L               0\nCALIDAD_CD                0\nCR_TOT_mg/L               0\nCALIDAD_CR                0\nHG_TOT_mg/L               0\nCALIDAD_HG                0\nPB_TOT_mg/L               0\nCALIDAD_PB                0\nMN_TOT_mg/L               0\nCALIDAD_MN                0\nFE_TOT_mg/L               0\nCALIDAD_FE                0\nSEMAFORO                  0\nCONTAMINANTES           434\nCUMPLE_CON_ALC            0\nCUMPLE_CON_COND           0\nCUMPLE_CON_SDT_ra         0\nCUMPLE_CON_SDT_salin      0\nCUMPLE_CON_FLUO           0\nCUMPLE_CON_DUR            0\nCUMPLE_CON_CF             0\nCUMPLE_CON_NO3            0\nCUMPLE_CON_AS             0\nCUMPLE_CON_CD             0\nCUMPLE_CON_CR             0\nCUMPLE_CON_HG             0\nCUMPLE_CON_PB             0\nCUMPLE_CON_MN             0\nCUMPLE_CON_FE             0\ndtype: int64"
     },
     "execution_count": 37,
     "metadata": {},
     "output_type": "execute_result"
    }
   ],
   "source": [
    "dfCalidadSubterranea.isna().sum()"
   ],
   "metadata": {
    "collapsed": false
   }
  },
  {
   "cell_type": "code",
   "execution_count": 50,
   "outputs": [],
   "source": [
    "###De las columnas que contienen nulos borrar registros con mas de 2 nulos,\n",
    "\n",
    "col_lst = ['CONTAMINANTES', 'CALIDAD_N_NO3','N_NO3_mg/L','CALIDAD_DUR', 'DUR_mg/L', 'SDT_M_mg/L','CALIDAD_SDT_ra','CALIDAD_SDT_salin', 'ALC_mg/L','CALIDAD_ALC','CONDUCT_mS/cm','CALIDAD_CONDUC']\n",
    "\n",
    "dfCalidadSubterranea.dropna(axis = 0, subset = col_lst, thresh=2, inplace = True)"
   ],
   "metadata": {
    "collapsed": false
   }
  },
  {
   "cell_type": "code",
   "execution_count": 47,
   "outputs": [
    {
     "data": {
      "text/plain": "SITIO                     0\nORGANISMO_DE_CUENCA       0\nESTADO                    0\nMUNICIPIO                 0\nACUIFERO                  0\nSUBTIPO                   0\nLONGITUD                  0\nLATITUD                   0\nPERIODO                   0\nALC_mg/L                  4\nCALIDAD_ALC               4\nCONDUCT_mS/cm             6\nCALIDAD_CONDUC            6\nSDT_M_mg/L                2\nCALIDAD_SDT_ra            2\nCALIDAD_SDT_salin         2\nFLUORUROS_mg/L            0\nCALIDAD_FLUO              0\nDUR_mg/L                  1\nCALIDAD_DUR               1\nCOLI_FEC_NMP/100_mL       0\nCALIDAD_COLI_FEC          0\nN_NO3_mg/L                1\nCALIDAD_N_NO3             1\nAS_TOT_mg/L               0\nCALIDAD_AS                0\nCD_TOT_mg/L               0\nCALIDAD_CD                0\nCR_TOT_mg/L               0\nCALIDAD_CR                0\nHG_TOT_mg/L               0\nCALIDAD_HG                0\nPB_TOT_mg/L               0\nCALIDAD_PB                0\nMN_TOT_mg/L               0\nCALIDAD_MN                0\nFE_TOT_mg/L               0\nCALIDAD_FE                0\nSEMAFORO                  0\nCONTAMINANTES           434\nCUMPLE_CON_ALC            0\nCUMPLE_CON_COND           0\nCUMPLE_CON_SDT_ra         0\nCUMPLE_CON_SDT_salin      0\nCUMPLE_CON_FLUO           0\nCUMPLE_CON_DUR            0\nCUMPLE_CON_CF             0\nCUMPLE_CON_NO3            0\nCUMPLE_CON_AS             0\nCUMPLE_CON_CD             0\nCUMPLE_CON_CR             0\nCUMPLE_CON_HG             0\nCUMPLE_CON_PB             0\nCUMPLE_CON_MN             0\nCUMPLE_CON_FE             0\ndtype: int64"
     },
     "execution_count": 47,
     "metadata": {},
     "output_type": "execute_result"
    }
   ],
   "source": [
    "dfCalidadSubterranea.isna().sum()"
   ],
   "metadata": {
    "collapsed": false
   }
  },
  {
   "cell_type": "markdown",
   "source": [
    "### Ningún registro tiene más de 2 campos nulos."
   ],
   "metadata": {
    "collapsed": false
   }
  },
  {
   "cell_type": "code",
   "execution_count": 66,
   "outputs": [],
   "source": [
    "### Categoricas y numéricas con nulos para imputar.\n",
    "\n",
    "categoricas = ['CALIDAD_SDT_ra','CALIDAD_SDT_salin','CALIDAD_N_NO3','CALIDAD_DUR','CALIDAD_ALC','CALIDAD_CONDUC']\n",
    "\n",
    "numericas = [ 'N_NO3_mg/L', 'DUR_mg/L', 'SDT_M_mg/L', 'ALC_mg/L','CONDUCT_mS/cm',]\n",
    "\n",
    "####'CONTAMINANTES'?????\n"
   ],
   "metadata": {
    "collapsed": false
   }
  },
  {
   "cell_type": "code",
   "execution_count": 96,
   "outputs": [
    {
     "data": {
      "text/plain": "0        213.732\n1       185.0514\n2        120.719\n3        199.879\n4       476.9872\n          ...   \n1063     752.096\n1064         273\n1065    660.2126\n1066     406.368\n1067     362.544\nName: DUR_mg/L, Length: 1068, dtype: object"
     },
     "execution_count": 96,
     "metadata": {},
     "output_type": "execute_result"
    }
   ],
   "source": [
    "dfCalidadSubterranea['DUR_mg/L']"
   ],
   "metadata": {
    "collapsed": false
   }
  },
  {
   "cell_type": "code",
   "execution_count": 106,
   "outputs": [],
   "source": [
    "###convertimos datos no numericos.\n",
    "\n",
    "dfCalidadSubterranea.loc[ dfCalidadSubterranea['N_NO3_mg/L'] == '<0.02', 'N_NO3_mg/L'] = 0.02\n",
    "\n",
    "dfCalidadSubterranea.loc[ dfCalidadSubterranea['DUR_mg/L'] == '<20', 'DUR_mg/L'] = 20\n",
    "\n",
    "dfCalidadSubterranea.loc[ dfCalidadSubterranea['SDT_M_mg/L'] == '<25', 'SDT_M_mg/L'] = 25\n",
    "\n",
    "dfCalidadSubterranea['N_NO3_mg/L'] = dfCalidadSubterranea['N_NO3_mg/L'].astype(float)\n",
    "\n",
    "dfCalidadSubterranea['DUR_mg/L'] = dfCalidadSubterranea['DUR_mg/L'].astype(float)\n",
    "\n",
    "dfCalidadSubterranea['SDT_M_mg/L'] = dfCalidadSubterranea['SDT_M_mg/L'].astype(float)"
   ],
   "metadata": {
    "collapsed": false
   }
  },
  {
   "cell_type": "code",
   "execution_count": 108,
   "outputs": [
    {
     "name": "stdout",
     "output_type": "stream",
     "text": [
      "<class 'pandas.core.frame.DataFrame'>\n",
      "RangeIndex: 1068 entries, 0 to 1067\n",
      "Data columns (total 56 columns):\n",
      " #   Column                Non-Null Count  Dtype  \n",
      "---  ------                --------------  -----  \n",
      " 0   SITIO                 1068 non-null   object \n",
      " 1   ORGANISMO_DE_CUENCA   1068 non-null   object \n",
      " 2   ESTADO                1068 non-null   object \n",
      " 3   MUNICIPIO             1068 non-null   object \n",
      " 4   ACUIFERO              1068 non-null   object \n",
      " 5   SUBTIPO               1068 non-null   object \n",
      " 6   LONGITUD              1068 non-null   float64\n",
      " 7   LATITUD               1068 non-null   float64\n",
      " 8   PERIODO               1068 non-null   int64  \n",
      " 9   ALC_mg/L              1064 non-null   float64\n",
      " 10  CALIDAD_ALC           1064 non-null   object \n",
      " 11  CONDUCT_mS/cm         1062 non-null   float64\n",
      " 12  CALIDAD_CONDUC        1062 non-null   object \n",
      " 13  SDT_M_mg/L            1066 non-null   float64\n",
      " 14  CALIDAD_SDT_ra        1066 non-null   object \n",
      " 15  CALIDAD_SDT_salin     1066 non-null   object \n",
      " 16  FLUORUROS_mg/L        1068 non-null   object \n",
      " 17  CALIDAD_FLUO          1068 non-null   object \n",
      " 18  DUR_mg/L              1067 non-null   float64\n",
      " 19  CALIDAD_DUR           1067 non-null   object \n",
      " 20  COLI_FEC_NMP/100_mL   1068 non-null   object \n",
      " 21  CALIDAD_COLI_FEC      1068 non-null   object \n",
      " 22  N_NO3_mg/L            1067 non-null   float64\n",
      " 23  CALIDAD_N_NO3         1067 non-null   object \n",
      " 24  AS_TOT_mg/L           1068 non-null   object \n",
      " 25  CALIDAD_AS            1068 non-null   object \n",
      " 26  CD_TOT_mg/L           1068 non-null   object \n",
      " 27  CALIDAD_CD            1068 non-null   object \n",
      " 28  CR_TOT_mg/L           1068 non-null   object \n",
      " 29  CALIDAD_CR            1068 non-null   object \n",
      " 30  HG_TOT_mg/L           1068 non-null   object \n",
      " 31  CALIDAD_HG            1068 non-null   object \n",
      " 32  PB_TOT_mg/L           1068 non-null   object \n",
      " 33  CALIDAD_PB            1068 non-null   object \n",
      " 34  MN_TOT_mg/L           1068 non-null   object \n",
      " 35  CALIDAD_MN            1068 non-null   object \n",
      " 36  FE_TOT_mg/L           1068 non-null   object \n",
      " 37  CALIDAD_FE            1068 non-null   object \n",
      " 38  SEMAFORO              1068 non-null   object \n",
      " 39  CONTAMINANTES         634 non-null    object \n",
      " 40  CUMPLE_CON_ALC        1068 non-null   object \n",
      " 41  CUMPLE_CON_COND       1068 non-null   object \n",
      " 42  CUMPLE_CON_SDT_ra     1068 non-null   object \n",
      " 43  CUMPLE_CON_SDT_salin  1068 non-null   object \n",
      " 44  CUMPLE_CON_FLUO       1068 non-null   object \n",
      " 45  CUMPLE_CON_DUR        1068 non-null   object \n",
      " 46  CUMPLE_CON_CF         1068 non-null   object \n",
      " 47  CUMPLE_CON_NO3        1068 non-null   object \n",
      " 48  CUMPLE_CON_AS         1068 non-null   object \n",
      " 49  CUMPLE_CON_CD         1068 non-null   object \n",
      " 50  CUMPLE_CON_CR         1068 non-null   object \n",
      " 51  CUMPLE_CON_HG         1068 non-null   object \n",
      " 52  CUMPLE_CON_PB         1068 non-null   object \n",
      " 53  CUMPLE_CON_MN         1068 non-null   object \n",
      " 54  CUMPLE_CON_FE         1068 non-null   object \n",
      " 55                        1 non-null      float64\n",
      "dtypes: float64(8), int64(1), object(47)\n",
      "memory usage: 467.4+ KB\n"
     ]
    }
   ],
   "source": [
    "dfCalidadSubterranea.info()"
   ],
   "metadata": {
    "collapsed": false
   }
  },
  {
   "cell_type": "markdown",
   "source": [],
   "metadata": {
    "collapsed": false
   }
  },
  {
   "cell_type": "code",
   "execution_count": 127,
   "outputs": [
    {
     "name": "stdout",
     "output_type": "stream",
     "text": [
      "0    Excelente para riego\n",
      "Name: CALIDAD_SDT_ra, dtype: object\n",
      "0    Potable - Dulce\n",
      "Name: CALIDAD_SDT_salin, dtype: object\n",
      "0    Potable - Excelente\n",
      "Name: CALIDAD_N_NO3, dtype: object\n",
      "0    Potable - Dura\n",
      "Name: CALIDAD_DUR, dtype: object\n",
      "0    Alta\n",
      "Name: CALIDAD_ALC, dtype: object\n",
      "0    Permisible para riego\n",
      "Name: CALIDAD_CONDUC, dtype: object\n"
     ]
    }
   ],
   "source": [
    "for key in numericas:\n",
    "    mean_value=dfCalidadSubterranea[key].mean()\n",
    "    dfCalidadSubterranea[key].fillna(value=mean_value, inplace=True)\n",
    "\n",
    "for key in categoricas:\n",
    "    mode=dfCalidadSubterranea[key].mode()\n",
    "    print(mode)\n",
    "    dfCalidadSubterranea[key].fillna(value=mode , inplace=True)"
   ],
   "metadata": {
    "collapsed": false
   }
  },
  {
   "cell_type": "code",
   "execution_count": 121,
   "outputs": [
    {
     "data": {
      "text/plain": "0       Permisible para riego\n1            Buena para riego\n2            Buena para riego\n3            Buena para riego\n4       Permisible para riego\n                ...          \n1063        Dudosa para riego\n1064         Buena para riego\n1065        Dudosa para riego\n1066    Permisible para riego\n1067    Permisible para riego\nName: CALIDAD_CONDUC, Length: 1068, dtype: object"
     },
     "execution_count": 121,
     "metadata": {},
     "output_type": "execute_result"
    }
   ],
   "source": [
    "dfCalidadSubterranea['CALIDAD_CONDUC']"
   ],
   "metadata": {
    "collapsed": false
   }
  },
  {
   "cell_type": "code",
   "execution_count": 72,
   "outputs": [],
   "source": [
    "### de una vez normalizamos?\n",
    "\n",
    "numeric_transformer = Pipeline(steps=[('imputer', SimpleImputer(strategy='median')), ('scaler', MinMaxScaler())])\n",
    "categorical_transformer = Pipeline(\n",
    "    steps=[('imputer', SimpleImputer(strategy='most_frequent'))])\n",
    "\n",
    "transformer = ColumnTransformer(\n",
    "    transformers=[\n",
    "        ('Numericas', numeric_transformer, numericas),\n",
    "        ('Categoricas', categorical_transformer, categoricas)\n",
    "    ],\n",
    "    remainder='passthrough'\n",
    ")\n"
   ],
   "metadata": {
    "collapsed": false
   }
  },
  {
   "cell_type": "code",
   "execution_count": 117,
   "outputs": [
    {
     "data": {
      "text/plain": "SITIO                      0\nORGANISMO_DE_CUENCA        0\nESTADO                     0\nMUNICIPIO                  0\nACUIFERO                   0\nSUBTIPO                    0\nLONGITUD                   0\nLATITUD                    0\nPERIODO                    0\nALC_mg/L                   0\nCALIDAD_ALC                4\nCONDUCT_mS/cm              0\nCALIDAD_CONDUC             6\nSDT_M_mg/L                 0\nCALIDAD_SDT_ra             2\nCALIDAD_SDT_salin          2\nFLUORUROS_mg/L             0\nCALIDAD_FLUO               0\nDUR_mg/L                   0\nCALIDAD_DUR                1\nCOLI_FEC_NMP/100_mL        0\nCALIDAD_COLI_FEC           0\nN_NO3_mg/L                 0\nCALIDAD_N_NO3              1\nAS_TOT_mg/L                0\nCALIDAD_AS                 0\nCD_TOT_mg/L                0\nCALIDAD_CD                 0\nCR_TOT_mg/L                0\nCALIDAD_CR                 0\nHG_TOT_mg/L                0\nCALIDAD_HG                 0\nPB_TOT_mg/L                0\nCALIDAD_PB                 0\nMN_TOT_mg/L                0\nCALIDAD_MN                 0\nFE_TOT_mg/L                0\nCALIDAD_FE                 0\nSEMAFORO                   0\nCONTAMINANTES            434\nCUMPLE_CON_ALC             0\nCUMPLE_CON_COND            0\nCUMPLE_CON_SDT_ra          0\nCUMPLE_CON_SDT_salin       0\nCUMPLE_CON_FLUO            0\nCUMPLE_CON_DUR             0\nCUMPLE_CON_CF              0\nCUMPLE_CON_NO3             0\nCUMPLE_CON_AS              0\nCUMPLE_CON_CD              0\nCUMPLE_CON_CR              0\nCUMPLE_CON_HG              0\nCUMPLE_CON_PB              0\nCUMPLE_CON_MN              0\nCUMPLE_CON_FE              0\n                        1067\ndtype: int64"
     },
     "execution_count": 117,
     "metadata": {},
     "output_type": "execute_result"
    }
   ],
   "source": [
    "###Revisamos de nuevo cuantos nulos hay\n",
    "\n",
    "dfCalidadSubterranea.isna().sum()"
   ],
   "metadata": {
    "collapsed": false
   }
  },
  {
   "cell_type": "code",
   "execution_count": null,
   "outputs": [],
   "source": [],
   "metadata": {
    "collapsed": false
   }
  }
 ],
 "metadata": {
  "kernelspec": {
   "display_name": "Python 3",
   "language": "python",
   "name": "python3"
  },
  "language_info": {
   "codemirror_mode": {
    "name": "ipython",
    "version": 2
   },
   "file_extension": ".py",
   "mimetype": "text/x-python",
   "name": "python",
   "nbconvert_exporter": "python",
   "pygments_lexer": "ipython2",
   "version": "2.7.6"
  }
 },
 "nbformat": 4,
 "nbformat_minor": 0
}
