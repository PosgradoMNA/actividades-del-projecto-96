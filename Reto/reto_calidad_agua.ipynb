{
 "cells": [
  {
   "cell_type": "markdown",
   "metadata": {
    "collapsed": false
   },
   "source": [
    "Semana 9 - Reto Calidad del agua\n",
    "\n",
    "Lázaro Lara Martínez. Matricula A01793198\n",
    "José Mtanous Treviño. Matricula A00169781\n",
    "\n",
    "Ciencia y Analítica de datos.\n",
    "\n",
    "Profesor Titular. Jobish Vallikavungal Devassia\n",
    "Profesor Tutor. Mtro. Mario Alberto Solano Saldaña\n",
    "\n",
    "09/Noviembre\\/2022"
   ]
  },
  {
   "cell_type": "code",
   "execution_count": 123,
   "metadata": {
    "collapsed": false
   },
   "outputs": [],
   "source": [
    "import pandas as pd\n",
    "import numpy as np\n",
    "import matplotlib.pyplot as plt\n",
    "import seaborn as sns\n",
    "from sklearn.pipeline import Pipeline\n",
    "from sklearn.compose import ColumnTransformer\n",
    "from sklearn.impute import SimpleImputer\n",
    "from sklearn.preprocessing import MinMaxScaler"
   ]
  },
  {
   "cell_type": "code",
   "execution_count": 124,
   "metadata": {
    "collapsed": false
   },
   "outputs": [],
   "source": [
    "# cargamos nuestro dataset y lo inspeccionamos rapídamente\n",
    "path_escalas_subterranea = '../Reto/datos/Escalas_subterranea.csv'\n",
    "path_calidad_subterranea = '../Reto/datos/Datos_de_calidad_del_agua_de_sitios_de_monitoreo_de_aguas_subterraneas_2020.csv'\n",
    "\n",
    "dfEscalasSubterranea = pd.read_csv(path_escalas_subterranea)\n",
    "dfCalidadSubterranea = pd.read_csv(path_calidad_subterranea)"
   ]
  },
  {
   "cell_type": "code",
   "execution_count": 125,
   "metadata": {
    "collapsed": false
   },
   "outputs": [
    {
     "data": {
      "text/html": [
       "<div>\n",
       "<style scoped>\n",
       "    .dataframe tbody tr th:only-of-type {\n",
       "        vertical-align: middle;\n",
       "    }\n",
       "\n",
       "    .dataframe tbody tr th {\n",
       "        vertical-align: top;\n",
       "    }\n",
       "\n",
       "    .dataframe thead th {\n",
       "        text-align: right;\n",
       "    }\n",
       "</style>\n",
       "<table border=\"1\" class=\"dataframe\">\n",
       "  <thead>\n",
       "    <tr style=\"text-align: right;\">\n",
       "      <th></th>\n",
       "      <th>CALIDAD DEL AGUA PARA COLIFORMES FECALES_subterraneas</th>\n",
       "      <th>CRITERIO</th>\n",
       "      <th>DESCRIPCION</th>\n",
       "    </tr>\n",
       "  </thead>\n",
       "  <tbody>\n",
       "    <tr>\n",
       "      <th>0</th>\n",
       "      <td>Excelente</td>\n",
       "      <td>COLI_FEC menor a 1.1</td>\n",
       "      <td>Agua potable. Agua no contaminada o condicion ...</td>\n",
       "    </tr>\n",
       "    <tr>\n",
       "      <th>1</th>\n",
       "      <td>Buena calidad</td>\n",
       "      <td>COLI_FEC mayor o igual de 1.1 y menor o igual ...</td>\n",
       "      <td>Aguas para uso recreativo con contacto primari...</td>\n",
       "    </tr>\n",
       "    <tr>\n",
       "      <th>2</th>\n",
       "      <td>Aceptable</td>\n",
       "      <td>COLI_FEC mayor de 200 y menor o igual a 1000</td>\n",
       "      <td>Aguas con calidad admisible como fuente de aba...</td>\n",
       "    </tr>\n",
       "    <tr>\n",
       "      <th>3</th>\n",
       "      <td>Contaminada</td>\n",
       "      <td>COLI_FEC mayor de 1000 y menor o igual a 10000</td>\n",
       "      <td>Aguas  con contaminacion bacteriologica. Indic...</td>\n",
       "    </tr>\n",
       "    <tr>\n",
       "      <th>4</th>\n",
       "      <td>Fuertemente contaminada</td>\n",
       "      <td>COLI_FEC mayor de 10000</td>\n",
       "      <td>Aguas con fuerte contaminacion bacteriologica....</td>\n",
       "    </tr>\n",
       "  </tbody>\n",
       "</table>\n",
       "</div>"
      ],
      "text/plain": [
       "  CALIDAD DEL AGUA PARA COLIFORMES FECALES_subterraneas  \\\n",
       "0                                          Excelente      \n",
       "1                                      Buena calidad      \n",
       "2                                          Aceptable      \n",
       "3                                        Contaminada      \n",
       "4                            Fuertemente contaminada      \n",
       "\n",
       "                                            CRITERIO  \\\n",
       "0                               COLI_FEC menor a 1.1   \n",
       "1  COLI_FEC mayor o igual de 1.1 y menor o igual ...   \n",
       "2       COLI_FEC mayor de 200 y menor o igual a 1000   \n",
       "3     COLI_FEC mayor de 1000 y menor o igual a 10000   \n",
       "4                            COLI_FEC mayor de 10000   \n",
       "\n",
       "                                         DESCRIPCION  \n",
       "0  Agua potable. Agua no contaminada o condicion ...  \n",
       "1  Aguas para uso recreativo con contacto primari...  \n",
       "2  Aguas con calidad admisible como fuente de aba...  \n",
       "3  Aguas  con contaminacion bacteriologica. Indic...  \n",
       "4  Aguas con fuerte contaminacion bacteriologica....  "
      ]
     },
     "execution_count": 125,
     "metadata": {},
     "output_type": "execute_result"
    }
   ],
   "source": [
    "dfEscalasSubterranea.head()"
   ]
  },
  {
   "cell_type": "code",
   "execution_count": 126,
   "metadata": {
    "collapsed": false
   },
   "outputs": [
    {
     "data": {
      "text/html": [
       "<div>\n",
       "<style scoped>\n",
       "    .dataframe tbody tr th:only-of-type {\n",
       "        vertical-align: middle;\n",
       "    }\n",
       "\n",
       "    .dataframe tbody tr th {\n",
       "        vertical-align: top;\n",
       "    }\n",
       "\n",
       "    .dataframe thead th {\n",
       "        text-align: right;\n",
       "    }\n",
       "</style>\n",
       "<table border=\"1\" class=\"dataframe\">\n",
       "  <thead>\n",
       "    <tr style=\"text-align: right;\">\n",
       "      <th></th>\n",
       "      <th>CALIDAD DEL AGUA PARA COLIFORMES FECALES_subterraneas</th>\n",
       "      <th>CRITERIO</th>\n",
       "      <th>DESCRIPCION</th>\n",
       "    </tr>\n",
       "  </thead>\n",
       "  <tbody>\n",
       "    <tr>\n",
       "      <th>count</th>\n",
       "      <td>66</td>\n",
       "      <td>66</td>\n",
       "      <td>66</td>\n",
       "    </tr>\n",
       "    <tr>\n",
       "      <th>unique</th>\n",
       "      <td>47</td>\n",
       "      <td>52</td>\n",
       "      <td>29</td>\n",
       "    </tr>\n",
       "    <tr>\n",
       "      <th>top</th>\n",
       "      <td>Potable - Excelente</td>\n",
       "      <td>CRITERIO</td>\n",
       "      <td>DESCRIPCION</td>\n",
       "    </tr>\n",
       "    <tr>\n",
       "      <th>freq</th>\n",
       "      <td>8</td>\n",
       "      <td>14</td>\n",
       "      <td>14</td>\n",
       "    </tr>\n",
       "  </tbody>\n",
       "</table>\n",
       "</div>"
      ],
      "text/plain": [
       "       CALIDAD DEL AGUA PARA COLIFORMES FECALES_subterraneas  CRITERIO  \\\n",
       "count                                                  66           66   \n",
       "unique                                                 47           52   \n",
       "top                                   Potable - Excelente     CRITERIO   \n",
       "freq                                                    8           14   \n",
       "\n",
       "        DESCRIPCION  \n",
       "count            66  \n",
       "unique           29  \n",
       "top     DESCRIPCION  \n",
       "freq             14  "
      ]
     },
     "execution_count": 126,
     "metadata": {},
     "output_type": "execute_result"
    }
   ],
   "source": [
    "dfEscalasSubterranea.describe()"
   ]
  },
  {
   "cell_type": "code",
   "execution_count": 127,
   "metadata": {
    "collapsed": false
   },
   "outputs": [
    {
     "data": {
      "text/html": [
       "<div>\n",
       "<style scoped>\n",
       "    .dataframe tbody tr th:only-of-type {\n",
       "        vertical-align: middle;\n",
       "    }\n",
       "\n",
       "    .dataframe tbody tr th {\n",
       "        vertical-align: top;\n",
       "    }\n",
       "\n",
       "    .dataframe thead th {\n",
       "        text-align: right;\n",
       "    }\n",
       "</style>\n",
       "<table border=\"1\" class=\"dataframe\">\n",
       "  <thead>\n",
       "    <tr style=\"text-align: right;\">\n",
       "      <th></th>\n",
       "      <th>CLAVE</th>\n",
       "      <th>SITIO</th>\n",
       "      <th>ORGANISMO_DE_CUENCA</th>\n",
       "      <th>ESTADO</th>\n",
       "      <th>MUNICIPIO</th>\n",
       "      <th>ACUIFERO</th>\n",
       "      <th>SUBTIPO</th>\n",
       "      <th>LONGITUD</th>\n",
       "      <th>LATITUD</th>\n",
       "      <th>PERIODO</th>\n",
       "      <th>...</th>\n",
       "      <th>CUMPLE_CON_DUR</th>\n",
       "      <th>CUMPLE_CON_CF</th>\n",
       "      <th>CUMPLE_CON_NO3</th>\n",
       "      <th>CUMPLE_CON_AS</th>\n",
       "      <th>CUMPLE_CON_CD</th>\n",
       "      <th>CUMPLE_CON_CR</th>\n",
       "      <th>CUMPLE_CON_HG</th>\n",
       "      <th>CUMPLE_CON_PB</th>\n",
       "      <th>CUMPLE_CON_MN</th>\n",
       "      <th>CUMPLE_CON_FE</th>\n",
       "    </tr>\n",
       "  </thead>\n",
       "  <tbody>\n",
       "    <tr>\n",
       "      <th>0</th>\n",
       "      <td>DLAGU6</td>\n",
       "      <td>POZO SAN GIL</td>\n",
       "      <td>LERMA SANTIAGO PACIFICO</td>\n",
       "      <td>AGUASCALIENTES</td>\n",
       "      <td>ASIENTOS</td>\n",
       "      <td>VALLE DE CHICALOTE</td>\n",
       "      <td>POZO</td>\n",
       "      <td>-102.02210</td>\n",
       "      <td>22.20887</td>\n",
       "      <td>2020</td>\n",
       "      <td>...</td>\n",
       "      <td>SI</td>\n",
       "      <td>SI</td>\n",
       "      <td>SI</td>\n",
       "      <td>SI</td>\n",
       "      <td>SI</td>\n",
       "      <td>SI</td>\n",
       "      <td>SI</td>\n",
       "      <td>SI</td>\n",
       "      <td>SI</td>\n",
       "      <td>SI</td>\n",
       "    </tr>\n",
       "    <tr>\n",
       "      <th>1</th>\n",
       "      <td>DLAGU6516</td>\n",
       "      <td>POZO R013 CAÑADA HONDA</td>\n",
       "      <td>LERMA SANTIAGO PACIFICO</td>\n",
       "      <td>AGUASCALIENTES</td>\n",
       "      <td>AGUASCALIENTES</td>\n",
       "      <td>VALLE DE CHICALOTE</td>\n",
       "      <td>POZO</td>\n",
       "      <td>-102.20075</td>\n",
       "      <td>21.99958</td>\n",
       "      <td>2020</td>\n",
       "      <td>...</td>\n",
       "      <td>SI</td>\n",
       "      <td>SI</td>\n",
       "      <td>SI</td>\n",
       "      <td>SI</td>\n",
       "      <td>SI</td>\n",
       "      <td>SI</td>\n",
       "      <td>SI</td>\n",
       "      <td>SI</td>\n",
       "      <td>SI</td>\n",
       "      <td>SI</td>\n",
       "    </tr>\n",
       "    <tr>\n",
       "      <th>2</th>\n",
       "      <td>DLAGU7</td>\n",
       "      <td>POZO COSIO</td>\n",
       "      <td>LERMA SANTIAGO PACIFICO</td>\n",
       "      <td>AGUASCALIENTES</td>\n",
       "      <td>COSIO</td>\n",
       "      <td>VALLE DE AGUASCALIENTES</td>\n",
       "      <td>POZO</td>\n",
       "      <td>-102.28801</td>\n",
       "      <td>22.36685</td>\n",
       "      <td>2020</td>\n",
       "      <td>...</td>\n",
       "      <td>SI</td>\n",
       "      <td>SI</td>\n",
       "      <td>SI</td>\n",
       "      <td>NO</td>\n",
       "      <td>SI</td>\n",
       "      <td>SI</td>\n",
       "      <td>SI</td>\n",
       "      <td>SI</td>\n",
       "      <td>SI</td>\n",
       "      <td>SI</td>\n",
       "    </tr>\n",
       "    <tr>\n",
       "      <th>3</th>\n",
       "      <td>DLAGU9</td>\n",
       "      <td>POZO EL SALITRILLO</td>\n",
       "      <td>LERMA SANTIAGO PACIFICO</td>\n",
       "      <td>AGUASCALIENTES</td>\n",
       "      <td>RINCON DE ROMOS</td>\n",
       "      <td>VALLE DE AGUASCALIENTES</td>\n",
       "      <td>POZO</td>\n",
       "      <td>-102.29449</td>\n",
       "      <td>22.18435</td>\n",
       "      <td>2020</td>\n",
       "      <td>...</td>\n",
       "      <td>SI</td>\n",
       "      <td>SI</td>\n",
       "      <td>SI</td>\n",
       "      <td>SI</td>\n",
       "      <td>SI</td>\n",
       "      <td>SI</td>\n",
       "      <td>SI</td>\n",
       "      <td>SI</td>\n",
       "      <td>SI</td>\n",
       "      <td>SI</td>\n",
       "    </tr>\n",
       "    <tr>\n",
       "      <th>4</th>\n",
       "      <td>DLBAJ107</td>\n",
       "      <td>RANCHO EL TECOLOTE</td>\n",
       "      <td>PENINSULA DE BAJA CALIFORNIA</td>\n",
       "      <td>BAJA CALIFORNIA SUR</td>\n",
       "      <td>LA PAZ</td>\n",
       "      <td>TODOS SANTOS</td>\n",
       "      <td>POZO</td>\n",
       "      <td>-110.24480</td>\n",
       "      <td>23.45138</td>\n",
       "      <td>2020</td>\n",
       "      <td>...</td>\n",
       "      <td>SI</td>\n",
       "      <td>SI</td>\n",
       "      <td>NO</td>\n",
       "      <td>SI</td>\n",
       "      <td>SI</td>\n",
       "      <td>SI</td>\n",
       "      <td>SI</td>\n",
       "      <td>SI</td>\n",
       "      <td>SI</td>\n",
       "      <td>SI</td>\n",
       "    </tr>\n",
       "  </tbody>\n",
       "</table>\n",
       "<p>5 rows × 57 columns</p>\n",
       "</div>"
      ],
      "text/plain": [
       "       CLAVE                   SITIO           ORGANISMO_DE_CUENCA  \\\n",
       "0     DLAGU6            POZO SAN GIL       LERMA SANTIAGO PACIFICO   \n",
       "1  DLAGU6516  POZO R013 CAÑADA HONDA       LERMA SANTIAGO PACIFICO   \n",
       "2     DLAGU7              POZO COSIO       LERMA SANTIAGO PACIFICO   \n",
       "3     DLAGU9      POZO EL SALITRILLO       LERMA SANTIAGO PACIFICO   \n",
       "4   DLBAJ107      RANCHO EL TECOLOTE  PENINSULA DE BAJA CALIFORNIA   \n",
       "\n",
       "                ESTADO        MUNICIPIO                 ACUIFERO SUBTIPO  \\\n",
       "0       AGUASCALIENTES         ASIENTOS       VALLE DE CHICALOTE    POZO   \n",
       "1       AGUASCALIENTES   AGUASCALIENTES       VALLE DE CHICALOTE    POZO   \n",
       "2       AGUASCALIENTES            COSIO  VALLE DE AGUASCALIENTES    POZO   \n",
       "3       AGUASCALIENTES  RINCON DE ROMOS  VALLE DE AGUASCALIENTES    POZO   \n",
       "4  BAJA CALIFORNIA SUR           LA PAZ             TODOS SANTOS    POZO   \n",
       "\n",
       "    LONGITUD   LATITUD  PERIODO  ...  CUMPLE_CON_DUR CUMPLE_CON_CF  \\\n",
       "0 -102.02210  22.20887     2020  ...              SI            SI   \n",
       "1 -102.20075  21.99958     2020  ...              SI            SI   \n",
       "2 -102.28801  22.36685     2020  ...              SI            SI   \n",
       "3 -102.29449  22.18435     2020  ...              SI            SI   \n",
       "4 -110.24480  23.45138     2020  ...              SI            SI   \n",
       "\n",
       "   CUMPLE_CON_NO3 CUMPLE_CON_AS  CUMPLE_CON_CD CUMPLE_CON_CR CUMPLE_CON_HG  \\\n",
       "0              SI            SI             SI            SI            SI   \n",
       "1              SI            SI             SI            SI            SI   \n",
       "2              SI            NO             SI            SI            SI   \n",
       "3              SI            SI             SI            SI            SI   \n",
       "4              NO            SI             SI            SI            SI   \n",
       "\n",
       "  CUMPLE_CON_PB CUMPLE_CON_MN CUMPLE_CON_FE  \n",
       "0            SI            SI            SI  \n",
       "1            SI            SI            SI  \n",
       "2            SI            SI            SI  \n",
       "3            SI            SI            SI  \n",
       "4            SI            SI            SI  \n",
       "\n",
       "[5 rows x 57 columns]"
      ]
     },
     "execution_count": 127,
     "metadata": {},
     "output_type": "execute_result"
    }
   ],
   "source": [
    "dfCalidadSubterranea.head()"
   ]
  },
  {
   "cell_type": "code",
   "execution_count": 128,
   "metadata": {
    "collapsed": false
   },
   "outputs": [
    {
     "name": "stdout",
     "output_type": "stream",
     "text": [
      "<class 'pandas.core.frame.DataFrame'>\n",
      "RangeIndex: 1068 entries, 0 to 1067\n",
      "Data columns (total 57 columns):\n",
      " #   Column                Non-Null Count  Dtype  \n",
      "---  ------                --------------  -----  \n",
      " 0   CLAVE                 1068 non-null   object \n",
      " 1   SITIO                 1068 non-null   object \n",
      " 2   ORGANISMO_DE_CUENCA   1068 non-null   object \n",
      " 3   ESTADO                1068 non-null   object \n",
      " 4   MUNICIPIO             1068 non-null   object \n",
      " 5   ACUIFERO              1068 non-null   object \n",
      " 6   SUBTIPO               1068 non-null   object \n",
      " 7   LONGITUD              1068 non-null   float64\n",
      " 8   LATITUD               1068 non-null   float64\n",
      " 9   PERIODO               1068 non-null   int64  \n",
      " 10  ALC_mg/L              1064 non-null   float64\n",
      " 11  CALIDAD_ALC           1064 non-null   object \n",
      " 12  CONDUCT_mS/cm         1062 non-null   float64\n",
      " 13  CALIDAD_CONDUC        1062 non-null   object \n",
      " 14  SDT_mg/L              0 non-null      float64\n",
      " 15  SDT_M_mg/L            1066 non-null   object \n",
      " 16  CALIDAD_SDT_ra        1066 non-null   object \n",
      " 17  CALIDAD_SDT_salin     1066 non-null   object \n",
      " 18  FLUORUROS_mg/L        1068 non-null   object \n",
      " 19  CALIDAD_FLUO          1068 non-null   object \n",
      " 20  DUR_mg/L              1067 non-null   object \n",
      " 21  CALIDAD_DUR           1067 non-null   object \n",
      " 22  COLI_FEC_NMP/100_mL   1068 non-null   object \n",
      " 23  CALIDAD_COLI_FEC      1068 non-null   object \n",
      " 24  N_NO3_mg/L            1067 non-null   object \n",
      " 25  CALIDAD_N_NO3         1067 non-null   object \n",
      " 26  AS_TOT_mg/L           1068 non-null   object \n",
      " 27  CALIDAD_AS            1068 non-null   object \n",
      " 28  CD_TOT_mg/L           1068 non-null   object \n",
      " 29  CALIDAD_CD            1068 non-null   object \n",
      " 30  CR_TOT_mg/L           1068 non-null   object \n",
      " 31  CALIDAD_CR            1068 non-null   object \n",
      " 32  HG_TOT_mg/L           1068 non-null   object \n",
      " 33  CALIDAD_HG            1068 non-null   object \n",
      " 34  PB_TOT_mg/L           1068 non-null   object \n",
      " 35  CALIDAD_PB            1068 non-null   object \n",
      " 36  MN_TOT_mg/L           1068 non-null   object \n",
      " 37  CALIDAD_MN            1068 non-null   object \n",
      " 38  FE_TOT_mg/L           1068 non-null   object \n",
      " 39  CALIDAD_FE            1068 non-null   object \n",
      " 40  SEMAFORO              1068 non-null   object \n",
      " 41  CONTAMINANTES         634 non-null    object \n",
      " 42  CUMPLE_CON_ALC        1068 non-null   object \n",
      " 43  CUMPLE_CON_COND       1068 non-null   object \n",
      " 44  CUMPLE_CON_SDT_ra     1068 non-null   object \n",
      " 45  CUMPLE_CON_SDT_salin  1068 non-null   object \n",
      " 46  CUMPLE_CON_FLUO       1068 non-null   object \n",
      " 47  CUMPLE_CON_DUR        1068 non-null   object \n",
      " 48  CUMPLE_CON_CF         1068 non-null   object \n",
      " 49  CUMPLE_CON_NO3        1068 non-null   object \n",
      " 50  CUMPLE_CON_AS         1068 non-null   object \n",
      " 51  CUMPLE_CON_CD         1068 non-null   object \n",
      " 52  CUMPLE_CON_CR         1068 non-null   object \n",
      " 53  CUMPLE_CON_HG         1068 non-null   object \n",
      " 54  CUMPLE_CON_PB         1068 non-null   object \n",
      " 55  CUMPLE_CON_MN         1068 non-null   object \n",
      " 56  CUMPLE_CON_FE         1068 non-null   object \n",
      "dtypes: float64(5), int64(1), object(51)\n",
      "memory usage: 475.7+ KB\n"
     ]
    }
   ],
   "source": [
    "dfCalidadSubterranea.info()"
   ]
  },
  {
   "cell_type": "code",
   "execution_count": 129,
   "metadata": {
    "collapsed": false
   },
   "outputs": [
    {
     "data": {
      "text/plain": [
       "CLAVE                      0\n",
       "SITIO                      0\n",
       "ORGANISMO_DE_CUENCA        0\n",
       "ESTADO                     0\n",
       "MUNICIPIO                  0\n",
       "ACUIFERO                   0\n",
       "SUBTIPO                    0\n",
       "LONGITUD                   0\n",
       "LATITUD                    0\n",
       "PERIODO                    0\n",
       "ALC_mg/L                   4\n",
       "CALIDAD_ALC                4\n",
       "CONDUCT_mS/cm              6\n",
       "CALIDAD_CONDUC             6\n",
       "SDT_mg/L                1068\n",
       "SDT_M_mg/L                 2\n",
       "CALIDAD_SDT_ra             2\n",
       "CALIDAD_SDT_salin          2\n",
       "FLUORUROS_mg/L             0\n",
       "CALIDAD_FLUO               0\n",
       "DUR_mg/L                   1\n",
       "CALIDAD_DUR                1\n",
       "COLI_FEC_NMP/100_mL        0\n",
       "CALIDAD_COLI_FEC           0\n",
       "N_NO3_mg/L                 1\n",
       "CALIDAD_N_NO3              1\n",
       "AS_TOT_mg/L                0\n",
       "CALIDAD_AS                 0\n",
       "CD_TOT_mg/L                0\n",
       "CALIDAD_CD                 0\n",
       "CR_TOT_mg/L                0\n",
       "CALIDAD_CR                 0\n",
       "HG_TOT_mg/L                0\n",
       "CALIDAD_HG                 0\n",
       "PB_TOT_mg/L                0\n",
       "CALIDAD_PB                 0\n",
       "MN_TOT_mg/L                0\n",
       "CALIDAD_MN                 0\n",
       "FE_TOT_mg/L                0\n",
       "CALIDAD_FE                 0\n",
       "SEMAFORO                   0\n",
       "CONTAMINANTES            434\n",
       "CUMPLE_CON_ALC             0\n",
       "CUMPLE_CON_COND            0\n",
       "CUMPLE_CON_SDT_ra          0\n",
       "CUMPLE_CON_SDT_salin       0\n",
       "CUMPLE_CON_FLUO            0\n",
       "CUMPLE_CON_DUR             0\n",
       "CUMPLE_CON_CF              0\n",
       "CUMPLE_CON_NO3             0\n",
       "CUMPLE_CON_AS              0\n",
       "CUMPLE_CON_CD              0\n",
       "CUMPLE_CON_CR              0\n",
       "CUMPLE_CON_HG              0\n",
       "CUMPLE_CON_PB              0\n",
       "CUMPLE_CON_MN              0\n",
       "CUMPLE_CON_FE              0\n",
       "dtype: int64"
      ]
     },
     "execution_count": 129,
     "metadata": {},
     "output_type": "execute_result"
    }
   ],
   "source": [
    "dfCalidadSubterranea.isna().sum()"
   ]
  },
  {
   "cell_type": "markdown",
   "metadata": {
    "collapsed": false
   },
   "source": [
    "#### Hacemos limpieza de algunas columnas que no tienen información:\n",
    "- **SDT_mg/L** Siempre está vacía\n",
    "- **PERIODO** solo tiene un valor *2020*\n",
    "- **CLAVE** es un indentificador único por registro\n"
   ]
  },
  {
   "cell_type": "code",
   "execution_count": 130,
   "metadata": {
    "collapsed": false
   },
   "outputs": [],
   "source": [
    "# Borramoe SDT_mg/L porque siempre está vacía\n",
    "dfCalidadSubterranea.drop(['SDT_mg/L', 'PERIODO', 'CLAVE'],axis=1,inplace=True)"
   ]
  },
  {
   "cell_type": "code",
   "execution_count": 131,
   "metadata": {},
   "outputs": [
    {
     "data": {
      "text/plain": [
       "SITIO                     0\n",
       "ORGANISMO_DE_CUENCA       0\n",
       "ESTADO                    0\n",
       "MUNICIPIO                 0\n",
       "ACUIFERO                  0\n",
       "SUBTIPO                   0\n",
       "LONGITUD                  0\n",
       "LATITUD                   0\n",
       "ALC_mg/L                  4\n",
       "CALIDAD_ALC               4\n",
       "CONDUCT_mS/cm             6\n",
       "CALIDAD_CONDUC            6\n",
       "SDT_M_mg/L                2\n",
       "CALIDAD_SDT_ra            2\n",
       "CALIDAD_SDT_salin         2\n",
       "FLUORUROS_mg/L            0\n",
       "CALIDAD_FLUO              0\n",
       "DUR_mg/L                  1\n",
       "CALIDAD_DUR               1\n",
       "COLI_FEC_NMP/100_mL       0\n",
       "CALIDAD_COLI_FEC          0\n",
       "N_NO3_mg/L                1\n",
       "CALIDAD_N_NO3             1\n",
       "AS_TOT_mg/L               0\n",
       "CALIDAD_AS                0\n",
       "CD_TOT_mg/L               0\n",
       "CALIDAD_CD                0\n",
       "CR_TOT_mg/L               0\n",
       "CALIDAD_CR                0\n",
       "HG_TOT_mg/L               0\n",
       "CALIDAD_HG                0\n",
       "PB_TOT_mg/L               0\n",
       "CALIDAD_PB                0\n",
       "MN_TOT_mg/L               0\n",
       "CALIDAD_MN                0\n",
       "FE_TOT_mg/L               0\n",
       "CALIDAD_FE                0\n",
       "SEMAFORO                  0\n",
       "CONTAMINANTES           434\n",
       "CUMPLE_CON_ALC            0\n",
       "CUMPLE_CON_COND           0\n",
       "CUMPLE_CON_SDT_ra         0\n",
       "CUMPLE_CON_SDT_salin      0\n",
       "CUMPLE_CON_FLUO           0\n",
       "CUMPLE_CON_DUR            0\n",
       "CUMPLE_CON_CF             0\n",
       "CUMPLE_CON_NO3            0\n",
       "CUMPLE_CON_AS             0\n",
       "CUMPLE_CON_CD             0\n",
       "CUMPLE_CON_CR             0\n",
       "CUMPLE_CON_HG             0\n",
       "CUMPLE_CON_PB             0\n",
       "CUMPLE_CON_MN             0\n",
       "CUMPLE_CON_FE             0\n",
       "dtype: int64"
      ]
     },
     "execution_count": 131,
     "metadata": {},
     "output_type": "execute_result"
    }
   ],
   "source": [
    "dfCalidadSubterranea.isna().sum()"
   ]
  },
  {
   "cell_type": "code",
   "execution_count": 132,
   "metadata": {
    "collapsed": false
   },
   "outputs": [],
   "source": [
    "###De las columnas que contienen nulos borrar registros con mas de 2 nulos,\n",
    "# ¿Para qué?\n",
    "\n",
    "col_lst = ['CONTAMINANTES', 'CALIDAD_N_NO3','N_NO3_mg/L','CALIDAD_DUR', 'DUR_mg/L', 'SDT_M_mg/L','CALIDAD_SDT_ra','CALIDAD_SDT_salin', 'ALC_mg/L','CALIDAD_ALC','CONDUCT_mS/cm','CALIDAD_CONDUC']\n",
    "\n",
    "dfCalidadSubterranea.dropna(axis = 0, subset = col_lst, thresh=2, inplace = True)"
   ]
  },
  {
   "cell_type": "code",
   "execution_count": 133,
   "metadata": {
    "collapsed": false
   },
   "outputs": [
    {
     "data": {
      "text/plain": [
       "SITIO                     0\n",
       "ORGANISMO_DE_CUENCA       0\n",
       "ESTADO                    0\n",
       "MUNICIPIO                 0\n",
       "ACUIFERO                  0\n",
       "SUBTIPO                   0\n",
       "LONGITUD                  0\n",
       "LATITUD                   0\n",
       "ALC_mg/L                  4\n",
       "CALIDAD_ALC               4\n",
       "CONDUCT_mS/cm             6\n",
       "CALIDAD_CONDUC            6\n",
       "SDT_M_mg/L                2\n",
       "CALIDAD_SDT_ra            2\n",
       "CALIDAD_SDT_salin         2\n",
       "FLUORUROS_mg/L            0\n",
       "CALIDAD_FLUO              0\n",
       "DUR_mg/L                  1\n",
       "CALIDAD_DUR               1\n",
       "COLI_FEC_NMP/100_mL       0\n",
       "CALIDAD_COLI_FEC          0\n",
       "N_NO3_mg/L                1\n",
       "CALIDAD_N_NO3             1\n",
       "AS_TOT_mg/L               0\n",
       "CALIDAD_AS                0\n",
       "CD_TOT_mg/L               0\n",
       "CALIDAD_CD                0\n",
       "CR_TOT_mg/L               0\n",
       "CALIDAD_CR                0\n",
       "HG_TOT_mg/L               0\n",
       "CALIDAD_HG                0\n",
       "PB_TOT_mg/L               0\n",
       "CALIDAD_PB                0\n",
       "MN_TOT_mg/L               0\n",
       "CALIDAD_MN                0\n",
       "FE_TOT_mg/L               0\n",
       "CALIDAD_FE                0\n",
       "SEMAFORO                  0\n",
       "CONTAMINANTES           434\n",
       "CUMPLE_CON_ALC            0\n",
       "CUMPLE_CON_COND           0\n",
       "CUMPLE_CON_SDT_ra         0\n",
       "CUMPLE_CON_SDT_salin      0\n",
       "CUMPLE_CON_FLUO           0\n",
       "CUMPLE_CON_DUR            0\n",
       "CUMPLE_CON_CF             0\n",
       "CUMPLE_CON_NO3            0\n",
       "CUMPLE_CON_AS             0\n",
       "CUMPLE_CON_CD             0\n",
       "CUMPLE_CON_CR             0\n",
       "CUMPLE_CON_HG             0\n",
       "CUMPLE_CON_PB             0\n",
       "CUMPLE_CON_MN             0\n",
       "CUMPLE_CON_FE             0\n",
       "dtype: int64"
      ]
     },
     "execution_count": 133,
     "metadata": {},
     "output_type": "execute_result"
    }
   ],
   "source": [
    "dfCalidadSubterranea.isna().sum()"
   ]
  },
  {
   "cell_type": "markdown",
   "metadata": {
    "collapsed": false
   },
   "source": [
    "### Ningún registro tiene más de 2 campos nulos."
   ]
  },
  {
   "cell_type": "code",
   "execution_count": 134,
   "metadata": {
    "collapsed": false
   },
   "outputs": [],
   "source": [
    "### Categoricas y numéricas con nulos para imputar.\n",
    "\n",
    "categoricas = ['CALIDAD_SDT_ra','CALIDAD_SDT_salin','CALIDAD_N_NO3','CALIDAD_DUR','CALIDAD_ALC','CALIDAD_CONDUC']\n",
    "\n",
    "numericas = [ 'N_NO3_mg/L', 'DUR_mg/L', 'SDT_M_mg/L', 'ALC_mg/L','CONDUCT_mS/cm',]\n",
    "\n",
    "####'CONTAMINANTES'?????\n"
   ]
  },
  {
   "cell_type": "code",
   "execution_count": 135,
   "metadata": {
    "collapsed": false
   },
   "outputs": [
    {
     "data": {
      "text/plain": [
       "0        213.732\n",
       "1       185.0514\n",
       "2        120.719\n",
       "3        199.879\n",
       "4       476.9872\n",
       "          ...   \n",
       "1063     752.096\n",
       "1064         273\n",
       "1065    660.2126\n",
       "1066     406.368\n",
       "1067     362.544\n",
       "Name: DUR_mg/L, Length: 1068, dtype: object"
      ]
     },
     "execution_count": 135,
     "metadata": {},
     "output_type": "execute_result"
    }
   ],
   "source": [
    "dfCalidadSubterranea['DUR_mg/L']"
   ]
  },
  {
   "cell_type": "code",
   "execution_count": 136,
   "metadata": {
    "collapsed": false
   },
   "outputs": [],
   "source": [
    "###convertimos datos no numericos.\n",
    "\n",
    "dfCalidadSubterranea.loc[ dfCalidadSubterranea['FLUORUROS_mg/L'] == '<0.2', 'FLUORUROS_mg/L'] = 0.2\n",
    "\n",
    "dfCalidadSubterranea.loc[ dfCalidadSubterranea['COLI_FEC_NMP/100_mL'] == '<1.1', 'COLI_FEC_NMP/100_mL'] = 1.1\n",
    "\n",
    "dfCalidadSubterranea.loc[ dfCalidadSubterranea['AS_TOT_mg/L'] == '<0.01', 'AS_TOT_mg/L'] = 0.01\n",
    "\n",
    "dfCalidadSubterranea.loc[ dfCalidadSubterranea['CD_TOT_mg/L'] == '<0.003', 'CD_TOT_mg/L'] = 0.003\n",
    "\n",
    "dfCalidadSubterranea.loc[ dfCalidadSubterranea['CR_TOT_mg/L'] == '<0.005', 'CR_TOT_mg/L'] = 0.005\n",
    "\n",
    "dfCalidadSubterranea.loc[ dfCalidadSubterranea['HG_TOT_mg/L'] == '<0.0005', 'HG_TOT_mg/L'] = 0.0005\n",
    "\n",
    "dfCalidadSubterranea.loc[ dfCalidadSubterranea['PB_TOT_mg/L'] == '<0.005', 'PB_TOT_mg/L'] = 0.005\n",
    "\n",
    "dfCalidadSubterranea.loc[ dfCalidadSubterranea['MN_TOT_mg/L'] == '<0.0015', 'MN_TOT_mg/L'] = 0.0015\n",
    "\n",
    "\n",
    "\n",
    "\n",
    "dfCalidadSubterranea.loc[ dfCalidadSubterranea['N_NO3_mg/L'] == '<0.02', 'N_NO3_mg/L'] = 0.02\n",
    "\n",
    "dfCalidadSubterranea.loc[ dfCalidadSubterranea['DUR_mg/L'] == '<20', 'DUR_mg/L'] = 20\n",
    "\n",
    "dfCalidadSubterranea.loc[ dfCalidadSubterranea['SDT_M_mg/L'] == '<25', 'SDT_M_mg/L'] = 25\n",
    "\n",
    "dfCalidadSubterranea['N_NO3_mg/L'] = dfCalidadSubterranea['N_NO3_mg/L'].astype(float)\n",
    "\n",
    "dfCalidadSubterranea['DUR_mg/L'] = dfCalidadSubterranea['DUR_mg/L'].astype(float)\n",
    "\n",
    "dfCalidadSubterranea['SDT_M_mg/L'] = dfCalidadSubterranea['SDT_M_mg/L'].astype(float)\n",
    "\n",
    "\n",
    "dfCalidadSubterranea['FLUORUROS_mg/L'] = dfCalidadSubterranea['FLUORUROS_mg/L'].astype(float)\n",
    "dfCalidadSubterranea['COLI_FEC_NMP/100_mL'] = dfCalidadSubterranea['COLI_FEC_NMP/100_mL'].astype(float)\n",
    "dfCalidadSubterranea['AS_TOT_mg/L'] = dfCalidadSubterranea['AS_TOT_mg/L'].astype(float)\n",
    "dfCalidadSubterranea['CD_TOT_mg/L'] = dfCalidadSubterranea['CD_TOT_mg/L'].astype(float)\n",
    "dfCalidadSubterranea['CR_TOT_mg/L'] = dfCalidadSubterranea['CR_TOT_mg/L'].astype(float)\n",
    "dfCalidadSubterranea['HG_TOT_mg/L'] = dfCalidadSubterranea['HG_TOT_mg/L'].astype(float)\n",
    "\n",
    "dfCalidadSubterranea['PB_TOT_mg/L'] = dfCalidadSubterranea['PB_TOT_mg/L'].astype(float)\n",
    "dfCalidadSubterranea['MN_TOT_mg/L'] = dfCalidadSubterranea['MN_TOT_mg/L'].astype(float)\n"
   ]
  },
  {
   "cell_type": "code",
   "execution_count": 137,
   "metadata": {
    "collapsed": false
   },
   "outputs": [
    {
     "name": "stdout",
     "output_type": "stream",
     "text": [
      "<class 'pandas.core.frame.DataFrame'>\n",
      "Int64Index: 1068 entries, 0 to 1067\n",
      "Data columns (total 54 columns):\n",
      " #   Column                Non-Null Count  Dtype  \n",
      "---  ------                --------------  -----  \n",
      " 0   SITIO                 1068 non-null   object \n",
      " 1   ORGANISMO_DE_CUENCA   1068 non-null   object \n",
      " 2   ESTADO                1068 non-null   object \n",
      " 3   MUNICIPIO             1068 non-null   object \n",
      " 4   ACUIFERO              1068 non-null   object \n",
      " 5   SUBTIPO               1068 non-null   object \n",
      " 6   LONGITUD              1068 non-null   float64\n",
      " 7   LATITUD               1068 non-null   float64\n",
      " 8   ALC_mg/L              1064 non-null   float64\n",
      " 9   CALIDAD_ALC           1064 non-null   object \n",
      " 10  CONDUCT_mS/cm         1062 non-null   float64\n",
      " 11  CALIDAD_CONDUC        1062 non-null   object \n",
      " 12  SDT_M_mg/L            1066 non-null   float64\n",
      " 13  CALIDAD_SDT_ra        1066 non-null   object \n",
      " 14  CALIDAD_SDT_salin     1066 non-null   object \n",
      " 15  FLUORUROS_mg/L        1068 non-null   float64\n",
      " 16  CALIDAD_FLUO          1068 non-null   object \n",
      " 17  DUR_mg/L              1067 non-null   float64\n",
      " 18  CALIDAD_DUR           1067 non-null   object \n",
      " 19  COLI_FEC_NMP/100_mL   1068 non-null   float64\n",
      " 20  CALIDAD_COLI_FEC      1068 non-null   object \n",
      " 21  N_NO3_mg/L            1067 non-null   float64\n",
      " 22  CALIDAD_N_NO3         1067 non-null   object \n",
      " 23  AS_TOT_mg/L           1068 non-null   float64\n",
      " 24  CALIDAD_AS            1068 non-null   object \n",
      " 25  CD_TOT_mg/L           1068 non-null   float64\n",
      " 26  CALIDAD_CD            1068 non-null   object \n",
      " 27  CR_TOT_mg/L           1068 non-null   float64\n",
      " 28  CALIDAD_CR            1068 non-null   object \n",
      " 29  HG_TOT_mg/L           1068 non-null   float64\n",
      " 30  CALIDAD_HG            1068 non-null   object \n",
      " 31  PB_TOT_mg/L           1068 non-null   float64\n",
      " 32  CALIDAD_PB            1068 non-null   object \n",
      " 33  MN_TOT_mg/L           1068 non-null   float64\n",
      " 34  CALIDAD_MN            1068 non-null   object \n",
      " 35  FE_TOT_mg/L           1068 non-null   object \n",
      " 36  CALIDAD_FE            1068 non-null   object \n",
      " 37  SEMAFORO              1068 non-null   object \n",
      " 38  CONTAMINANTES         634 non-null    object \n",
      " 39  CUMPLE_CON_ALC        1068 non-null   object \n",
      " 40  CUMPLE_CON_COND       1068 non-null   object \n",
      " 41  CUMPLE_CON_SDT_ra     1068 non-null   object \n",
      " 42  CUMPLE_CON_SDT_salin  1068 non-null   object \n",
      " 43  CUMPLE_CON_FLUO       1068 non-null   object \n",
      " 44  CUMPLE_CON_DUR        1068 non-null   object \n",
      " 45  CUMPLE_CON_CF         1068 non-null   object \n",
      " 46  CUMPLE_CON_NO3        1068 non-null   object \n",
      " 47  CUMPLE_CON_AS         1068 non-null   object \n",
      " 48  CUMPLE_CON_CD         1068 non-null   object \n",
      " 49  CUMPLE_CON_CR         1068 non-null   object \n",
      " 50  CUMPLE_CON_HG         1068 non-null   object \n",
      " 51  CUMPLE_CON_PB         1068 non-null   object \n",
      " 52  CUMPLE_CON_MN         1068 non-null   object \n",
      " 53  CUMPLE_CON_FE         1068 non-null   object \n",
      "dtypes: float64(15), object(39)\n",
      "memory usage: 458.9+ KB\n"
     ]
    }
   ],
   "source": [
    "dfCalidadSubterranea.info()"
   ]
  },
  {
   "cell_type": "markdown",
   "metadata": {
    "collapsed": false
   },
   "source": []
  },
  {
   "cell_type": "code",
   "execution_count": 138,
   "metadata": {
    "collapsed": false
   },
   "outputs": [],
   "source": [
    "for key in numericas:\n",
    "    mean_value=dfCalidadSubterranea[key].mean()\n",
    "    dfCalidadSubterranea[key].fillna(value=mean_value, inplace=True)\n",
    "\n",
    "for key2 in categoricas:\n",
    "    mode=dfCalidadSubterranea[key2].mode()\n",
    "    #print(mode)\n",
    "    dfCalidadSubterranea[key2].fillna(value=mode.to_string(), inplace=True)\n"
   ]
  },
  {
   "cell_type": "code",
   "execution_count": 139,
   "metadata": {},
   "outputs": [
    {
     "data": {
      "text/plain": [
       "SITIO                     0\n",
       "ORGANISMO_DE_CUENCA       0\n",
       "ESTADO                    0\n",
       "MUNICIPIO                 0\n",
       "ACUIFERO                  0\n",
       "SUBTIPO                   0\n",
       "LONGITUD                  0\n",
       "LATITUD                   0\n",
       "ALC_mg/L                  0\n",
       "CALIDAD_ALC               0\n",
       "CONDUCT_mS/cm             0\n",
       "CALIDAD_CONDUC            0\n",
       "SDT_M_mg/L                0\n",
       "CALIDAD_SDT_ra            0\n",
       "CALIDAD_SDT_salin         0\n",
       "FLUORUROS_mg/L            0\n",
       "CALIDAD_FLUO              0\n",
       "DUR_mg/L                  0\n",
       "CALIDAD_DUR               0\n",
       "COLI_FEC_NMP/100_mL       0\n",
       "CALIDAD_COLI_FEC          0\n",
       "N_NO3_mg/L                0\n",
       "CALIDAD_N_NO3             0\n",
       "AS_TOT_mg/L               0\n",
       "CALIDAD_AS                0\n",
       "CD_TOT_mg/L               0\n",
       "CALIDAD_CD                0\n",
       "CR_TOT_mg/L               0\n",
       "CALIDAD_CR                0\n",
       "HG_TOT_mg/L               0\n",
       "CALIDAD_HG                0\n",
       "PB_TOT_mg/L               0\n",
       "CALIDAD_PB                0\n",
       "MN_TOT_mg/L               0\n",
       "CALIDAD_MN                0\n",
       "FE_TOT_mg/L               0\n",
       "CALIDAD_FE                0\n",
       "SEMAFORO                  0\n",
       "CONTAMINANTES           434\n",
       "CUMPLE_CON_ALC            0\n",
       "CUMPLE_CON_COND           0\n",
       "CUMPLE_CON_SDT_ra         0\n",
       "CUMPLE_CON_SDT_salin      0\n",
       "CUMPLE_CON_FLUO           0\n",
       "CUMPLE_CON_DUR            0\n",
       "CUMPLE_CON_CF             0\n",
       "CUMPLE_CON_NO3            0\n",
       "CUMPLE_CON_AS             0\n",
       "CUMPLE_CON_CD             0\n",
       "CUMPLE_CON_CR             0\n",
       "CUMPLE_CON_HG             0\n",
       "CUMPLE_CON_PB             0\n",
       "CUMPLE_CON_MN             0\n",
       "CUMPLE_CON_FE             0\n",
       "dtype: int64"
      ]
     },
     "execution_count": 139,
     "metadata": {},
     "output_type": "execute_result"
    }
   ],
   "source": [
    "dfCalidadSubterranea.isna().sum()"
   ]
  },
  {
   "cell_type": "code",
   "execution_count": 140,
   "metadata": {
    "collapsed": false
   },
   "outputs": [
    {
     "data": {
      "text/plain": [
       "0       Permisible para riego\n",
       "1            Buena para riego\n",
       "2            Buena para riego\n",
       "3            Buena para riego\n",
       "4       Permisible para riego\n",
       "                ...          \n",
       "1063        Dudosa para riego\n",
       "1064         Buena para riego\n",
       "1065        Dudosa para riego\n",
       "1066    Permisible para riego\n",
       "1067    Permisible para riego\n",
       "Name: CALIDAD_CONDUC, Length: 1068, dtype: object"
      ]
     },
     "execution_count": 140,
     "metadata": {},
     "output_type": "execute_result"
    }
   ],
   "source": [
    "dfCalidadSubterranea['CALIDAD_CONDUC']"
   ]
  },
  {
   "cell_type": "code",
   "execution_count": 141,
   "metadata": {
    "collapsed": false
   },
   "outputs": [],
   "source": [
    "#### de una vez normalizamos?\n",
    "## No nos conviene normalizar todavia porque si hay algun rango o umbral se va a perder el valor\n",
    "#\n",
    "#numeric_transformer = Pipeline(steps=[('imputer', SimpleImputer(strategy='median')), ('scaler', MinMaxScaler())])\n",
    "#categorical_transformer = Pipeline(\n",
    "#    steps=[('imputer', SimpleImputer(strategy='most_frequent'))])\n",
    "#\n",
    "#transformer = ColumnTransformer(\n",
    "#    transformers=[\n",
    "#        ('Numericas', numeric_transformer, numericas),\n",
    "#        ('Categoricas', categorical_transformer, categoricas)\n",
    "#    ],\n",
    "#    remainder='passthrough'\n",
    "#)\n"
   ]
  },
  {
   "cell_type": "code",
   "execution_count": 142,
   "metadata": {
    "collapsed": false
   },
   "outputs": [
    {
     "data": {
      "text/plain": [
       "SITIO                     0\n",
       "ORGANISMO_DE_CUENCA       0\n",
       "ESTADO                    0\n",
       "MUNICIPIO                 0\n",
       "ACUIFERO                  0\n",
       "SUBTIPO                   0\n",
       "LONGITUD                  0\n",
       "LATITUD                   0\n",
       "ALC_mg/L                  0\n",
       "CALIDAD_ALC               0\n",
       "CONDUCT_mS/cm             0\n",
       "CALIDAD_CONDUC            0\n",
       "SDT_M_mg/L                0\n",
       "CALIDAD_SDT_ra            0\n",
       "CALIDAD_SDT_salin         0\n",
       "FLUORUROS_mg/L            0\n",
       "CALIDAD_FLUO              0\n",
       "DUR_mg/L                  0\n",
       "CALIDAD_DUR               0\n",
       "COLI_FEC_NMP/100_mL       0\n",
       "CALIDAD_COLI_FEC          0\n",
       "N_NO3_mg/L                0\n",
       "CALIDAD_N_NO3             0\n",
       "AS_TOT_mg/L               0\n",
       "CALIDAD_AS                0\n",
       "CD_TOT_mg/L               0\n",
       "CALIDAD_CD                0\n",
       "CR_TOT_mg/L               0\n",
       "CALIDAD_CR                0\n",
       "HG_TOT_mg/L               0\n",
       "CALIDAD_HG                0\n",
       "PB_TOT_mg/L               0\n",
       "CALIDAD_PB                0\n",
       "MN_TOT_mg/L               0\n",
       "CALIDAD_MN                0\n",
       "FE_TOT_mg/L               0\n",
       "CALIDAD_FE                0\n",
       "SEMAFORO                  0\n",
       "CONTAMINANTES           434\n",
       "CUMPLE_CON_ALC            0\n",
       "CUMPLE_CON_COND           0\n",
       "CUMPLE_CON_SDT_ra         0\n",
       "CUMPLE_CON_SDT_salin      0\n",
       "CUMPLE_CON_FLUO           0\n",
       "CUMPLE_CON_DUR            0\n",
       "CUMPLE_CON_CF             0\n",
       "CUMPLE_CON_NO3            0\n",
       "CUMPLE_CON_AS             0\n",
       "CUMPLE_CON_CD             0\n",
       "CUMPLE_CON_CR             0\n",
       "CUMPLE_CON_HG             0\n",
       "CUMPLE_CON_PB             0\n",
       "CUMPLE_CON_MN             0\n",
       "CUMPLE_CON_FE             0\n",
       "dtype: int64"
      ]
     },
     "execution_count": 142,
     "metadata": {},
     "output_type": "execute_result"
    }
   ],
   "source": [
    "###Revisamos de nuevo cuantos nulos hay\n",
    "\n",
    "dfCalidadSubterranea.isna().sum()"
   ]
  },
  {
   "cell_type": "markdown",
   "metadata": {},
   "source": [
    "### Grabamos los datos limpios"
   ]
  },
  {
   "cell_type": "code",
   "execution_count": 143,
   "metadata": {
    "collapsed": false
   },
   "outputs": [],
   "source": [
    "outPath = '../Reto/datos/Escalas_subterranea_clean.csv'\n",
    "dfCalidadSubterranea.to_csv(outPath)\n"
   ]
  }
 ],
 "metadata": {
  "kernelspec": {
   "display_name": "Python 3.7.3 64-bit",
   "language": "python",
   "name": "python3"
  },
  "language_info": {
   "codemirror_mode": {
    "name": "ipython",
    "version": 3
   },
   "file_extension": ".py",
   "mimetype": "text/x-python",
   "name": "python",
   "nbconvert_exporter": "python",
   "pygments_lexer": "ipython3",
   "version": "3.7.3"
  },
  "vscode": {
   "interpreter": {
    "hash": "31f2aee4e71d21fbe5cf8b01ff0e069b9275f58929596ceb00d14d90e3e16cd6"
   }
  }
 },
 "nbformat": 4,
 "nbformat_minor": 0
}
