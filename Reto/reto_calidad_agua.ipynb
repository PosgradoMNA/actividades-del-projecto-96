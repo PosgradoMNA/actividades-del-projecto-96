{
 "cells": [
  {
   "cell_type": "markdown",
   "source": [
    "Semana 9 - Reto Calidad del agua\n",
    "\n",
    "Lázaro Lara Martínez. Matricula A01793198\n",
    "José Mtanous Treviño. Matricula A00169781\n",
    "\n",
    "Ciencia y Analítica de datos.\n",
    "\n",
    "Profesor Titular. Jobish Vallikavungal Devassia\n",
    "Profesor Tutor. Mtro. Mario Alberto Solano Saldaña\n",
    "\n",
    "09/Noviembre\\/2022"
   ],
   "metadata": {
    "collapsed": false,
    "pycharm": {
     "name": "#%% md\n"
    }
   },
   "outputs": [
    {
     "ename": "SyntaxError",
     "evalue": "leading zeros in decimal integer literals are not permitted; use an 0o prefix for octal integers (3866041208.py, line 11)",
     "output_type": "error",
     "traceback": [
      "\u001B[1;36m  Cell \u001B[1;32mIn [1], line 11\u001B[1;36m\u001B[0m\n\u001B[1;33m    09/Noviembre\\/2022\u001B[0m\n\u001B[1;37m    ^\u001B[0m\n\u001B[1;31mSyntaxError\u001B[0m\u001B[1;31m:\u001B[0m leading zeros in decimal integer literals are not permitted; use an 0o prefix for octal integers\n"
     ]
    }
   ],
   "execution_count": 1
  },
  {
   "cell_type": "code",
   "execution_count": 2,
   "outputs": [],
   "source": [
    "import pandas as pd\n",
    "import numpy as np\n",
    "import matplotlib.pyplot as plt\n",
    "import seaborn as sns"
   ],
   "metadata": {
    "collapsed": false,
    "pycharm": {
     "name": "#%%\n"
    }
   }
  },
  {
   "cell_type": "code",
   "execution_count": null,
   "outputs": [],
   "source": [
    "# cargamos nuestro dataset y lo inspeccionamos rapídamente\n",
    "\n",
    "path_escalas_superficial = '..\\datos\\Escalas_superficial.csv'\n",
    "path_calidad_superficial = ''\n",
    "path_escalas_subterranea = ''\n",
    "path_calidad_subterranea = ''\n",
    "\n",
    "\n",
    "df = pd.read_csv(data_url)\n",
    "#columns = ['amount', 'gender', 'education', 'marital_status', 'age', 'history_of_payment', '']\n",
    "categorical_columns = ['X2', 'X3', 'X4', 'X6', 'X7', 'X8', 'X9', 'X10', 'X11']\n",
    "\n",
    "\n",
    "# PCA funciona bien para dimenciones numéricas, por eso vamos a quitar las dimensiones categóricas de nuesto análisis\n",
    "#\n",
    "df = df.drop(categorical_columns, axis=1)"
   ],
   "metadata": {
    "collapsed": false,
    "pycharm": {
     "name": "#%%\n"
    }
   }
  }
 ],
 "metadata": {
  "kernelspec": {
   "display_name": "Python 3",
   "language": "python",
   "name": "python3"
  },
  "language_info": {
   "codemirror_mode": {
    "name": "ipython",
    "version": 2
   },
   "file_extension": ".py",
   "mimetype": "text/x-python",
   "name": "python",
   "nbconvert_exporter": "python",
   "pygments_lexer": "ipython2",
   "version": "2.7.6"
  }
 },
 "nbformat": 4,
 "nbformat_minor": 0
}