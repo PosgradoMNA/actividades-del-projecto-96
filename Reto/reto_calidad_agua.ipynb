{
 "cells": [
  {
   "cell_type": "markdown",
   "source": [
    "Semana 9 - Reto Calidad del agua\n",
    "\n",
    "Lázaro Lara Martínez. Matricula A01793198\n",
    "José Mtanous Treviño. Matricula A00169781\n",
    "\n",
    "Ciencia y Analítica de datos.\n",
    "\n",
    "Profesor Titular. Jobish Vallikavungal Devassia\n",
    "Profesor Tutor. Mtro. Mario Alberto Solano Saldaña\n",
    "\n",
    "09/Noviembre\\/2022"
   ],
   "metadata": {
    "collapsed": false,
    "pycharm": {
     "name": "#%% md\n"
    }
   },
   "outputs": [
    {
     "ename": "SyntaxError",
     "evalue": "leading zeros in decimal integer literals are not permitted; use an 0o prefix for octal integers (3866041208.py, line 11)",
     "output_type": "error",
     "traceback": [
      "\u001B[1;36m  Cell \u001B[1;32mIn [1], line 11\u001B[1;36m\u001B[0m\n\u001B[1;33m    09/Noviembre\\/2022\u001B[0m\n\u001B[1;37m    ^\u001B[0m\n\u001B[1;31mSyntaxError\u001B[0m\u001B[1;31m:\u001B[0m leading zeros in decimal integer literals are not permitted; use an 0o prefix for octal integers\n"
     ]
    }
   ],
   "execution_count": 1
  },
  {
   "cell_type": "code",
   "execution_count": 5,
   "outputs": [],
   "source": [
    "import pandas as pd\n",
    "import numpy as np\n",
    "import matplotlib.pyplot as plt\n",
    "import seaborn as sns"
   ],
   "metadata": {
    "collapsed": false,
    "pycharm": {
     "name": "#%%\n"
    }
   }
  },
  {
   "cell_type": "code",
   "execution_count": 30,
   "outputs": [],
   "source": [
    "# cargamos nuestro dataset y lo inspeccionamos rapídamente\n",
    "\n",
    "path_escalas_superficial = '../Reto/datos/Escalas_superficial.csv'\n",
    "\n",
    "path_calidad_superficial = '../Reto/datos/Datos_de_calidad_del_agua_de_sitios_de_monitoreo_de_aguas_superficiales_2020.kmz'\n",
    "path_escalas_subterranea = '../Reto/datos/Escalas_subterranea.csv'\n",
    "path_calidad_subterranea = '../Reto/datos/Datos_de_calidad_del_agua_de_sitios_de_monitoreo_de_aguas_subterraneas_2020.csv'\n",
    "\n",
    "dfEscalasSuperficial = pd.read_csv(path_escalas_superficial)\n",
    "dfEscalasSubterranea = pd.read_csv(path_escalas_subterranea)\n",
    "\n",
    "##dfCalidadSuperficial = pd.read_csv(path_calidad_superficial)\n",
    "dfCalidadSubterranea = pd.read_csv(path_calidad_subterranea)\n"
   ],
   "metadata": {
    "collapsed": false,
    "pycharm": {
     "name": "#%%\n"
    }
   }
  },
  {
   "cell_type": "code",
   "execution_count": 34,
   "outputs": [
    {
     "data": {
      "text/plain": "  CALIDAD DEL AGUA PARA COLIFORMES FECALES_subterraneas  \\\n0                                          Excelente      \n1                                      Buena calidad      \n2                                          Aceptable      \n3                                        Contaminada      \n4                            Fuertemente contaminada      \n\n                                            CRITERIO  \\\n0                               COLI_FEC menor a 1.1   \n1  COLI_FEC mayor o igual de 1.1 y menor o igual ...   \n2       COLI_FEC mayor de 200 y menor o igual a 1000   \n3     COLI_FEC mayor de 1000 y menor o igual a 10000   \n4                            COLI_FEC mayor de 10000   \n\n                                         DESCRIPCION  \n0  Agua potable. Agua no contaminada o condicion ...  \n1  Aguas para uso recreativo con contacto primari...  \n2  Aguas con calidad admisible como fuente de aba...  \n3  Aguas  con contaminacion bacteriologica. Indic...  \n4  Aguas con fuerte contaminacion bacteriologica....  ",
      "text/html": "<div>\n<style scoped>\n    .dataframe tbody tr th:only-of-type {\n        vertical-align: middle;\n    }\n\n    .dataframe tbody tr th {\n        vertical-align: top;\n    }\n\n    .dataframe thead th {\n        text-align: right;\n    }\n</style>\n<table border=\"1\" class=\"dataframe\">\n  <thead>\n    <tr style=\"text-align: right;\">\n      <th></th>\n      <th>CALIDAD DEL AGUA PARA COLIFORMES FECALES_subterraneas</th>\n      <th>CRITERIO</th>\n      <th>DESCRIPCION</th>\n    </tr>\n  </thead>\n  <tbody>\n    <tr>\n      <th>0</th>\n      <td>Excelente</td>\n      <td>COLI_FEC menor a 1.1</td>\n      <td>Agua potable. Agua no contaminada o condicion ...</td>\n    </tr>\n    <tr>\n      <th>1</th>\n      <td>Buena calidad</td>\n      <td>COLI_FEC mayor o igual de 1.1 y menor o igual ...</td>\n      <td>Aguas para uso recreativo con contacto primari...</td>\n    </tr>\n    <tr>\n      <th>2</th>\n      <td>Aceptable</td>\n      <td>COLI_FEC mayor de 200 y menor o igual a 1000</td>\n      <td>Aguas con calidad admisible como fuente de aba...</td>\n    </tr>\n    <tr>\n      <th>3</th>\n      <td>Contaminada</td>\n      <td>COLI_FEC mayor de 1000 y menor o igual a 10000</td>\n      <td>Aguas  con contaminacion bacteriologica. Indic...</td>\n    </tr>\n    <tr>\n      <th>4</th>\n      <td>Fuertemente contaminada</td>\n      <td>COLI_FEC mayor de 10000</td>\n      <td>Aguas con fuerte contaminacion bacteriologica....</td>\n    </tr>\n  </tbody>\n</table>\n</div>"
     },
     "execution_count": 34,
     "metadata": {},
     "output_type": "execute_result"
    }
   ],
   "source": [
    "dfEscalasSubterranea.head()"
   ],
   "metadata": {
    "collapsed": false,
    "pycharm": {
     "name": "#%%\n"
    }
   }
  },
  {
   "cell_type": "code",
   "execution_count": 35,
   "outputs": [
    {
     "data": {
      "text/plain": "  CALIDAD DEL AGUA PARA TOXICIDAD  \\\n0                       No t?xico   \n1                  Toxicidad baja   \n2              Toxicidad moderada   \n3                  Toxicidad alta   \n4       CALIDAD DEL AGUA PARA SST   \n\n                                       CRITERIO  \\\n0                                 TOX menor a 1   \n1  TOX mayor o igual a 1 y menor o igual a 1.33   \n2                 TOX mayor de 1.33 y menor a 5   \n3                         TOX mayor o igual a 5   \n4                                     CRITERIO    \n\n                                    DESCRIPCION  \n0  Agua no contaminada.Toxicidad no detectable.  \n1                                Toxicidad baja  \n2                            Toxicidad moderada  \n3                                Toxicidad alta  \n4                                   DESCRIPCION  ",
      "text/html": "<div>\n<style scoped>\n    .dataframe tbody tr th:only-of-type {\n        vertical-align: middle;\n    }\n\n    .dataframe tbody tr th {\n        vertical-align: top;\n    }\n\n    .dataframe thead th {\n        text-align: right;\n    }\n</style>\n<table border=\"1\" class=\"dataframe\">\n  <thead>\n    <tr style=\"text-align: right;\">\n      <th></th>\n      <th>CALIDAD DEL AGUA PARA TOXICIDAD</th>\n      <th>CRITERIO</th>\n      <th>DESCRIPCION</th>\n    </tr>\n  </thead>\n  <tbody>\n    <tr>\n      <th>0</th>\n      <td>No t?xico</td>\n      <td>TOX menor a 1</td>\n      <td>Agua no contaminada.Toxicidad no detectable.</td>\n    </tr>\n    <tr>\n      <th>1</th>\n      <td>Toxicidad baja</td>\n      <td>TOX mayor o igual a 1 y menor o igual a 1.33</td>\n      <td>Toxicidad baja</td>\n    </tr>\n    <tr>\n      <th>2</th>\n      <td>Toxicidad moderada</td>\n      <td>TOX mayor de 1.33 y menor a 5</td>\n      <td>Toxicidad moderada</td>\n    </tr>\n    <tr>\n      <th>3</th>\n      <td>Toxicidad alta</td>\n      <td>TOX mayor o igual a 5</td>\n      <td>Toxicidad alta</td>\n    </tr>\n    <tr>\n      <th>4</th>\n      <td>CALIDAD DEL AGUA PARA SST</td>\n      <td>CRITERIO</td>\n      <td>DESCRIPCION</td>\n    </tr>\n  </tbody>\n</table>\n</div>"
     },
     "execution_count": 35,
     "metadata": {},
     "output_type": "execute_result"
    }
   ],
   "source": [
    "dfEscalasSuperficial.head()"
   ],
   "metadata": {
    "collapsed": false,
    "pycharm": {
     "name": "#%%\n"
    }
   }
  },
  {
   "cell_type": "code",
   "execution_count": null,
   "outputs": [],
   "source": [],
   "metadata": {
    "collapsed": false,
    "pycharm": {
     "name": "#%%\n"
    }
   }
  },
  {
   "cell_type": "code",
   "execution_count": 36,
   "outputs": [
    {
     "data": {
      "text/plain": "       CLAVE                   SITIO           ORGANISMO_DE_CUENCA  \\\n0     DLAGU6            POZO SAN GIL       LERMA SANTIAGO PACIFICO   \n1  DLAGU6516  POZO R013 CAÑADA HONDA       LERMA SANTIAGO PACIFICO   \n2     DLAGU7              POZO COSIO       LERMA SANTIAGO PACIFICO   \n3     DLAGU9      POZO EL SALITRILLO       LERMA SANTIAGO PACIFICO   \n4   DLBAJ107      RANCHO EL TECOLOTE  PENINSULA DE BAJA CALIFORNIA   \n\n                ESTADO        MUNICIPIO                 ACUIFERO SUBTIPO  \\\n0       AGUASCALIENTES         ASIENTOS       VALLE DE CHICALOTE    POZO   \n1       AGUASCALIENTES   AGUASCALIENTES       VALLE DE CHICALOTE    POZO   \n2       AGUASCALIENTES            COSIO  VALLE DE AGUASCALIENTES    POZO   \n3       AGUASCALIENTES  RINCON DE ROMOS  VALLE DE AGUASCALIENTES    POZO   \n4  BAJA CALIFORNIA SUR           LA PAZ             TODOS SANTOS    POZO   \n\n    LONGITUD   LATITUD  PERIODO  ...  CUMPLE_CON_DUR CUMPLE_CON_CF  \\\n0 -102.02210  22.20887     2020  ...              SI            SI   \n1 -102.20075  21.99958     2020  ...              SI            SI   \n2 -102.28801  22.36685     2020  ...              SI            SI   \n3 -102.29449  22.18435     2020  ...              SI            SI   \n4 -110.24480  23.45138     2020  ...              SI            SI   \n\n   CUMPLE_CON_NO3 CUMPLE_CON_AS  CUMPLE_CON_CD CUMPLE_CON_CR CUMPLE_CON_HG  \\\n0              SI            SI             SI            SI            SI   \n1              SI            SI             SI            SI            SI   \n2              SI            NO             SI            SI            SI   \n3              SI            SI             SI            SI            SI   \n4              NO            SI             SI            SI            SI   \n\n  CUMPLE_CON_PB CUMPLE_CON_MN CUMPLE_CON_FE  \n0            SI            SI            SI  \n1            SI            SI            SI  \n2            SI            SI            SI  \n3            SI            SI            SI  \n4            SI            SI            SI  \n\n[5 rows x 57 columns]",
      "text/html": "<div>\n<style scoped>\n    .dataframe tbody tr th:only-of-type {\n        vertical-align: middle;\n    }\n\n    .dataframe tbody tr th {\n        vertical-align: top;\n    }\n\n    .dataframe thead th {\n        text-align: right;\n    }\n</style>\n<table border=\"1\" class=\"dataframe\">\n  <thead>\n    <tr style=\"text-align: right;\">\n      <th></th>\n      <th>CLAVE</th>\n      <th>SITIO</th>\n      <th>ORGANISMO_DE_CUENCA</th>\n      <th>ESTADO</th>\n      <th>MUNICIPIO</th>\n      <th>ACUIFERO</th>\n      <th>SUBTIPO</th>\n      <th>LONGITUD</th>\n      <th>LATITUD</th>\n      <th>PERIODO</th>\n      <th>...</th>\n      <th>CUMPLE_CON_DUR</th>\n      <th>CUMPLE_CON_CF</th>\n      <th>CUMPLE_CON_NO3</th>\n      <th>CUMPLE_CON_AS</th>\n      <th>CUMPLE_CON_CD</th>\n      <th>CUMPLE_CON_CR</th>\n      <th>CUMPLE_CON_HG</th>\n      <th>CUMPLE_CON_PB</th>\n      <th>CUMPLE_CON_MN</th>\n      <th>CUMPLE_CON_FE</th>\n    </tr>\n  </thead>\n  <tbody>\n    <tr>\n      <th>0</th>\n      <td>DLAGU6</td>\n      <td>POZO SAN GIL</td>\n      <td>LERMA SANTIAGO PACIFICO</td>\n      <td>AGUASCALIENTES</td>\n      <td>ASIENTOS</td>\n      <td>VALLE DE CHICALOTE</td>\n      <td>POZO</td>\n      <td>-102.02210</td>\n      <td>22.20887</td>\n      <td>2020</td>\n      <td>...</td>\n      <td>SI</td>\n      <td>SI</td>\n      <td>SI</td>\n      <td>SI</td>\n      <td>SI</td>\n      <td>SI</td>\n      <td>SI</td>\n      <td>SI</td>\n      <td>SI</td>\n      <td>SI</td>\n    </tr>\n    <tr>\n      <th>1</th>\n      <td>DLAGU6516</td>\n      <td>POZO R013 CAÑADA HONDA</td>\n      <td>LERMA SANTIAGO PACIFICO</td>\n      <td>AGUASCALIENTES</td>\n      <td>AGUASCALIENTES</td>\n      <td>VALLE DE CHICALOTE</td>\n      <td>POZO</td>\n      <td>-102.20075</td>\n      <td>21.99958</td>\n      <td>2020</td>\n      <td>...</td>\n      <td>SI</td>\n      <td>SI</td>\n      <td>SI</td>\n      <td>SI</td>\n      <td>SI</td>\n      <td>SI</td>\n      <td>SI</td>\n      <td>SI</td>\n      <td>SI</td>\n      <td>SI</td>\n    </tr>\n    <tr>\n      <th>2</th>\n      <td>DLAGU7</td>\n      <td>POZO COSIO</td>\n      <td>LERMA SANTIAGO PACIFICO</td>\n      <td>AGUASCALIENTES</td>\n      <td>COSIO</td>\n      <td>VALLE DE AGUASCALIENTES</td>\n      <td>POZO</td>\n      <td>-102.28801</td>\n      <td>22.36685</td>\n      <td>2020</td>\n      <td>...</td>\n      <td>SI</td>\n      <td>SI</td>\n      <td>SI</td>\n      <td>NO</td>\n      <td>SI</td>\n      <td>SI</td>\n      <td>SI</td>\n      <td>SI</td>\n      <td>SI</td>\n      <td>SI</td>\n    </tr>\n    <tr>\n      <th>3</th>\n      <td>DLAGU9</td>\n      <td>POZO EL SALITRILLO</td>\n      <td>LERMA SANTIAGO PACIFICO</td>\n      <td>AGUASCALIENTES</td>\n      <td>RINCON DE ROMOS</td>\n      <td>VALLE DE AGUASCALIENTES</td>\n      <td>POZO</td>\n      <td>-102.29449</td>\n      <td>22.18435</td>\n      <td>2020</td>\n      <td>...</td>\n      <td>SI</td>\n      <td>SI</td>\n      <td>SI</td>\n      <td>SI</td>\n      <td>SI</td>\n      <td>SI</td>\n      <td>SI</td>\n      <td>SI</td>\n      <td>SI</td>\n      <td>SI</td>\n    </tr>\n    <tr>\n      <th>4</th>\n      <td>DLBAJ107</td>\n      <td>RANCHO EL TECOLOTE</td>\n      <td>PENINSULA DE BAJA CALIFORNIA</td>\n      <td>BAJA CALIFORNIA SUR</td>\n      <td>LA PAZ</td>\n      <td>TODOS SANTOS</td>\n      <td>POZO</td>\n      <td>-110.24480</td>\n      <td>23.45138</td>\n      <td>2020</td>\n      <td>...</td>\n      <td>SI</td>\n      <td>SI</td>\n      <td>NO</td>\n      <td>SI</td>\n      <td>SI</td>\n      <td>SI</td>\n      <td>SI</td>\n      <td>SI</td>\n      <td>SI</td>\n      <td>SI</td>\n    </tr>\n  </tbody>\n</table>\n<p>5 rows × 57 columns</p>\n</div>"
     },
     "execution_count": 36,
     "metadata": {},
     "output_type": "execute_result"
    }
   ],
   "source": [
    "dfCalidadSubterranea.head()"
   ],
   "metadata": {
    "collapsed": false,
    "pycharm": {
     "name": "#%%\n"
    }
   }
  },
  {
   "cell_type": "code",
   "execution_count": 37,
   "outputs": [
    {
     "name": "stdout",
     "output_type": "stream",
     "text": [
      "<class 'pandas.core.frame.DataFrame'>\n",
      "RangeIndex: 1068 entries, 0 to 1067\n",
      "Data columns (total 57 columns):\n",
      " #   Column                Non-Null Count  Dtype  \n",
      "---  ------                --------------  -----  \n",
      " 0   CLAVE                 1068 non-null   object \n",
      " 1   SITIO                 1068 non-null   object \n",
      " 2   ORGANISMO_DE_CUENCA   1068 non-null   object \n",
      " 3   ESTADO                1068 non-null   object \n",
      " 4   MUNICIPIO             1068 non-null   object \n",
      " 5   ACUIFERO              1068 non-null   object \n",
      " 6   SUBTIPO               1068 non-null   object \n",
      " 7   LONGITUD              1068 non-null   float64\n",
      " 8   LATITUD               1068 non-null   float64\n",
      " 9   PERIODO               1068 non-null   int64  \n",
      " 10  ALC_mg/L              1064 non-null   float64\n",
      " 11  CALIDAD_ALC           1064 non-null   object \n",
      " 12  CONDUCT_mS/cm         1062 non-null   float64\n",
      " 13  CALIDAD_CONDUC        1062 non-null   object \n",
      " 14  SDT_mg/L              0 non-null      float64\n",
      " 15  SDT_M_mg/L            1066 non-null   object \n",
      " 16  CALIDAD_SDT_ra        1066 non-null   object \n",
      " 17  CALIDAD_SDT_salin     1066 non-null   object \n",
      " 18  FLUORUROS_mg/L        1068 non-null   object \n",
      " 19  CALIDAD_FLUO          1068 non-null   object \n",
      " 20  DUR_mg/L              1067 non-null   object \n",
      " 21  CALIDAD_DUR           1067 non-null   object \n",
      " 22  COLI_FEC_NMP/100_mL   1068 non-null   object \n",
      " 23  CALIDAD_COLI_FEC      1068 non-null   object \n",
      " 24  N_NO3_mg/L            1067 non-null   object \n",
      " 25  CALIDAD_N_NO3         1067 non-null   object \n",
      " 26  AS_TOT_mg/L           1068 non-null   object \n",
      " 27  CALIDAD_AS            1068 non-null   object \n",
      " 28  CD_TOT_mg/L           1068 non-null   object \n",
      " 29  CALIDAD_CD            1068 non-null   object \n",
      " 30  CR_TOT_mg/L           1068 non-null   object \n",
      " 31  CALIDAD_CR            1068 non-null   object \n",
      " 32  HG_TOT_mg/L           1068 non-null   object \n",
      " 33  CALIDAD_HG            1068 non-null   object \n",
      " 34  PB_TOT_mg/L           1068 non-null   object \n",
      " 35  CALIDAD_PB            1068 non-null   object \n",
      " 36  MN_TOT_mg/L           1068 non-null   object \n",
      " 37  CALIDAD_MN            1068 non-null   object \n",
      " 38  FE_TOT_mg/L           1068 non-null   object \n",
      " 39  CALIDAD_FE            1068 non-null   object \n",
      " 40  SEMAFORO              1068 non-null   object \n",
      " 41  CONTAMINANTES         634 non-null    object \n",
      " 42  CUMPLE_CON_ALC        1068 non-null   object \n",
      " 43  CUMPLE_CON_COND       1068 non-null   object \n",
      " 44  CUMPLE_CON_SDT_ra     1068 non-null   object \n",
      " 45  CUMPLE_CON_SDT_salin  1068 non-null   object \n",
      " 46  CUMPLE_CON_FLUO       1068 non-null   object \n",
      " 47  CUMPLE_CON_DUR        1068 non-null   object \n",
      " 48  CUMPLE_CON_CF         1068 non-null   object \n",
      " 49  CUMPLE_CON_NO3        1068 non-null   object \n",
      " 50  CUMPLE_CON_AS         1068 non-null   object \n",
      " 51  CUMPLE_CON_CD         1068 non-null   object \n",
      " 52  CUMPLE_CON_CR         1068 non-null   object \n",
      " 53  CUMPLE_CON_HG         1068 non-null   object \n",
      " 54  CUMPLE_CON_PB         1068 non-null   object \n",
      " 55  CUMPLE_CON_MN         1068 non-null   object \n",
      " 56  CUMPLE_CON_FE         1068 non-null   object \n",
      "dtypes: float64(5), int64(1), object(51)\n",
      "memory usage: 475.7+ KB\n"
     ]
    }
   ],
   "source": [
    "dfCalidadSubterranea.info()"
   ],
   "metadata": {
    "collapsed": false,
    "pycharm": {
     "name": "#%%\n"
    }
   }
  },
  {
   "cell_type": "code",
   "execution_count": null,
   "outputs": [],
   "source": [],
   "metadata": {
    "collapsed": false,
    "pycharm": {
     "name": "#%%\n"
    }
   }
  }
 ],
 "metadata": {
  "kernelspec": {
   "display_name": "Python 3",
   "language": "python",
   "name": "python3"
  },
  "language_info": {
   "codemirror_mode": {
    "name": "ipython",
    "version": 2
   },
   "file_extension": ".py",
   "mimetype": "text/x-python",
   "name": "python",
   "nbconvert_exporter": "python",
   "pygments_lexer": "ipython2",
   "version": "2.7.6"
  }
 },
 "nbformat": 4,
 "nbformat_minor": 0
}