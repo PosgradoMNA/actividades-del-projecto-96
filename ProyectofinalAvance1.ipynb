{
  "cells": [
    {
      "cell_type": "markdown",
      "metadata": {},
      "source": [
        "# Proyecto final - Avance 1\n",
        "## Ciencia y analítica de datos (Gpo 10)\n",
        "### José Mtanous Treviño a00169781@tec.mx, Lázaro Lara Martínez a01793198@tec.mx\n"
      ]
    },
    {
      "cell_type": "markdown",
      "metadata": {},
      "source": [
        "#### Base de datos selecionada\n",
        "La base de datos que seleccionamos para nuestro proyecto contiene datos médicos de Covid19 en México<br>\n",
        "Adicionalemente usaramos un pequeño archivo que contiene la descripción detallada de las columnas de nuestra fuente de de datos.<br>\n",
        "Las fuentes que usaremos son:<br>\n",
        "- *Mexico COVID-19 clinical data*<br>\n",
        "- *Diccionario de de Datos Covid19*<br>"
      ]
    },
    {
      "cell_type": "markdown",
      "metadata": {},
      "source": [
        "#### Mexico COVID-19 clinical data\n",
        "__[https://www.kaggle.com/datasets/marianarfranklin/mexico-covid19-clinical-data?select=mexico_covid19.csv](https://www.kaggle.com/datasets/marianarfranklin/mexico-covid19-clinical-data?select=mexico_covid19.csv)__ <br>\n",
        "Tamaño de archivo: 6MB<br>"
      ]
    },
    {
      "cell_type": "markdown",
      "metadata": {},
      "source": [
        "#### Diccionario de de Datos Covid19\n",
        "__[http://datosabiertos.salud.gob.mx/gobmx/salud/datos_abiertos/diccionario_datos_covid19.zip](http://datosabiertos.salud.gob.mx/gobmx/salud/datos_abiertos/diccionario_datos_covid19.zip)__ <br>\n",
        "Tamaño de archivo: 0MB<br>"
      ]
    },
    {
      "cell_type": "markdown",
      "metadata": {},
      "source": []
    },
    {
      "cell_type": "markdown",
      "metadata": {},
      "source": []
    },
    {
      "cell_type": "code",
      "execution_count": null,
      "metadata": {
        "id": "mxM_WppZPMFx"
      },
      "outputs": [],
      "source": []
    }
  ],
  "metadata": {
    "colab": {
      "include_colab_link": true,
      "name": "assignment01.ipynb",
      "provenance": []
    },
    "kernelspec": {
      "display_name": "Python 3",
      "name": "python3"
    },
    "language_info": {
      "name": "python"
    }
  },
  "nbformat": 4,
  "nbformat_minor": 0
}
