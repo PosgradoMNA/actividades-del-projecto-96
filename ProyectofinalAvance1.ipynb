{
  "cells": [
    {
      "cell_type": "markdown",
      "metadata": {},
      "source": [
        "# Proyecto final - Avance 1\n",
        "## Ciencia y analítica de datos (Gpo 10)\n",
        "### José Mtanous Treviño a00169781@tec.mx, Lázaro Lara Martínez a01793198@tec.mx\n"
      ]
    },
    {
      "cell_type": "markdown",
      "metadata": {},
      "source": [
        "#### Base de datos selecionada\n",
        "La base de datos que seleccionamos para nuestro proyecto es <br>\n",
        "*nombre de la base de datos* <br>\n",
        "*url de la base de datos* <br>"
      ]
    },
    {
      "cell_type": "code",
      "execution_count": null,
      "metadata": {
        "id": "mxM_WppZPMFx"
      },
      "outputs": [],
      "source": []
    }
  ],
  "metadata": {
    "colab": {
      "include_colab_link": true,
      "name": "assignment01.ipynb",
      "provenance": []
    },
    "kernelspec": {
      "display_name": "Python 3",
      "name": "python3"
    },
    "language_info": {
      "name": "python"
    }
  },
  "nbformat": 4,
  "nbformat_minor": 0
}
