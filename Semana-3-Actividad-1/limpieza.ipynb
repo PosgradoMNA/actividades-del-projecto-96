{
 "nbformat": 4,
 "nbformat_minor": 0,
 "metadata": {
  "colab": {
   "provenance": []
  },
  "kernelspec": {
   "name": "python3",
   "display_name": "Python 3"
  },
  "language_info": {
   "name": "python"
  }
 },
 "cells": [
  {
   "cell_type": "markdown",
   "source": [
    "### Semana 3 - Actividad 1\n",
    "### Limpieza de datos\n",
    "\n",
    "Lázaro Lara Martínez.\n",
    "Matricula A01793198\n",
    "\n",
    "Ciencia y Analítica de datos.\n",
    "\n",
    "Profesor Titular.\n",
    "Jobish Vallikavungal Devassia\n",
    "\n",
    "Profesor Tutor.\n",
    "Mtro. Mario Alberto Solano Saldaña\n",
    "\n",
    "01/Octubre/2022\n"
   ],
   "metadata": {
    "id": "fOOlgJNH2cpv",
    "pycharm": {
     "name": "#%% md\n"
    }
   }
  },
  {
   "cell_type": "markdown",
   "source": [
    "### Fundamentos de bases de datos y para ciencia de datos.\n",
    "\n",
    "¿Qué es una base de datos?:\n",
    "\n",
    "Es un software capaz de almacenar gran cantidad de datos que tienen relación entre sí y están estructurados. Sus datos pueden ser consultados rápidamente utilizado un lenguaje estructurado de consultas llamado SQL. En una base de datos existen diferentes tipos de objetos como son tablas las cuales contienen columnas, filas y celdas.\n",
    "Los registros en una tabla son los renglones los cuales contienen diferentes campos o columnas, las celdas contienen un dato de dicha columna y renglón.\n",
    "También existen vistas las cuales pueden unir lógicamente diferentes tablas, índices para hacer más rápidas las consultas, triggers para ejecutar acciones antes o después de insertar, actualizar o borrar datos y constraints para restringir el contenido de los datos.\n",
    "\n",
    "Existen distintas aplicaciones para las bases de datos como bancos, aerolíneas, universidades, ventas, tiendas en línea, RH etc.\n",
    "\n",
    "Las Bases de datos más utilizadas son, Oracle MySQL, PostgreSQL y MS SQL Server.\n",
    "\n",
    "¿Qué es un Data Warehouse?\n",
    "\n",
    "Es un almacenamiento de datos que permite a las empresas comprender y utilizar sus datos para tomar decisiones estratégicas, los datos se recopilan y transforman desde diferentes sistemas en una sola base de datos que será utilizada solo para este fin.\n",
    "\n"
   ],
   "metadata": {
    "collapsed": false,
    "pycharm": {
     "name": "#%% md\n"
    }
   }
  },
  {
   "cell_type": "markdown",
   "source": [],
   "metadata": {
    "collapsed": false,
    "pycharm": {
     "name": "#%% md\n"
    }
   }
  },
  {
   "cell_type": "markdown",
   "source": [
    "La limpieza de datos implica observar más de cerca los problemas en los datos que ha seleccionado incluir en el análisis.\n",
    "\n",
    "### Problema de datos"
   ],
   "metadata": {
    "id": "7N8p5jpd5Inf",
    "pycharm": {
     "name": "#%% md\n"
    }
   }
  },
  {
   "cell_type": "markdown",
   "source": [
    "### Se importan las librerías Pandas y numpy"
   ],
   "metadata": {
    "collapsed": false,
    "pycharm": {
     "name": "#%% md\n"
    }
   }
  },
  {
   "cell_type": "code",
   "source": [
    "import pandas as pd\n",
    "import numpy as np"
   ],
   "metadata": {
    "id": "TovbM7qJXFGF",
    "pycharm": {
     "name": "#%%\n"
    }
   },
   "execution_count": 1,
   "outputs": []
  },
  {
   "cell_type": "markdown",
   "source": [
    "Podemos crear un base de datos (DataFrame):\n",
    "\n",
    "Se crean los datos de prueba en un tipo de dato dict, el cual en python es una estructura hash table key:value"
   ],
   "metadata": {
    "id": "sBPpvD3A-kY8",
    "pycharm": {
     "name": "#%% md\n"
    }
   }
  },
  {
   "cell_type": "code",
   "source": [
    "x = {'Company': ['Ford', 'Ford', 'VW', 'BMW', 'Cooper', 'Cooper'], \n",
    "     'Stars' : [1, 2, np.nan, 2, 1, 1], \n",
    "     'Weight' : [2, 4, 2, 2, 3, None], \n",
    "     'Origin' : ['China', 'Mexico', 'Mexico', None, 'China', np.nan], \n",
    "     'Length': [40, 50, 30, np.nan, 45, pd.NaT]\n",
    "}\n",
    "\n",
    "print(type(x))\n",
    "print(x)"
   ],
   "metadata": {
    "id": "2GC7dWBwTh1W",
    "pycharm": {
     "name": "#%%\n"
    }
   },
   "execution_count": 58,
   "outputs": [
    {
     "name": "stdout",
     "output_type": "stream",
     "text": [
      "<class 'dict'>\n",
      "{'Company': ['Ford', 'Ford', 'VW', 'BMW', 'Cooper', 'Cooper'], 'Stars': [1, 2, nan, 2, 1, 1], 'Weight': [2, 4, 2, 2, 3, None], 'Origin': ['China', 'Mexico', 'Mexico', None, 'China', nan], 'Length': [40, 50, 30, nan, 45, NaT]}\n"
     ]
    }
   ]
  },
  {
   "cell_type": "markdown",
   "source": [
    "A partir del dict se crea un dataframe de Pandas."
   ],
   "metadata": {
    "collapsed": false,
    "pycharm": {
     "name": "#%% md\n"
    }
   }
  },
  {
   "cell_type": "code",
   "source": [
    "df  = pd.DataFrame(data = x)\n",
    "df"
   ],
   "metadata": {
    "id": "OFQ-JyePXD_g",
    "colab": {
     "base_uri": "https://localhost:8080/",
     "height": 231
    },
    "outputId": "2de25f0a-0125-4831-d1f4-9b807e44b5fd",
    "pycharm": {
     "name": "#%%\n"
    }
   },
   "execution_count": 3,
   "outputs": [
    {
     "data": {
      "text/plain": "  Company  Stars  Weight  Origin Length\n0    Ford    1.0     2.0   China     40\n1    Ford    2.0     4.0  Mexico     50\n2      VW    NaN     2.0  Mexico     30\n3     BMW    2.0     2.0    None    NaN\n4  Cooper    1.0     3.0   China     45\n5  Cooper    1.0     NaN     NaN    NaT",
      "text/html": "<div>\n<style scoped>\n    .dataframe tbody tr th:only-of-type {\n        vertical-align: middle;\n    }\n\n    .dataframe tbody tr th {\n        vertical-align: top;\n    }\n\n    .dataframe thead th {\n        text-align: right;\n    }\n</style>\n<table border=\"1\" class=\"dataframe\">\n  <thead>\n    <tr style=\"text-align: right;\">\n      <th></th>\n      <th>Company</th>\n      <th>Stars</th>\n      <th>Weight</th>\n      <th>Origin</th>\n      <th>Length</th>\n    </tr>\n  </thead>\n  <tbody>\n    <tr>\n      <th>0</th>\n      <td>Ford</td>\n      <td>1.0</td>\n      <td>2.0</td>\n      <td>China</td>\n      <td>40</td>\n    </tr>\n    <tr>\n      <th>1</th>\n      <td>Ford</td>\n      <td>2.0</td>\n      <td>4.0</td>\n      <td>Mexico</td>\n      <td>50</td>\n    </tr>\n    <tr>\n      <th>2</th>\n      <td>VW</td>\n      <td>NaN</td>\n      <td>2.0</td>\n      <td>Mexico</td>\n      <td>30</td>\n    </tr>\n    <tr>\n      <th>3</th>\n      <td>BMW</td>\n      <td>2.0</td>\n      <td>2.0</td>\n      <td>None</td>\n      <td>NaN</td>\n    </tr>\n    <tr>\n      <th>4</th>\n      <td>Cooper</td>\n      <td>1.0</td>\n      <td>3.0</td>\n      <td>China</td>\n      <td>45</td>\n    </tr>\n    <tr>\n      <th>5</th>\n      <td>Cooper</td>\n      <td>1.0</td>\n      <td>NaN</td>\n      <td>NaN</td>\n      <td>NaT</td>\n    </tr>\n  </tbody>\n</table>\n</div>"
     },
     "execution_count": 3,
     "metadata": {},
     "output_type": "execute_result"
    }
   ]
  },
  {
   "cell_type": "markdown",
   "source": [
    "Se guarda el Data frame en un archivo CSV."
   ],
   "metadata": {
    "id": "e9cdTkWX-xj5",
    "pycharm": {
     "name": "#%% md\n"
    }
   }
  },
  {
   "cell_type": "code",
   "source": [
    "df.to_csv('data.csv')"
   ],
   "metadata": {
    "id": "HznSD5BI-vcN",
    "pycharm": {
     "name": "#%%\n"
    }
   },
   "execution_count": 4,
   "outputs": []
  },
  {
   "cell_type": "markdown",
   "source": [
    "Se lee el archivo creado y el resultado se guarda en un dataframe."
   ],
   "metadata": {
    "id": "ZKh13NpO-564",
    "pycharm": {
     "name": "#%% md\n"
    }
   }
  },
  {
   "cell_type": "code",
   "source": [
    "df = pd.read_csv('data.csv', index_col=0)\n",
    "df"
   ],
   "metadata": {
    "colab": {
     "base_uri": "https://localhost:8080/",
     "height": 231
    },
    "id": "77HABkN9-BHz",
    "outputId": "41743253-6aa5-4ac9-8557-f50971e4810f",
    "pycharm": {
     "name": "#%%\n"
    }
   },
   "execution_count": 6,
   "outputs": [
    {
     "data": {
      "text/plain": "  Company  Stars  Weight  Origin  Length\n0    Ford    1.0     2.0   China    40.0\n1    Ford    2.0     4.0  Mexico    50.0\n2      VW    NaN     2.0  Mexico    30.0\n3     BMW    2.0     2.0     NaN     NaN\n4  Cooper    1.0     3.0   China    45.0\n5  Cooper    1.0     NaN     NaN     NaN",
      "text/html": "<div>\n<style scoped>\n    .dataframe tbody tr th:only-of-type {\n        vertical-align: middle;\n    }\n\n    .dataframe tbody tr th {\n        vertical-align: top;\n    }\n\n    .dataframe thead th {\n        text-align: right;\n    }\n</style>\n<table border=\"1\" class=\"dataframe\">\n  <thead>\n    <tr style=\"text-align: right;\">\n      <th></th>\n      <th>Company</th>\n      <th>Stars</th>\n      <th>Weight</th>\n      <th>Origin</th>\n      <th>Length</th>\n    </tr>\n  </thead>\n  <tbody>\n    <tr>\n      <th>0</th>\n      <td>Ford</td>\n      <td>1.0</td>\n      <td>2.0</td>\n      <td>China</td>\n      <td>40.0</td>\n    </tr>\n    <tr>\n      <th>1</th>\n      <td>Ford</td>\n      <td>2.0</td>\n      <td>4.0</td>\n      <td>Mexico</td>\n      <td>50.0</td>\n    </tr>\n    <tr>\n      <th>2</th>\n      <td>VW</td>\n      <td>NaN</td>\n      <td>2.0</td>\n      <td>Mexico</td>\n      <td>30.0</td>\n    </tr>\n    <tr>\n      <th>3</th>\n      <td>BMW</td>\n      <td>2.0</td>\n      <td>2.0</td>\n      <td>NaN</td>\n      <td>NaN</td>\n    </tr>\n    <tr>\n      <th>4</th>\n      <td>Cooper</td>\n      <td>1.0</td>\n      <td>3.0</td>\n      <td>China</td>\n      <td>45.0</td>\n    </tr>\n    <tr>\n      <th>5</th>\n      <td>Cooper</td>\n      <td>1.0</td>\n      <td>NaN</td>\n      <td>NaN</td>\n      <td>NaN</td>\n    </tr>\n  </tbody>\n</table>\n</div>"
     },
     "execution_count": 6,
     "metadata": {},
     "output_type": "execute_result"
    }
   ]
  },
  {
   "cell_type": "markdown",
   "source": [
    "Existen diferentes formas de verificar si falta un dato entre ellas, la siguente línea que muestra un resultado Verdadero."
   ],
   "metadata": {
    "id": "dKpA0GXt_OBn",
    "pycharm": {
     "name": "#%% md\n"
    }
   }
  },
  {
   "cell_type": "code",
   "source": [
    "df.isnull().values.any()"
   ],
   "metadata": {
    "id": "A0GdxAaDXUmu",
    "colab": {
     "base_uri": "https://localhost:8080/"
    },
    "outputId": "55c3d399-e0af-42e0-960f-6dd2b711b2b0",
    "pycharm": {
     "name": "#%%\n"
    }
   },
   "execution_count": 7,
   "outputs": [
    {
     "data": {
      "text/plain": "True"
     },
     "execution_count": 7,
     "metadata": {},
     "output_type": "execute_result"
    }
   ]
  },
  {
   "cell_type": "markdown",
   "source": [
    "Se muestran un resumen de todas las columnas a las que les falta un dato"
   ],
   "metadata": {
    "collapsed": false,
    "pycharm": {
     "name": "#%% md\n"
    }
   }
  },
  {
   "cell_type": "code",
   "source": [
    "df.isnull().any()"
   ],
   "metadata": {
    "id": "h7AZVyHraY6N",
    "colab": {
     "base_uri": "https://localhost:8080/"
    },
    "outputId": "31e10cba-3f98-458c-c9ad-675527191388",
    "pycharm": {
     "name": "#%%\n"
    }
   },
   "execution_count": 8,
   "outputs": [
    {
     "data": {
      "text/plain": "Company    False\nStars       True\nWeight      True\nOrigin      True\nLength      True\ndtype: bool"
     },
     "execution_count": 8,
     "metadata": {},
     "output_type": "execute_result"
    }
   ]
  },
  {
   "cell_type": "markdown",
   "source": [
    "Ambas funciones isna() e isnull() son usadas para encontrar datos faltantes en un dataframe de pandas."
   ],
   "metadata": {
    "id": "NNGpDgWP_QPj",
    "pycharm": {
     "name": "#%% md\n"
    }
   }
  },
  {
   "cell_type": "code",
   "source": [
    "df.isna().values.any()"
   ],
   "metadata": {
    "id": "Rhws9Sa-ajZB",
    "colab": {
     "base_uri": "https://localhost:8080/"
    },
    "outputId": "b63a47ca-2829-488e-c393-4796404f88ce",
    "pycharm": {
     "name": "#%%\n"
    }
   },
   "execution_count": 9,
   "outputs": [
    {
     "data": {
      "text/plain": "True"
     },
     "execution_count": 9,
     "metadata": {},
     "output_type": "execute_result"
    }
   ]
  },
  {
   "cell_type": "code",
   "source": [
    "df.isna().any()"
   ],
   "metadata": {
    "id": "qAQve11na8aR",
    "colab": {
     "base_uri": "https://localhost:8080/"
    },
    "outputId": "3399670f-32cd-44db-e5b2-baf7fb75bf2a",
    "pycharm": {
     "name": "#%%\n"
    }
   },
   "execution_count": 10,
   "outputs": [
    {
     "data": {
      "text/plain": "Company    False\nStars       True\nWeight      True\nOrigin      True\nLength      True\ndtype: bool"
     },
     "execution_count": 10,
     "metadata": {},
     "output_type": "execute_result"
    }
   ]
  },
  {
   "cell_type": "code",
   "source": [
    "df"
   ],
   "metadata": {
    "id": "Fw_kn2tsbD-5",
    "colab": {
     "base_uri": "https://localhost:8080/",
     "height": 231
    },
    "outputId": "5b66934f-7d9a-45f1-8234-c065f9f57e51",
    "pycharm": {
     "name": "#%%\n"
    }
   },
   "execution_count": 11,
   "outputs": [
    {
     "data": {
      "text/plain": "  Company  Stars  Weight  Origin  Length\n0    Ford    1.0     2.0   China    40.0\n1    Ford    2.0     4.0  Mexico    50.0\n2      VW    NaN     2.0  Mexico    30.0\n3     BMW    2.0     2.0     NaN     NaN\n4  Cooper    1.0     3.0   China    45.0\n5  Cooper    1.0     NaN     NaN     NaN",
      "text/html": "<div>\n<style scoped>\n    .dataframe tbody tr th:only-of-type {\n        vertical-align: middle;\n    }\n\n    .dataframe tbody tr th {\n        vertical-align: top;\n    }\n\n    .dataframe thead th {\n        text-align: right;\n    }\n</style>\n<table border=\"1\" class=\"dataframe\">\n  <thead>\n    <tr style=\"text-align: right;\">\n      <th></th>\n      <th>Company</th>\n      <th>Stars</th>\n      <th>Weight</th>\n      <th>Origin</th>\n      <th>Length</th>\n    </tr>\n  </thead>\n  <tbody>\n    <tr>\n      <th>0</th>\n      <td>Ford</td>\n      <td>1.0</td>\n      <td>2.0</td>\n      <td>China</td>\n      <td>40.0</td>\n    </tr>\n    <tr>\n      <th>1</th>\n      <td>Ford</td>\n      <td>2.0</td>\n      <td>4.0</td>\n      <td>Mexico</td>\n      <td>50.0</td>\n    </tr>\n    <tr>\n      <th>2</th>\n      <td>VW</td>\n      <td>NaN</td>\n      <td>2.0</td>\n      <td>Mexico</td>\n      <td>30.0</td>\n    </tr>\n    <tr>\n      <th>3</th>\n      <td>BMW</td>\n      <td>2.0</td>\n      <td>2.0</td>\n      <td>NaN</td>\n      <td>NaN</td>\n    </tr>\n    <tr>\n      <th>4</th>\n      <td>Cooper</td>\n      <td>1.0</td>\n      <td>3.0</td>\n      <td>China</td>\n      <td>45.0</td>\n    </tr>\n    <tr>\n      <th>5</th>\n      <td>Cooper</td>\n      <td>1.0</td>\n      <td>NaN</td>\n      <td>NaN</td>\n      <td>NaN</td>\n    </tr>\n  </tbody>\n</table>\n</div>"
     },
     "execution_count": 11,
     "metadata": {},
     "output_type": "execute_result"
    }
   ]
  },
  {
   "cell_type": "markdown",
   "source": [
    "### Solución 1:\n",
    "\n",
    "Elimina los datos faltantes. y se vuelve a buscar si falta algún dato, esta vez regresa falso, ya que se eliminaron los registros que les falta algo."
   ],
   "metadata": {
    "id": "jDBUTePP_i09",
    "pycharm": {
     "name": "#%% md\n"
    }
   }
  },
  {
   "cell_type": "code",
   "source": [
    "df.dropna(inplace = True)"
   ],
   "metadata": {
    "id": "emd31KUTbQkR",
    "pycharm": {
     "name": "#%%\n"
    }
   },
   "execution_count": 12,
   "outputs": []
  },
  {
   "cell_type": "code",
   "source": [
    "df.isna().values.any()"
   ],
   "metadata": {
    "id": "bhVOp7OGbVCt",
    "colab": {
     "base_uri": "https://localhost:8080/"
    },
    "outputId": "bd5826f4-f45c-4833-b498-eb280580c7d2",
    "pycharm": {
     "name": "#%%\n"
    }
   },
   "execution_count": 13,
   "outputs": [
    {
     "data": {
      "text/plain": "False"
     },
     "execution_count": 13,
     "metadata": {},
     "output_type": "execute_result"
    }
   ]
  },
  {
   "cell_type": "code",
   "source": [
    "df"
   ],
   "metadata": {
    "id": "31t_x7JKbZ0O",
    "colab": {
     "base_uri": "https://localhost:8080/",
     "height": 203
    },
    "outputId": "2d5bbda4-c61e-461b-a8c4-490e8804daaa",
    "pycharm": {
     "name": "#%%\n"
    }
   },
   "execution_count": 14,
   "outputs": [
    {
     "data": {
      "text/plain": "  Company  Stars  Weight  Origin  Length\n0    Ford    1.0     2.0   China    40.0\n1    Ford    2.0     4.0  Mexico    50.0\n4  Cooper    1.0     3.0   China    45.0",
      "text/html": "<div>\n<style scoped>\n    .dataframe tbody tr th:only-of-type {\n        vertical-align: middle;\n    }\n\n    .dataframe tbody tr th {\n        vertical-align: top;\n    }\n\n    .dataframe thead th {\n        text-align: right;\n    }\n</style>\n<table border=\"1\" class=\"dataframe\">\n  <thead>\n    <tr style=\"text-align: right;\">\n      <th></th>\n      <th>Company</th>\n      <th>Stars</th>\n      <th>Weight</th>\n      <th>Origin</th>\n      <th>Length</th>\n    </tr>\n  </thead>\n  <tbody>\n    <tr>\n      <th>0</th>\n      <td>Ford</td>\n      <td>1.0</td>\n      <td>2.0</td>\n      <td>China</td>\n      <td>40.0</td>\n    </tr>\n    <tr>\n      <th>1</th>\n      <td>Ford</td>\n      <td>2.0</td>\n      <td>4.0</td>\n      <td>Mexico</td>\n      <td>50.0</td>\n    </tr>\n    <tr>\n      <th>4</th>\n      <td>Cooper</td>\n      <td>1.0</td>\n      <td>3.0</td>\n      <td>China</td>\n      <td>45.0</td>\n    </tr>\n  </tbody>\n</table>\n</div>"
     },
     "execution_count": 14,
     "metadata": {},
     "output_type": "execute_result"
    }
   ]
  },
  {
   "cell_type": "markdown",
   "source": [
    "Se eliminó todo aun que solo haya faltado 1 dato.\n",
    "\n",
    "Para limpiar datos de una forma diferente, volvemos a leer todo desde el archivo y lko asignamos al dataframe."
   ],
   "metadata": {
    "id": "Lr1VwxjX_1XP",
    "pycharm": {
     "name": "#%% md\n"
    }
   }
  },
  {
   "cell_type": "code",
   "source": [
    "df = pd.read_csv('data.csv', index_col=0)\n",
    "df.isna().any()"
   ],
   "metadata": {
    "colab": {
     "base_uri": "https://localhost:8080/"
    },
    "id": "MCOKbvrdAy5f",
    "outputId": "07b191d1-48a1-4cff-b5f6-4f61b842d7bc",
    "pycharm": {
     "name": "#%%\n"
    }
   },
   "execution_count": 15,
   "outputs": [
    {
     "data": {
      "text/plain": "Company    False\nStars       True\nWeight      True\nOrigin      True\nLength      True\ndtype: bool"
     },
     "execution_count": 15,
     "metadata": {},
     "output_type": "execute_result"
    }
   ]
  },
  {
   "cell_type": "code",
   "execution_count": null,
   "outputs": [],
   "source": [
    "Se copia el dataframe a una nuvea variable."
   ],
   "metadata": {
    "collapsed": false,
    "pycharm": {
     "name": "#%%\n"
    }
   }
  },
  {
   "cell_type": "code",
   "source": [
    "ndf = df.copy()\n",
    "ndf"
   ],
   "metadata": {
    "colab": {
     "base_uri": "https://localhost:8080/",
     "height": 295
    },
    "id": "CDBCh_e-A-9j",
    "outputId": "7599a1e6-0252-4fea-f9e3-1e9a5316ba86",
    "pycharm": {
     "name": "#%%\n"
    }
   },
   "execution_count": 16,
   "outputs": [
    {
     "data": {
      "text/plain": "  Company  Stars  Weight  Origin  Length\n0    Ford    1.0     2.0   China    40.0\n1    Ford    2.0     4.0  Mexico    50.0\n2      VW    NaN     2.0  Mexico    30.0\n3     BMW    2.0     2.0     NaN     NaN\n4  Cooper    1.0     3.0   China    45.0\n5  Cooper    1.0     NaN     NaN     NaN",
      "text/html": "<div>\n<style scoped>\n    .dataframe tbody tr th:only-of-type {\n        vertical-align: middle;\n    }\n\n    .dataframe tbody tr th {\n        vertical-align: top;\n    }\n\n    .dataframe thead th {\n        text-align: right;\n    }\n</style>\n<table border=\"1\" class=\"dataframe\">\n  <thead>\n    <tr style=\"text-align: right;\">\n      <th></th>\n      <th>Company</th>\n      <th>Stars</th>\n      <th>Weight</th>\n      <th>Origin</th>\n      <th>Length</th>\n    </tr>\n  </thead>\n  <tbody>\n    <tr>\n      <th>0</th>\n      <td>Ford</td>\n      <td>1.0</td>\n      <td>2.0</td>\n      <td>China</td>\n      <td>40.0</td>\n    </tr>\n    <tr>\n      <th>1</th>\n      <td>Ford</td>\n      <td>2.0</td>\n      <td>4.0</td>\n      <td>Mexico</td>\n      <td>50.0</td>\n    </tr>\n    <tr>\n      <th>2</th>\n      <td>VW</td>\n      <td>NaN</td>\n      <td>2.0</td>\n      <td>Mexico</td>\n      <td>30.0</td>\n    </tr>\n    <tr>\n      <th>3</th>\n      <td>BMW</td>\n      <td>2.0</td>\n      <td>2.0</td>\n      <td>NaN</td>\n      <td>NaN</td>\n    </tr>\n    <tr>\n      <th>4</th>\n      <td>Cooper</td>\n      <td>1.0</td>\n      <td>3.0</td>\n      <td>China</td>\n      <td>45.0</td>\n    </tr>\n    <tr>\n      <th>5</th>\n      <td>Cooper</td>\n      <td>1.0</td>\n      <td>NaN</td>\n      <td>NaN</td>\n      <td>NaN</td>\n    </tr>\n  </tbody>\n</table>\n</div>"
     },
     "execution_count": 16,
     "metadata": {},
     "output_type": "execute_result"
    }
   ]
  },
  {
   "cell_type": "markdown",
   "source": [
    "Esta línea quita las columnas donde falta al menos 1 dato y el resultado se muestra a continuación."
   ],
   "metadata": {
    "id": "yjYu-zzdCoDx",
    "pycharm": {
     "name": "#%% md\n"
    }
   }
  },
  {
   "cell_type": "code",
   "source": [
    "ndf.dropna(axis = 1, inplace = True) # axis 1 is columns / axis 0 is rows. \n",
    "ndf"
   ],
   "metadata": {
    "colab": {
     "base_uri": "https://localhost:8080/",
     "height": 295
    },
    "id": "eNNLbhvTCZiJ",
    "outputId": "44c4af52-effe-4487-9a97-a3db0b8d499a",
    "pycharm": {
     "name": "#%%\n"
    }
   },
   "execution_count": 17,
   "outputs": [
    {
     "data": {
      "text/plain": "  Company\n0    Ford\n1    Ford\n2      VW\n3     BMW\n4  Cooper\n5  Cooper",
      "text/html": "<div>\n<style scoped>\n    .dataframe tbody tr th:only-of-type {\n        vertical-align: middle;\n    }\n\n    .dataframe tbody tr th {\n        vertical-align: top;\n    }\n\n    .dataframe thead th {\n        text-align: right;\n    }\n</style>\n<table border=\"1\" class=\"dataframe\">\n  <thead>\n    <tr style=\"text-align: right;\">\n      <th></th>\n      <th>Company</th>\n    </tr>\n  </thead>\n  <tbody>\n    <tr>\n      <th>0</th>\n      <td>Ford</td>\n    </tr>\n    <tr>\n      <th>1</th>\n      <td>Ford</td>\n    </tr>\n    <tr>\n      <th>2</th>\n      <td>VW</td>\n    </tr>\n    <tr>\n      <th>3</th>\n      <td>BMW</td>\n    </tr>\n    <tr>\n      <th>4</th>\n      <td>Cooper</td>\n    </tr>\n    <tr>\n      <th>5</th>\n      <td>Cooper</td>\n    </tr>\n  </tbody>\n</table>\n</div>"
     },
     "execution_count": 17,
     "metadata": {},
     "output_type": "execute_result"
    }
   ]
  },
  {
   "cell_type": "markdown",
   "source": [
    "Se vuelven a cargar los datos del dataframe original."
   ],
   "metadata": {
    "collapsed": false,
    "pycharm": {
     "name": "#%% md\n"
    }
   }
  },
  {
   "cell_type": "code",
   "source": [
    "ndf = df.copy()\n",
    "ndf"
   ],
   "metadata": {
    "colab": {
     "base_uri": "https://localhost:8080/",
     "height": 295
    },
    "id": "a5lyr_eICw1O",
    "outputId": "13f2b2fb-4efe-46be-94b5-629a65d6fb93",
    "pycharm": {
     "name": "#%%\n"
    }
   },
   "execution_count": 18,
   "outputs": [
    {
     "data": {
      "text/plain": "  Company  Stars  Weight  Origin  Length\n0    Ford    1.0     2.0   China    40.0\n1    Ford    2.0     4.0  Mexico    50.0\n2      VW    NaN     2.0  Mexico    30.0\n3     BMW    2.0     2.0     NaN     NaN\n4  Cooper    1.0     3.0   China    45.0\n5  Cooper    1.0     NaN     NaN     NaN",
      "text/html": "<div>\n<style scoped>\n    .dataframe tbody tr th:only-of-type {\n        vertical-align: middle;\n    }\n\n    .dataframe tbody tr th {\n        vertical-align: top;\n    }\n\n    .dataframe thead th {\n        text-align: right;\n    }\n</style>\n<table border=\"1\" class=\"dataframe\">\n  <thead>\n    <tr style=\"text-align: right;\">\n      <th></th>\n      <th>Company</th>\n      <th>Stars</th>\n      <th>Weight</th>\n      <th>Origin</th>\n      <th>Length</th>\n    </tr>\n  </thead>\n  <tbody>\n    <tr>\n      <th>0</th>\n      <td>Ford</td>\n      <td>1.0</td>\n      <td>2.0</td>\n      <td>China</td>\n      <td>40.0</td>\n    </tr>\n    <tr>\n      <th>1</th>\n      <td>Ford</td>\n      <td>2.0</td>\n      <td>4.0</td>\n      <td>Mexico</td>\n      <td>50.0</td>\n    </tr>\n    <tr>\n      <th>2</th>\n      <td>VW</td>\n      <td>NaN</td>\n      <td>2.0</td>\n      <td>Mexico</td>\n      <td>30.0</td>\n    </tr>\n    <tr>\n      <th>3</th>\n      <td>BMW</td>\n      <td>2.0</td>\n      <td>2.0</td>\n      <td>NaN</td>\n      <td>NaN</td>\n    </tr>\n    <tr>\n      <th>4</th>\n      <td>Cooper</td>\n      <td>1.0</td>\n      <td>3.0</td>\n      <td>China</td>\n      <td>45.0</td>\n    </tr>\n    <tr>\n      <th>5</th>\n      <td>Cooper</td>\n      <td>1.0</td>\n      <td>NaN</td>\n      <td>NaN</td>\n      <td>NaN</td>\n    </tr>\n  </tbody>\n</table>\n</div>"
     },
     "execution_count": 18,
     "metadata": {},
     "output_type": "execute_result"
    }
   ]
  },
  {
   "cell_type": "markdown",
   "source": [
    "Se eliminan los datos donde falta todo."
   ],
   "metadata": {
    "id": "__egBqraC41S",
    "pycharm": {
     "name": "#%% md\n"
    }
   }
  },
  {
   "cell_type": "code",
   "source": [
    "ndf.dropna(how='all', inplace = True)\n",
    "ndf"
   ],
   "metadata": {
    "colab": {
     "base_uri": "https://localhost:8080/",
     "height": 295
    },
    "id": "DYRJhRlPC8yd",
    "outputId": "afff1478-73d9-47c0-b29f-a3e35e1dfbb3",
    "pycharm": {
     "name": "#%%\n"
    }
   },
   "execution_count": 19,
   "outputs": [
    {
     "data": {
      "text/plain": "  Company  Stars  Weight  Origin  Length\n0    Ford    1.0     2.0   China    40.0\n1    Ford    2.0     4.0  Mexico    50.0\n2      VW    NaN     2.0  Mexico    30.0\n3     BMW    2.0     2.0     NaN     NaN\n4  Cooper    1.0     3.0   China    45.0\n5  Cooper    1.0     NaN     NaN     NaN",
      "text/html": "<div>\n<style scoped>\n    .dataframe tbody tr th:only-of-type {\n        vertical-align: middle;\n    }\n\n    .dataframe tbody tr th {\n        vertical-align: top;\n    }\n\n    .dataframe thead th {\n        text-align: right;\n    }\n</style>\n<table border=\"1\" class=\"dataframe\">\n  <thead>\n    <tr style=\"text-align: right;\">\n      <th></th>\n      <th>Company</th>\n      <th>Stars</th>\n      <th>Weight</th>\n      <th>Origin</th>\n      <th>Length</th>\n    </tr>\n  </thead>\n  <tbody>\n    <tr>\n      <th>0</th>\n      <td>Ford</td>\n      <td>1.0</td>\n      <td>2.0</td>\n      <td>China</td>\n      <td>40.0</td>\n    </tr>\n    <tr>\n      <th>1</th>\n      <td>Ford</td>\n      <td>2.0</td>\n      <td>4.0</td>\n      <td>Mexico</td>\n      <td>50.0</td>\n    </tr>\n    <tr>\n      <th>2</th>\n      <td>VW</td>\n      <td>NaN</td>\n      <td>2.0</td>\n      <td>Mexico</td>\n      <td>30.0</td>\n    </tr>\n    <tr>\n      <th>3</th>\n      <td>BMW</td>\n      <td>2.0</td>\n      <td>2.0</td>\n      <td>NaN</td>\n      <td>NaN</td>\n    </tr>\n    <tr>\n      <th>4</th>\n      <td>Cooper</td>\n      <td>1.0</td>\n      <td>3.0</td>\n      <td>China</td>\n      <td>45.0</td>\n    </tr>\n    <tr>\n      <th>5</th>\n      <td>Cooper</td>\n      <td>1.0</td>\n      <td>NaN</td>\n      <td>NaN</td>\n      <td>NaN</td>\n    </tr>\n  </tbody>\n</table>\n</div>"
     },
     "execution_count": 19,
     "metadata": {},
     "output_type": "execute_result"
    }
   ]
  },
  {
   "cell_type": "markdown",
   "source": [
    "Alternativamente: usamos Threshold. \n",
    "\n",
    "Mantenga solo las filas con al menos 2 valores que  **NO SEAN** `nan`\n"
   ],
   "metadata": {
    "id": "fO5YjZyVBESQ",
    "pycharm": {
     "name": "#%% md\n"
    }
   }
  },
  {
   "cell_type": "code",
   "source": [
    "ndf = df.copy()\n",
    "ndf"
   ],
   "metadata": {
    "colab": {
     "base_uri": "https://localhost:8080/",
     "height": 295
    },
    "id": "BkU6Ek10EHGJ",
    "outputId": "3e25b430-1f6f-4f2b-b4f4-bbee40161822",
    "pycharm": {
     "name": "#%%\n"
    }
   },
   "execution_count": 20,
   "outputs": [
    {
     "data": {
      "text/plain": "  Company  Stars  Weight  Origin  Length\n0    Ford    1.0     2.0   China    40.0\n1    Ford    2.0     4.0  Mexico    50.0\n2      VW    NaN     2.0  Mexico    30.0\n3     BMW    2.0     2.0     NaN     NaN\n4  Cooper    1.0     3.0   China    45.0\n5  Cooper    1.0     NaN     NaN     NaN",
      "text/html": "<div>\n<style scoped>\n    .dataframe tbody tr th:only-of-type {\n        vertical-align: middle;\n    }\n\n    .dataframe tbody tr th {\n        vertical-align: top;\n    }\n\n    .dataframe thead th {\n        text-align: right;\n    }\n</style>\n<table border=\"1\" class=\"dataframe\">\n  <thead>\n    <tr style=\"text-align: right;\">\n      <th></th>\n      <th>Company</th>\n      <th>Stars</th>\n      <th>Weight</th>\n      <th>Origin</th>\n      <th>Length</th>\n    </tr>\n  </thead>\n  <tbody>\n    <tr>\n      <th>0</th>\n      <td>Ford</td>\n      <td>1.0</td>\n      <td>2.0</td>\n      <td>China</td>\n      <td>40.0</td>\n    </tr>\n    <tr>\n      <th>1</th>\n      <td>Ford</td>\n      <td>2.0</td>\n      <td>4.0</td>\n      <td>Mexico</td>\n      <td>50.0</td>\n    </tr>\n    <tr>\n      <th>2</th>\n      <td>VW</td>\n      <td>NaN</td>\n      <td>2.0</td>\n      <td>Mexico</td>\n      <td>30.0</td>\n    </tr>\n    <tr>\n      <th>3</th>\n      <td>BMW</td>\n      <td>2.0</td>\n      <td>2.0</td>\n      <td>NaN</td>\n      <td>NaN</td>\n    </tr>\n    <tr>\n      <th>4</th>\n      <td>Cooper</td>\n      <td>1.0</td>\n      <td>3.0</td>\n      <td>China</td>\n      <td>45.0</td>\n    </tr>\n    <tr>\n      <th>5</th>\n      <td>Cooper</td>\n      <td>1.0</td>\n      <td>NaN</td>\n      <td>NaN</td>\n      <td>NaN</td>\n    </tr>\n  </tbody>\n</table>\n</div>"
     },
     "execution_count": 20,
     "metadata": {},
     "output_type": "execute_result"
    }
   ]
  },
  {
   "cell_type": "markdown",
   "source": [
    "Se eliminan los registros donde falten al menos 4 campos."
   ],
   "metadata": {
    "collapsed": false,
    "pycharm": {
     "name": "#%% md\n"
    }
   }
  },
  {
   "cell_type": "code",
   "source": [
    "ndf.dropna(thresh=4, inplace = True) # In a row, it needs at least 4 nan values is needed, to maintain in df\n",
    "ndf # in case of column  add   axis=1"
   ],
   "metadata": {
    "colab": {
     "base_uri": "https://localhost:8080/",
     "height": 234
    },
    "id": "yEgUhF6WBC7g",
    "outputId": "5f4cba23-c77f-458a-e6c4-117c0dd9e688",
    "pycharm": {
     "name": "#%%\n"
    }
   },
   "execution_count": 21,
   "outputs": [
    {
     "data": {
      "text/plain": "  Company  Stars  Weight  Origin  Length\n0    Ford    1.0     2.0   China    40.0\n1    Ford    2.0     4.0  Mexico    50.0\n2      VW    NaN     2.0  Mexico    30.0\n4  Cooper    1.0     3.0   China    45.0",
      "text/html": "<div>\n<style scoped>\n    .dataframe tbody tr th:only-of-type {\n        vertical-align: middle;\n    }\n\n    .dataframe tbody tr th {\n        vertical-align: top;\n    }\n\n    .dataframe thead th {\n        text-align: right;\n    }\n</style>\n<table border=\"1\" class=\"dataframe\">\n  <thead>\n    <tr style=\"text-align: right;\">\n      <th></th>\n      <th>Company</th>\n      <th>Stars</th>\n      <th>Weight</th>\n      <th>Origin</th>\n      <th>Length</th>\n    </tr>\n  </thead>\n  <tbody>\n    <tr>\n      <th>0</th>\n      <td>Ford</td>\n      <td>1.0</td>\n      <td>2.0</td>\n      <td>China</td>\n      <td>40.0</td>\n    </tr>\n    <tr>\n      <th>1</th>\n      <td>Ford</td>\n      <td>2.0</td>\n      <td>4.0</td>\n      <td>Mexico</td>\n      <td>50.0</td>\n    </tr>\n    <tr>\n      <th>2</th>\n      <td>VW</td>\n      <td>NaN</td>\n      <td>2.0</td>\n      <td>Mexico</td>\n      <td>30.0</td>\n    </tr>\n    <tr>\n      <th>4</th>\n      <td>Cooper</td>\n      <td>1.0</td>\n      <td>3.0</td>\n      <td>China</td>\n      <td>45.0</td>\n    </tr>\n  </tbody>\n</table>\n</div>"
     },
     "execution_count": 21,
     "metadata": {},
     "output_type": "execute_result"
    }
   ]
  },
  {
   "cell_type": "markdown",
   "source": [
    "Defina en qué columnas buscar valores faltantes."
   ],
   "metadata": {
    "id": "A5Wn2-FWG7I-",
    "pycharm": {
     "name": "#%% md\n"
    }
   }
  },
  {
   "cell_type": "code",
   "source": [
    "ndf = df.copy()\n",
    "ndf"
   ],
   "metadata": {
    "colab": {
     "base_uri": "https://localhost:8080/",
     "height": 295
    },
    "id": "D1FRfrxeG6Zn",
    "outputId": "0efde259-4faa-43a5-aee6-f7e390149a15",
    "pycharm": {
     "name": "#%%\n"
    }
   },
   "execution_count": 22,
   "outputs": [
    {
     "data": {
      "text/plain": "  Company  Stars  Weight  Origin  Length\n0    Ford    1.0     2.0   China    40.0\n1    Ford    2.0     4.0  Mexico    50.0\n2      VW    NaN     2.0  Mexico    30.0\n3     BMW    2.0     2.0     NaN     NaN\n4  Cooper    1.0     3.0   China    45.0\n5  Cooper    1.0     NaN     NaN     NaN",
      "text/html": "<div>\n<style scoped>\n    .dataframe tbody tr th:only-of-type {\n        vertical-align: middle;\n    }\n\n    .dataframe tbody tr th {\n        vertical-align: top;\n    }\n\n    .dataframe thead th {\n        text-align: right;\n    }\n</style>\n<table border=\"1\" class=\"dataframe\">\n  <thead>\n    <tr style=\"text-align: right;\">\n      <th></th>\n      <th>Company</th>\n      <th>Stars</th>\n      <th>Weight</th>\n      <th>Origin</th>\n      <th>Length</th>\n    </tr>\n  </thead>\n  <tbody>\n    <tr>\n      <th>0</th>\n      <td>Ford</td>\n      <td>1.0</td>\n      <td>2.0</td>\n      <td>China</td>\n      <td>40.0</td>\n    </tr>\n    <tr>\n      <th>1</th>\n      <td>Ford</td>\n      <td>2.0</td>\n      <td>4.0</td>\n      <td>Mexico</td>\n      <td>50.0</td>\n    </tr>\n    <tr>\n      <th>2</th>\n      <td>VW</td>\n      <td>NaN</td>\n      <td>2.0</td>\n      <td>Mexico</td>\n      <td>30.0</td>\n    </tr>\n    <tr>\n      <th>3</th>\n      <td>BMW</td>\n      <td>2.0</td>\n      <td>2.0</td>\n      <td>NaN</td>\n      <td>NaN</td>\n    </tr>\n    <tr>\n      <th>4</th>\n      <td>Cooper</td>\n      <td>1.0</td>\n      <td>3.0</td>\n      <td>China</td>\n      <td>45.0</td>\n    </tr>\n    <tr>\n      <th>5</th>\n      <td>Cooper</td>\n      <td>1.0</td>\n      <td>NaN</td>\n      <td>NaN</td>\n      <td>NaN</td>\n    </tr>\n  </tbody>\n</table>\n</div>"
     },
     "execution_count": 22,
     "metadata": {},
     "output_type": "execute_result"
    }
   ]
  },
  {
   "cell_type": "markdown",
   "source": [
    "Con este threshold se eliminan las columnas que no tienen al menos 5 valores, en este caso se eliminan origin y length, ya que solo hay 4 valores."
   ],
   "metadata": {
    "collapsed": false,
    "pycharm": {
     "name": "#%% md\n"
    }
   }
  },
  {
   "cell_type": "code",
   "source": [
    "ndf.dropna(thresh = 5,  #if there is not 5 nan values, the column will be eliminated \n",
    "           axis = 1, \n",
    "           inplace = True\n",
    "           ) \n",
    "ndf"
   ],
   "metadata": {
    "colab": {
     "base_uri": "https://localhost:8080/",
     "height": 295
    },
    "id": "Z2CplmlWHHyf",
    "outputId": "bf87c3be-c3dc-49c1-971d-57c3b215d2e2",
    "pycharm": {
     "name": "#%%\n"
    }
   },
   "execution_count": 59,
   "outputs": [
    {
     "data": {
      "text/plain": "  Company  Stars  Weight\n0    Ford    1.0     2.0\n1    Ford    2.0     4.0\n2      VW    NaN     2.0\n3     BMW    2.0     2.0\n4  Cooper    1.0     3.0\n5  Cooper    1.0     NaN",
      "text/html": "<div>\n<style scoped>\n    .dataframe tbody tr th:only-of-type {\n        vertical-align: middle;\n    }\n\n    .dataframe tbody tr th {\n        vertical-align: top;\n    }\n\n    .dataframe thead th {\n        text-align: right;\n    }\n</style>\n<table border=\"1\" class=\"dataframe\">\n  <thead>\n    <tr style=\"text-align: right;\">\n      <th></th>\n      <th>Company</th>\n      <th>Stars</th>\n      <th>Weight</th>\n    </tr>\n  </thead>\n  <tbody>\n    <tr>\n      <th>0</th>\n      <td>Ford</td>\n      <td>1.0</td>\n      <td>2.0</td>\n    </tr>\n    <tr>\n      <th>1</th>\n      <td>Ford</td>\n      <td>2.0</td>\n      <td>4.0</td>\n    </tr>\n    <tr>\n      <th>2</th>\n      <td>VW</td>\n      <td>NaN</td>\n      <td>2.0</td>\n    </tr>\n    <tr>\n      <th>3</th>\n      <td>BMW</td>\n      <td>2.0</td>\n      <td>2.0</td>\n    </tr>\n    <tr>\n      <th>4</th>\n      <td>Cooper</td>\n      <td>1.0</td>\n      <td>3.0</td>\n    </tr>\n    <tr>\n      <th>5</th>\n      <td>Cooper</td>\n      <td>1.0</td>\n      <td>NaN</td>\n    </tr>\n  </tbody>\n</table>\n</div>"
     },
     "execution_count": 59,
     "metadata": {},
     "output_type": "execute_result"
    }
   ]
  },
  {
   "cell_type": "markdown",
   "source": [
    "### Solucion 2: \n",
    "\n"
   ],
   "metadata": {
    "id": "4yVrVyYdAeca",
    "pycharm": {
     "name": "#%% md\n"
    }
   }
  },
  {
   "cell_type": "markdown",
   "source": [
    "Se copian de nuevo los datos originales a dataframe ndf y se calcula la media al campo Weight."
   ],
   "metadata": {
    "collapsed": false,
    "pycharm": {
     "name": "#%% md\n"
    }
   }
  },
  {
   "cell_type": "code",
   "source": [
    "ndf = df.copy()"
   ],
   "metadata": {
    "id": "DSygVPcaXUH7",
    "pycharm": {
     "name": "#%%\n"
    }
   },
   "execution_count": 61,
   "outputs": []
  },
  {
   "cell_type": "code",
   "source": [
    "wm = ndf.Weight.mean()\n",
    "wm"
   ],
   "metadata": {
    "id": "a1AtpG_-b4Pm",
    "colab": {
     "base_uri": "https://localhost:8080/"
    },
    "outputId": "d39a007d-eb1a-42ab-ced6-d6faf00d8a90",
    "pycharm": {
     "name": "#%%\n"
    }
   },
   "execution_count": 62,
   "outputs": [
    {
     "data": {
      "text/plain": "2.6"
     },
     "execution_count": 62,
     "metadata": {},
     "output_type": "execute_result"
    }
   ]
  },
  {
   "cell_type": "markdown",
   "source": [
    "Se le asigna el valor de la media a los datos vacíos del campo weight."
   ],
   "metadata": {
    "collapsed": false,
    "pycharm": {
     "name": "#%% md\n"
    }
   }
  },
  {
   "cell_type": "code",
   "source": [
    "ndf['Weight'].fillna(value = wm, \n",
    "                    inplace = True)\n",
    "ndf"
   ],
   "metadata": {
    "id": "2-Tayd3McAuW",
    "colab": {
     "base_uri": "https://localhost:8080/",
     "height": 295
    },
    "outputId": "4a43059a-8e4e-4824-9781-8d9a54fe40e9",
    "pycharm": {
     "name": "#%%\n"
    }
   },
   "execution_count": 63,
   "outputs": [
    {
     "data": {
      "text/plain": "  Company  Stars  Weight  Origin  Length\n0    Ford    1.0     2.0   China    40.0\n1    Ford    2.0     4.0  Mexico    50.0\n2      VW    NaN     2.0  Mexico    30.0\n3     BMW    2.0     2.0     NaN     NaN\n4  Cooper    1.0     3.0   China    45.0\n5  Cooper    1.0     2.6     NaN     NaN",
      "text/html": "<div>\n<style scoped>\n    .dataframe tbody tr th:only-of-type {\n        vertical-align: middle;\n    }\n\n    .dataframe tbody tr th {\n        vertical-align: top;\n    }\n\n    .dataframe thead th {\n        text-align: right;\n    }\n</style>\n<table border=\"1\" class=\"dataframe\">\n  <thead>\n    <tr style=\"text-align: right;\">\n      <th></th>\n      <th>Company</th>\n      <th>Stars</th>\n      <th>Weight</th>\n      <th>Origin</th>\n      <th>Length</th>\n    </tr>\n  </thead>\n  <tbody>\n    <tr>\n      <th>0</th>\n      <td>Ford</td>\n      <td>1.0</td>\n      <td>2.0</td>\n      <td>China</td>\n      <td>40.0</td>\n    </tr>\n    <tr>\n      <th>1</th>\n      <td>Ford</td>\n      <td>2.0</td>\n      <td>4.0</td>\n      <td>Mexico</td>\n      <td>50.0</td>\n    </tr>\n    <tr>\n      <th>2</th>\n      <td>VW</td>\n      <td>NaN</td>\n      <td>2.0</td>\n      <td>Mexico</td>\n      <td>30.0</td>\n    </tr>\n    <tr>\n      <th>3</th>\n      <td>BMW</td>\n      <td>2.0</td>\n      <td>2.0</td>\n      <td>NaN</td>\n      <td>NaN</td>\n    </tr>\n    <tr>\n      <th>4</th>\n      <td>Cooper</td>\n      <td>1.0</td>\n      <td>3.0</td>\n      <td>China</td>\n      <td>45.0</td>\n    </tr>\n    <tr>\n      <th>5</th>\n      <td>Cooper</td>\n      <td>1.0</td>\n      <td>2.6</td>\n      <td>NaN</td>\n      <td>NaN</td>\n    </tr>\n  </tbody>\n</table>\n</div>"
     },
     "execution_count": 63,
     "metadata": {},
     "output_type": "execute_result"
    }
   ]
  },
  {
   "cell_type": "markdown",
   "source": [
    "[Datos faltantes: dos grandes problemas con la imputación media](https://www.theanalysisfactor.com/mean-imputation/)"
   ],
   "metadata": {
    "id": "wDuqIKO7Q9OZ",
    "pycharm": {
     "name": "#%% md\n"
    }
   }
  },
  {
   "cell_type": "markdown",
   "source": [
    "En la columna Length aw llenan los datos faltantes con la mediana."
   ],
   "metadata": {
    "collapsed": false,
    "pycharm": {
     "name": "#%% md\n"
    }
   }
  },
  {
   "cell_type": "markdown",
   "source": [
    "ndf['Length'].fillna(value = ndf.Length.median(), \n",
    "                    inplace = True)\n",
    "ndf"
   ],
   "metadata": {
    "collapsed": false,
    "pycharm": {
     "name": "#%% md\n"
    }
   }
  },
  {
   "cell_type": "markdown",
   "source": [
    "Se encuentra la moda de la columna origen. En este caso en Mexico y China."
   ],
   "metadata": {
    "collapsed": false,
    "pycharm": {
     "name": "#%% md\n"
    }
   }
  },
  {
   "cell_type": "code",
   "source": [
    "mm  = ndf.Origin.mode()\n",
    "mm"
   ],
   "metadata": {
    "id": "EK3Mk2SMenth",
    "colab": {
     "base_uri": "https://localhost:8080/"
    },
    "outputId": "2b3b3b47-84af-4879-e698-8f9eac57bfa8",
    "pycharm": {
     "name": "#%%\n"
    }
   },
   "execution_count": 65,
   "outputs": [
    {
     "data": {
      "text/plain": "0     China\n1    Mexico\nName: Origin, dtype: object"
     },
     "execution_count": 65,
     "metadata": {},
     "output_type": "execute_result"
    }
   ]
  },
  {
   "cell_type": "markdown",
   "source": [
    "Se selecciona el indice 1"
   ],
   "metadata": {
    "collapsed": false,
    "pycharm": {
     "name": "#%% md\n"
    }
   }
  },
  {
   "cell_type": "code",
   "execution_count": null,
   "outputs": [],
   "source": [
    "mm[1]"
   ],
   "metadata": {
    "collapsed": false,
    "pycharm": {
     "name": "#%%\n"
    }
   }
  },
  {
   "cell_type": "markdown",
   "source": [
    "Se agrega Mexico en los a los datos faltantes."
   ],
   "metadata": {
    "collapsed": false,
    "pycharm": {
     "name": "#%% md\n"
    }
   }
  },
  {
   "cell_type": "code",
   "source": [
    "ndf['Origin'].fillna(value = mm[1], #'NoPais', \n",
    "                    inplace = True)\n",
    "ndf"
   ],
   "metadata": {
    "id": "wb6bCCyNeaBB",
    "colab": {
     "base_uri": "https://localhost:8080/",
     "height": 295
    },
    "outputId": "3ee637e5-d042-4f9f-f1ca-6463869c1c22",
    "pycharm": {
     "name": "#%%\n"
    }
   },
   "execution_count": 67,
   "outputs": [
    {
     "data": {
      "text/plain": "  Company  Stars  Weight  Origin  Length\n0    Ford    1.0     2.0   China    40.0\n1    Ford    2.0     4.0  Mexico    50.0\n2      VW    NaN     2.0  Mexico    30.0\n3     BMW    2.0     2.0  Mexico    42.5\n4  Cooper    1.0     3.0   China    45.0\n5  Cooper    1.0     2.6  Mexico    42.5",
      "text/html": "<div>\n<style scoped>\n    .dataframe tbody tr th:only-of-type {\n        vertical-align: middle;\n    }\n\n    .dataframe tbody tr th {\n        vertical-align: top;\n    }\n\n    .dataframe thead th {\n        text-align: right;\n    }\n</style>\n<table border=\"1\" class=\"dataframe\">\n  <thead>\n    <tr style=\"text-align: right;\">\n      <th></th>\n      <th>Company</th>\n      <th>Stars</th>\n      <th>Weight</th>\n      <th>Origin</th>\n      <th>Length</th>\n    </tr>\n  </thead>\n  <tbody>\n    <tr>\n      <th>0</th>\n      <td>Ford</td>\n      <td>1.0</td>\n      <td>2.0</td>\n      <td>China</td>\n      <td>40.0</td>\n    </tr>\n    <tr>\n      <th>1</th>\n      <td>Ford</td>\n      <td>2.0</td>\n      <td>4.0</td>\n      <td>Mexico</td>\n      <td>50.0</td>\n    </tr>\n    <tr>\n      <th>2</th>\n      <td>VW</td>\n      <td>NaN</td>\n      <td>2.0</td>\n      <td>Mexico</td>\n      <td>30.0</td>\n    </tr>\n    <tr>\n      <th>3</th>\n      <td>BMW</td>\n      <td>2.0</td>\n      <td>2.0</td>\n      <td>Mexico</td>\n      <td>42.5</td>\n    </tr>\n    <tr>\n      <th>4</th>\n      <td>Cooper</td>\n      <td>1.0</td>\n      <td>3.0</td>\n      <td>China</td>\n      <td>45.0</td>\n    </tr>\n    <tr>\n      <th>5</th>\n      <td>Cooper</td>\n      <td>1.0</td>\n      <td>2.6</td>\n      <td>Mexico</td>\n      <td>42.5</td>\n    </tr>\n  </tbody>\n</table>\n</div>"
     },
     "execution_count": 67,
     "metadata": {},
     "output_type": "execute_result"
    }
   ]
  },
  {
   "cell_type": "code",
   "source": [
    "ndf.isnull().values.any()"
   ],
   "metadata": {
    "id": "kGs1fmilewCT",
    "colab": {
     "base_uri": "https://localhost:8080/"
    },
    "outputId": "45603930-0ca7-46e8-88e9-06ce63b93716",
    "pycharm": {
     "name": "#%%\n"
    }
   },
   "execution_count": 68,
   "outputs": [
    {
     "data": {
      "text/plain": "True"
     },
     "execution_count": 68,
     "metadata": {},
     "output_type": "execute_result"
    }
   ]
  },
  {
   "cell_type": "markdown",
   "source": [
    "Copiamos nuevamente los datos originales a la variable ndf."
   ],
   "metadata": {
    "collapsed": false,
    "pycharm": {
     "name": "#%% md\n"
    }
   }
  },
  {
   "cell_type": "code",
   "source": [
    "ndf = df.copy()\n",
    "ndf"
   ],
   "metadata": {
    "colab": {
     "base_uri": "https://localhost:8080/",
     "height": 295
    },
    "id": "sJl1S1AHXscC",
    "outputId": "ea65591f-57b3-482d-f1b6-87ed18f7cceb",
    "pycharm": {
     "name": "#%%\n"
    }
   },
   "execution_count": 69,
   "outputs": [
    {
     "data": {
      "text/plain": "  Company  Stars  Weight  Origin  Length\n0    Ford    1.0     2.0   China    40.0\n1    Ford    2.0     4.0  Mexico    50.0\n2      VW    NaN     2.0  Mexico    30.0\n3     BMW    2.0     2.0     NaN     NaN\n4  Cooper    1.0     3.0   China    45.0\n5  Cooper    1.0     NaN     NaN     NaN",
      "text/html": "<div>\n<style scoped>\n    .dataframe tbody tr th:only-of-type {\n        vertical-align: middle;\n    }\n\n    .dataframe tbody tr th {\n        vertical-align: top;\n    }\n\n    .dataframe thead th {\n        text-align: right;\n    }\n</style>\n<table border=\"1\" class=\"dataframe\">\n  <thead>\n    <tr style=\"text-align: right;\">\n      <th></th>\n      <th>Company</th>\n      <th>Stars</th>\n      <th>Weight</th>\n      <th>Origin</th>\n      <th>Length</th>\n    </tr>\n  </thead>\n  <tbody>\n    <tr>\n      <th>0</th>\n      <td>Ford</td>\n      <td>1.0</td>\n      <td>2.0</td>\n      <td>China</td>\n      <td>40.0</td>\n    </tr>\n    <tr>\n      <th>1</th>\n      <td>Ford</td>\n      <td>2.0</td>\n      <td>4.0</td>\n      <td>Mexico</td>\n      <td>50.0</td>\n    </tr>\n    <tr>\n      <th>2</th>\n      <td>VW</td>\n      <td>NaN</td>\n      <td>2.0</td>\n      <td>Mexico</td>\n      <td>30.0</td>\n    </tr>\n    <tr>\n      <th>3</th>\n      <td>BMW</td>\n      <td>2.0</td>\n      <td>2.0</td>\n      <td>NaN</td>\n      <td>NaN</td>\n    </tr>\n    <tr>\n      <th>4</th>\n      <td>Cooper</td>\n      <td>1.0</td>\n      <td>3.0</td>\n      <td>China</td>\n      <td>45.0</td>\n    </tr>\n    <tr>\n      <th>5</th>\n      <td>Cooper</td>\n      <td>1.0</td>\n      <td>NaN</td>\n      <td>NaN</td>\n      <td>NaN</td>\n    </tr>\n  </tbody>\n</table>\n</div>"
     },
     "execution_count": 69,
     "metadata": {},
     "output_type": "execute_result"
    }
   ]
  },
  {
   "cell_type": "markdown",
   "source": [
    "Se remueven rengles si alguna columna en específico tiene datos nulos, en este caso se eliminan renglones 3 y 5 por que no tienen valores las columnas Origin y length."
   ],
   "metadata": {
    "id": "a6wUafblXw1W",
    "pycharm": {
     "name": "#%% md\n"
    }
   }
  },
  {
   "cell_type": "code",
   "source": [
    "ndf.dropna(subset=['Origin', 'Length'], inplace = True)\n",
    "ndf"
   ],
   "metadata": {
    "colab": {
     "base_uri": "https://localhost:8080/",
     "height": 234
    },
    "id": "bW3MrkWfX0aj",
    "outputId": "bf757119-bcc0-4e4a-eb04-114ee4d4ff5a",
    "pycharm": {
     "name": "#%%\n"
    }
   },
   "execution_count": 70,
   "outputs": [
    {
     "data": {
      "text/plain": "  Company  Stars  Weight  Origin  Length\n0    Ford    1.0     2.0   China    40.0\n1    Ford    2.0     4.0  Mexico    50.0\n2      VW    NaN     2.0  Mexico    30.0\n4  Cooper    1.0     3.0   China    45.0",
      "text/html": "<div>\n<style scoped>\n    .dataframe tbody tr th:only-of-type {\n        vertical-align: middle;\n    }\n\n    .dataframe tbody tr th {\n        vertical-align: top;\n    }\n\n    .dataframe thead th {\n        text-align: right;\n    }\n</style>\n<table border=\"1\" class=\"dataframe\">\n  <thead>\n    <tr style=\"text-align: right;\">\n      <th></th>\n      <th>Company</th>\n      <th>Stars</th>\n      <th>Weight</th>\n      <th>Origin</th>\n      <th>Length</th>\n    </tr>\n  </thead>\n  <tbody>\n    <tr>\n      <th>0</th>\n      <td>Ford</td>\n      <td>1.0</td>\n      <td>2.0</td>\n      <td>China</td>\n      <td>40.0</td>\n    </tr>\n    <tr>\n      <th>1</th>\n      <td>Ford</td>\n      <td>2.0</td>\n      <td>4.0</td>\n      <td>Mexico</td>\n      <td>50.0</td>\n    </tr>\n    <tr>\n      <th>2</th>\n      <td>VW</td>\n      <td>NaN</td>\n      <td>2.0</td>\n      <td>Mexico</td>\n      <td>30.0</td>\n    </tr>\n    <tr>\n      <th>4</th>\n      <td>Cooper</td>\n      <td>1.0</td>\n      <td>3.0</td>\n      <td>China</td>\n      <td>45.0</td>\n    </tr>\n  </tbody>\n</table>\n</div>"
     },
     "execution_count": 70,
     "metadata": {},
     "output_type": "execute_result"
    }
   ]
  },
  {
   "cell_type": "code",
   "source": [
    "ndf = df.copy()\n",
    "ndf"
   ],
   "metadata": {
    "colab": {
     "base_uri": "https://localhost:8080/",
     "height": 295
    },
    "id": "uRcPRyxGYEww",
    "outputId": "c1494e81-e551-497a-db23-0a1b04c086ff",
    "pycharm": {
     "name": "#%%\n"
    }
   },
   "execution_count": 33,
   "outputs": [
    {
     "data": {
      "text/plain": "  Company  Stars  Weight  Origin  Length\n0    Ford    1.0     2.0   China    40.0\n1    Ford    2.0     4.0  Mexico    50.0\n2      VW    NaN     2.0  Mexico    30.0\n3     BMW    2.0     2.0     NaN     NaN\n4  Cooper    1.0     3.0   China    45.0\n5  Cooper    1.0     NaN     NaN     NaN",
      "text/html": "<div>\n<style scoped>\n    .dataframe tbody tr th:only-of-type {\n        vertical-align: middle;\n    }\n\n    .dataframe tbody tr th {\n        vertical-align: top;\n    }\n\n    .dataframe thead th {\n        text-align: right;\n    }\n</style>\n<table border=\"1\" class=\"dataframe\">\n  <thead>\n    <tr style=\"text-align: right;\">\n      <th></th>\n      <th>Company</th>\n      <th>Stars</th>\n      <th>Weight</th>\n      <th>Origin</th>\n      <th>Length</th>\n    </tr>\n  </thead>\n  <tbody>\n    <tr>\n      <th>0</th>\n      <td>Ford</td>\n      <td>1.0</td>\n      <td>2.0</td>\n      <td>China</td>\n      <td>40.0</td>\n    </tr>\n    <tr>\n      <th>1</th>\n      <td>Ford</td>\n      <td>2.0</td>\n      <td>4.0</td>\n      <td>Mexico</td>\n      <td>50.0</td>\n    </tr>\n    <tr>\n      <th>2</th>\n      <td>VW</td>\n      <td>NaN</td>\n      <td>2.0</td>\n      <td>Mexico</td>\n      <td>30.0</td>\n    </tr>\n    <tr>\n      <th>3</th>\n      <td>BMW</td>\n      <td>2.0</td>\n      <td>2.0</td>\n      <td>NaN</td>\n      <td>NaN</td>\n    </tr>\n    <tr>\n      <th>4</th>\n      <td>Cooper</td>\n      <td>1.0</td>\n      <td>3.0</td>\n      <td>China</td>\n      <td>45.0</td>\n    </tr>\n    <tr>\n      <th>5</th>\n      <td>Cooper</td>\n      <td>1.0</td>\n      <td>NaN</td>\n      <td>NaN</td>\n      <td>NaN</td>\n    </tr>\n  </tbody>\n</table>\n</div>"
     },
     "execution_count": 33,
     "metadata": {},
     "output_type": "execute_result"
    }
   ]
  },
  {
   "cell_type": "markdown",
   "source": [
    "En este caso a continuación, se llenará la columna Origin con el valor China."
   ],
   "metadata": {
    "id": "Kzg6taAKYjiH",
    "pycharm": {
     "name": "#%% md\n"
    }
   }
  },
  {
   "cell_type": "code",
   "source": [
    "ndf.Origin.mode()[0]"
   ],
   "metadata": {
    "colab": {
     "base_uri": "https://localhost:8080/",
     "height": 169
    },
    "id": "Ufp1EYbeY-tc",
    "outputId": "804c761c-fc90-4661-ae22-8a51e965d558",
    "pycharm": {
     "name": "#%%\n"
    }
   },
   "execution_count": 34,
   "outputs": [
    {
     "data": {
      "text/plain": "'China'"
     },
     "execution_count": 34,
     "metadata": {},
     "output_type": "execute_result"
    }
   ]
  },
  {
   "cell_type": "code",
   "source": [
    "favs = {'Origin': ndf.Origin.mode()[0], 'Length': ndf['Length'].mean()}"
   ],
   "metadata": {
    "id": "o45pXlnJYojU",
    "pycharm": {
     "name": "#%%\n"
    }
   },
   "execution_count": 35,
   "outputs": []
  },
  {
   "cell_type": "code",
   "source": [
    "ndf.Origin.fillna(ndf.Origin.mode()[0], inplace=True)\n",
    "ndf.Length.fillna(ndf.Length.mean(), inplace=True)\n",
    "ndf"
   ],
   "metadata": {
    "colab": {
     "base_uri": "https://localhost:8080/",
     "height": 295
    },
    "id": "e6xF8jGdYIa7",
    "outputId": "ef9021f1-307d-4cb6-f37d-56d9537435d4",
    "pycharm": {
     "name": "#%%\n"
    }
   },
   "execution_count": 36,
   "outputs": [
    {
     "data": {
      "text/plain": "  Company  Stars  Weight  Origin  Length\n0    Ford    1.0     2.0   China   40.00\n1    Ford    2.0     4.0  Mexico   50.00\n2      VW    NaN     2.0  Mexico   30.00\n3     BMW    2.0     2.0   China   41.25\n4  Cooper    1.0     3.0   China   45.00\n5  Cooper    1.0     NaN   China   41.25",
      "text/html": "<div>\n<style scoped>\n    .dataframe tbody tr th:only-of-type {\n        vertical-align: middle;\n    }\n\n    .dataframe tbody tr th {\n        vertical-align: top;\n    }\n\n    .dataframe thead th {\n        text-align: right;\n    }\n</style>\n<table border=\"1\" class=\"dataframe\">\n  <thead>\n    <tr style=\"text-align: right;\">\n      <th></th>\n      <th>Company</th>\n      <th>Stars</th>\n      <th>Weight</th>\n      <th>Origin</th>\n      <th>Length</th>\n    </tr>\n  </thead>\n  <tbody>\n    <tr>\n      <th>0</th>\n      <td>Ford</td>\n      <td>1.0</td>\n      <td>2.0</td>\n      <td>China</td>\n      <td>40.00</td>\n    </tr>\n    <tr>\n      <th>1</th>\n      <td>Ford</td>\n      <td>2.0</td>\n      <td>4.0</td>\n      <td>Mexico</td>\n      <td>50.00</td>\n    </tr>\n    <tr>\n      <th>2</th>\n      <td>VW</td>\n      <td>NaN</td>\n      <td>2.0</td>\n      <td>Mexico</td>\n      <td>30.00</td>\n    </tr>\n    <tr>\n      <th>3</th>\n      <td>BMW</td>\n      <td>2.0</td>\n      <td>2.0</td>\n      <td>China</td>\n      <td>41.25</td>\n    </tr>\n    <tr>\n      <th>4</th>\n      <td>Cooper</td>\n      <td>1.0</td>\n      <td>3.0</td>\n      <td>China</td>\n      <td>45.00</td>\n    </tr>\n    <tr>\n      <th>5</th>\n      <td>Cooper</td>\n      <td>1.0</td>\n      <td>NaN</td>\n      <td>China</td>\n      <td>41.25</td>\n    </tr>\n  </tbody>\n</table>\n</div>"
     },
     "execution_count": 36,
     "metadata": {},
     "output_type": "execute_result"
    }
   ]
  },
  {
   "cell_type": "markdown",
   "source": [
    "## ¿Cuándo es una mediana mejor en comparación con la media?\n",
    "\n",
    "La media se utiliza para distribuciones normales de números, con una cantidad baja de valores atípicos.\n",
    "La mediana se usa generalmente para devolver la tendencia central en el caso de distribuciones numéricas sesgadas.\n",
    "\n",
    "La siguiente línea crea un diccionario con datos de salario y un dato en específico muy alejado de los demás."
   ],
   "metadata": {
    "id": "SQ06PX_mUa4B",
    "pycharm": {
     "name": "#%% md\n"
    }
   }
  },
  {
   "cell_type": "code",
   "execution_count": null,
   "outputs": [],
   "source": [
    "data = {'Salary':  [28, 30, 30, 35, 37, 40, 400]\n",
    "}\n",
    "adf = pd.DataFrame(data)\n",
    "adf"
   ],
   "metadata": {
    "collapsed": false,
    "pycharm": {
     "name": "#%%\n"
    }
   }
  },
  {
   "cell_type": "markdown",
   "source": [
    "En este caso la media (85) está muy alejada de la mayoría de los valores, por lo tanto es mejor utilizar la mediana 35."
   ],
   "metadata": {
    "collapsed": false,
    "pycharm": {
     "name": "#%% md\n"
    }
   }
  },
  {
   "cell_type": "code",
   "source": [
    "adf.describe()"
   ],
   "metadata": {
    "colab": {
     "base_uri": "https://localhost:8080/",
     "height": 291
    },
    "id": "IDw-HDT3U9fT",
    "outputId": "3ed14a36-757d-4609-ee09-39d4540fa281",
    "pycharm": {
     "name": "#%%\n"
    }
   },
   "execution_count": 38,
   "outputs": [
    {
     "data": {
      "text/plain": "           Salary\ncount    7.000000\nmean    85.714286\nstd    138.653903\nmin     28.000000\n25%     30.000000\n50%     35.000000\n75%     38.500000\nmax    400.000000",
      "text/html": "<div>\n<style scoped>\n    .dataframe tbody tr th:only-of-type {\n        vertical-align: middle;\n    }\n\n    .dataframe tbody tr th {\n        vertical-align: top;\n    }\n\n    .dataframe thead th {\n        text-align: right;\n    }\n</style>\n<table border=\"1\" class=\"dataframe\">\n  <thead>\n    <tr style=\"text-align: right;\">\n      <th></th>\n      <th>Salary</th>\n    </tr>\n  </thead>\n  <tbody>\n    <tr>\n      <th>count</th>\n      <td>7.000000</td>\n    </tr>\n    <tr>\n      <th>mean</th>\n      <td>85.714286</td>\n    </tr>\n    <tr>\n      <th>std</th>\n      <td>138.653903</td>\n    </tr>\n    <tr>\n      <th>min</th>\n      <td>28.000000</td>\n    </tr>\n    <tr>\n      <th>25%</th>\n      <td>30.000000</td>\n    </tr>\n    <tr>\n      <th>50%</th>\n      <td>35.000000</td>\n    </tr>\n    <tr>\n      <th>75%</th>\n      <td>38.500000</td>\n    </tr>\n    <tr>\n      <th>max</th>\n      <td>400.000000</td>\n    </tr>\n  </tbody>\n</table>\n</div>"
     },
     "execution_count": 38,
     "metadata": {},
     "output_type": "execute_result"
    }
   ]
  },
  {
   "cell_type": "markdown",
   "source": [
    "### Para seleccionar las columnas de la base de datos, puede usar la siguiente codigos: \n",
    "\n"
   ],
   "metadata": {
    "id": "f_h9Q13FbAKV",
    "pycharm": {
     "name": "#%% md\n"
    }
   }
  },
  {
   "cell_type": "code",
   "source": [
    "df = pd.read_csv('data.csv', index_col=0)\n",
    "ndf = df.copy()\n",
    "ndf"
   ],
   "metadata": {
    "id": "2hG-7VtCZH1r",
    "colab": {
     "base_uri": "https://localhost:8080/",
     "height": 295
    },
    "outputId": "334987ca-b2ce-4bb5-ed56-113fd2edf296",
    "pycharm": {
     "name": "#%%\n"
    }
   },
   "execution_count": 40,
   "outputs": [
    {
     "data": {
      "text/plain": "  Company  Stars  Weight  Origin  Length\n0    Ford    1.0     2.0   China    40.0\n1    Ford    2.0     4.0  Mexico    50.0\n2      VW    NaN     2.0  Mexico    30.0\n3     BMW    2.0     2.0     NaN     NaN\n4  Cooper    1.0     3.0   China    45.0\n5  Cooper    1.0     NaN     NaN     NaN",
      "text/html": "<div>\n<style scoped>\n    .dataframe tbody tr th:only-of-type {\n        vertical-align: middle;\n    }\n\n    .dataframe tbody tr th {\n        vertical-align: top;\n    }\n\n    .dataframe thead th {\n        text-align: right;\n    }\n</style>\n<table border=\"1\" class=\"dataframe\">\n  <thead>\n    <tr style=\"text-align: right;\">\n      <th></th>\n      <th>Company</th>\n      <th>Stars</th>\n      <th>Weight</th>\n      <th>Origin</th>\n      <th>Length</th>\n    </tr>\n  </thead>\n  <tbody>\n    <tr>\n      <th>0</th>\n      <td>Ford</td>\n      <td>1.0</td>\n      <td>2.0</td>\n      <td>China</td>\n      <td>40.0</td>\n    </tr>\n    <tr>\n      <th>1</th>\n      <td>Ford</td>\n      <td>2.0</td>\n      <td>4.0</td>\n      <td>Mexico</td>\n      <td>50.0</td>\n    </tr>\n    <tr>\n      <th>2</th>\n      <td>VW</td>\n      <td>NaN</td>\n      <td>2.0</td>\n      <td>Mexico</td>\n      <td>30.0</td>\n    </tr>\n    <tr>\n      <th>3</th>\n      <td>BMW</td>\n      <td>2.0</td>\n      <td>2.0</td>\n      <td>NaN</td>\n      <td>NaN</td>\n    </tr>\n    <tr>\n      <th>4</th>\n      <td>Cooper</td>\n      <td>1.0</td>\n      <td>3.0</td>\n      <td>China</td>\n      <td>45.0</td>\n    </tr>\n    <tr>\n      <th>5</th>\n      <td>Cooper</td>\n      <td>1.0</td>\n      <td>NaN</td>\n      <td>NaN</td>\n      <td>NaN</td>\n    </tr>\n  </tbody>\n</table>\n</div>"
     },
     "execution_count": 40,
     "metadata": {},
     "output_type": "execute_result"
    }
   ]
  },
  {
   "cell_type": "markdown",
   "source": [
    "** Syntaxis ** de loc & iloc\n",
    "\n",
    "* loc : If you use, `loc`, use the `names`\n",
    "\n",
    "> df.`loc` [ row-start:row-end,  column-start:column_end]  \n",
    "\n",
    "\n",
    "\n",
    "* iloc : If you use, `loc`, use the `indices`\n",
    "\n",
    "> df.`iloc` [row-start:row-end, column-start:columnEnd]"
   ],
   "metadata": {
    "id": "kBIJJ9HpZ1H0",
    "pycharm": {
     "name": "#%% md\n"
    }
   }
  },
  {
   "cell_type": "markdown",
   "source": [
    "Selecciona los nombres de las columnas"
   ],
   "metadata": {
    "collapsed": false,
    "pycharm": {
     "name": "#%% md\n"
    }
   }
  },
  {
   "cell_type": "code",
   "source": [
    "ndf.columns"
   ],
   "metadata": {
    "colab": {
     "base_uri": "https://localhost:8080/"
    },
    "id": "Qj4lJSbub57y",
    "outputId": "b19ef46e-3c2f-4187-db0a-57b951e9db06",
    "pycharm": {
     "name": "#%%\n"
    }
   },
   "execution_count": 41,
   "outputs": [
    {
     "data": {
      "text/plain": "Index(['Company', 'Stars', 'Weight', 'Origin', 'Length'], dtype='object')"
     },
     "execution_count": 41,
     "metadata": {},
     "output_type": "execute_result"
    }
   ]
  },
  {
   "cell_type": "markdown",
   "source": [
    "Ordena las columnas alfabéticamente."
   ],
   "metadata": {
    "collapsed": false,
    "pycharm": {
     "name": "#%% md\n"
    }
   }
  },
  {
   "cell_type": "code",
   "source": [
    "ndf.columns.sort_values()"
   ],
   "metadata": {
    "colab": {
     "base_uri": "https://localhost:8080/"
    },
    "id": "Ava0RdT1b9_m",
    "outputId": "f401e226-0a6d-4c5a-c999-71ac9a4ef68f",
    "pycharm": {
     "name": "#%%\n"
    }
   },
   "execution_count": 42,
   "outputs": [
    {
     "data": {
      "text/plain": "Index(['Company', 'Length', 'Origin', 'Stars', 'Weight'], dtype='object')"
     },
     "execution_count": 42,
     "metadata": {},
     "output_type": "execute_result"
    }
   ]
  },
  {
   "cell_type": "markdown",
   "source": [
    "Selecciona los registros del 2 al 5, campos desde Company hasta Origin."
   ],
   "metadata": {
    "collapsed": false,
    "pycharm": {
     "name": "#%% md\n"
    }
   }
  },
  {
   "cell_type": "code",
   "source": [
    "ndf.loc[2:5 , 'Company':'Origin']  # rows 2 to 5, columns  'Company' to 'Origin'"
   ],
   "metadata": {
    "id": "L9nhEa2CZJkQ",
    "colab": {
     "base_uri": "https://localhost:8080/",
     "height": 234
    },
    "outputId": "49f14b0a-d030-48a6-c362-559905e62cbb",
    "pycharm": {
     "name": "#%%\n"
    }
   },
   "execution_count": 43,
   "outputs": [
    {
     "data": {
      "text/plain": "  Company  Stars  Weight  Origin\n2      VW    NaN     2.0  Mexico\n3     BMW    2.0     2.0     NaN\n4  Cooper    1.0     3.0   China\n5  Cooper    1.0     NaN     NaN",
      "text/html": "<div>\n<style scoped>\n    .dataframe tbody tr th:only-of-type {\n        vertical-align: middle;\n    }\n\n    .dataframe tbody tr th {\n        vertical-align: top;\n    }\n\n    .dataframe thead th {\n        text-align: right;\n    }\n</style>\n<table border=\"1\" class=\"dataframe\">\n  <thead>\n    <tr style=\"text-align: right;\">\n      <th></th>\n      <th>Company</th>\n      <th>Stars</th>\n      <th>Weight</th>\n      <th>Origin</th>\n    </tr>\n  </thead>\n  <tbody>\n    <tr>\n      <th>2</th>\n      <td>VW</td>\n      <td>NaN</td>\n      <td>2.0</td>\n      <td>Mexico</td>\n    </tr>\n    <tr>\n      <th>3</th>\n      <td>BMW</td>\n      <td>2.0</td>\n      <td>2.0</td>\n      <td>NaN</td>\n    </tr>\n    <tr>\n      <th>4</th>\n      <td>Cooper</td>\n      <td>1.0</td>\n      <td>3.0</td>\n      <td>China</td>\n    </tr>\n    <tr>\n      <th>5</th>\n      <td>Cooper</td>\n      <td>1.0</td>\n      <td>NaN</td>\n      <td>NaN</td>\n    </tr>\n  </tbody>\n</table>\n</div>"
     },
     "execution_count": 43,
     "metadata": {},
     "output_type": "execute_result"
    }
   ]
  },
  {
   "cell_type": "markdown",
   "source": [
    "Con la lista favs, seleccionamos los registros del 2 al 5."
   ],
   "metadata": {
    "collapsed": false,
    "pycharm": {
     "name": "#%% md\n"
    }
   }
  },
  {
   "cell_type": "code",
   "source": [
    "favs = ['Stars', 'Weight', 'Origin']"
   ],
   "metadata": {
    "id": "tJZjKFClbeGp",
    "pycharm": {
     "name": "#%%\n"
    }
   },
   "execution_count": 44,
   "outputs": []
  },
  {
   "cell_type": "code",
   "source": [
    "ndf.loc[2:5 , favs]"
   ],
   "metadata": {
    "id": "qMEO9uiKayHi",
    "colab": {
     "base_uri": "https://localhost:8080/",
     "height": 234
    },
    "outputId": "98aae247-0283-4c35-f0bf-637cf621b774",
    "pycharm": {
     "name": "#%%\n"
    }
   },
   "execution_count": 45,
   "outputs": [
    {
     "data": {
      "text/plain": "   Stars  Weight  Origin\n2    NaN     2.0  Mexico\n3    2.0     2.0     NaN\n4    1.0     3.0   China\n5    1.0     NaN     NaN",
      "text/html": "<div>\n<style scoped>\n    .dataframe tbody tr th:only-of-type {\n        vertical-align: middle;\n    }\n\n    .dataframe tbody tr th {\n        vertical-align: top;\n    }\n\n    .dataframe thead th {\n        text-align: right;\n    }\n</style>\n<table border=\"1\" class=\"dataframe\">\n  <thead>\n    <tr style=\"text-align: right;\">\n      <th></th>\n      <th>Stars</th>\n      <th>Weight</th>\n      <th>Origin</th>\n    </tr>\n  </thead>\n  <tbody>\n    <tr>\n      <th>2</th>\n      <td>NaN</td>\n      <td>2.0</td>\n      <td>Mexico</td>\n    </tr>\n    <tr>\n      <th>3</th>\n      <td>2.0</td>\n      <td>2.0</td>\n      <td>NaN</td>\n    </tr>\n    <tr>\n      <th>4</th>\n      <td>1.0</td>\n      <td>3.0</td>\n      <td>China</td>\n    </tr>\n    <tr>\n      <th>5</th>\n      <td>1.0</td>\n      <td>NaN</td>\n      <td>NaN</td>\n    </tr>\n  </tbody>\n</table>\n</div>"
     },
     "execution_count": 45,
     "metadata": {},
     "output_type": "execute_result"
    }
   ]
  },
  {
   "cell_type": "code",
   "execution_count": null,
   "outputs": [],
   "source": [
    "Con iloc solo se pueden usar indices, asi se seleccionan los registros del 2 al 4, usando una lista de que campos regresar."
   ],
   "metadata": {
    "collapsed": false,
    "pycharm": {
     "name": "#%%\n"
    }
   }
  },
  {
   "cell_type": "code",
   "source": [
    "ndf.iloc[2:5, [1,2, 3]] # iloc  - so, indices"
   ],
   "metadata": {
    "id": "CyW66Ig0a6xx",
    "colab": {
     "base_uri": "https://localhost:8080/",
     "height": 203
    },
    "outputId": "b2c85bfc-2748-44bd-ace5-b95352012f01",
    "pycharm": {
     "name": "#%%\n"
    }
   },
   "execution_count": 46,
   "outputs": [
    {
     "data": {
      "text/plain": "   Stars  Weight  Origin\n2    NaN     2.0  Mexico\n3    2.0     2.0     NaN\n4    1.0     3.0   China",
      "text/html": "<div>\n<style scoped>\n    .dataframe tbody tr th:only-of-type {\n        vertical-align: middle;\n    }\n\n    .dataframe tbody tr th {\n        vertical-align: top;\n    }\n\n    .dataframe thead th {\n        text-align: right;\n    }\n</style>\n<table border=\"1\" class=\"dataframe\">\n  <thead>\n    <tr style=\"text-align: right;\">\n      <th></th>\n      <th>Stars</th>\n      <th>Weight</th>\n      <th>Origin</th>\n    </tr>\n  </thead>\n  <tbody>\n    <tr>\n      <th>2</th>\n      <td>NaN</td>\n      <td>2.0</td>\n      <td>Mexico</td>\n    </tr>\n    <tr>\n      <th>3</th>\n      <td>2.0</td>\n      <td>2.0</td>\n      <td>NaN</td>\n    </tr>\n    <tr>\n      <th>4</th>\n      <td>1.0</td>\n      <td>3.0</td>\n      <td>China</td>\n    </tr>\n  </tbody>\n</table>\n</div>"
     },
     "execution_count": 46,
     "metadata": {},
     "output_type": "execute_result"
    }
   ]
  },
  {
   "cell_type": "markdown",
   "source": [
    "Se imprime en pantalla todos los nombres de las columnas."
   ],
   "metadata": {
    "collapsed": false,
    "pycharm": {
     "name": "#%% md\n"
    }
   }
  },
  {
   "cell_type": "code",
   "source": [
    "ndf.columns"
   ],
   "metadata": {
    "id": "1SzWmEoFcM6t",
    "colab": {
     "base_uri": "https://localhost:8080/"
    },
    "outputId": "d8e1b5b9-a179-4c4c-89d5-0fecf1afa0f2",
    "pycharm": {
     "name": "#%%\n"
    }
   },
   "execution_count": 47,
   "outputs": [
    {
     "data": {
      "text/plain": "Index(['Company', 'Stars', 'Weight', 'Origin', 'Length'], dtype='object')"
     },
     "execution_count": 47,
     "metadata": {},
     "output_type": "execute_result"
    }
   ]
  },
  {
   "cell_type": "code",
   "source": [
    "for i in ndf.columns:\n",
    "  print(i)"
   ],
   "metadata": {
    "id": "oub49H-2cw6r",
    "colab": {
     "base_uri": "https://localhost:8080/"
    },
    "outputId": "f02935c4-046e-4d6e-db2d-7340eb667982",
    "pycharm": {
     "name": "#%%\n"
    }
   },
   "execution_count": 48,
   "outputs": [
    {
     "name": "stdout",
     "output_type": "stream",
     "text": [
      "Company\n",
      "Stars\n",
      "Weight\n",
      "Origin\n",
      "Length\n"
     ]
    }
   ]
  },
  {
   "cell_type": "markdown",
   "source": [
    "Se selecionan los primeros 4 registros del dataframe."
   ],
   "metadata": {
    "collapsed": false,
    "pycharm": {
     "name": "#%% md\n"
    }
   }
  },
  {
   "cell_type": "code",
   "source": [
    "ndf.head(4)"
   ],
   "metadata": {
    "id": "u77v9QQBdU7c",
    "colab": {
     "base_uri": "https://localhost:8080/",
     "height": 234
    },
    "outputId": "24f26007-7b50-4c1c-9094-99bead28811e",
    "pycharm": {
     "name": "#%%\n"
    }
   },
   "execution_count": 49,
   "outputs": [
    {
     "data": {
      "text/plain": "  Company  Stars  Weight  Origin  Length\n0    Ford    1.0     2.0   China    40.0\n1    Ford    2.0     4.0  Mexico    50.0\n2      VW    NaN     2.0  Mexico    30.0\n3     BMW    2.0     2.0     NaN     NaN",
      "text/html": "<div>\n<style scoped>\n    .dataframe tbody tr th:only-of-type {\n        vertical-align: middle;\n    }\n\n    .dataframe tbody tr th {\n        vertical-align: top;\n    }\n\n    .dataframe thead th {\n        text-align: right;\n    }\n</style>\n<table border=\"1\" class=\"dataframe\">\n  <thead>\n    <tr style=\"text-align: right;\">\n      <th></th>\n      <th>Company</th>\n      <th>Stars</th>\n      <th>Weight</th>\n      <th>Origin</th>\n      <th>Length</th>\n    </tr>\n  </thead>\n  <tbody>\n    <tr>\n      <th>0</th>\n      <td>Ford</td>\n      <td>1.0</td>\n      <td>2.0</td>\n      <td>China</td>\n      <td>40.0</td>\n    </tr>\n    <tr>\n      <th>1</th>\n      <td>Ford</td>\n      <td>2.0</td>\n      <td>4.0</td>\n      <td>Mexico</td>\n      <td>50.0</td>\n    </tr>\n    <tr>\n      <th>2</th>\n      <td>VW</td>\n      <td>NaN</td>\n      <td>2.0</td>\n      <td>Mexico</td>\n      <td>30.0</td>\n    </tr>\n    <tr>\n      <th>3</th>\n      <td>BMW</td>\n      <td>2.0</td>\n      <td>2.0</td>\n      <td>NaN</td>\n      <td>NaN</td>\n    </tr>\n  </tbody>\n</table>\n</div>"
     },
     "execution_count": 49,
     "metadata": {},
     "output_type": "execute_result"
    }
   ]
  },
  {
   "cell_type": "markdown",
   "source": [
    "Seleccionamos todos los diferentes valores del campo Company."
   ],
   "metadata": {
    "collapsed": false,
    "pycharm": {
     "name": "#%% md\n"
    }
   }
  },
  {
   "cell_type": "code",
   "source": [
    "ndf.Company.unique()"
   ],
   "metadata": {
    "id": "K2lytCc9dhb6",
    "colab": {
     "base_uri": "https://localhost:8080/"
    },
    "outputId": "b96aa3a5-e935-48c3-992c-0bade1c1ca03",
    "pycharm": {
     "name": "#%%\n"
    }
   },
   "execution_count": 50,
   "outputs": [
    {
     "data": {
      "text/plain": "array(['Ford', 'VW', 'BMW', 'Cooper'], dtype=object)"
     },
     "execution_count": 50,
     "metadata": {},
     "output_type": "execute_result"
    }
   ]
  },
  {
   "cell_type": "markdown",
   "source": [
    "Se agrupan los datos por Compañía y origen y se regresa el count. Similar a un count group by de sql. Se obtiene el mismo resultado con groupby y size() que con value_counts."
   ],
   "metadata": {
    "collapsed": false,
    "pycharm": {
     "name": "#%% md\n"
    }
   }
  },
  {
   "cell_type": "code",
   "source": [
    "df.groupby(['Company', 'Origin']).size()"
   ],
   "metadata": {
    "colab": {
     "base_uri": "https://localhost:8080/"
    },
    "id": "K0e8CVMBeTnF",
    "outputId": "0af01ba9-8846-4efd-eb97-6127ab62c565",
    "pycharm": {
     "name": "#%%\n"
    }
   },
   "execution_count": 51,
   "outputs": [
    {
     "data": {
      "text/plain": "Company  Origin\nCooper   China     1\nFord     China     1\n         Mexico    1\nVW       Mexico    1\ndtype: int64"
     },
     "execution_count": 51,
     "metadata": {},
     "output_type": "execute_result"
    }
   ]
  },
  {
   "cell_type": "code",
   "source": [
    "df[['Company', 'Origin']].value_counts()"
   ],
   "metadata": {
    "colab": {
     "base_uri": "https://localhost:8080/"
    },
    "id": "5UFyQ-AVe9Hl",
    "outputId": "83cd0b65-15a5-4d0b-9d3b-a26fe1ee84eb",
    "pycharm": {
     "name": "#%%\n"
    }
   },
   "execution_count": 52,
   "outputs": [
    {
     "data": {
      "text/plain": "Company  Origin\nCooper   China     1\nFord     China     1\n         Mexico    1\nVW       Mexico    1\ndtype: int64"
     },
     "execution_count": 52,
     "metadata": {},
     "output_type": "execute_result"
    }
   ]
  },
  {
   "cell_type": "markdown",
   "source": [
    "### Eliminar columns / Cambiar nombre de las columns"
   ],
   "metadata": {
    "id": "8KAvVO6Edf7b",
    "pycharm": {
     "name": "#%% md\n"
    }
   }
  },
  {
   "cell_type": "code",
   "source": [
    "ndf"
   ],
   "metadata": {
    "colab": {
     "base_uri": "https://localhost:8080/",
     "height": 295
    },
    "id": "4Nms3kwpdeYr",
    "outputId": "36c81a5f-b8a7-4097-b794-020cc0f3ca01",
    "pycharm": {
     "name": "#%%\n"
    }
   },
   "execution_count": 74,
   "outputs": [
    {
     "data": {
      "text/plain": "  Company  Stars  Weight  Origin  Length\n0    Ford    1.0     2.0   China    40.0\n1    Ford    2.0     4.0  Mexico    50.0\n2      VW    NaN     2.0  Mexico    30.0\n4  Cooper    1.0     3.0   China    45.0",
      "text/html": "<div>\n<style scoped>\n    .dataframe tbody tr th:only-of-type {\n        vertical-align: middle;\n    }\n\n    .dataframe tbody tr th {\n        vertical-align: top;\n    }\n\n    .dataframe thead th {\n        text-align: right;\n    }\n</style>\n<table border=\"1\" class=\"dataframe\">\n  <thead>\n    <tr style=\"text-align: right;\">\n      <th></th>\n      <th>Company</th>\n      <th>Stars</th>\n      <th>Weight</th>\n      <th>Origin</th>\n      <th>Length</th>\n    </tr>\n  </thead>\n  <tbody>\n    <tr>\n      <th>0</th>\n      <td>Ford</td>\n      <td>1.0</td>\n      <td>2.0</td>\n      <td>China</td>\n      <td>40.0</td>\n    </tr>\n    <tr>\n      <th>1</th>\n      <td>Ford</td>\n      <td>2.0</td>\n      <td>4.0</td>\n      <td>Mexico</td>\n      <td>50.0</td>\n    </tr>\n    <tr>\n      <th>2</th>\n      <td>VW</td>\n      <td>NaN</td>\n      <td>2.0</td>\n      <td>Mexico</td>\n      <td>30.0</td>\n    </tr>\n    <tr>\n      <th>4</th>\n      <td>Cooper</td>\n      <td>1.0</td>\n      <td>3.0</td>\n      <td>China</td>\n      <td>45.0</td>\n    </tr>\n  </tbody>\n</table>\n</div>"
     },
     "execution_count": 74,
     "metadata": {},
     "output_type": "execute_result"
    }
   ]
  },
  {
   "cell_type": "markdown",
   "source": [
    "Se removuen las columnas Stars y Origin."
   ],
   "metadata": {
    "collapsed": false,
    "pycharm": {
     "name": "#%% md\n"
    }
   }
  },
  {
   "cell_type": "code",
   "source": [
    "ndf2 = ndf.drop(['Stars', 'Origin',], axis = 1)\n",
    "ndf2"
   ],
   "metadata": {
    "colab": {
     "base_uri": "https://localhost:8080/",
     "height": 295
    },
    "id": "M4XTkEGodmUk",
    "outputId": "c08ee34a-8bf5-485f-9f96-f355008f066f",
    "pycharm": {
     "name": "#%%\n"
    }
   },
   "execution_count": 75,
   "outputs": [
    {
     "data": {
      "text/plain": "  Company  Weight  Length\n0    Ford     2.0    40.0\n1    Ford     4.0    50.0\n2      VW     2.0    30.0\n4  Cooper     3.0    45.0",
      "text/html": "<div>\n<style scoped>\n    .dataframe tbody tr th:only-of-type {\n        vertical-align: middle;\n    }\n\n    .dataframe tbody tr th {\n        vertical-align: top;\n    }\n\n    .dataframe thead th {\n        text-align: right;\n    }\n</style>\n<table border=\"1\" class=\"dataframe\">\n  <thead>\n    <tr style=\"text-align: right;\">\n      <th></th>\n      <th>Company</th>\n      <th>Weight</th>\n      <th>Length</th>\n    </tr>\n  </thead>\n  <tbody>\n    <tr>\n      <th>0</th>\n      <td>Ford</td>\n      <td>2.0</td>\n      <td>40.0</td>\n    </tr>\n    <tr>\n      <th>1</th>\n      <td>Ford</td>\n      <td>4.0</td>\n      <td>50.0</td>\n    </tr>\n    <tr>\n      <th>2</th>\n      <td>VW</td>\n      <td>2.0</td>\n      <td>30.0</td>\n    </tr>\n    <tr>\n      <th>4</th>\n      <td>Cooper</td>\n      <td>3.0</td>\n      <td>45.0</td>\n    </tr>\n  </tbody>\n</table>\n</div>"
     },
     "execution_count": 75,
     "metadata": {},
     "output_type": "execute_result"
    }
   ]
  },
  {
   "cell_type": "markdown",
   "source": [
    "Se usa rename para cambiar el nombre de las columnas"
   ],
   "metadata": {
    "collapsed": false,
    "pycharm": {
     "name": "#%% md\n"
    }
   }
  },
  {
   "cell_type": "code",
   "source": [
    "ndf2.rename(columns = {'Company' : 'Empresa', 'Weight': 'Peso'}, inplace = True)\n",
    "ndf2"
   ],
   "metadata": {
    "colab": {
     "base_uri": "https://localhost:8080/",
     "height": 295
    },
    "id": "Y6z80VZidw13",
    "outputId": "83829dbe-7322-490b-bac4-c6f1e4c9fd6d",
    "pycharm": {
     "name": "#%%\n"
    }
   },
   "execution_count": 76,
   "outputs": [
    {
     "data": {
      "text/plain": "  Empresa  Peso  Length\n0    Ford   2.0    40.0\n1    Ford   4.0    50.0\n2      VW   2.0    30.0\n4  Cooper   3.0    45.0",
      "text/html": "<div>\n<style scoped>\n    .dataframe tbody tr th:only-of-type {\n        vertical-align: middle;\n    }\n\n    .dataframe tbody tr th {\n        vertical-align: top;\n    }\n\n    .dataframe thead th {\n        text-align: right;\n    }\n</style>\n<table border=\"1\" class=\"dataframe\">\n  <thead>\n    <tr style=\"text-align: right;\">\n      <th></th>\n      <th>Empresa</th>\n      <th>Peso</th>\n      <th>Length</th>\n    </tr>\n  </thead>\n  <tbody>\n    <tr>\n      <th>0</th>\n      <td>Ford</td>\n      <td>2.0</td>\n      <td>40.0</td>\n    </tr>\n    <tr>\n      <th>1</th>\n      <td>Ford</td>\n      <td>4.0</td>\n      <td>50.0</td>\n    </tr>\n    <tr>\n      <th>2</th>\n      <td>VW</td>\n      <td>2.0</td>\n      <td>30.0</td>\n    </tr>\n    <tr>\n      <th>4</th>\n      <td>Cooper</td>\n      <td>3.0</td>\n      <td>45.0</td>\n    </tr>\n  </tbody>\n</table>\n</div>"
     },
     "execution_count": 76,
     "metadata": {},
     "output_type": "execute_result"
    }
   ]
  },
  {
   "cell_type": "markdown",
   "source": [
    "## Datos perdidos - Tener en cuenta"
   ],
   "metadata": {
    "id": "r_KFTeDh5eHg",
    "pycharm": {
     "name": "#%% md\n"
    }
   }
  },
  {
   "cell_type": "markdown",
   "source": [
    "* Excluya las filas o características. \n",
    "* Cumpliméntelas con un valor estimado."
   ],
   "metadata": {
    "id": "_8cWsu5Q5xbX",
    "pycharm": {
     "name": "#%% md\n"
    }
   }
  },
  {
   "cell_type": "markdown",
   "source": [
    "Errores de datos\tUtilice recursos lógicos para descubrir errores manuales y corríjalos. O, excluya las características.\n"
   ],
   "metadata": {
    "id": "ph2iFrhW5VRh",
    "pycharm": {
     "name": "#%% md\n"
    }
   }
  },
  {
   "cell_type": "markdown",
   "source": [
    "Incoherencias de codificación\tDecida un esquema de codificación simple y convierta y sustituya los valores.\n"
   ],
   "metadata": {
    "id": "25z2JgNF5Wx6",
    "pycharm": {
     "name": "#%% md\n"
    }
   }
  },
  {
   "cell_type": "markdown",
   "source": [
    "Metadatos perdidos o erróneos\tExamine manualmente los campos sospechosos y compruebe el significado correcto."
   ],
   "metadata": {
    "id": "qvHNH_E25Yf1",
    "pycharm": {
     "name": "#%% md\n"
    }
   }
  },
  {
   "cell_type": "markdown",
   "source": [
    "# Crear un informe de limpieza de datos\n",
    "\n",
    "\n",
    "Registrar sus actividades de limpieza de datos es esencial para registrar las modificaciones de los datos. \n",
    "\n",
    "Los futuros proyectos de minería de datos se beneficiarán de los detalles del trabajo disponible.\n",
    "\n",
    "\n",
    "Es una excelente idea considerar las siguientes cuestiones cuando genere el informe:\n",
    "\n",
    "\n",
    "* ¿Qué tipos de ruido se han producido en los datos?\n",
    "* ¿Qué métodos utiliza para eliminar el ruido? \n",
    "    \n",
    "    > ¿Qué técnicas han demostrado ser eficaces?\n",
    "\n",
    "* ¿Existen casos o atributos que no se pueden recuperar? \n",
    "> Asegúrese de registrar los datos que se han excluido por causas del ruido."
   ],
   "metadata": {
    "id": "Pz0nRTw62Y-B",
    "pycharm": {
     "name": "#%% md\n"
    }
   }
  },
  {
   "cell_type": "markdown",
   "source": [
    "### Limpieza de datos propuesta:\n",
    "\n",
    "Primero obtenemos los datos frescos desde el archivo csv\n",
    "Y mostramos los primeros 5 renglones."
   ],
   "metadata": {
    "collapsed": false,
    "pycharm": {
     "name": "#%% md\n"
    }
   }
  },
  {
   "cell_type": "code",
   "execution_count": 134,
   "outputs": [
    {
     "data": {
      "text/plain": "        X1   X2   X3   X4    X5   X6   X7   X8   X9  X10  ...      X15  \\\nID                                                        ...            \n1    20000  2.0  2.0  1.0  24.0  2.0  2.0 -1.0 -1.0 -2.0  ...      0.0   \n2   120000  2.0  2.0  2.0  26.0 -1.0  2.0  0.0  0.0  0.0  ...   3272.0   \n3    90000  2.0  2.0  2.0  34.0  0.0  0.0  0.0  0.0  0.0  ...  14331.0   \n4    50000  2.0  2.0  1.0  37.0  0.0  0.0  0.0  0.0  0.0  ...  28314.0   \n5    50000  1.0  2.0  1.0  57.0 -1.0  0.0 -1.0  0.0  0.0  ...  20940.0   \n\n        X16      X17     X18      X19      X20     X21     X22     X23    Y  \nID                                                                           \n1       0.0      0.0     0.0    689.0      0.0     0.0     0.0     0.0  1.0  \n2    3455.0   3261.0     0.0   1000.0   1000.0  1000.0     0.0  2000.0  1.0  \n3   14948.0  15549.0  1518.0   1500.0   1000.0  1000.0  1000.0  5000.0  0.0  \n4   28959.0  29547.0  2000.0   2019.0   1200.0  1100.0  1069.0  1000.0  0.0  \n5   19146.0  19131.0  2000.0  36681.0  10000.0  9000.0   689.0   679.0  0.0  \n\n[5 rows x 24 columns]",
      "text/html": "<div>\n<style scoped>\n    .dataframe tbody tr th:only-of-type {\n        vertical-align: middle;\n    }\n\n    .dataframe tbody tr th {\n        vertical-align: top;\n    }\n\n    .dataframe thead th {\n        text-align: right;\n    }\n</style>\n<table border=\"1\" class=\"dataframe\">\n  <thead>\n    <tr style=\"text-align: right;\">\n      <th></th>\n      <th>X1</th>\n      <th>X2</th>\n      <th>X3</th>\n      <th>X4</th>\n      <th>X5</th>\n      <th>X6</th>\n      <th>X7</th>\n      <th>X8</th>\n      <th>X9</th>\n      <th>X10</th>\n      <th>...</th>\n      <th>X15</th>\n      <th>X16</th>\n      <th>X17</th>\n      <th>X18</th>\n      <th>X19</th>\n      <th>X20</th>\n      <th>X21</th>\n      <th>X22</th>\n      <th>X23</th>\n      <th>Y</th>\n    </tr>\n    <tr>\n      <th>ID</th>\n      <th></th>\n      <th></th>\n      <th></th>\n      <th></th>\n      <th></th>\n      <th></th>\n      <th></th>\n      <th></th>\n      <th></th>\n      <th></th>\n      <th></th>\n      <th></th>\n      <th></th>\n      <th></th>\n      <th></th>\n      <th></th>\n      <th></th>\n      <th></th>\n      <th></th>\n      <th></th>\n      <th></th>\n    </tr>\n  </thead>\n  <tbody>\n    <tr>\n      <th>1</th>\n      <td>20000</td>\n      <td>2.0</td>\n      <td>2.0</td>\n      <td>1.0</td>\n      <td>24.0</td>\n      <td>2.0</td>\n      <td>2.0</td>\n      <td>-1.0</td>\n      <td>-1.0</td>\n      <td>-2.0</td>\n      <td>...</td>\n      <td>0.0</td>\n      <td>0.0</td>\n      <td>0.0</td>\n      <td>0.0</td>\n      <td>689.0</td>\n      <td>0.0</td>\n      <td>0.0</td>\n      <td>0.0</td>\n      <td>0.0</td>\n      <td>1.0</td>\n    </tr>\n    <tr>\n      <th>2</th>\n      <td>120000</td>\n      <td>2.0</td>\n      <td>2.0</td>\n      <td>2.0</td>\n      <td>26.0</td>\n      <td>-1.0</td>\n      <td>2.0</td>\n      <td>0.0</td>\n      <td>0.0</td>\n      <td>0.0</td>\n      <td>...</td>\n      <td>3272.0</td>\n      <td>3455.0</td>\n      <td>3261.0</td>\n      <td>0.0</td>\n      <td>1000.0</td>\n      <td>1000.0</td>\n      <td>1000.0</td>\n      <td>0.0</td>\n      <td>2000.0</td>\n      <td>1.0</td>\n    </tr>\n    <tr>\n      <th>3</th>\n      <td>90000</td>\n      <td>2.0</td>\n      <td>2.0</td>\n      <td>2.0</td>\n      <td>34.0</td>\n      <td>0.0</td>\n      <td>0.0</td>\n      <td>0.0</td>\n      <td>0.0</td>\n      <td>0.0</td>\n      <td>...</td>\n      <td>14331.0</td>\n      <td>14948.0</td>\n      <td>15549.0</td>\n      <td>1518.0</td>\n      <td>1500.0</td>\n      <td>1000.0</td>\n      <td>1000.0</td>\n      <td>1000.0</td>\n      <td>5000.0</td>\n      <td>0.0</td>\n    </tr>\n    <tr>\n      <th>4</th>\n      <td>50000</td>\n      <td>2.0</td>\n      <td>2.0</td>\n      <td>1.0</td>\n      <td>37.0</td>\n      <td>0.0</td>\n      <td>0.0</td>\n      <td>0.0</td>\n      <td>0.0</td>\n      <td>0.0</td>\n      <td>...</td>\n      <td>28314.0</td>\n      <td>28959.0</td>\n      <td>29547.0</td>\n      <td>2000.0</td>\n      <td>2019.0</td>\n      <td>1200.0</td>\n      <td>1100.0</td>\n      <td>1069.0</td>\n      <td>1000.0</td>\n      <td>0.0</td>\n    </tr>\n    <tr>\n      <th>5</th>\n      <td>50000</td>\n      <td>1.0</td>\n      <td>2.0</td>\n      <td>1.0</td>\n      <td>57.0</td>\n      <td>-1.0</td>\n      <td>0.0</td>\n      <td>-1.0</td>\n      <td>0.0</td>\n      <td>0.0</td>\n      <td>...</td>\n      <td>20940.0</td>\n      <td>19146.0</td>\n      <td>19131.0</td>\n      <td>2000.0</td>\n      <td>36681.0</td>\n      <td>10000.0</td>\n      <td>9000.0</td>\n      <td>689.0</td>\n      <td>679.0</td>\n      <td>0.0</td>\n    </tr>\n  </tbody>\n</table>\n<p>5 rows × 24 columns</p>\n</div>"
     },
     "execution_count": 134,
     "metadata": {},
     "output_type": "execute_result"
    }
   ],
   "source": [
    "ndf = pd.read_csv('/Users/lazaro/PycharmProjects/actividades-de-aprendizaje-llaramtz/Semana-3-Actividad-1/default_of_credit_card_clients.csv', index_col=0)\n",
    "ndf.head(5)"
   ],
   "metadata": {
    "collapsed": false,
    "pycharm": {
     "name": "#%%\n"
    }
   }
  },
  {
   "cell_type": "markdown",
   "source": [
    "La primera columna con datos vacios es Star asi que obtengo la moda para asignarla a los valores faltantes, ya que la mediana es 1.33 y no tiene sentido con el resto de la información."
   ],
   "metadata": {
    "collapsed": false,
    "pycharm": {
     "name": "#%% md\n"
    }
   }
  },
  {
   "cell_type": "code",
   "execution_count": 123,
   "outputs": [
    {
     "data": {
      "text/plain": "1.0"
     },
     "execution_count": 123,
     "metadata": {},
     "output_type": "execute_result"
    }
   ],
   "source": [
    "ndf.Stars.mode()[0]"
   ],
   "metadata": {
    "collapsed": false,
    "pycharm": {
     "name": "#%%\n"
    }
   }
  },
  {
   "cell_type": "code",
   "execution_count": 124,
   "outputs": [
    {
     "data": {
      "text/plain": "  Company  Stars  Weight  Origin  Length\n0    Ford    1.0     2.0   China    40.0\n1    Ford    2.0     4.0  Mexico    50.0\n2      VW    1.0     2.0  Mexico    30.0\n3     BMW    2.0     2.0     NaN     NaN\n4  Cooper    1.0     3.0   China    45.0\n5  Cooper    1.0     NaN     NaN     NaN",
      "text/html": "<div>\n<style scoped>\n    .dataframe tbody tr th:only-of-type {\n        vertical-align: middle;\n    }\n\n    .dataframe tbody tr th {\n        vertical-align: top;\n    }\n\n    .dataframe thead th {\n        text-align: right;\n    }\n</style>\n<table border=\"1\" class=\"dataframe\">\n  <thead>\n    <tr style=\"text-align: right;\">\n      <th></th>\n      <th>Company</th>\n      <th>Stars</th>\n      <th>Weight</th>\n      <th>Origin</th>\n      <th>Length</th>\n    </tr>\n  </thead>\n  <tbody>\n    <tr>\n      <th>0</th>\n      <td>Ford</td>\n      <td>1.0</td>\n      <td>2.0</td>\n      <td>China</td>\n      <td>40.0</td>\n    </tr>\n    <tr>\n      <th>1</th>\n      <td>Ford</td>\n      <td>2.0</td>\n      <td>4.0</td>\n      <td>Mexico</td>\n      <td>50.0</td>\n    </tr>\n    <tr>\n      <th>2</th>\n      <td>VW</td>\n      <td>1.0</td>\n      <td>2.0</td>\n      <td>Mexico</td>\n      <td>30.0</td>\n    </tr>\n    <tr>\n      <th>3</th>\n      <td>BMW</td>\n      <td>2.0</td>\n      <td>2.0</td>\n      <td>NaN</td>\n      <td>NaN</td>\n    </tr>\n    <tr>\n      <th>4</th>\n      <td>Cooper</td>\n      <td>1.0</td>\n      <td>3.0</td>\n      <td>China</td>\n      <td>45.0</td>\n    </tr>\n    <tr>\n      <th>5</th>\n      <td>Cooper</td>\n      <td>1.0</td>\n      <td>NaN</td>\n      <td>NaN</td>\n      <td>NaN</td>\n    </tr>\n  </tbody>\n</table>\n</div>"
     },
     "execution_count": 124,
     "metadata": {},
     "output_type": "execute_result"
    }
   ],
   "source": [
    "ndf.Stars.fillna(ndf.Stars.mode()[0], inplace=True)\n",
    "ndf"
   ],
   "metadata": {
    "collapsed": false,
    "pycharm": {
     "name": "#%%\n"
    }
   }
  },
  {
   "cell_type": "markdown",
   "source": [
    "Al peso se le puede asignar la media, buscar un valor lógico.\n",
    "Existe otro registro Cooper, que tiene un peso de 3 entonces a todos los Cooper sin peso se les puede asignar 3.\n",
    "En este caso solo existe un valor vacío asi que se puede asignar manualmente."
   ],
   "metadata": {
    "collapsed": false,
    "pycharm": {
     "name": "#%% md\n"
    }
   }
  },
  {
   "cell_type": "code",
   "execution_count": 125,
   "outputs": [
    {
     "data": {
      "text/plain": "2.6"
     },
     "execution_count": 125,
     "metadata": {},
     "output_type": "execute_result"
    }
   ],
   "source": [
    "ndf.Weight.mean()"
   ],
   "metadata": {
    "collapsed": false,
    "pycharm": {
     "name": "#%%\n"
    }
   }
  },
  {
   "cell_type": "code",
   "execution_count": 126,
   "outputs": [
    {
     "data": {
      "text/plain": "  Company  Stars  Weight  Origin  Length\n0    Ford    1.0     2.0   China    40.0\n1    Ford    2.0     4.0  Mexico    50.0\n2      VW    1.0     2.0  Mexico    30.0\n3     BMW    2.0     2.0     NaN     NaN\n4  Cooper    1.0     3.0   China    45.0\n5  Cooper    1.0     3.0     NaN     NaN",
      "text/html": "<div>\n<style scoped>\n    .dataframe tbody tr th:only-of-type {\n        vertical-align: middle;\n    }\n\n    .dataframe tbody tr th {\n        vertical-align: top;\n    }\n\n    .dataframe thead th {\n        text-align: right;\n    }\n</style>\n<table border=\"1\" class=\"dataframe\">\n  <thead>\n    <tr style=\"text-align: right;\">\n      <th></th>\n      <th>Company</th>\n      <th>Stars</th>\n      <th>Weight</th>\n      <th>Origin</th>\n      <th>Length</th>\n    </tr>\n  </thead>\n  <tbody>\n    <tr>\n      <th>0</th>\n      <td>Ford</td>\n      <td>1.0</td>\n      <td>2.0</td>\n      <td>China</td>\n      <td>40.0</td>\n    </tr>\n    <tr>\n      <th>1</th>\n      <td>Ford</td>\n      <td>2.0</td>\n      <td>4.0</td>\n      <td>Mexico</td>\n      <td>50.0</td>\n    </tr>\n    <tr>\n      <th>2</th>\n      <td>VW</td>\n      <td>1.0</td>\n      <td>2.0</td>\n      <td>Mexico</td>\n      <td>30.0</td>\n    </tr>\n    <tr>\n      <th>3</th>\n      <td>BMW</td>\n      <td>2.0</td>\n      <td>2.0</td>\n      <td>NaN</td>\n      <td>NaN</td>\n    </tr>\n    <tr>\n      <th>4</th>\n      <td>Cooper</td>\n      <td>1.0</td>\n      <td>3.0</td>\n      <td>China</td>\n      <td>45.0</td>\n    </tr>\n    <tr>\n      <th>5</th>\n      <td>Cooper</td>\n      <td>1.0</td>\n      <td>3.0</td>\n      <td>NaN</td>\n      <td>NaN</td>\n    </tr>\n  </tbody>\n</table>\n</div>"
     },
     "execution_count": 126,
     "metadata": {},
     "output_type": "execute_result"
    }
   ],
   "source": [
    "ndf.Weight.fillna(3, inplace=True)\n",
    "ndf"
   ],
   "metadata": {
    "collapsed": false,
    "pycharm": {
     "name": "#%%\n"
    }
   }
  },
  {
   "cell_type": "markdown",
   "source": [
    "Para el campo Origen existen 2 valores nulos, Renglón 3 BMW y Renglón 5 Cooper.\n",
    "La moda es China o Mexico, como existe el valor Cooper de origen China en el renglón 4 podemos asignar el valor china a los nulos en lugar de Mexico."
   ],
   "metadata": {
    "collapsed": false,
    "pycharm": {
     "name": "#%% md\n"
    }
   }
  },
  {
   "cell_type": "code",
   "execution_count": 127,
   "outputs": [
    {
     "data": {
      "text/plain": "0     China\n1    Mexico\nName: Origin, dtype: object"
     },
     "execution_count": 127,
     "metadata": {},
     "output_type": "execute_result"
    }
   ],
   "source": [
    "ndf.Origin.mode()"
   ],
   "metadata": {
    "collapsed": false,
    "pycharm": {
     "name": "#%%\n"
    }
   }
  },
  {
   "cell_type": "code",
   "execution_count": 128,
   "outputs": [
    {
     "data": {
      "text/plain": "  Company  Stars  Weight  Origin  Length\n0    Ford    1.0     2.0   China    40.0\n1    Ford    2.0     4.0  Mexico    50.0\n2      VW    1.0     2.0  Mexico    30.0\n3     BMW    2.0     2.0   China     NaN\n4  Cooper    1.0     3.0   China    45.0\n5  Cooper    1.0     3.0   China     NaN",
      "text/html": "<div>\n<style scoped>\n    .dataframe tbody tr th:only-of-type {\n        vertical-align: middle;\n    }\n\n    .dataframe tbody tr th {\n        vertical-align: top;\n    }\n\n    .dataframe thead th {\n        text-align: right;\n    }\n</style>\n<table border=\"1\" class=\"dataframe\">\n  <thead>\n    <tr style=\"text-align: right;\">\n      <th></th>\n      <th>Company</th>\n      <th>Stars</th>\n      <th>Weight</th>\n      <th>Origin</th>\n      <th>Length</th>\n    </tr>\n  </thead>\n  <tbody>\n    <tr>\n      <th>0</th>\n      <td>Ford</td>\n      <td>1.0</td>\n      <td>2.0</td>\n      <td>China</td>\n      <td>40.0</td>\n    </tr>\n    <tr>\n      <th>1</th>\n      <td>Ford</td>\n      <td>2.0</td>\n      <td>4.0</td>\n      <td>Mexico</td>\n      <td>50.0</td>\n    </tr>\n    <tr>\n      <th>2</th>\n      <td>VW</td>\n      <td>1.0</td>\n      <td>2.0</td>\n      <td>Mexico</td>\n      <td>30.0</td>\n    </tr>\n    <tr>\n      <th>3</th>\n      <td>BMW</td>\n      <td>2.0</td>\n      <td>2.0</td>\n      <td>China</td>\n      <td>NaN</td>\n    </tr>\n    <tr>\n      <th>4</th>\n      <td>Cooper</td>\n      <td>1.0</td>\n      <td>3.0</td>\n      <td>China</td>\n      <td>45.0</td>\n    </tr>\n    <tr>\n      <th>5</th>\n      <td>Cooper</td>\n      <td>1.0</td>\n      <td>3.0</td>\n      <td>China</td>\n      <td>NaN</td>\n    </tr>\n  </tbody>\n</table>\n</div>"
     },
     "execution_count": 128,
     "metadata": {},
     "output_type": "execute_result"
    }
   ],
   "source": [
    "ndf.Origin.fillna(ndf.Origin.mode()[0], inplace=True)\n",
    "ndf"
   ],
   "metadata": {
    "collapsed": false,
    "pycharm": {
     "name": "#%%\n"
    }
   }
  },
  {
   "cell_type": "markdown",
   "source": [
    "Analizando los valores de Length también podemos asignar al renglón 5 el valor de 45, ya que ese dato ya existe.\n",
    "y debido a que el renglón 3 de BMW tiene mucha información faltante creo que sería mejor removerlo que inventar datos que no podemos deducir con la información existente.\n"
   ],
   "metadata": {
    "collapsed": false,
    "pycharm": {
     "name": "#%% md\n"
    }
   }
  },
  {
   "cell_type": "code",
   "execution_count": 129,
   "outputs": [
    {
     "data": {
      "text/plain": "  Company  Stars  Weight  Origin  Length\n0    Ford    1.0     2.0   China    40.0\n1    Ford    2.0     4.0  Mexico    50.0\n2      VW    1.0     2.0  Mexico    30.0\n4  Cooper    1.0     3.0   China    45.0\n5  Cooper    1.0     3.0   China     NaN",
      "text/html": "<div>\n<style scoped>\n    .dataframe tbody tr th:only-of-type {\n        vertical-align: middle;\n    }\n\n    .dataframe tbody tr th {\n        vertical-align: top;\n    }\n\n    .dataframe thead th {\n        text-align: right;\n    }\n</style>\n<table border=\"1\" class=\"dataframe\">\n  <thead>\n    <tr style=\"text-align: right;\">\n      <th></th>\n      <th>Company</th>\n      <th>Stars</th>\n      <th>Weight</th>\n      <th>Origin</th>\n      <th>Length</th>\n    </tr>\n  </thead>\n  <tbody>\n    <tr>\n      <th>0</th>\n      <td>Ford</td>\n      <td>1.0</td>\n      <td>2.0</td>\n      <td>China</td>\n      <td>40.0</td>\n    </tr>\n    <tr>\n      <th>1</th>\n      <td>Ford</td>\n      <td>2.0</td>\n      <td>4.0</td>\n      <td>Mexico</td>\n      <td>50.0</td>\n    </tr>\n    <tr>\n      <th>2</th>\n      <td>VW</td>\n      <td>1.0</td>\n      <td>2.0</td>\n      <td>Mexico</td>\n      <td>30.0</td>\n    </tr>\n    <tr>\n      <th>4</th>\n      <td>Cooper</td>\n      <td>1.0</td>\n      <td>3.0</td>\n      <td>China</td>\n      <td>45.0</td>\n    </tr>\n    <tr>\n      <th>5</th>\n      <td>Cooper</td>\n      <td>1.0</td>\n      <td>3.0</td>\n      <td>China</td>\n      <td>NaN</td>\n    </tr>\n  </tbody>\n</table>\n</div>"
     },
     "execution_count": 129,
     "metadata": {},
     "output_type": "execute_result"
    }
   ],
   "source": [
    "ndf = ndf.drop(ndf.index[3])\n",
    "ndf"
   ],
   "metadata": {
    "collapsed": false,
    "pycharm": {
     "name": "#%%\n"
    }
   }
  },
  {
   "cell_type": "code",
   "execution_count": 130,
   "outputs": [
    {
     "data": {
      "text/plain": "<bound method NDFrame.describe of 0    30.0\n1    40.0\n2    45.0\n3    50.0\nName: Length, dtype: float64>"
     },
     "execution_count": 130,
     "metadata": {},
     "output_type": "execute_result"
    }
   ],
   "source": [
    "ndf.Length.mode().describe"
   ],
   "metadata": {
    "collapsed": false,
    "pycharm": {
     "name": "#%%\n"
    }
   }
  },
  {
   "cell_type": "markdown",
   "source": [
    "Y por último llenamos los datos faltantes con 45, porque el cooper existente mide 45."
   ],
   "metadata": {
    "collapsed": false,
    "pycharm": {
     "name": "#%% md\n"
    }
   }
  },
  {
   "cell_type": "code",
   "execution_count": 132,
   "outputs": [
    {
     "data": {
      "text/plain": "  Company  Stars  Weight  Origin  Length\n0    Ford    1.0     2.0   China    40.0\n1    Ford    2.0     4.0  Mexico    50.0\n2      VW    1.0     2.0  Mexico    30.0\n4  Cooper    1.0     3.0   China    45.0\n5  Cooper    1.0     3.0   China    45.0",
      "text/html": "<div>\n<style scoped>\n    .dataframe tbody tr th:only-of-type {\n        vertical-align: middle;\n    }\n\n    .dataframe tbody tr th {\n        vertical-align: top;\n    }\n\n    .dataframe thead th {\n        text-align: right;\n    }\n</style>\n<table border=\"1\" class=\"dataframe\">\n  <thead>\n    <tr style=\"text-align: right;\">\n      <th></th>\n      <th>Company</th>\n      <th>Stars</th>\n      <th>Weight</th>\n      <th>Origin</th>\n      <th>Length</th>\n    </tr>\n  </thead>\n  <tbody>\n    <tr>\n      <th>0</th>\n      <td>Ford</td>\n      <td>1.0</td>\n      <td>2.0</td>\n      <td>China</td>\n      <td>40.0</td>\n    </tr>\n    <tr>\n      <th>1</th>\n      <td>Ford</td>\n      <td>2.0</td>\n      <td>4.0</td>\n      <td>Mexico</td>\n      <td>50.0</td>\n    </tr>\n    <tr>\n      <th>2</th>\n      <td>VW</td>\n      <td>1.0</td>\n      <td>2.0</td>\n      <td>Mexico</td>\n      <td>30.0</td>\n    </tr>\n    <tr>\n      <th>4</th>\n      <td>Cooper</td>\n      <td>1.0</td>\n      <td>3.0</td>\n      <td>China</td>\n      <td>45.0</td>\n    </tr>\n    <tr>\n      <th>5</th>\n      <td>Cooper</td>\n      <td>1.0</td>\n      <td>3.0</td>\n      <td>China</td>\n      <td>45.0</td>\n    </tr>\n  </tbody>\n</table>\n</div>"
     },
     "execution_count": 132,
     "metadata": {},
     "output_type": "execute_result"
    }
   ],
   "source": [
    "ndf.Length.fillna(45, inplace=True)\n",
    "ndf"
   ],
   "metadata": {
    "collapsed": false,
    "pycharm": {
     "name": "#%%\n"
    }
   }
  },
  {
   "cell_type": "markdown",
   "source": [
    "El resultado es la tabla de arriba con todos los datos completos. que fue posible deducir en base a la información existente.\n",
    "\n"
   ],
   "metadata": {
    "collapsed": false,
    "pycharm": {
     "name": "#%% md\n"
    }
   }
  },
  {
   "cell_type": "markdown",
   "source": [
    "### Sección 3"
   ],
   "metadata": {
    "collapsed": false,
    "pycharm": {
     "name": "#%% md\n"
    }
   }
  },
  {
   "cell_type": "markdown",
   "source": [
    "1. ¿Qué datos considero más importantes?\n",
    "    Para mi todos los datos tienen su relevancia, el poder responder cuál es mas importante dependería de que se necesita hacer con ellos desde el punto de vista del negocio dicho esto el dato de compañía ayudo a deducir algunos faltantes de información junto con el origen.\n",
    "\n",
    "2. ¿Se eliminaron o reemplazaron datos nulos? ¿Qué se hizo y por qué?\n",
    "\n",
    "    Se reemplazó el dato nulo en el campo Stars con 1 a partir del cálculo de la moda, ya que la media es fracción y todos los demás son enteros.\n",
    "\n",
    "    También se reemplazó 1 peso faltante en el renglón 5 por 45, basado en el valor existente del renglón 4.\n",
    "\n",
    "    Se eliminó el renglón de la compañía BWM, ya que los datos faltantes no se pudieron sacar de los existentes.\n",
    "\n",
    "   Por último el valor del peso faltante se llenó a partir de la información existente y se asignó 45.\n",
    "\n",
    "3. ¿Es necesario ordenar los datos para el análisis? Sí / No / ¿Por qué?\n",
    "    No fue necesario en este ejercicio, ya que son muy pocos y se tiene toda la información concentrada a simple vista.\n",
    "\n",
    "4. ¿Existen problemas de formato que deban solucionar antes del proceso de modelado? Sí / No / Por qué.\n",
    "\n",
    "    No veo problemas con el formato de los datos sin tener más información del caso de uso. Todos los números están en como tipo numérico, y lo demás es str. Sería necesario alguna justificación desde el punto de vista del negocio para decidir a cerca del formato.\n",
    "\n",
    "5. ¿Qué ajustes se realizaron en el proceso de limpieza de datos (agregar, integrar, eliminar, modificar registros (filas), cambiar atributos (columnas)?\n",
    "\n",
    "   Se agregaron datos faltantes y se removió el renglón de BMW, porque no fue posible rastrear los faltantes a partir de la información existente.\n",
    "   También se podría haber eliminado el renglón 5 por todos los nulos que tenía, pero si fue posible reconstruirlo.\n"
   ],
   "metadata": {
    "collapsed": false,
    "pycharm": {
     "name": "#%% md\n"
    }
   }
  }
 ]
}