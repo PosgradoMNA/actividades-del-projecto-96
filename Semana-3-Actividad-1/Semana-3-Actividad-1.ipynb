{
 "cells": [
  {
   "cell_type": "markdown",
   "source": [
    "### Semana 3 - Actividad 1\n",
    "### Limpieza de datos\n",
    "\n",
    "Lázaro Lara Martínez.\n",
    "Matricula A01793198\n",
    "\n",
    "José Mtanous Treviño.\n",
    "Matricula A00169781\n",
    "\n",
    "Ciencia y Analítica de datos.\n",
    "\n",
    "Profesor Titular.\n",
    "Jobish Vallikavungal Devassia\n",
    "\n",
    "Profesor Tutor.\n",
    "Mtro. Mario Alberto Solano Saldaña\n",
    "\n",
    "01/Octubre/2022"
   ],
   "metadata": {
    "collapsed": false,
    "pycharm": {
     "name": "#%% md\n"
    }
   }
  },
  {
   "cell_type": "markdown",
   "source": [
    "### Fundamentos de bases de datos y para ciencia de datos.\n",
    "\n",
    "¿Qué es una base de datos?:\n",
    "\n",
    "Es un sistema capaz de almacenar gran cantidad de datos que tienen relación entre sí y están estructurados. Sus datos pueden ser consultados rápidamente utilizando un lenguaje estructurado de consultas llamado SQL. En una base de datos existen diferentes tipos de objetos como son tablas las cuales contienen columnas, filas y celdas.\n",
    "Los registros en una tabla son los renglones los cuales contienen diferentes campos o columnas, las celdas contienen un dato de dicha columna y renglón.\n",
    "También existen vistas las cuales pueden unir lógicamente diferentes tablas, índices para hacer más rápidas las consultas, triggers para ejecutar acciones antes o después de insertar, actualizar o borrar datos y constraints para restringir el contenido de los datos.\n",
    "\n",
    "Las bases de datos utilizan el paradigma de ETL, en donde los datos se depuran y organizan antes de cargarlos, este proceso puede ser costoso para fuentes de datos muy grandes.\n",
    "\n",
    "Existen distintas aplicaciones para las bases de datos como bancos, aerolíneas, universidades, ventas, tiendas en línea, RH etc. Las Bases de datos más utilizadas son, Oracle MySQL, PostgreSQL y MS SQL Server.\n",
    "\n",
    "¿Qué es un Data Warehouse?\n",
    "\n",
    "Es un sistema de almacenamiento de datos que permite a las empresas comprender y utilizar sus datos para tomar decisiones estratégicas, generalmente los Data Warehouse contienen datos no estructurados o con estructura mínima (particiones), a diferencia de las bases de datos tradicionales, esta arquitectura de almacenamiento utiliza el paradigma ELT, en donde los datos se cargan sin depurarse, incluso muchas veces en un formato ‘crudo’ raw. El consumidor de los datos es el encargado de depurarlos y transformarlos en algo que haga sentido para el contexto en que se usarán.\n",
    "\n",
    "Estos sistemas de Data Warehouse generalmente se implementan en hardware de propósito general y están diseñados para ser redundantes y ejecutar tareas en paralelo (MapReduce), la estructura de datos que almacenan están optimizadas para lectura y es muy costoso actualizar de manera parcial los datos, son sistemas optimizados para lectura y procesamiento.\n"
   ],
   "metadata": {
    "collapsed": false,
    "pycharm": {
     "name": "#%% md\n"
    }
   }
  },
  {
   "cell_type": "markdown",
   "source": [
    "### Selección y limpieza de los Datos en Python\n"
   ],
   "metadata": {
    "collapsed": false,
    "pycharm": {
     "name": "#%% md\n"
    }
   }
  },
  {
   "cell_type": "markdown",
   "source": [
    "### Se importan las librerías Pandas y numpy"
   ],
   "metadata": {
    "collapsed": false,
    "pycharm": {
     "name": "#%% md\n"
    }
   }
  },
  {
   "cell_type": "code",
   "execution_count": null,
   "outputs": [],
   "source": [
    "import pandas as pd\n",
    "import numpy as np"
   ],
   "metadata": {
    "collapsed": false,
    "pycharm": {
     "name": "#%%\n"
    }
   }
  },
  {
   "cell_type": "markdown",
   "source": [
    "Primero obtenemos los datos frescos desde el archivo csv\n",
    "Y mostramos los primeros 5 renglones."
   ],
   "metadata": {
    "collapsed": false,
    "pycharm": {
     "name": "#%% md\n"
    }
   }
  },
  {
   "cell_type": "code",
   "execution_count": null,
   "outputs": [],
   "source": [
    "myDataSetUrl = 'https://raw.githubusercontent.com/PosgradoMNA/Actividades_Aprendizaje-/main/default%20of%20credit%20card%20clients.csv'\n",
    "ndf = pd.read_csv(myDataSetUrl, index_col=0)\n",
    "ndf.head(5)"
   ],
   "metadata": {
    "collapsed": false,
    "pycharm": {
     "name": "#%%\n"
    }
   }
  },
  {
   "cell_type": "code",
   "execution_count": null,
   "outputs": [],
   "source": [
    "# Describimos como vienen los datos.\n",
    "ndf.describe()"
   ],
   "metadata": {
    "collapsed": false,
    "pycharm": {
     "name": "#%%\n"
    }
   }
  },
  {
   "cell_type": "code",
   "execution_count": null,
   "outputs": [],
   "source": [
    "# Copiamos el dataframe original para no sobre escribirlo.\n",
    "\n",
    "df = ndf.copy()"
   ],
   "metadata": {
    "collapsed": false,
    "pycharm": {
     "name": "#%%\n"
    }
   }
  },
  {
   "cell_type": "code",
   "execution_count": null,
   "outputs": [],
   "source": [
    "# Obtenemos las llaves\n",
    "df.keys()"
   ],
   "metadata": {
    "collapsed": false,
    "pycharm": {
     "name": "#%%\n"
    }
   }
  },
  {
   "cell_type": "code",
   "execution_count": null,
   "outputs": [],
   "source": [
    "# Varias formas de checar los valores NaN, NA y NULL\n",
    "#df.isnull()\n",
    "df.isnull().sum()\n",
    "# df.isnull().values.any()\n",
    "# df.isnull().values.sum()\n",
    "# df.isnull().any()"
   ],
   "metadata": {
    "collapsed": false,
    "pycharm": {
     "name": "#%%\n"
    }
   }
  },
  {
   "cell_type": "code",
   "execution_count": null,
   "outputs": [],
   "source": [
    "#Con esta instrucción obtenemos la información del dataset y vemos que todos los datos son numéricos.\n",
    "df.info()"
   ],
   "metadata": {
    "collapsed": false,
    "pycharm": {
     "name": "#%%\n"
    }
   }
  },
  {
   "cell_type": "code",
   "execution_count": null,
   "outputs": [],
   "source": [
    "#Existen datos nulos?\n",
    "\n",
    "df.isnull().values.any()"
   ],
   "metadata": {
    "collapsed": false,
    "pycharm": {
     "name": "#%%\n"
    }
   }
  },
  {
   "cell_type": "code",
   "execution_count": null,
   "outputs": [],
   "source": [
    "#Que campos tienen datos nulos?\n",
    "df.isnull().any()"
   ],
   "metadata": {
    "collapsed": false,
    "pycharm": {
     "name": "#%%\n"
    }
   }
  },
  {
   "cell_type": "code",
   "execution_count": null,
   "outputs": [],
   "source": [
    "df.count()"
   ],
   "metadata": {
    "collapsed": false,
    "pycharm": {
     "name": "#%%\n"
    }
   }
  },
  {
   "cell_type": "code",
   "execution_count": null,
   "outputs": [],
   "source": [
    "df.dropna(inplace = True)"
   ],
   "metadata": {
    "collapsed": false,
    "pycharm": {
     "name": "#%%\n"
    }
   }
  },
  {
   "cell_type": "code",
   "execution_count": null,
   "outputs": [],
   "source": [
    "df.count()"
   ],
   "metadata": {
    "collapsed": false,
    "pycharm": {
     "name": "#%%\n"
    }
   }
  },
  {
   "cell_type": "code",
   "execution_count": null,
   "outputs": [],
   "source": [
    "#Localizamos los valores nulos del Dadaframe original y comparamos que en el nuevo ya se borraron.\n",
    "null_columns=ndf.columns[ndf.isnull().any()]\n",
    "ndf[null_columns].isnull().sum()\n",
    "print(ndf[ndf.isnull().any(axis=1)][null_columns].head())"
   ],
   "metadata": {
    "collapsed": false,
    "pycharm": {
     "name": "#%%\n"
    }
   }
  },
  {
   "cell_type": "code",
   "execution_count": null,
   "outputs": [],
   "source": [
    "null_columns=df.columns[df.isnull().any()]\n",
    "df[null_columns].isnull().sum()\n",
    "print(df[df.isnull().any(axis=1)][null_columns].head())"
   ],
   "metadata": {
    "collapsed": false,
    "pycharm": {
     "name": "#%%\n"
    }
   }
  },
  {
   "cell_type": "code",
   "execution_count": null,
   "outputs": [],
   "source": [
    "#De nuevo mostramos los primeros 5 datos.\n",
    "df.head(5)"
   ],
   "metadata": {
    "collapsed": false,
    "pycharm": {
     "name": "#%%\n"
    }
   }
  },
  {
   "cell_type": "code",
   "execution_count": null,
   "outputs": [],
   "source": [
    "# y la info resultante.\n",
    "df.info()"
   ],
   "metadata": {
    "collapsed": false,
    "pycharm": {
     "name": "#%%\n"
    }
   }
  },
  {
   "cell_type": "markdown",
   "source": [
    "### Decidimos borrar los datos nulos porque no tiene sentido desde el punto de vista del negocio asignar valores de media, mediana o moda diferentes clientes además, se borraron solo 42 registros del total de 30,000.\n",
    "\n"
   ],
   "metadata": {
    "collapsed": false,
    "pycharm": {
     "name": "#%% md\n"
    }
   }
  },
  {
   "cell_type": "code",
   "execution_count": null,
   "outputs": [],
   "source": [
    "## Obtener los Valores diferentes en los datos de Género para corroborar que sea consistente.\n",
    "# X2: Gender (1 = male; 2 = female). Todo se ve bien.\n",
    "\n",
    "df.X2.unique()"
   ],
   "metadata": {
    "collapsed": false,
    "pycharm": {
     "name": "#%%\n"
    }
   }
  },
  {
   "cell_type": "code",
   "execution_count": null,
   "outputs": [],
   "source": [
    "## Obtener los Valores diferentes en los datos de Género para corroborar que sea consistente.\n",
    "# X3: Education (1 = graduate school; 2 = university; 3 = high school; 4 = others).\n",
    "# Podemos ver que existen valores fuera de lo esperado. 0, 5 y 6. El cero puede considerarse vacío o nulo debe investigarse que significan los valores 5 y 6.\n",
    "\n",
    "df.X3.unique()"
   ],
   "metadata": {
    "collapsed": false,
    "pycharm": {
     "name": "#%%\n"
    }
   }
  },
  {
   "cell_type": "code",
   "execution_count": null,
   "outputs": [],
   "source": [
    "## Obtener los Valores diferentes en los datos de Género para corroborar que sea consistente.\n",
    "# X4: Marital status (1 = married; 2 = single; 3 = others). Existe el valor 0 que no se encuentra en la descripción, y podría considerarse como vacío.\n",
    "\n",
    "df.X4.unique()"
   ],
   "metadata": {
    "collapsed": false,
    "pycharm": {
     "name": "#%%\n"
    }
   }
  },
  {
   "cell_type": "markdown",
   "source": [
    "### Sección 3"
   ],
   "metadata": {
    "collapsed": false,
    "pycharm": {
     "name": "#%% md\n"
    }
   }
  },
  {
   "cell_type": "markdown",
   "source": [
    "1.      ¿Qué datos considero mas importantes?\n",
    "\n",
    "Para este tipo de análisis todos los datos del archivo son necesarios, sin embargo, creemos que es primordial saber X1 el monto del crédito, X6 – X11 el historial de pagos, X12 – X17 monto del estado de cuenta, y X18 – X23 cantidad de los últimos pagos.\n",
    "\n",
    "2.      ¿Se eliminaron o reemplazaron datos nulos? ¿Qué se hizo y por qué?\n",
    "\n",
    "Decidimos borrar los datos nulos porque no tiene sentido desde el punto de vista del negocio asignar valores de media, mediana o moda diferentes clientes. Además, se borraron solo 42 registros del total de 30,000, aproximadamente el 0.14%\n",
    "\n",
    "3.      ¿Es necesario ordenar los datos para el análisis? Sí / No / ¿Por qué?\n",
    "\n",
    "Desde el punto de vista estadístico no consideramos necesario ordenarlos, debido a que cada registro es independiente del siguiente, no es necesario comparara un registro contra el siguiente. Desde el punto de vista de procesamiento tampoco consideramos que es necesario ordenarlos ya que el tamaño del conjunto de datos es muy pequeño y cabe en memoria, si fuera un conjunto enorme en donde tuviéramos que paralelizar el procesamiento podríamos pensar en ordenar los datos o particionarlos, Sin embargo, para este conjunto no es necesario.\n",
    "\n",
    "4.      ¿Existen problemas de formato que deban solucionar antes del proceso de modelado? Sí / No / Por qué.\n",
    "\n",
    "No existen problemas de formato, los datos categóricos X2, X3 y X4 contienen datos numéricos como se indica en la información de los atributos. El único problema que veo en los datos categóricos es unos cuantos ceros que pueden considerarse nulos, pero no puede asignarse un valor arbitrario, ya que es el nivel de educación del cliente, o su estatus marital. En Educación existen valores no esperados, 5 y 6 que no vienen descritos en la información del atributo. Seria cuestión de investigar cuál es el significado de dichos valores.\n",
    "\n",
    "Todos los demás datos hablan de montos y son numéricos, los datos negativos tienen su significado en el negocio como por ejemplo X6 - X11: History of past payment. We tracked the past monthly payment records (from April to September, 2005) as follows: X6 = the repayment status in September, 2005; X7 = the repayment status in August, 2005; . . .;X11 = the repayment status in April, 2005. The measurement scale for the repayment status is: -1 = pay duly; 1 = payment delay for one month; 2 = payment delay for two months; . . .; 8 = payment delay for eight months; 9 = payment delay for nine months and above.\n",
    "\n",
    "5.      ¿Qué ajustes se realizaron en el proceso de limpieza de datos (agregar, integrar, eliminar, modificar registros (filas), cambiar atributos (columnas)?\n",
    "\n",
    "Nosotros decidimos eliminamos los datos que tenían nulos, debido a que pensamos que no es correcto asignar valores como media a datos financieros de diferentes personas, no fue necesario hacer otro ajuste, y solo es un pequeño porcentaje del total de registros, si fuera un porcentaje mayor entonces si sería necesario buscar otra estrategia."
   ],
   "metadata": {
    "collapsed": false,
    "pycharm": {
     "name": "#%% md\n"
    }
   }
  }
 ],
 "metadata": {
  "kernelspec": {
   "display_name": "Python 3 (ipykernel)",
   "language": "python",
   "name": "python3"
  },
  "language_info": {
   "codemirror_mode": {
    "name": "ipython",
    "version": 3
   },
   "file_extension": ".py",
   "mimetype": "text/x-python",
   "name": "python",
   "nbconvert_exporter": "python",
   "pygments_lexer": "ipython3",
   "version": "3.9.12"
  },
  "colab": {
   "provenance": [],
   "collapsed_sections": []
  }
 },
 "nbformat": 4,
 "nbformat_minor": 0
}